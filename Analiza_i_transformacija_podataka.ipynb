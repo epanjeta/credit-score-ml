{
  "nbformat": 4,
  "nbformat_minor": 0,
  "metadata": {
    "colab": {
      "provenance": [],
      "toc_visible": true
    },
    "kernelspec": {
      "name": "python3",
      "display_name": "Python 3"
    },
    "language_info": {
      "name": "python"
    }
  },
  "cells": [
    {
      "cell_type": "markdown",
      "source": [
        "**Mašinsko učenje**\n",
        "\n",
        "Akademska 2022/2023\n",
        "\n",
        "Studenti: \n",
        "* Begović Amila 2031/18608\n",
        "* Leka Elma 2035/18661\n",
        "* Panjeta Eldar 2016/18711\n",
        "\n",
        "Datum: 11.12.2022.\n",
        "\n",
        "# **Prvi projektni zadatak**\n",
        "\n",
        "## **Specifikacija projekta**\n",
        "\n",
        "Projekat se radi u timu. Svaki tim se sastoji od 3-5 studenta. Sastavi timova određeni su u\n",
        "koordinaciji sa predmetnim asistentom.\n",
        "Implementacija: korištenjem Python googlecolab okruženja.\n",
        "Prije početka rada na projektu u potpunosti pročitati specifikaciju projekta jer su taskovi\n",
        "međusobno povezani. Specifikacija projekta prati gradivo predmeta (predavanja i vježbe).\n",
        "\n",
        "## **Definisanje prvog zadatka**\n",
        "\n",
        "1.1. Analizirati dobijeni set podataka sa kreditnim informacijama– dimenzije, broj i namjenu\n",
        "varijabli.\n",
        "\n",
        "\n",
        "1.2. Primjenom odgovarajućih metoda potrebno je analizirati pojedinačno sve varijable:\n",
        "* tipove varijabli, \n",
        "* distribuciju, \n",
        "* deskriptivnu statistiku (srednju vrijednost, standardnu\n",
        "devijaciju,…), \n",
        "* korelaciju između parova varijabli,….\n",
        "\n",
        "Vizualizirajte proces istraživanja podataka za svaku varijablu i jasno argumentujte zapažanja i zaključke o svakoj varijabli.\n",
        "\n",
        "\n",
        "1.3. Izvršiti odgovarajuće transformacije podataka, te uklanjanje nepodobnih vrijednosti da bi\n",
        "dobili podatke koji su spremni za korištenje u većini metoda klasifikacije.\n"
      ],
      "metadata": {
        "id": "LEQx8KZRu2hW"
      }
    },
    {
      "cell_type": "code",
      "execution_count": null,
      "metadata": {
        "id": "tmwXGz6csr29"
      },
      "outputs": [],
      "source": [
        "# importi\n",
        "import pandas as pd\n",
        "import matplotlib.pyplot as plt\n",
        "import seaborn as sns\n",
        "import numpy as np\n"
      ]
    },
    {
      "cell_type": "code",
      "source": [
        "# mound drive\n",
        "from google.colab import drive\n",
        "drive.mount('/content/drive')"
      ],
      "metadata": {
        "colab": {
          "base_uri": "https://localhost:8080/"
        },
        "id": "dTAmKdXXu8TE",
        "outputId": "487b10b1-3a53-4406-bbdd-b830d5c1aa6a"
      },
      "execution_count": null,
      "outputs": [
        {
          "output_type": "stream",
          "name": "stdout",
          "text": [
            "Mounted at /content/drive\n"
          ]
        }
      ]
    },
    {
      "cell_type": "code",
      "source": [
        "# učitavanje data set-a\n",
        "df = pd.read_csv('/content/drive/Shareddrives/MU/creditscore_dataset.csv')\n",
        "df.head()"
      ],
      "metadata": {
        "colab": {
          "base_uri": "https://localhost:8080/",
          "height": 525
        },
        "id": "AS-3kwdsvFGD",
        "outputId": "b292e077-701c-4bb4-c692-adf595cba71c"
      },
      "execution_count": null,
      "outputs": [
        {
          "output_type": "stream",
          "name": "stderr",
          "text": [
            "/usr/local/lib/python3.8/dist-packages/IPython/core/interactiveshell.py:3326: DtypeWarning: Columns (28) have mixed types.Specify dtype option on import or set low_memory=False.\n",
            "  exec(code_obj, self.user_global_ns, self.user_ns)\n"
          ]
        },
        {
          "output_type": "execute_result",
          "data": {
            "text/plain": [
              "   Unnamed: 0  Unnamed: 0.1  Unnamed: 0.1.1      ID Customer_ID     Month  \\\n",
              "0           0             0               0  0x1602   CUS_0xd40   January   \n",
              "1           1             1               1  0x1603   CUS_0xd40  February   \n",
              "2           2             2               2  0x1604   CUS_0xd40         3   \n",
              "3           3             3               3  0x1605   CUS_0xd40     April   \n",
              "4           4             4               4  0x1606   CUS_0xd40       May   \n",
              "\n",
              "         Name_and_Age          SSN Occupation Annual_Income  ...  Credit_Mix  \\\n",
              "0    Aaron Maashoh,23  821-00-0265  Scientist      19114.12  ...           _   \n",
              "1    Aaron Maashoh,23  821-00-0265  Scientist      19114.12  ...        Good   \n",
              "2  Aaron Maashoh,-500  821-00-0265  Scientist      19114.12  ...        Good   \n",
              "3    Aaron Maashoh,23  821-00-0265  Scientist      19114.12  ...        Good   \n",
              "4    Aaron Maashoh,23  821-00-0265  SCIENTIST      19114.12  ...        Good   \n",
              "\n",
              "  Outstanding_Debt Credit_Utilization_Ratio     Credit_History_Age  \\\n",
              "0           809.98                26.822620  22 Years and 1 Months   \n",
              "1           809.98                31.944960                    NaN   \n",
              "2           809.98                28.609352  22 Years and 3 Months   \n",
              "3           809.98                31.377862  22 Years and 4 Months   \n",
              "4           809.98                24.797347  22 Years and 5 Months   \n",
              "\n",
              "  Payment_of_Min_Amount Total_EMI_per_month  Amount_invested_monthly  \\\n",
              "0                    No           49.574949              80.41529544   \n",
              "1                    No           49.574949              118.2802216   \n",
              "2                    No           49.574949              81.69952126   \n",
              "3                    No           49.574949              199.4580744   \n",
              "4                    No           49.574949              41.42015309   \n",
              "\n",
              "                  Payment_Behaviour Monthly_Balance  Credit_Score  \n",
              "0   High_spent_Small_value_payments     312.4940887          Good  \n",
              "1    Low_spent_Large_value_payments     284.6291625          Good  \n",
              "2   Low_spent_Medium_value_payments     331.2098629          Good  \n",
              "3    Low_spent_Small_value_payments     223.4513097          Good  \n",
              "4  High_spent_Medium_value_payments      341.489231          Good  \n",
              "\n",
              "[5 rows x 30 columns]"
            ],
            "text/html": [
              "\n",
              "  <div id=\"df-81b88b41-de2d-4021-8677-0a95a6f4e859\">\n",
              "    <div class=\"colab-df-container\">\n",
              "      <div>\n",
              "<style scoped>\n",
              "    .dataframe tbody tr th:only-of-type {\n",
              "        vertical-align: middle;\n",
              "    }\n",
              "\n",
              "    .dataframe tbody tr th {\n",
              "        vertical-align: top;\n",
              "    }\n",
              "\n",
              "    .dataframe thead th {\n",
              "        text-align: right;\n",
              "    }\n",
              "</style>\n",
              "<table border=\"1\" class=\"dataframe\">\n",
              "  <thead>\n",
              "    <tr style=\"text-align: right;\">\n",
              "      <th></th>\n",
              "      <th>Unnamed: 0</th>\n",
              "      <th>Unnamed: 0.1</th>\n",
              "      <th>Unnamed: 0.1.1</th>\n",
              "      <th>ID</th>\n",
              "      <th>Customer_ID</th>\n",
              "      <th>Month</th>\n",
              "      <th>Name_and_Age</th>\n",
              "      <th>SSN</th>\n",
              "      <th>Occupation</th>\n",
              "      <th>Annual_Income</th>\n",
              "      <th>...</th>\n",
              "      <th>Credit_Mix</th>\n",
              "      <th>Outstanding_Debt</th>\n",
              "      <th>Credit_Utilization_Ratio</th>\n",
              "      <th>Credit_History_Age</th>\n",
              "      <th>Payment_of_Min_Amount</th>\n",
              "      <th>Total_EMI_per_month</th>\n",
              "      <th>Amount_invested_monthly</th>\n",
              "      <th>Payment_Behaviour</th>\n",
              "      <th>Monthly_Balance</th>\n",
              "      <th>Credit_Score</th>\n",
              "    </tr>\n",
              "  </thead>\n",
              "  <tbody>\n",
              "    <tr>\n",
              "      <th>0</th>\n",
              "      <td>0</td>\n",
              "      <td>0</td>\n",
              "      <td>0</td>\n",
              "      <td>0x1602</td>\n",
              "      <td>CUS_0xd40</td>\n",
              "      <td>January</td>\n",
              "      <td>Aaron Maashoh,23</td>\n",
              "      <td>821-00-0265</td>\n",
              "      <td>Scientist</td>\n",
              "      <td>19114.12</td>\n",
              "      <td>...</td>\n",
              "      <td>_</td>\n",
              "      <td>809.98</td>\n",
              "      <td>26.822620</td>\n",
              "      <td>22 Years and 1 Months</td>\n",
              "      <td>No</td>\n",
              "      <td>49.574949</td>\n",
              "      <td>80.41529544</td>\n",
              "      <td>High_spent_Small_value_payments</td>\n",
              "      <td>312.4940887</td>\n",
              "      <td>Good</td>\n",
              "    </tr>\n",
              "    <tr>\n",
              "      <th>1</th>\n",
              "      <td>1</td>\n",
              "      <td>1</td>\n",
              "      <td>1</td>\n",
              "      <td>0x1603</td>\n",
              "      <td>CUS_0xd40</td>\n",
              "      <td>February</td>\n",
              "      <td>Aaron Maashoh,23</td>\n",
              "      <td>821-00-0265</td>\n",
              "      <td>Scientist</td>\n",
              "      <td>19114.12</td>\n",
              "      <td>...</td>\n",
              "      <td>Good</td>\n",
              "      <td>809.98</td>\n",
              "      <td>31.944960</td>\n",
              "      <td>NaN</td>\n",
              "      <td>No</td>\n",
              "      <td>49.574949</td>\n",
              "      <td>118.2802216</td>\n",
              "      <td>Low_spent_Large_value_payments</td>\n",
              "      <td>284.6291625</td>\n",
              "      <td>Good</td>\n",
              "    </tr>\n",
              "    <tr>\n",
              "      <th>2</th>\n",
              "      <td>2</td>\n",
              "      <td>2</td>\n",
              "      <td>2</td>\n",
              "      <td>0x1604</td>\n",
              "      <td>CUS_0xd40</td>\n",
              "      <td>3</td>\n",
              "      <td>Aaron Maashoh,-500</td>\n",
              "      <td>821-00-0265</td>\n",
              "      <td>Scientist</td>\n",
              "      <td>19114.12</td>\n",
              "      <td>...</td>\n",
              "      <td>Good</td>\n",
              "      <td>809.98</td>\n",
              "      <td>28.609352</td>\n",
              "      <td>22 Years and 3 Months</td>\n",
              "      <td>No</td>\n",
              "      <td>49.574949</td>\n",
              "      <td>81.69952126</td>\n",
              "      <td>Low_spent_Medium_value_payments</td>\n",
              "      <td>331.2098629</td>\n",
              "      <td>Good</td>\n",
              "    </tr>\n",
              "    <tr>\n",
              "      <th>3</th>\n",
              "      <td>3</td>\n",
              "      <td>3</td>\n",
              "      <td>3</td>\n",
              "      <td>0x1605</td>\n",
              "      <td>CUS_0xd40</td>\n",
              "      <td>April</td>\n",
              "      <td>Aaron Maashoh,23</td>\n",
              "      <td>821-00-0265</td>\n",
              "      <td>Scientist</td>\n",
              "      <td>19114.12</td>\n",
              "      <td>...</td>\n",
              "      <td>Good</td>\n",
              "      <td>809.98</td>\n",
              "      <td>31.377862</td>\n",
              "      <td>22 Years and 4 Months</td>\n",
              "      <td>No</td>\n",
              "      <td>49.574949</td>\n",
              "      <td>199.4580744</td>\n",
              "      <td>Low_spent_Small_value_payments</td>\n",
              "      <td>223.4513097</td>\n",
              "      <td>Good</td>\n",
              "    </tr>\n",
              "    <tr>\n",
              "      <th>4</th>\n",
              "      <td>4</td>\n",
              "      <td>4</td>\n",
              "      <td>4</td>\n",
              "      <td>0x1606</td>\n",
              "      <td>CUS_0xd40</td>\n",
              "      <td>May</td>\n",
              "      <td>Aaron Maashoh,23</td>\n",
              "      <td>821-00-0265</td>\n",
              "      <td>SCIENTIST</td>\n",
              "      <td>19114.12</td>\n",
              "      <td>...</td>\n",
              "      <td>Good</td>\n",
              "      <td>809.98</td>\n",
              "      <td>24.797347</td>\n",
              "      <td>22 Years and 5 Months</td>\n",
              "      <td>No</td>\n",
              "      <td>49.574949</td>\n",
              "      <td>41.42015309</td>\n",
              "      <td>High_spent_Medium_value_payments</td>\n",
              "      <td>341.489231</td>\n",
              "      <td>Good</td>\n",
              "    </tr>\n",
              "  </tbody>\n",
              "</table>\n",
              "<p>5 rows × 30 columns</p>\n",
              "</div>\n",
              "      <button class=\"colab-df-convert\" onclick=\"convertToInteractive('df-81b88b41-de2d-4021-8677-0a95a6f4e859')\"\n",
              "              title=\"Convert this dataframe to an interactive table.\"\n",
              "              style=\"display:none;\">\n",
              "        \n",
              "  <svg xmlns=\"http://www.w3.org/2000/svg\" height=\"24px\"viewBox=\"0 0 24 24\"\n",
              "       width=\"24px\">\n",
              "    <path d=\"M0 0h24v24H0V0z\" fill=\"none\"/>\n",
              "    <path d=\"M18.56 5.44l.94 2.06.94-2.06 2.06-.94-2.06-.94-.94-2.06-.94 2.06-2.06.94zm-11 1L8.5 8.5l.94-2.06 2.06-.94-2.06-.94L8.5 2.5l-.94 2.06-2.06.94zm10 10l.94 2.06.94-2.06 2.06-.94-2.06-.94-.94-2.06-.94 2.06-2.06.94z\"/><path d=\"M17.41 7.96l-1.37-1.37c-.4-.4-.92-.59-1.43-.59-.52 0-1.04.2-1.43.59L10.3 9.45l-7.72 7.72c-.78.78-.78 2.05 0 2.83L4 21.41c.39.39.9.59 1.41.59.51 0 1.02-.2 1.41-.59l7.78-7.78 2.81-2.81c.8-.78.8-2.07 0-2.86zM5.41 20L4 18.59l7.72-7.72 1.47 1.35L5.41 20z\"/>\n",
              "  </svg>\n",
              "      </button>\n",
              "      \n",
              "  <style>\n",
              "    .colab-df-container {\n",
              "      display:flex;\n",
              "      flex-wrap:wrap;\n",
              "      gap: 12px;\n",
              "    }\n",
              "\n",
              "    .colab-df-convert {\n",
              "      background-color: #E8F0FE;\n",
              "      border: none;\n",
              "      border-radius: 50%;\n",
              "      cursor: pointer;\n",
              "      display: none;\n",
              "      fill: #1967D2;\n",
              "      height: 32px;\n",
              "      padding: 0 0 0 0;\n",
              "      width: 32px;\n",
              "    }\n",
              "\n",
              "    .colab-df-convert:hover {\n",
              "      background-color: #E2EBFA;\n",
              "      box-shadow: 0px 1px 2px rgba(60, 64, 67, 0.3), 0px 1px 3px 1px rgba(60, 64, 67, 0.15);\n",
              "      fill: #174EA6;\n",
              "    }\n",
              "\n",
              "    [theme=dark] .colab-df-convert {\n",
              "      background-color: #3B4455;\n",
              "      fill: #D2E3FC;\n",
              "    }\n",
              "\n",
              "    [theme=dark] .colab-df-convert:hover {\n",
              "      background-color: #434B5C;\n",
              "      box-shadow: 0px 1px 3px 1px rgba(0, 0, 0, 0.15);\n",
              "      filter: drop-shadow(0px 1px 2px rgba(0, 0, 0, 0.3));\n",
              "      fill: #FFFFFF;\n",
              "    }\n",
              "  </style>\n",
              "\n",
              "      <script>\n",
              "        const buttonEl =\n",
              "          document.querySelector('#df-81b88b41-de2d-4021-8677-0a95a6f4e859 button.colab-df-convert');\n",
              "        buttonEl.style.display =\n",
              "          google.colab.kernel.accessAllowed ? 'block' : 'none';\n",
              "\n",
              "        async function convertToInteractive(key) {\n",
              "          const element = document.querySelector('#df-81b88b41-de2d-4021-8677-0a95a6f4e859');\n",
              "          const dataTable =\n",
              "            await google.colab.kernel.invokeFunction('convertToInteractive',\n",
              "                                                     [key], {});\n",
              "          if (!dataTable) return;\n",
              "\n",
              "          const docLinkHtml = 'Like what you see? Visit the ' +\n",
              "            '<a target=\"_blank\" href=https://colab.research.google.com/notebooks/data_table.ipynb>data table notebook</a>'\n",
              "            + ' to learn more about interactive tables.';\n",
              "          element.innerHTML = '';\n",
              "          dataTable['output_type'] = 'display_data';\n",
              "          await google.colab.output.renderOutput(dataTable, element);\n",
              "          const docLink = document.createElement('div');\n",
              "          docLink.innerHTML = docLinkHtml;\n",
              "          element.appendChild(docLink);\n",
              "        }\n",
              "      </script>\n",
              "    </div>\n",
              "  </div>\n",
              "  "
            ]
          },
          "metadata": {},
          "execution_count": 3
        }
      ]
    },
    {
      "cell_type": "markdown",
      "source": [
        "# **Analiza svih podataka prije transformacije:**"
      ],
      "metadata": {
        "id": "XhEYw8-VRLMM"
      }
    },
    {
      "cell_type": "code",
      "source": [
        "# dimenzije seta podataka\n",
        "df.shape"
      ],
      "metadata": {
        "colab": {
          "base_uri": "https://localhost:8080/"
        },
        "id": "umDPSVB8vLm5",
        "outputId": "e49767f1-2764-4c83-e53d-cea0cbeb0e09"
      },
      "execution_count": null,
      "outputs": [
        {
          "output_type": "execute_result",
          "data": {
            "text/plain": [
              "(100022, 30)"
            ]
          },
          "metadata": {},
          "execution_count": 4
        }
      ]
    },
    {
      "cell_type": "code",
      "source": [
        "# broj varijabli\n",
        "print(\"Broj varijabli u datasetu: \" + str(len(df.columns)))"
      ],
      "metadata": {
        "colab": {
          "base_uri": "https://localhost:8080/"
        },
        "id": "Y_tE88MDvRzt",
        "outputId": "1e262afb-3984-4690-e565-0ed1f4051588"
      },
      "execution_count": null,
      "outputs": [
        {
          "output_type": "stream",
          "name": "stdout",
          "text": [
            "Broj varijabli u datasetu: 30\n"
          ]
        }
      ]
    },
    {
      "cell_type": "code",
      "source": [
        "# nazivi varijabli i tipovi podataka\n",
        "print(\"Nazivi varijabli i tipovi podataka: \\n\")\n",
        "df.dtypes"
      ],
      "metadata": {
        "colab": {
          "base_uri": "https://localhost:8080/"
        },
        "id": "9Ohu4Nk0vXaQ",
        "outputId": "b5360a53-0c53-4379-8679-f5ece676a970"
      },
      "execution_count": null,
      "outputs": [
        {
          "output_type": "stream",
          "name": "stdout",
          "text": [
            "Nazivi varijabli i tipovi podataka: \n",
            "\n"
          ]
        },
        {
          "output_type": "execute_result",
          "data": {
            "text/plain": [
              "Unnamed: 0                    int64\n",
              "Unnamed: 0.1                  int64\n",
              "Unnamed: 0.1.1                int64\n",
              "ID                           object\n",
              "Customer_ID                  object\n",
              "Month                        object\n",
              "Name_and_Age                 object\n",
              "SSN                          object\n",
              "Occupation                   object\n",
              "Annual_Income                object\n",
              "Monthly_Inhand_Salary       float64\n",
              "Num_Bank_Accounts            object\n",
              "Num_Credit_Card              object\n",
              "Interest_Rate                 int64\n",
              "Num_of_Loan                  object\n",
              "Type_of_Loan                 object\n",
              "Delay_from_due_date           int64\n",
              "Num_of_Delayed_Payment       object\n",
              "Changed_Credit_Limit         object\n",
              "Num_Credit_Inquiries        float64\n",
              "Credit_Mix                   object\n",
              "Outstanding_Debt             object\n",
              "Credit_Utilization_Ratio    float64\n",
              "Credit_History_Age           object\n",
              "Payment_of_Min_Amount        object\n",
              "Total_EMI_per_month         float64\n",
              "Amount_invested_monthly      object\n",
              "Payment_Behaviour            object\n",
              "Monthly_Balance              object\n",
              "Credit_Score                 object\n",
              "dtype: object"
            ]
          },
          "metadata": {},
          "execution_count": 6
        }
      ]
    },
    {
      "cell_type": "code",
      "source": [
        "# Selekcija numeričkih varijabli\n",
        "numerics = ['int16', 'int32', 'int64', 'float16', 'float32', 'float64']\n",
        "df_numerics = df.select_dtypes(include=numerics)\n",
        "df_numerics"
      ],
      "metadata": {
        "colab": {
          "base_uri": "https://localhost:8080/",
          "height": 424
        },
        "id": "hZ6xFaesvb7Y",
        "outputId": "b9184d5f-c010-4650-de06-f2b59cab0af4"
      },
      "execution_count": null,
      "outputs": [
        {
          "output_type": "execute_result",
          "data": {
            "text/plain": [
              "        Unnamed: 0  Unnamed: 0.1  Unnamed: 0.1.1  Monthly_Inhand_Salary  \\\n",
              "0                0             0               0            1824.843333   \n",
              "1                1             1               1                    NaN   \n",
              "2                2             2               2                    NaN   \n",
              "3                3             3               3                    NaN   \n",
              "4                4             4               4            1824.843333   \n",
              "...            ...           ...             ...                    ...   \n",
              "100017      100017         99995           99995            3359.415833   \n",
              "100018      100018         99996           99996            3359.415833   \n",
              "100019      100019         99997           99997            3359.415833   \n",
              "100020      100020         99998           99998            3359.415833   \n",
              "100021      100021         99999           99999            3359.415833   \n",
              "\n",
              "        Interest_Rate  Delay_from_due_date  Num_Credit_Inquiries  \\\n",
              "0                   3                    3                   4.0   \n",
              "1                   3                   -1                   4.0   \n",
              "2                   3                    3                   4.0   \n",
              "3                   3                    5                   4.0   \n",
              "4                   3                    6                   4.0   \n",
              "...               ...                  ...                   ...   \n",
              "100017              7                   23                   3.0   \n",
              "100018              7                   18                   3.0   \n",
              "100019           5729                   27                   3.0   \n",
              "100020              7                   20                   3.0   \n",
              "100021              7                   18                   3.0   \n",
              "\n",
              "        Credit_Utilization_Ratio  Total_EMI_per_month  \n",
              "0                      26.822620            49.574949  \n",
              "1                      31.944960            49.574949  \n",
              "2                      28.609352            49.574949  \n",
              "3                      31.377862            49.574949  \n",
              "4                      24.797347            49.574949  \n",
              "...                          ...                  ...  \n",
              "100017                 34.663572            35.104023  \n",
              "100018                 40.565631            35.104023  \n",
              "100019                 41.255522            35.104023  \n",
              "100020                 33.638208            35.104023  \n",
              "100021                 34.192463            35.104023  \n",
              "\n",
              "[100022 rows x 9 columns]"
            ],
            "text/html": [
              "\n",
              "  <div id=\"df-61e2aacc-f6fa-4879-835d-f5e3a24cb193\">\n",
              "    <div class=\"colab-df-container\">\n",
              "      <div>\n",
              "<style scoped>\n",
              "    .dataframe tbody tr th:only-of-type {\n",
              "        vertical-align: middle;\n",
              "    }\n",
              "\n",
              "    .dataframe tbody tr th {\n",
              "        vertical-align: top;\n",
              "    }\n",
              "\n",
              "    .dataframe thead th {\n",
              "        text-align: right;\n",
              "    }\n",
              "</style>\n",
              "<table border=\"1\" class=\"dataframe\">\n",
              "  <thead>\n",
              "    <tr style=\"text-align: right;\">\n",
              "      <th></th>\n",
              "      <th>Unnamed: 0</th>\n",
              "      <th>Unnamed: 0.1</th>\n",
              "      <th>Unnamed: 0.1.1</th>\n",
              "      <th>Monthly_Inhand_Salary</th>\n",
              "      <th>Interest_Rate</th>\n",
              "      <th>Delay_from_due_date</th>\n",
              "      <th>Num_Credit_Inquiries</th>\n",
              "      <th>Credit_Utilization_Ratio</th>\n",
              "      <th>Total_EMI_per_month</th>\n",
              "    </tr>\n",
              "  </thead>\n",
              "  <tbody>\n",
              "    <tr>\n",
              "      <th>0</th>\n",
              "      <td>0</td>\n",
              "      <td>0</td>\n",
              "      <td>0</td>\n",
              "      <td>1824.843333</td>\n",
              "      <td>3</td>\n",
              "      <td>3</td>\n",
              "      <td>4.0</td>\n",
              "      <td>26.822620</td>\n",
              "      <td>49.574949</td>\n",
              "    </tr>\n",
              "    <tr>\n",
              "      <th>1</th>\n",
              "      <td>1</td>\n",
              "      <td>1</td>\n",
              "      <td>1</td>\n",
              "      <td>NaN</td>\n",
              "      <td>3</td>\n",
              "      <td>-1</td>\n",
              "      <td>4.0</td>\n",
              "      <td>31.944960</td>\n",
              "      <td>49.574949</td>\n",
              "    </tr>\n",
              "    <tr>\n",
              "      <th>2</th>\n",
              "      <td>2</td>\n",
              "      <td>2</td>\n",
              "      <td>2</td>\n",
              "      <td>NaN</td>\n",
              "      <td>3</td>\n",
              "      <td>3</td>\n",
              "      <td>4.0</td>\n",
              "      <td>28.609352</td>\n",
              "      <td>49.574949</td>\n",
              "    </tr>\n",
              "    <tr>\n",
              "      <th>3</th>\n",
              "      <td>3</td>\n",
              "      <td>3</td>\n",
              "      <td>3</td>\n",
              "      <td>NaN</td>\n",
              "      <td>3</td>\n",
              "      <td>5</td>\n",
              "      <td>4.0</td>\n",
              "      <td>31.377862</td>\n",
              "      <td>49.574949</td>\n",
              "    </tr>\n",
              "    <tr>\n",
              "      <th>4</th>\n",
              "      <td>4</td>\n",
              "      <td>4</td>\n",
              "      <td>4</td>\n",
              "      <td>1824.843333</td>\n",
              "      <td>3</td>\n",
              "      <td>6</td>\n",
              "      <td>4.0</td>\n",
              "      <td>24.797347</td>\n",
              "      <td>49.574949</td>\n",
              "    </tr>\n",
              "    <tr>\n",
              "      <th>...</th>\n",
              "      <td>...</td>\n",
              "      <td>...</td>\n",
              "      <td>...</td>\n",
              "      <td>...</td>\n",
              "      <td>...</td>\n",
              "      <td>...</td>\n",
              "      <td>...</td>\n",
              "      <td>...</td>\n",
              "      <td>...</td>\n",
              "    </tr>\n",
              "    <tr>\n",
              "      <th>100017</th>\n",
              "      <td>100017</td>\n",
              "      <td>99995</td>\n",
              "      <td>99995</td>\n",
              "      <td>3359.415833</td>\n",
              "      <td>7</td>\n",
              "      <td>23</td>\n",
              "      <td>3.0</td>\n",
              "      <td>34.663572</td>\n",
              "      <td>35.104023</td>\n",
              "    </tr>\n",
              "    <tr>\n",
              "      <th>100018</th>\n",
              "      <td>100018</td>\n",
              "      <td>99996</td>\n",
              "      <td>99996</td>\n",
              "      <td>3359.415833</td>\n",
              "      <td>7</td>\n",
              "      <td>18</td>\n",
              "      <td>3.0</td>\n",
              "      <td>40.565631</td>\n",
              "      <td>35.104023</td>\n",
              "    </tr>\n",
              "    <tr>\n",
              "      <th>100019</th>\n",
              "      <td>100019</td>\n",
              "      <td>99997</td>\n",
              "      <td>99997</td>\n",
              "      <td>3359.415833</td>\n",
              "      <td>5729</td>\n",
              "      <td>27</td>\n",
              "      <td>3.0</td>\n",
              "      <td>41.255522</td>\n",
              "      <td>35.104023</td>\n",
              "    </tr>\n",
              "    <tr>\n",
              "      <th>100020</th>\n",
              "      <td>100020</td>\n",
              "      <td>99998</td>\n",
              "      <td>99998</td>\n",
              "      <td>3359.415833</td>\n",
              "      <td>7</td>\n",
              "      <td>20</td>\n",
              "      <td>3.0</td>\n",
              "      <td>33.638208</td>\n",
              "      <td>35.104023</td>\n",
              "    </tr>\n",
              "    <tr>\n",
              "      <th>100021</th>\n",
              "      <td>100021</td>\n",
              "      <td>99999</td>\n",
              "      <td>99999</td>\n",
              "      <td>3359.415833</td>\n",
              "      <td>7</td>\n",
              "      <td>18</td>\n",
              "      <td>3.0</td>\n",
              "      <td>34.192463</td>\n",
              "      <td>35.104023</td>\n",
              "    </tr>\n",
              "  </tbody>\n",
              "</table>\n",
              "<p>100022 rows × 9 columns</p>\n",
              "</div>\n",
              "      <button class=\"colab-df-convert\" onclick=\"convertToInteractive('df-61e2aacc-f6fa-4879-835d-f5e3a24cb193')\"\n",
              "              title=\"Convert this dataframe to an interactive table.\"\n",
              "              style=\"display:none;\">\n",
              "        \n",
              "  <svg xmlns=\"http://www.w3.org/2000/svg\" height=\"24px\"viewBox=\"0 0 24 24\"\n",
              "       width=\"24px\">\n",
              "    <path d=\"M0 0h24v24H0V0z\" fill=\"none\"/>\n",
              "    <path d=\"M18.56 5.44l.94 2.06.94-2.06 2.06-.94-2.06-.94-.94-2.06-.94 2.06-2.06.94zm-11 1L8.5 8.5l.94-2.06 2.06-.94-2.06-.94L8.5 2.5l-.94 2.06-2.06.94zm10 10l.94 2.06.94-2.06 2.06-.94-2.06-.94-.94-2.06-.94 2.06-2.06.94z\"/><path d=\"M17.41 7.96l-1.37-1.37c-.4-.4-.92-.59-1.43-.59-.52 0-1.04.2-1.43.59L10.3 9.45l-7.72 7.72c-.78.78-.78 2.05 0 2.83L4 21.41c.39.39.9.59 1.41.59.51 0 1.02-.2 1.41-.59l7.78-7.78 2.81-2.81c.8-.78.8-2.07 0-2.86zM5.41 20L4 18.59l7.72-7.72 1.47 1.35L5.41 20z\"/>\n",
              "  </svg>\n",
              "      </button>\n",
              "      \n",
              "  <style>\n",
              "    .colab-df-container {\n",
              "      display:flex;\n",
              "      flex-wrap:wrap;\n",
              "      gap: 12px;\n",
              "    }\n",
              "\n",
              "    .colab-df-convert {\n",
              "      background-color: #E8F0FE;\n",
              "      border: none;\n",
              "      border-radius: 50%;\n",
              "      cursor: pointer;\n",
              "      display: none;\n",
              "      fill: #1967D2;\n",
              "      height: 32px;\n",
              "      padding: 0 0 0 0;\n",
              "      width: 32px;\n",
              "    }\n",
              "\n",
              "    .colab-df-convert:hover {\n",
              "      background-color: #E2EBFA;\n",
              "      box-shadow: 0px 1px 2px rgba(60, 64, 67, 0.3), 0px 1px 3px 1px rgba(60, 64, 67, 0.15);\n",
              "      fill: #174EA6;\n",
              "    }\n",
              "\n",
              "    [theme=dark] .colab-df-convert {\n",
              "      background-color: #3B4455;\n",
              "      fill: #D2E3FC;\n",
              "    }\n",
              "\n",
              "    [theme=dark] .colab-df-convert:hover {\n",
              "      background-color: #434B5C;\n",
              "      box-shadow: 0px 1px 3px 1px rgba(0, 0, 0, 0.15);\n",
              "      filter: drop-shadow(0px 1px 2px rgba(0, 0, 0, 0.3));\n",
              "      fill: #FFFFFF;\n",
              "    }\n",
              "  </style>\n",
              "\n",
              "      <script>\n",
              "        const buttonEl =\n",
              "          document.querySelector('#df-61e2aacc-f6fa-4879-835d-f5e3a24cb193 button.colab-df-convert');\n",
              "        buttonEl.style.display =\n",
              "          google.colab.kernel.accessAllowed ? 'block' : 'none';\n",
              "\n",
              "        async function convertToInteractive(key) {\n",
              "          const element = document.querySelector('#df-61e2aacc-f6fa-4879-835d-f5e3a24cb193');\n",
              "          const dataTable =\n",
              "            await google.colab.kernel.invokeFunction('convertToInteractive',\n",
              "                                                     [key], {});\n",
              "          if (!dataTable) return;\n",
              "\n",
              "          const docLinkHtml = 'Like what you see? Visit the ' +\n",
              "            '<a target=\"_blank\" href=https://colab.research.google.com/notebooks/data_table.ipynb>data table notebook</a>'\n",
              "            + ' to learn more about interactive tables.';\n",
              "          element.innerHTML = '';\n",
              "          dataTable['output_type'] = 'display_data';\n",
              "          await google.colab.output.renderOutput(dataTable, element);\n",
              "          const docLink = document.createElement('div');\n",
              "          docLink.innerHTML = docLinkHtml;\n",
              "          element.appendChild(docLink);\n",
              "        }\n",
              "      </script>\n",
              "    </div>\n",
              "  </div>\n",
              "  "
            ]
          },
          "metadata": {},
          "execution_count": 7
        }
      ]
    },
    {
      "cell_type": "code",
      "source": [
        "#Distribucija numerickih varijabli - vizuelni prikaz pomoću boxplotova\n",
        "for col in df_numerics:\n",
        "  plt.figure()\n",
        "  df.boxplot([col])"
      ],
      "metadata": {
        "colab": {
          "base_uri": "https://localhost:8080/",
          "height": 1000
        },
        "id": "G7CMoLXxvgN1",
        "outputId": "0fc67180-6794-4d61-99ea-edb4f1375cbf"
      },
      "execution_count": null,
      "outputs": [
        {
          "output_type": "display_data",
          "data": {
            "text/plain": [
              "<Figure size 432x288 with 1 Axes>"
            ],
            "image/png": "[encoded data removed]"
          },
          "metadata": {
            "needs_background": "light"
          }
        },
        {
          "output_type": "display_data",
          "data": {
            "text/plain": [
              "<Figure size 432x288 with 1 Axes>"
            ],
            "image/png": "[encoded data removed]"
          },
          "metadata": {
            "needs_background": "light"
          }
        },
        {
          "output_type": "display_data",
          "data": {
            "text/plain": [
              "<Figure size 432x288 with 1 Axes>"
            ],
            "image/png": "[encoded data removed]"
          },
          "metadata": {
            "needs_background": "light"
          }
        },
        {
          "output_type": "display_data",
          "data": {
            "text/plain": [
              "<Figure size 432x288 with 1 Axes>"
            ],
            "image/png": "[encoded data removed]"
          },
          "metadata": {
            "needs_background": "light"
          }
        },
        {
          "output_type": "display_data",
          "data": {
            "text/plain": [
              "<Figure size 432x288 with 1 Axes>"
            ],
            "image/png": "[encoded data removed]"
          },
          "metadata": {
            "needs_background": "light"
          }
        },
        {
          "output_type": "display_data",
          "data": {
            "text/plain": [
              "<Figure size 432x288 with 1 Axes>"
            ],
            "image/png": "[encoded data removed]"
          },
          "metadata": {
            "needs_background": "light"
          }
        },
        {
          "output_type": "display_data",
          "data": {
            "text/plain": [
              "<Figure size 432x288 with 1 Axes>"
            ],
            "image/png": "[encoded data removed]"
          },
          "metadata": {
            "needs_background": "light"
          }
        },
        {
          "output_type": "display_data",
          "data": {
            "text/plain": [
              "<Figure size 432x288 with 1 Axes>"
            ],
            "image/png": "[encoded data removed]"
          },
          "metadata": {
            "needs_background": "light"
          }
        },
        {
          "output_type": "display_data",
          "data": {
            "text/plain": [
              "<Figure size 432x288 with 1 Axes>"
            ],
            "image/png": "[encoded data removed]"
          },
          "metadata": {
            "needs_background": "light"
          }
        }
      ]
    },
    {
      "cell_type": "code",
      "source": [
        "#Distribucija numerickih varijabli - vizuelni prikaz pomoću histograma\n",
        "for col in df_numerics:\n",
        "    plt.figure()\n",
        "    plt.title(col)\n",
        "    df[col].hist()"
      ],
      "metadata": {
        "colab": {
          "base_uri": "https://localhost:8080/",
          "height": 1000
        },
        "id": "nT2SCEFIvj91",
        "outputId": "3b34ac3c-4503-4dd4-a5b7-6f26e9b32722"
      },
      "execution_count": null,
      "outputs": [
        {
          "output_type": "display_data",
          "data": {
            "text/plain": [
              "<Figure size 432x288 with 1 Axes>"
            ],
            "image/png": "[encoded data removed]"
          },
          "metadata": {
            "needs_background": "light"
          }
        },
        {
          "output_type": "display_data",
          "data": {
            "text/plain": [
              "<Figure size 432x288 with 1 Axes>"
            ],
            "image/png": "[encoded data removed]"
          },
          "metadata": {
            "needs_background": "light"
          }
        },
        {
          "output_type": "display_data",
          "data": {
            "text/plain": [
              "<Figure size 432x288 with 1 Axes>"
            ],
            "image/png": "[encoded data removed]"
          },
          "metadata": {
            "needs_background": "light"
          }
        },
        {
          "output_type": "display_data",
          "data": {
            "text/plain": [
              "<Figure size 432x288 with 1 Axes>"
            ],
            "image/png": "[encoded data removed]"
          },
          "metadata": {
            "needs_background": "light"
          }
        },
        {
          "output_type": "display_data",
          "data": {
            "text/plain": [
              "<Figure size 432x288 with 1 Axes>"
            ],
            "image/png": "[encoded data removed]"
          },
          "metadata": {
            "needs_background": "light"
          }
        },
        {
          "output_type": "display_data",
          "data": {
            "text/plain": [
              "<Figure size 432x288 with 1 Axes>"
            ],
            "image/png": "[encoded data removed]"
          },
          "metadata": {
            "needs_background": "light"
          }
        },
        {
          "output_type": "display_data",
          "data": {
            "text/plain": [
              "<Figure size 432x288 with 1 Axes>"
            ],
            "image/png": "[encoded data removed]"
          },
          "metadata": {
            "needs_background": "light"
          }
        },
        {
          "output_type": "display_data",
          "data": {
            "text/plain": [
              "<Figure size 432x288 with 1 Axes>"
            ],
            "image/png": "[encoded data removed]"
          },
          "metadata": {
            "needs_background": "light"
          }
        },
        {
          "output_type": "display_data",
          "data": {
            "text/plain": [
              "<Figure size 432x288 with 1 Axes>"
            ],
            "image/png": "[encoded data removed]"
          },
          "metadata": {
            "needs_background": "light"
          }
        }
      ]
    },
    {
      "cell_type": "code",
      "source": [
        "# Deskriptivna statistika za sve varijable\n",
        "df.describe(percentiles=[.25, .5, .75], include=\"all\")"
      ],
      "metadata": {
        "colab": {
          "base_uri": "https://localhost:8080/",
          "height": 522
        },
        "id": "o9hSW_Cnvm4n",
        "outputId": "cd09ff97-d953-480b-a38e-77632f601b89"
      },
      "execution_count": null,
      "outputs": [
        {
          "output_type": "execute_result",
          "data": {
            "text/plain": [
              "          Unnamed: 0   Unnamed: 0.1  Unnamed: 0.1.1       ID Customer_ID  \\\n",
              "count   100022.00000  100022.000000   100022.000000   100022      100022   \n",
              "unique           NaN            NaN             NaN   100000       12500   \n",
              "top              NaN            NaN             NaN  0x14c33  CUS_0x5313   \n",
              "freq             NaN            NaN             NaN        2           9   \n",
              "mean     50010.50000   49998.855802    49998.855802      NaN         NaN   \n",
              "std      28874.00865   28867.943554    28867.943554      NaN         NaN   \n",
              "min          0.00000       0.000000        0.000000      NaN         NaN   \n",
              "25%      25005.25000   24998.250000    24998.250000      NaN         NaN   \n",
              "50%      50010.50000   49999.500000    49999.500000      NaN         NaN   \n",
              "75%      75015.75000   74999.750000    74999.750000      NaN         NaN   \n",
              "max     100021.00000   99999.000000    99999.000000      NaN         NaN   \n",
              "\n",
              "         Month Name_and_Age        SSN Occupation Annual_Income  ...  \\\n",
              "count   100022        90034     100022     100022        100022  ...   \n",
              "unique       8        25520      12501         46         18940  ...   \n",
              "top      April  Stempelj,35  #F%$D@*&8    _______      17273.83  ...   \n",
              "freq     12505           16       5576       7063            16  ...   \n",
              "mean       NaN          NaN        NaN        NaN           NaN  ...   \n",
              "std        NaN          NaN        NaN        NaN           NaN  ...   \n",
              "min        NaN          NaN        NaN        NaN           NaN  ...   \n",
              "25%        NaN          NaN        NaN        NaN           NaN  ...   \n",
              "50%        NaN          NaN        NaN        NaN           NaN  ...   \n",
              "75%        NaN          NaN        NaN        NaN           NaN  ...   \n",
              "max        NaN          NaN        NaN        NaN           NaN  ...   \n",
              "\n",
              "        Credit_Mix Outstanding_Debt Credit_Utilization_Ratio  \\\n",
              "count       100022           100022            100022.000000   \n",
              "unique           4            13178                      NaN   \n",
              "top       Standard          1360.45                      NaN   \n",
              "freq         36489               24                      NaN   \n",
              "mean           NaN              NaN                32.284992   \n",
              "std            NaN              NaN                 5.116671   \n",
              "min            NaN              NaN                20.000000   \n",
              "25%            NaN              NaN                28.052683   \n",
              "50%            NaN              NaN                32.305645   \n",
              "75%            NaN              NaN                36.496135   \n",
              "max            NaN              NaN                50.000000   \n",
              "\n",
              "            Credit_History_Age Payment_of_Min_Amount Total_EMI_per_month  \\\n",
              "count                    90988                100022       100022.000000   \n",
              "unique                     404                     4                 NaN   \n",
              "top     15 Years and 11 Months                   Yes                 NaN   \n",
              "freq                       447                 37688                 NaN   \n",
              "mean                       NaN                   NaN         1403.551424   \n",
              "std                        NaN                   NaN         8308.208400   \n",
              "min                        NaN                   NaN            0.000000   \n",
              "25%                        NaN                   NaN           30.306660   \n",
              "50%                        NaN                   NaN           69.246684   \n",
              "75%                        NaN                   NaN          161.163199   \n",
              "max                        NaN                   NaN        82331.000000   \n",
              "\n",
              "        Amount_invested_monthly               Payment_Behaviour  \\\n",
              "count                     95541                          100022   \n",
              "unique                    91049                               7   \n",
              "top                   __10000__  Low_spent_Small_value_payments   \n",
              "freq                       4305                           25521   \n",
              "mean                        NaN                             NaN   \n",
              "std                         NaN                             NaN   \n",
              "min                         NaN                             NaN   \n",
              "25%                         NaN                             NaN   \n",
              "50%                         NaN                             NaN   \n",
              "75%                         NaN                             NaN   \n",
              "max                         NaN                             NaN   \n",
              "\n",
              "                         Monthly_Balance  Credit_Score  \n",
              "count                              98822        100022  \n",
              "unique                             98790             3  \n",
              "top     __-333333333333333333333333333__      Standard  \n",
              "freq                                   9         53182  \n",
              "mean                                 NaN           NaN  \n",
              "std                                  NaN           NaN  \n",
              "min                                  NaN           NaN  \n",
              "25%                                  NaN           NaN  \n",
              "50%                                  NaN           NaN  \n",
              "75%                                  NaN           NaN  \n",
              "max                                  NaN           NaN  \n",
              "\n",
              "[11 rows x 30 columns]"
            ],
            "text/html": [
              "\n",
              "  <div id=\"df-b6784261-6e2e-4ba9-998b-04863f329308\">\n",
              "    <div class=\"colab-df-container\">\n",
              "      <div>\n",
              "<style scoped>\n",
              "    .dataframe tbody tr th:only-of-type {\n",
              "        vertical-align: middle;\n",
              "    }\n",
              "\n",
              "    .dataframe tbody tr th {\n",
              "        vertical-align: top;\n",
              "    }\n",
              "\n",
              "    .dataframe thead th {\n",
              "        text-align: right;\n",
              "    }\n",
              "</style>\n",
              "<table border=\"1\" class=\"dataframe\">\n",
              "  <thead>\n",
              "    <tr style=\"text-align: right;\">\n",
              "      <th></th>\n",
              "      <th>Unnamed: 0</th>\n",
              "      <th>Unnamed: 0.1</th>\n",
              "      <th>Unnamed: 0.1.1</th>\n",
              "      <th>ID</th>\n",
              "      <th>Customer_ID</th>\n",
              "      <th>Month</th>\n",
              "      <th>Name_and_Age</th>\n",
              "      <th>SSN</th>\n",
              "      <th>Occupation</th>\n",
              "      <th>Annual_Income</th>\n",
              "      <th>...</th>\n",
              "      <th>Credit_Mix</th>\n",
              "      <th>Outstanding_Debt</th>\n",
              "      <th>Credit_Utilization_Ratio</th>\n",
              "      <th>Credit_History_Age</th>\n",
              "      <th>Payment_of_Min_Amount</th>\n",
              "      <th>Total_EMI_per_month</th>\n",
              "      <th>Amount_invested_monthly</th>\n",
              "      <th>Payment_Behaviour</th>\n",
              "      <th>Monthly_Balance</th>\n",
              "      <th>Credit_Score</th>\n",
              "    </tr>\n",
              "  </thead>\n",
              "  <tbody>\n",
              "    <tr>\n",
              "      <th>count</th>\n",
              "      <td>100022.00000</td>\n",
              "      <td>100022.000000</td>\n",
              "      <td>100022.000000</td>\n",
              "      <td>100022</td>\n",
              "      <td>100022</td>\n",
              "      <td>100022</td>\n",
              "      <td>90034</td>\n",
              "      <td>100022</td>\n",
              "      <td>100022</td>\n",
              "      <td>100022</td>\n",
              "      <td>...</td>\n",
              "      <td>100022</td>\n",
              "      <td>100022</td>\n",
              "      <td>100022.000000</td>\n",
              "      <td>90988</td>\n",
              "      <td>100022</td>\n",
              "      <td>100022.000000</td>\n",
              "      <td>95541</td>\n",
              "      <td>100022</td>\n",
              "      <td>98822</td>\n",
              "      <td>100022</td>\n",
              "    </tr>\n",
              "    <tr>\n",
              "      <th>unique</th>\n",
              "      <td>NaN</td>\n",
              "      <td>NaN</td>\n",
              "      <td>NaN</td>\n",
              "      <td>100000</td>\n",
              "      <td>12500</td>\n",
              "      <td>8</td>\n",
              "      <td>25520</td>\n",
              "      <td>12501</td>\n",
              "      <td>46</td>\n",
              "      <td>18940</td>\n",
              "      <td>...</td>\n",
              "      <td>4</td>\n",
              "      <td>13178</td>\n",
              "      <td>NaN</td>\n",
              "      <td>404</td>\n",
              "      <td>4</td>\n",
              "      <td>NaN</td>\n",
              "      <td>91049</td>\n",
              "      <td>7</td>\n",
              "      <td>98790</td>\n",
              "      <td>3</td>\n",
              "    </tr>\n",
              "    <tr>\n",
              "      <th>top</th>\n",
              "      <td>NaN</td>\n",
              "      <td>NaN</td>\n",
              "      <td>NaN</td>\n",
              "      <td>0x14c33</td>\n",
              "      <td>CUS_0x5313</td>\n",
              "      <td>April</td>\n",
              "      <td>Stempelj,35</td>\n",
              "      <td>#F%$D@*&amp;8</td>\n",
              "      <td>_______</td>\n",
              "      <td>17273.83</td>\n",
              "      <td>...</td>\n",
              "      <td>Standard</td>\n",
              "      <td>1360.45</td>\n",
              "      <td>NaN</td>\n",
              "      <td>15 Years and 11 Months</td>\n",
              "      <td>Yes</td>\n",
              "      <td>NaN</td>\n",
              "      <td>__10000__</td>\n",
              "      <td>Low_spent_Small_value_payments</td>\n",
              "      <td>__-333333333333333333333333333__</td>\n",
              "      <td>Standard</td>\n",
              "    </tr>\n",
              "    <tr>\n",
              "      <th>freq</th>\n",
              "      <td>NaN</td>\n",
              "      <td>NaN</td>\n",
              "      <td>NaN</td>\n",
              "      <td>2</td>\n",
              "      <td>9</td>\n",
              "      <td>12505</td>\n",
              "      <td>16</td>\n",
              "      <td>5576</td>\n",
              "      <td>7063</td>\n",
              "      <td>16</td>\n",
              "      <td>...</td>\n",
              "      <td>36489</td>\n",
              "      <td>24</td>\n",
              "      <td>NaN</td>\n",
              "      <td>447</td>\n",
              "      <td>37688</td>\n",
              "      <td>NaN</td>\n",
              "      <td>4305</td>\n",
              "      <td>25521</td>\n",
              "      <td>9</td>\n",
              "      <td>53182</td>\n",
              "    </tr>\n",
              "    <tr>\n",
              "      <th>mean</th>\n",
              "      <td>50010.50000</td>\n",
              "      <td>49998.855802</td>\n",
              "      <td>49998.855802</td>\n",
              "      <td>NaN</td>\n",
              "      <td>NaN</td>\n",
              "      <td>NaN</td>\n",
              "      <td>NaN</td>\n",
              "      <td>NaN</td>\n",
              "      <td>NaN</td>\n",
              "      <td>NaN</td>\n",
              "      <td>...</td>\n",
              "      <td>NaN</td>\n",
              "      <td>NaN</td>\n",
              "      <td>32.284992</td>\n",
              "      <td>NaN</td>\n",
              "      <td>NaN</td>\n",
              "      <td>1403.551424</td>\n",
              "      <td>NaN</td>\n",
              "      <td>NaN</td>\n",
              "      <td>NaN</td>\n",
              "      <td>NaN</td>\n",
              "    </tr>\n",
              "    <tr>\n",
              "      <th>std</th>\n",
              "      <td>28874.00865</td>\n",
              "      <td>28867.943554</td>\n",
              "      <td>28867.943554</td>\n",
              "      <td>NaN</td>\n",
              "      <td>NaN</td>\n",
              "      <td>NaN</td>\n",
              "      <td>NaN</td>\n",
              "      <td>NaN</td>\n",
              "      <td>NaN</td>\n",
              "      <td>NaN</td>\n",
              "      <td>...</td>\n",
              "      <td>NaN</td>\n",
              "      <td>NaN</td>\n",
              "      <td>5.116671</td>\n",
              "      <td>NaN</td>\n",
              "      <td>NaN</td>\n",
              "      <td>8308.208400</td>\n",
              "      <td>NaN</td>\n",
              "      <td>NaN</td>\n",
              "      <td>NaN</td>\n",
              "      <td>NaN</td>\n",
              "    </tr>\n",
              "    <tr>\n",
              "      <th>min</th>\n",
              "      <td>0.00000</td>\n",
              "      <td>0.000000</td>\n",
              "      <td>0.000000</td>\n",
              "      <td>NaN</td>\n",
              "      <td>NaN</td>\n",
              "      <td>NaN</td>\n",
              "      <td>NaN</td>\n",
              "      <td>NaN</td>\n",
              "      <td>NaN</td>\n",
              "      <td>NaN</td>\n",
              "      <td>...</td>\n",
              "      <td>NaN</td>\n",
              "      <td>NaN</td>\n",
              "      <td>20.000000</td>\n",
              "      <td>NaN</td>\n",
              "      <td>NaN</td>\n",
              "      <td>0.000000</td>\n",
              "      <td>NaN</td>\n",
              "      <td>NaN</td>\n",
              "      <td>NaN</td>\n",
              "      <td>NaN</td>\n",
              "    </tr>\n",
              "    <tr>\n",
              "      <th>25%</th>\n",
              "      <td>25005.25000</td>\n",
              "      <td>24998.250000</td>\n",
              "      <td>24998.250000</td>\n",
              "      <td>NaN</td>\n",
              "      <td>NaN</td>\n",
              "      <td>NaN</td>\n",
              "      <td>NaN</td>\n",
              "      <td>NaN</td>\n",
              "      <td>NaN</td>\n",
              "      <td>NaN</td>\n",
              "      <td>...</td>\n",
              "      <td>NaN</td>\n",
              "      <td>NaN</td>\n",
              "      <td>28.052683</td>\n",
              "      <td>NaN</td>\n",
              "      <td>NaN</td>\n",
              "      <td>30.306660</td>\n",
              "      <td>NaN</td>\n",
              "      <td>NaN</td>\n",
              "      <td>NaN</td>\n",
              "      <td>NaN</td>\n",
              "    </tr>\n",
              "    <tr>\n",
              "      <th>50%</th>\n",
              "      <td>50010.50000</td>\n",
              "      <td>49999.500000</td>\n",
              "      <td>49999.500000</td>\n",
              "      <td>NaN</td>\n",
              "      <td>NaN</td>\n",
              "      <td>NaN</td>\n",
              "      <td>NaN</td>\n",
              "      <td>NaN</td>\n",
              "      <td>NaN</td>\n",
              "      <td>NaN</td>\n",
              "      <td>...</td>\n",
              "      <td>NaN</td>\n",
              "      <td>NaN</td>\n",
              "      <td>32.305645</td>\n",
              "      <td>NaN</td>\n",
              "      <td>NaN</td>\n",
              "      <td>69.246684</td>\n",
              "      <td>NaN</td>\n",
              "      <td>NaN</td>\n",
              "      <td>NaN</td>\n",
              "      <td>NaN</td>\n",
              "    </tr>\n",
              "    <tr>\n",
              "      <th>75%</th>\n",
              "      <td>75015.75000</td>\n",
              "      <td>74999.750000</td>\n",
              "      <td>74999.750000</td>\n",
              "      <td>NaN</td>\n",
              "      <td>NaN</td>\n",
              "      <td>NaN</td>\n",
              "      <td>NaN</td>\n",
              "      <td>NaN</td>\n",
              "      <td>NaN</td>\n",
              "      <td>NaN</td>\n",
              "      <td>...</td>\n",
              "      <td>NaN</td>\n",
              "      <td>NaN</td>\n",
              "      <td>36.496135</td>\n",
              "      <td>NaN</td>\n",
              "      <td>NaN</td>\n",
              "      <td>161.163199</td>\n",
              "      <td>NaN</td>\n",
              "      <td>NaN</td>\n",
              "      <td>NaN</td>\n",
              "      <td>NaN</td>\n",
              "    </tr>\n",
              "    <tr>\n",
              "      <th>max</th>\n",
              "      <td>100021.00000</td>\n",
              "      <td>99999.000000</td>\n",
              "      <td>99999.000000</td>\n",
              "      <td>NaN</td>\n",
              "      <td>NaN</td>\n",
              "      <td>NaN</td>\n",
              "      <td>NaN</td>\n",
              "      <td>NaN</td>\n",
              "      <td>NaN</td>\n",
              "      <td>NaN</td>\n",
              "      <td>...</td>\n",
              "      <td>NaN</td>\n",
              "      <td>NaN</td>\n",
              "      <td>50.000000</td>\n",
              "      <td>NaN</td>\n",
              "      <td>NaN</td>\n",
              "      <td>82331.000000</td>\n",
              "      <td>NaN</td>\n",
              "      <td>NaN</td>\n",
              "      <td>NaN</td>\n",
              "      <td>NaN</td>\n",
              "    </tr>\n",
              "  </tbody>\n",
              "</table>\n",
              "<p>11 rows × 30 columns</p>\n",
              "</div>\n",
              "      <button class=\"colab-df-convert\" onclick=\"convertToInteractive('df-b6784261-6e2e-4ba9-998b-04863f329308')\"\n",
              "              title=\"Convert this dataframe to an interactive table.\"\n",
              "              style=\"display:none;\">\n",
              "        \n",
              "  <svg xmlns=\"http://www.w3.org/2000/svg\" height=\"24px\"viewBox=\"0 0 24 24\"\n",
              "       width=\"24px\">\n",
              "    <path d=\"M0 0h24v24H0V0z\" fill=\"none\"/>\n",
              "    <path d=\"M18.56 5.44l.94 2.06.94-2.06 2.06-.94-2.06-.94-.94-2.06-.94 2.06-2.06.94zm-11 1L8.5 8.5l.94-2.06 2.06-.94-2.06-.94L8.5 2.5l-.94 2.06-2.06.94zm10 10l.94 2.06.94-2.06 2.06-.94-2.06-.94-.94-2.06-.94 2.06-2.06.94z\"/><path d=\"M17.41 7.96l-1.37-1.37c-.4-.4-.92-.59-1.43-.59-.52 0-1.04.2-1.43.59L10.3 9.45l-7.72 7.72c-.78.78-.78 2.05 0 2.83L4 21.41c.39.39.9.59 1.41.59.51 0 1.02-.2 1.41-.59l7.78-7.78 2.81-2.81c.8-.78.8-2.07 0-2.86zM5.41 20L4 18.59l7.72-7.72 1.47 1.35L5.41 20z\"/>\n",
              "  </svg>\n",
              "      </button>\n",
              "      \n",
              "  <style>\n",
              "    .colab-df-container {\n",
              "      display:flex;\n",
              "      flex-wrap:wrap;\n",
              "      gap: 12px;\n",
              "    }\n",
              "\n",
              "    .colab-df-convert {\n",
              "      background-color: #E8F0FE;\n",
              "      border: none;\n",
              "      border-radius: 50%;\n",
              "      cursor: pointer;\n",
              "      display: none;\n",
              "      fill: #1967D2;\n",
              "      height: 32px;\n",
              "      padding: 0 0 0 0;\n",
              "      width: 32px;\n",
              "    }\n",
              "\n",
              "    .colab-df-convert:hover {\n",
              "      background-color: #E2EBFA;\n",
              "      box-shadow: 0px 1px 2px rgba(60, 64, 67, 0.3), 0px 1px 3px 1px rgba(60, 64, 67, 0.15);\n",
              "      fill: #174EA6;\n",
              "    }\n",
              "\n",
              "    [theme=dark] .colab-df-convert {\n",
              "      background-color: #3B4455;\n",
              "      fill: #D2E3FC;\n",
              "    }\n",
              "\n",
              "    [theme=dark] .colab-df-convert:hover {\n",
              "      background-color: #434B5C;\n",
              "      box-shadow: 0px 1px 3px 1px rgba(0, 0, 0, 0.15);\n",
              "      filter: drop-shadow(0px 1px 2px rgba(0, 0, 0, 0.3));\n",
              "      fill: #FFFFFF;\n",
              "    }\n",
              "  </style>\n",
              "\n",
              "      <script>\n",
              "        const buttonEl =\n",
              "          document.querySelector('#df-b6784261-6e2e-4ba9-998b-04863f329308 button.colab-df-convert');\n",
              "        buttonEl.style.display =\n",
              "          google.colab.kernel.accessAllowed ? 'block' : 'none';\n",
              "\n",
              "        async function convertToInteractive(key) {\n",
              "          const element = document.querySelector('#df-b6784261-6e2e-4ba9-998b-04863f329308');\n",
              "          const dataTable =\n",
              "            await google.colab.kernel.invokeFunction('convertToInteractive',\n",
              "                                                     [key], {});\n",
              "          if (!dataTable) return;\n",
              "\n",
              "          const docLinkHtml = 'Like what you see? Visit the ' +\n",
              "            '<a target=\"_blank\" href=https://colab.research.google.com/notebooks/data_table.ipynb>data table notebook</a>'\n",
              "            + ' to learn more about interactive tables.';\n",
              "          element.innerHTML = '';\n",
              "          dataTable['output_type'] = 'display_data';\n",
              "          await google.colab.output.renderOutput(dataTable, element);\n",
              "          const docLink = document.createElement('div');\n",
              "          docLink.innerHTML = docLinkHtml;\n",
              "          element.appendChild(docLink);\n",
              "        }\n",
              "      </script>\n",
              "    </div>\n",
              "  </div>\n",
              "  "
            ]
          },
          "metadata": {},
          "execution_count": 10
        }
      ]
    },
    {
      "cell_type": "code",
      "source": [
        "#Vizuelni prikaz korelacije izmedju parova varijabli\n",
        "CorrMatrix = pd.DataFrame.corr(df)\n",
        "sns.heatmap(CorrMatrix)\n",
        "plt.show()"
      ],
      "metadata": {
        "colab": {
          "base_uri": "https://localhost:8080/",
          "height": 375
        },
        "id": "FAR7-AE6XaAW",
        "outputId": "b95d788c-0b91-4b74-c052-cd7cdfb811df"
      },
      "execution_count": null,
      "outputs": [
        {
          "output_type": "display_data",
          "data": {
            "text/plain": [
              "<Figure size 432x288 with 2 Axes>"
            ],
            "image/png": "[encoded data removed]"
          },
          "metadata": {
            "needs_background": "light"
          }
        }
      ]
    },
    {
      "cell_type": "code",
      "source": [
        "# Da bismo uspjeli izvršiti odgovarajuće transformacije podataka, tj. da bismo uklonili nepodobne vrijednosti iz dataset-a potrebno je prvo da analiziramo moguće vrijednosti za svaku kolonu.\n",
        "# moguće vrijednosti za sve kolone\n",
        "for col in df:\n",
        "  if(df[col].dtypes == 'object'):\n",
        "    print(col)\n",
        "    print(df[col].unique())"
      ],
      "metadata": {
        "colab": {
          "base_uri": "https://localhost:8080/"
        },
        "id": "0lmX7SS5xAba",
        "outputId": "fbb6b977-2b57-455b-ad15-a308e88a1b4b"
      },
      "execution_count": null,
      "outputs": [
        {
          "output_type": "stream",
          "name": "stdout",
          "text": [
            "ID\n",
            "['0x1602' '0x1603' '0x1604' ... '0x25feb' '0x25fec' '0x25fed']\n",
            "Customer_ID\n",
            "['CUS_0xd40' 'CUS_0x21b1' 'CUS_0x2dbc' ... 'CUS_0xaf61' 'CUS_0x8600'\n",
            " 'CUS_0x942c']\n",
            "Month\n",
            "['January' 'February' '3' 'April' 'May' '6' 'July' '8']\n",
            "Name_and_Age\n",
            "['Aaron Maashoh,23' 'Aaron Maashoh,-500' nan ... 'Sarah McBridec,29'\n",
            " 'Nicks,24' 'Nicks,25']\n",
            "SSN\n",
            "['821-00-0265' '#F%$D@*&8' '004-07-5839' ... '133-16-7738' '031-35-0942'\n",
            " '078-73-5990']\n",
            "Occupation\n",
            "['Scientist' 'SCIENTIST' '_______' 'Teacher' 'TEACHER' 'Engineer'\n",
            " 'Entrepreneur' 'Developer' 'Lawyer' 'Media_Manager' 'Doctor' 'Journalist'\n",
            " 'Manager' 'Accountant' 'accountant' 'teacher' 'Musician' 'musician'\n",
            " 'media_manager' 'ENTREPRENEUR' 'Mechanic' 'Writer' 'Architect' 'manager'\n",
            " 'scientist' 'MANAGER' 'mechanic' 'engineer' 'DEVELOPER' 'MUSICIAN'\n",
            " 'JOURNALIST' 'architect' 'WRITER' 'DOCTOR' 'journalist' 'entrepreneur'\n",
            " 'writer' 'lawyer' 'doctor' 'ARCHITECT' 'MECHANIC' 'LAWYER' 'developer'\n",
            " 'MEDIA_MANAGER' 'ACCOUNTANT' 'ENGINEER']\n",
            "Annual_Income\n",
            "['19114.12' '34847.84' '34847.84_' ... '20002.88' '39628.99' '39628.99_']\n",
            "Num_Bank_Accounts\n",
            "['3' '2' '1' '7' '7 accounts' '4' '4 accounts' '0' '8' '1 accounts' '5'\n",
            " '3 accounts' '6 accounts' '6' '5 accounts' '9' '9 accounts' '10' '1414'\n",
            " '1231' '67' '572' '1488' '2 accounts' '8 accounts' '10 accounts'\n",
            " '0 accounts' '91' '528' '1647' '1696' '1338' '649' '889' '1668' '685'\n",
            " '857' '975' '1496' '1534' '1620' '37' '1388' '1429' '1332' '1588' '120'\n",
            " '1777' '1096' '803' '494' '744' '1139' '831' '1613' '741' '121' '665'\n",
            " '1748 accounts' '1644' '823' '1356' '1651' '87' '711' '450' '210' '1671'\n",
            " '1722' '648' '672' '1662' '1495' '510' '666' '429' '1131' '1434' '980'\n",
            " '1026' '526' '718' '1300' '1312' '1315' '501' '1566 accounts' '480'\n",
            " '1042' '322' '628' '1016' '333' '1265' '791' '427' '563' '905' '1190'\n",
            " '1036' '1611' '38' '619' '555' '1769' '280' '752' '1201' '812' '1487'\n",
            " '222' '212' '1019' '1222' '610' '1714' '1308' '525' '1158' '1115' '1616'\n",
            " '754' '494 accounts' '1601' '797' '1577' '521' '703' '933' '959' '809'\n",
            " '1089' '1656' '1113' '1715' '964 accounts' '1533' '1789' '871' '434'\n",
            " '1295' '565' '1724' '603' '677' '541' '698 accounts' '1101 accounts'\n",
            " '464' '1539' '1462' '1011' '1257' '1727' '45' '244' '1266' '897' '535'\n",
            " '484' '331' '675' '826' '946' '1675' '105' '1327' '845' '549' '473' '710'\n",
            " '527' '908' '68' '1628' '371' '445' '1168' '868' '687' '455' '1003' '26'\n",
            " '1526' '618 accounts' '598' '351' '1342' '1783' '683' '1557' '1335' '416'\n",
            " '1747' '137' '1475' '373' '338' '942' '170' '973' '1605' '1478' '386'\n",
            " '1448' '1033' '1225' '596' '1731' '1214' '1481' '1105' '580' '347' '108'\n",
            " '148' '1001' '1467' '1114' '1000' '632' '246 accounts' '1032' '1394'\n",
            " '689' '482' '1303' '720' '574' '588' '1358' '650' '708' '179' '844'\n",
            " '1140' '335' '60' '732' '1494' '1436' '820' '28 accounts' '1576' '818'\n",
            " '794' '731' '534' '556' '691' '1197' '1155' '1255' '1763' '769' '1124'\n",
            " '819' '318' '1418' '1101' '882' '61' '264 accounts' '194' '1798' '611'\n",
            " '840' '505' '1110' '719' '1065' '195' '584' '550' '1014' '1022' '903'\n",
            " '1748' '976' '31' '417' '1423' '37 accounts' '1148' '616' '786' '1424'\n",
            " '55' '1061' '1293' '342' '43' '1540' '488' '1122' '1274' '1075' '722'\n",
            " '1268' '41' '814' '1564' '1390' '1141' '497' '224' '1135' '441' '374'\n",
            " '74' '314 accounts' '1408' '475' '1015' '681' '1236' '59' '1425' '1637'\n",
            " '1240' '299' '1657' '1123' '1091' '1264' '1561' '1632' '1562' '305'\n",
            " '1318' '1217' '1699' '1070' '864' '1391' '112' '860' '105 accounts' '595'\n",
            " '229' '1624' '1051' '821' '1794' '1565 accounts' '397' '1368' '1353'\n",
            " '508' '1725' '1413' '1239' '847' '1317' '570' '-1' '302' '456' '198'\n",
            " '122' '832' '167' '1547' '1666' '1241' '275' '566' '1779' '201' '334'\n",
            " '1169' '834' '1174' '1040' '530' '1676 accounts' '1468' '1093' '706'\n",
            " '489' '1592' '688' '246' '830' '1784' '1543' '1600' '1178' '228' '483'\n",
            " '1501' '950' '548' '870' '1211' '604' '804' '129' '540 accounts' '1702'\n",
            " '1636' '1680' '1443' '1252' '499' '180' '702' '885' '1652' '795' '938'\n",
            " '833 accounts' '1654' '1793' '303' '1621' '1516 accounts' '1138' '32'\n",
            " '160' '1491' '83' '423' '928' '339' '931' '243' '1756' '540' '583' '1695'\n",
            " '274' '955' '430' '1247' '490' '726' '987' '42' '1626' '1470' '1739'\n",
            " '887' '211' '385' '1247 accounts' '1221' '753' '324' '406' '1677' '1567'\n",
            " '785' '182' '1079' '184' '1771' '1048' '1069' '561' '589' '1634' '70'\n",
            " '1371' '647' '1153' '239' '801' '1279' '1287' '425' '1589' '929 accounts'\n",
            " '1511' '1765' '1047' '1005' '1337' '981' '1766' '805' '1574' '1638' '186'\n",
            " '99' '288' '1650' '974' '996' '1595' '1594' '865' '203' '1440' '448'\n",
            " '285' '94' '875' '916' '1733' '240' '330' '79' '82' '135' '1043' '142'\n",
            " '1235' '1569' '1741' '1461' '560' '1551' '409' '418' '1017' '892' '354'\n",
            " '124' '935' '313 accounts' '1363' '232 accounts' '1200 accounts'\n",
            " '1184 accounts' '1432' '1479' '1434 accounts' '1407' '1080' '1719' '1024'\n",
            " '970' '761' '158' '312' '1676' '1060' '684' '696' '1520' '1352' '1502'\n",
            " '936' '485' '350' '1560' '1166' '1013' '34' '1691' '429 accounts' '715'\n",
            " '1570' '1751' '1503' '1194' '1558' '411' '298' '260' '308' '796 accounts'\n",
            " '1442' '912' '1256' '746' '435' '620' '1774' '1181' '1323' '837' '307'\n",
            " '1430 accounts' '53' '1447' '259' '921' '328' '1034' '353' '822'\n",
            " '654 accounts' '829' '609' '166' '136' '172' '1306' '1028' '808' '270'\n",
            " '1072' '514' '156' '1331' '1630' '462' '1310' '1210' '265' '521 accounts'\n",
            " '50' '1355' '394' '1393' '226' '991' '368' '1018' '1037' '627'\n",
            " '-1 accounts' '1744' '523' '28' '894' '944' '1730' '1076' '1094' '1617'\n",
            " '449 accounts' '678' '1164' '30' '817' '1568' '1214 accounts' '607' '709'\n",
            " '1230' '606' '1480' '29' '1522' '1670' '49' '626' '1641' '1712'\n",
            " '1201 accounts' '1656 accounts' '1370' '1782' '119' '1574 accounts'\n",
            " '1137' '1277' '35' '947' '851' '1424 accounts' '1041' '1583' '1536' '575'\n",
            " '196' '143' '33' '383' '57' '621' '230' '162' '352' '844 accounts' '1504'\n",
            " '1250' '39' '511' '1364' '918' '1665' '734' '1320' '316' '771' '705'\n",
            " '1435' '304' '116' '1553' '424' '493' '1530' '1195' '1604' '624' '1599'\n",
            " '782' '1606' '1622' '314' '1285' '657' '1275' '1291 accounts' '1402'\n",
            " '420' '932' '468' '442' '1145 accounts' '93' '1218' '283' '292' '927'\n",
            " '1711' '1422' '364' '1398' '594' '789 accounts' '1350' '676' '216' '1012'\n",
            " '1426' '717' '1095' '1786' '850' '777 accounts' '375' '356' '701' '1325'\n",
            " '290' '1775' '467' '1365' '1549' '848' '1453' '84' '1458' '888' '770'\n",
            " '1591' '582' '40 accounts' '1261' '1764' '1067' '145' '471' '476' '1128'\n",
            " '967' '622' '641' '539' '858' '295' '1395' '1517' '1297' '1126' '926'\n",
            " '157' '1377' '993' '125' '340' '271' '1669' '272' '979' '707' '564' '997'\n",
            " '447' '1578' '1465' '415' '777' '714' '1276' '18' '1316' '587' '245'\n",
            " '446' '978' '1002' '1631' '341' '1307' '524' '1267' '103' '242' '1378'\n",
            " '1328' '1294' '1309' '724' '197' '999' '547' '1100' '1456' '77' '1506'\n",
            " '1472' '460' '11 accounts' '11' '1420' '218' '1253' '392' '670' '1321'\n",
            " '100' '1205' '443' '92' '811' '774' '159' '1770' '1502 accounts' '972'\n",
            " '1157' '1102' '217' '358' '1473' '440' '140' '1361' '481' '512' '1117'\n",
            " '300' '1263' '1581' '901' '1298' '330 accounts' '310' '637' '758' '1734'\n",
            " '264' '1288 accounts' '326' '1678' '1444 accounts' '1344' '1379' '828'\n",
            " '982' '104' '317' '1529' '1627' '115' '645' '1404' '940' '1305' '1049'\n",
            " '1645' '1466' '175' '1165' '1419' '1031' '581' '1580' '854 accounts'\n",
            " '725' '1655' '1134' '569' '1387' '1381' '1760' '360' '1735'\n",
            " '1146 accounts' '1411' '969' '1281' '591' '327' '466' '667' '147' '1288'\n",
            " '109' '784' '1396' '1349' '839' '1284' '802' '97' '281 accounts' '1382'\n",
            " '313' '1039' '1483' '376' '1249' '1207' '1213' '1219' '1345' '1523' '949'\n",
            " '1063' '983' '886' '1151' '992' '1107' '1314' '151' '69' '1489' '695'\n",
            " '738' '444' '1525' '825' '506' '518' '1077' '1354' '713' '690' '861'\n",
            " '1389' '968' '421' '907' '205' '856' '72' '651' '1751 accounts' '161'\n",
            " '867' '971' '1078' '64' '1701' '546' '1216' '27' '1709' '304 accounts'\n",
            " '193' '1528' '957' '577' '346' '1416' '396' '1182' '652' '1083' '1778'\n",
            " '680' '1754' '1544 accounts' '1703' '636' '472' '453' '463' '75' '756'\n",
            " '296' '891' '813' '474' '697']\n",
            "Num_Credit_Card\n",
            "['4' '4 cards' '1385' ... '955' '1430' '679']\n",
            "Num_of_Loan\n",
            "['4' '1' '3' '967' '-100' '0' '0_' '2' '3_' '2_' '7' '5' '5_' '6' '8' '8_'\n",
            " '9' '9_' '4_' '7_' '1_' '1464' '6_' '622' '352' '472' '1017' '945' '146'\n",
            " '563' '341' '444' '720' '1485' '49' '737' '1106' '466' '728' '313' '843'\n",
            " '597_' '617' '119' '663' '640' '92_' '1019' '501' '1302' '39' '716' '848'\n",
            " '931' '1214' '186' '424' '1001' '1110' '1152' '457' '1433' '1187' '52'\n",
            " '1480' '1047' '1035' '1347_' '33' '193' '699' '329' '1451' '484' '132'\n",
            " '649' '995' '545' '684' '1135' '1094' '1204' '654' '58' '348' '614'\n",
            " '1363' '323' '1406' '1348' '430' '153' '1461' '905' '1312' '1424' '1154'\n",
            " '95' '1353' '1228' '819' '1006' '795' '359' '1209' '590' '696' '1185_'\n",
            " '1465' '911' '1181' '70' '816' '1369' '143' '1416' '455' '55' '1096'\n",
            " '1474' '420' '1131' '904' '89' '1259' '527' '1241' '449' '983' '418'\n",
            " '319' '23' '238' '638' '138' '235_' '280' '1070' '1484' '274' '494'\n",
            " '1459_' '404' '1354' '1495' '1391' '601' '1313' '1319' '898' '231' '752'\n",
            " '174' '961' '1046' '834' '284' '438' '288' '1463' '1151' '719' '198'\n",
            " '1015' '855' '841' '392' '1444' '103' '1320_' '745' '172' '252' '630_'\n",
            " '241' '31' '405' '1217' '1030' '1257' '137' '157' '164' '1088' '1236'\n",
            " '777' '1048' '613' '330' '1439' '321' '661' '952' '939' '562' '1202'\n",
            " '302' '943' '394' '955' '1318' '936' '781' '100' '1329' '1365' '860'\n",
            " '217' '191' '32' '282' '351' '1387' '757' '416' '833' '359_' '292'\n",
            " '1225_' '1227' '639' '859' '243' '267' '510' '332' '996' '597' '311'\n",
            " '492' '820' '336' '123' '540' '131_' '1311_' '1441' '895' '891' '50'\n",
            " '940' '935' '596' '29' '1182' '1129_' '1014' '251' '365' '291' '1447'\n",
            " '742' '1085' '148' '462' '832' '881' '1225' '1412' '785_' '1127' '910'\n",
            " '538' '999' '733' '101' '237' '87' '659' '633' '387' '447' '629' '831'\n",
            " '1384' '773' '621' '1419' '289' '143_' '285' '1393' '1131_' '27_' '1359'\n",
            " '1482' '1189' '1294' '201' '579' '814' '141' '1320' '581' '1171_' '295'\n",
            " '290' '433' '679' '1040' '1054' '1430' '1023' '1077' '1457' '1150' '701'\n",
            " '1382' '889' '437' '372' '1222' '126' '1159' '868' '19' '1297' '227_'\n",
            " '190' '809' '1216' '1074' '571' '520' '1274' '1340' '991' '316' '697'\n",
            " '926' '873' '1002' '378_' '65' '875' '867' '548' '652' '1372' '606'\n",
            " '1036' '1300' '17' '1178' '802' '1219_' '1271' '1137' '1496' '439' '196'\n",
            " '636' '192' '228' '1053' '229' '753' '1296' '1371' '254' '863' '464'\n",
            " '515' '838' '1160' '1289' '1298' '799' '182' '574' '527_' '242' '415'\n",
            " '869' '958' '54' '1265' '656' '275' '778' '208' '147' '350' '507' '463'\n",
            " '497' '1129' '927' '653' '662' '529' '635' '1027_' '897' '1039' '227'\n",
            " '1345' '924' '696_' '1279' '546' '1112' '1210' '526' '300' '1103' '504'\n",
            " '136' '1400' '78' '686' '1091' '344' '215' '84' '628' '1470' '968' '1478'\n",
            " '83' '1196' '1307' '1132_' '1008' '917' '657' '56' '18' '41' '801' '978'\n",
            " '216' '349' '966']\n",
            "Type_of_Loan\n",
            "['Auto Loan, Credit-Builder Loan, Personal Loan, and Home Equity Loan'\n",
            " 'Credit-Builder Loan' 'Auto Loan, Auto Loan, and Not Specified' ...\n",
            " 'Home Equity Loan, Auto Loan, Auto Loan, and Auto Loan'\n",
            " 'Payday Loan, Student Loan, Mortgage Loan, and Not Specified'\n",
            " 'Personal Loan, Auto Loan, Mortgage Loan, Student Loan, and Student Loan']\n",
            "Num_of_Delayed_Payment\n",
            "['7' '_' '4' '8_' '6' '1' '-1' '3_' '0' '8' '5' '3' '9' nan '12' '15' '17'\n",
            " '10' '2' '2_' '11' '14' '20' '22' '13' '13_' '14_' '16' '12_' '18' '19'\n",
            " '23' '24' '21' '3318' '3083' '22_' '1338' '4_' '26' '11_' '3104' '21_'\n",
            " '25' '10_' '183_' '9_' '1106' '834' '19_' '24_' '17_' '23_' '2672' '20_'\n",
            " '2008' '-3' '538' '6_' '1_' '16_' '27' '-2' '3478' '2420' '15_' '707'\n",
            " '708' '26_' '18_' '3815' '28' '5_' '1867' '2250' '1463' '25_' '7_' '4126'\n",
            " '2882' '1941' '2655' '2628' '132' '3069' '306' '0_' '3539' '3684' '1823'\n",
            " '4128' '1946' '827' '2297' '2566' '904' '182' '929' '3568' '2503' '1552'\n",
            " '2812' '1697' '3764' '851' '3905' '923' '88' '1668' '3253' '808' '2689'\n",
            " '3858' '642' '3457' '1402' '1732' '3154' '847' '3037' '2204' '3103'\n",
            " '1063' '2056' '1282' '1841' '2569_' '211' '793' '3484' '411' '3491'\n",
            " '2072' '3050' '1049' '2162' '3402' '2753' '27_' '1718' '1014' '3260'\n",
            " '3855' '84' '2311' '3251' '1832' '4069' '3010' '733' '4241' '166' '2461'\n",
            " '1749' '3200' '663_' '2185' '4161' '3009' '359' '2015' '1523' '594'\n",
            " '1079' '1199' '186' '1015' '1989' '281' '559' '2165' '1509' '3545' '779'\n",
            " '192' '4311' '-2_' '2323' '1471' '1538' '3529' '439' '3456' '3040' '2697'\n",
            " '3179' '1332' '3175' '3112' '829' '4022' '3870' '4023' '531' '1511'\n",
            " '3092' '3191' '2400' '3621' '3536' '544' '1864' '28_' '142' '2300' '264'\n",
            " '72' '497' '398' '2222' '3960' '1473' '3043' '4216' '2903' '2658' '-1_'\n",
            " '4042' '1323_' '2184' '921' '1328' '3404' '2438' '809' '47' '1996' '4164'\n",
            " '1370' '1204' '2167' '4011' '2590' '2594' '2533' '1663' '1018' '2919'\n",
            " '3458' '3316' '2589' '2801' '3355' '2529' '2488' '4266' '1243' '739'\n",
            " '845' '4107' '1884' '337' '2660' '290' '674' '2450' '3738' '1792' '2823'\n",
            " '2570' '775' '960' '482' '1706' '2493' '3623' '3031' '2794_' '2219_'\n",
            " '758_' '1849' '3559' '4096' '3726' '1953' '2657' '4043' '2938' '4384'\n",
            " '1647' '2694' '3533' '519' '2677' '2413' '-3_' '4139' '2609' '4326'\n",
            " '4211' '823' '3011' '1608' '2860' '4219' '4047' '1531' '742' '52' '4024'\n",
            " '1673' '49' '2243' '1685' '1869' '2587' '3489' '749' '1164' '2616' '848_'\n",
            " '4134' '1530' '1502' '4075' '3845' '1060' '2573' '2128' '328' '640'\n",
            " '2585' '2230' '1795' '1180' '1534' '3739' '3313' '4191' '996' '372'\n",
            " '3340' '3177' '602' '787' '4135' '3878' '4059' '1218' '4051' '1766'\n",
            " '1359' '3107' '585' '1263' '2511' '709' '3632' '4077' '2943' '2793'\n",
            " '3245' '2317' '1640' '2237_' '3819' '252' '3978' '1498' '1833' '2737'\n",
            " '1192' '1481' '700' '271' '2286' '273' '1215' '3944' '2070' '1478' '3749'\n",
            " '871' '2508' '2959' '130' '294' '3097_' '3511' '415' '2196' '2138' '2149'\n",
            " '1874' '1553' '3847' '3222' '1222' '2907' '3051' '98' '1598' '416' '2314'\n",
            " '2955' '1691' '1450' '2021' '1636' '80' '3708' '195' '320' '2945' '1911'\n",
            " '3416' '3796' '4159' '2255' '938' '4397' '3776' '2148' '1994' '853'\n",
            " '1178' '1633' '196' '3864' '714' '1687' '1034' '468' '1337' '2044' '1541'\n",
            " '3661' '1211' '2645' '2007' '102' '1891' '3162' '3142' '2566_' '2766'\n",
            " '3881' '2728' '2671' '1952' '3580' '2705' '4251' '3840_' '972' '3119'\n",
            " '3502' '4185' '2954' '683' '1614' '1572' '4302' '3447' '1852' '2131'\n",
            " '1900' '1699' '133' '2018' '2127' '508' '210' '577' '1664' '2604' '1411'\n",
            " '2351' '867' '1371' '2352' '1191' '905' '4053' '3869' '933' '3660' '3300'\n",
            " '3629' '3208' '2142' '2521' '450' '583' '876' '121' '3919' '2560' '2578'\n",
            " '2060' '813' '1236' '1489' '4360' '1154' '2544' '4172' '2924' '426'\n",
            " '4270' '2768' '3909' '3951' '2712' '2498' '3171' '1750' '197' '2569'\n",
            " '265' '4293' '887' '2707' '2397' '4337' '4249' '2751' '2950' '1859' '107'\n",
            " '2348' '2506' '2810' '2873' '1301' '2262' '1890' '3078' '3865' '3268'\n",
            " '2777' '3105' '1278' '3793' '2276' '2879' '4298' '2141' '223' '2239'\n",
            " '846' '1862' '2756' '1181' '1184' '2617' '3972' '2334' '3900' '2759'\n",
            " '4169' '2280' '2492' '2729' '3750' '1825' '309' '2431' '3099' '2080'\n",
            " '2279' '2666' '3722' '1976' '529' '1985' '3060' '4278' '3212' '46' '3148'\n",
            " '3467' '4231' '3790' '473' '1536' '3955' '2324' '2381' '1177' '371'\n",
            " '2896' '3880' '2991' '4319' '1061' '662' '4144' '693' '2006' '3115'\n",
            " '2278_' '3751' '1861' '4262' '2913' '2615' '3492' '800' '3766' '384'\n",
            " '3407' '1087' '3329' '1086' '2216' '1087_' '2457' '3522' '3274' '3488'\n",
            " '2854' '238' '351' '3706' '4280' '4095' '2926' '1329' '3370' '283' '1392'\n",
            " '1743' '2429' '974' '3156' '1133' '4388' '3243' '4282' '2523' '4281'\n",
            " '3415' '2001' '441' '94' '3499' '969' '3368' '106' '1004' '2638' '3946'\n",
            " '2956' '4324' '85' '4113' '819' '615' '1172' '2553' '1765' '3495' '2820'\n",
            " '4239' '4340' '1295_' '2636' '4295' '1653' '1325' '1879' '1096' '1735'\n",
            " '3584' '1073' '1975' '3827' '2552' '3754' '2378' '532' '926' '2376'\n",
            " '3636' '3763' '778' '2621' '804' '754' '2418' '4019' '3926' '3861_'\n",
            " '3574' '175' '162' '2834' '3765' '2354' '523' '2274' '1606' '1443' '1354'\n",
            " '2142_' '1422' '2278' '1045' '4106' '3155' '666' '659' '3229' '1216'\n",
            " '2076' '1473_' '2384' '1954' '719' '2534' '4002' '541' '2875' '4344'\n",
            " '2081' '3894' '1256' '676' '4178' '399' '86' '1571' '4037' '1967' '4005'\n",
            " '3216' '1150' '2591' '1801' '3721' '1775' '2260' '3707' '4292' '1820'\n",
            " '145' '1480' '1850' '430' '217' '3920_' '1389' '1579' '3391' '2385'\n",
            " '3336' '3392' '3688' '221' '2047']\n",
            "Changed_Credit_Limit\n",
            "['11.27' '_' '6.27' ... '27.38' '25.16' '21.17']\n",
            "Credit_Mix\n",
            "['_' 'Good' 'Standard' 'Bad']\n",
            "Outstanding_Debt\n",
            "['809.98' '605.03' '1303.01' ... '3571.7_' '3571.7' '502.38']\n",
            "Credit_History_Age\n",
            "['22 Years and 1 Months' nan '22 Years and 3 Months'\n",
            " '22 Years and 4 Months' '22 Years and 5 Months' '22 Years and 6 Months'\n",
            " '22 Years and 7 Months' '26 Years and 7 Months' '26 Years and 8 Months'\n",
            " '26 Years and 9 Months' '26 Years and 10 Months' '26 Years and 11 Months'\n",
            " '27 Years and 0 Months' '27 Years and 1 Months' '27 Years and 2 Months'\n",
            " '17 Years and 9 Months' '17 Years and 10 Months' '17 Years and 11 Months'\n",
            " '18 Years and 1 Months' '18 Years and 2 Months' '18 Years and 3 Months'\n",
            " '18 Years and 4 Months' '17 Years and 3 Months' '17 Years and 4 Months'\n",
            " '17 Years and 5 Months' '17 Years and 6 Months' '17 Years and 7 Months'\n",
            " '17 Years and 8 Months' '30 Years and 8 Months' '30 Years and 9 Months'\n",
            " '30 Years and 10 Months' '30 Years and 11 Months' '31 Years and 0 Months'\n",
            " '31 Years and 1 Months' '31 Years and 2 Months' '31 Years and 3 Months'\n",
            " '32 Years and 0 Months' '32 Years and 2 Months' '32 Years and 3 Months'\n",
            " '32 Years and 5 Months' '32 Years and 6 Months' '30 Years and 7 Months'\n",
            " '14 Years and 8 Months' '14 Years and 9 Months' '14 Years and 10 Months'\n",
            " '14 Years and 11 Months' '15 Years and 0 Months' '15 Years and 1 Months'\n",
            " '15 Years and 2 Months' '21 Years and 4 Months' '21 Years and 5 Months'\n",
            " '21 Years and 6 Months' '21 Years and 7 Months' '21 Years and 8 Months'\n",
            " '21 Years and 9 Months' '21 Years and 10 Months' '21 Years and 11 Months'\n",
            " '26 Years and 6 Months' '19 Years and 2 Months' '19 Years and 3 Months'\n",
            " '19 Years and 4 Months' '19 Years and 5 Months' '19 Years and 6 Months'\n",
            " '19 Years and 7 Months' '19 Years and 8 Months' '25 Years and 5 Months'\n",
            " '25 Years and 6 Months' '25 Years and 7 Months' '25 Years and 8 Months'\n",
            " '25 Years and 9 Months' '25 Years and 10 Months' '25 Years and 11 Months'\n",
            " '26 Years and 0 Months' '27 Years and 3 Months' '27 Years and 4 Months'\n",
            " '27 Years and 5 Months' '8 Years and 11 Months' '9 Years and 0 Months'\n",
            " '9 Years and 1 Months' '9 Years and 2 Months' '9 Years and 3 Months'\n",
            " '9 Years and 4 Months' '9 Years and 6 Months' '18 Years and 5 Months'\n",
            " '18 Years and 6 Months' '18 Years and 8 Months' '18 Years and 9 Months'\n",
            " '16 Years and 10 Months' '16 Years and 11 Months' '17 Years and 0 Months'\n",
            " '17 Years and 1 Months' '17 Years and 2 Months' '29 Years and 2 Months'\n",
            " '29 Years and 3 Months' '29 Years and 4 Months' '29 Years and 6 Months'\n",
            " '29 Years and 8 Months' '29 Years and 9 Months' '6 Years and 5 Months'\n",
            " '6 Years and 6 Months' '6 Years and 7 Months' '6 Years and 8 Months'\n",
            " '6 Years and 9 Months' '6 Years and 10 Months' '6 Years and 11 Months'\n",
            " '7 Years and 0 Months' '27 Years and 6 Months' '27 Years and 7 Months'\n",
            " '27 Years and 8 Months' '27 Years and 9 Months' '18 Years and 7 Months'\n",
            " '19 Years and 9 Months' '19 Years and 10 Months' '10 Years and 1 Months'\n",
            " '10 Years and 2 Months' '10 Years and 3 Months' '10 Years and 4 Months'\n",
            " '10 Years and 5 Months' '10 Years and 6 Months' '10 Years and 7 Months'\n",
            " '10 Years and 8 Months' '32 Years and 9 Months' '32 Years and 10 Months'\n",
            " '32 Years and 11 Months' '33 Years and 0 Months' '33 Years and 1 Months'\n",
            " '33 Years and 4 Months' '12 Years and 3 Months' '12 Years and 4 Months'\n",
            " '12 Years and 5 Months' '12 Years and 6 Months' '12 Years and 7 Months'\n",
            " '12 Years and 8 Months' '12 Years and 10 Months' '12 Years and 9 Months'\n",
            " '13 Years and 8 Months' '13 Years and 11 Months' '14 Years and 0 Months'\n",
            " '14 Years and 1 Months' '14 Years and 2 Months' '14 Years and 3 Months'\n",
            " '30 Years and 3 Months' '30 Years and 4 Months' '30 Years and 5 Months'\n",
            " '30 Years and 6 Months' '8 Years and 9 Months' '8 Years and 10 Months'\n",
            " '18 Years and 10 Months' '18 Years and 11 Months' '19 Years and 0 Months'\n",
            " '19 Years and 1 Months' '8 Years and 8 Months' '13 Years and 1 Months'\n",
            " '13 Years and 2 Months' '13 Years and 3 Months' '13 Years and 5 Months'\n",
            " '13 Years and 6 Months' '13 Years and 7 Months' '22 Years and 0 Months'\n",
            " '26 Years and 1 Months' '26 Years and 2 Months' '13 Years and 4 Months'\n",
            " '13 Years and 9 Months' '27 Years and 11 Months' '28 Years and 0 Months'\n",
            " '28 Years and 1 Months' '28 Years and 2 Months' '28 Years and 3 Months'\n",
            " '28 Years and 4 Months' '28 Years and 5 Months' '28 Years and 6 Months'\n",
            " '7 Years and 10 Months' '7 Years and 11 Months' '8 Years and 0 Months'\n",
            " '8 Years and 1 Months' '8 Years and 2 Months' '8 Years and 3 Months'\n",
            " '8 Years and 4 Months' '8 Years and 5 Months' '24 Years and 3 Months'\n",
            " '24 Years and 4 Months' '24 Years and 5 Months' '24 Years and 6 Months'\n",
            " '24 Years and 7 Months' '24 Years and 8 Months' '24 Years and 9 Months'\n",
            " '1 Years and 2 Months' '1 Years and 3 Months' '1 Years and 4 Months'\n",
            " '1 Years and 5 Months' '1 Years and 6 Months' '1 Years and 7 Months'\n",
            " '1 Years and 8 Months' '10 Years and 11 Months' '11 Years and 0 Months'\n",
            " '11 Years and 1 Months' '11 Years and 2 Months' '11 Years and 3 Months'\n",
            " '11 Years and 4 Months' '11 Years and 5 Months' '11 Years and 6 Months'\n",
            " '19 Years and 11 Months' '20 Years and 0 Months' '20 Years and 1 Months'\n",
            " '10 Years and 9 Months' '10 Years and 10 Months' '14 Years and 4 Months'\n",
            " '14 Years and 5 Months' '14 Years and 6 Months' '20 Years and 8 Months'\n",
            " '20 Years and 9 Months' '20 Years and 10 Months' '20 Years and 11 Months'\n",
            " '21 Years and 0 Months' '21 Years and 1 Months' '21 Years and 2 Months'\n",
            " '21 Years and 3 Months' '0 Years and 4 Months' '0 Years and 5 Months'\n",
            " '0 Years and 6 Months' '0 Years and 8 Months' '0 Years and 9 Months'\n",
            " '0 Years and 10 Months' '31 Years and 7 Months' '31 Years and 8 Months'\n",
            " '31 Years and 9 Months' '31 Years and 10 Months' '31 Years and 11 Months'\n",
            " '32 Years and 1 Months' '12 Years and 11 Months' '13 Years and 0 Months'\n",
            " '27 Years and 10 Months' '11 Years and 7 Months' '11 Years and 8 Months'\n",
            " '11 Years and 9 Months' '11 Years and 10 Months' '24 Years and 10 Months'\n",
            " '24 Years and 11 Months' '25 Years and 0 Months' '25 Years and 1 Months'\n",
            " '25 Years and 2 Months' '25 Years and 3 Months' '18 Years and 0 Months'\n",
            " '31 Years and 4 Months' '31 Years and 5 Months' '31 Years and 6 Months'\n",
            " '5 Years and 2 Months' '5 Years and 3 Months' '5 Years and 4 Months'\n",
            " '5 Years and 5 Months' '5 Years and 6 Months' '5 Years and 7 Months'\n",
            " '5 Years and 8 Months' '5 Years and 9 Months' '2 Years and 11 Months'\n",
            " '3 Years and 0 Months' '3 Years and 1 Months' '3 Years and 2 Months'\n",
            " '3 Years and 3 Months' '3 Years and 4 Months' '3 Years and 5 Months'\n",
            " '3 Years and 6 Months' '16 Years and 4 Months' '16 Years and 5 Months'\n",
            " '16 Years and 6 Months' '16 Years and 7 Months' '16 Years and 8 Months'\n",
            " '16 Years and 9 Months' '22 Years and 11 Months' '23 Years and 0 Months'\n",
            " '23 Years and 2 Months' '23 Years and 3 Months' '23 Years and 4 Months'\n",
            " '23 Years and 5 Months' '23 Years and 6 Months' '8 Years and 6 Months'\n",
            " '8 Years and 7 Months' '4 Years and 5 Months' '4 Years and 6 Months'\n",
            " '4 Years and 7 Months' '4 Years and 8 Months' '4 Years and 9 Months'\n",
            " '4 Years and 10 Months' '4 Years and 11 Months' '5 Years and 0 Months'\n",
            " '32 Years and 8 Months' '33 Years and 2 Months' '33 Years and 3 Months'\n",
            " '12 Years and 2 Months' '32 Years and 4 Months' '29 Years and 11 Months'\n",
            " '30 Years and 0 Months' '30 Years and 2 Months' '26 Years and 3 Months'\n",
            " '26 Years and 4 Months' '26 Years and 5 Months' '7 Years and 6 Months'\n",
            " '7 Years and 7 Months' '7 Years and 8 Months' '7 Years and 9 Months'\n",
            " '28 Years and 7 Months' '28 Years and 8 Months' '28 Years and 9 Months'\n",
            " '28 Years and 10 Months' '29 Years and 5 Months' '29 Years and 7 Months'\n",
            " '20 Years and 2 Months' '20 Years and 3 Months' '20 Years and 4 Months'\n",
            " '20 Years and 5 Months' '20 Years and 6 Months' '20 Years and 7 Months'\n",
            " '28 Years and 11 Months' '29 Years and 0 Months' '13 Years and 10 Months'\n",
            " '1 Years and 9 Months' '1 Years and 10 Months' '1 Years and 11 Months'\n",
            " '33 Years and 5 Months' '33 Years and 6 Months' '33 Years and 7 Months'\n",
            " '33 Years and 8 Months' '29 Years and 1 Months' '5 Years and 1 Months'\n",
            " '5 Years and 10 Months' '5 Years and 11 Months' '6 Years and 0 Months'\n",
            " '6 Years and 1 Months' '6 Years and 2 Months' '6 Years and 3 Months'\n",
            " '22 Years and 9 Months' '22 Years and 10 Months' '23 Years and 1 Months'\n",
            " '22 Years and 2 Months' '15 Years and 4 Months' '15 Years and 5 Months'\n",
            " '15 Years and 6 Months' '15 Years and 7 Months' '15 Years and 8 Months'\n",
            " '15 Years and 9 Months' '15 Years and 10 Months' '15 Years and 11 Months'\n",
            " '2 Years and 3 Months' '2 Years and 4 Months' '2 Years and 5 Months'\n",
            " '2 Years and 6 Months' '2 Years and 7 Months' '2 Years and 8 Months'\n",
            " '2 Years and 9 Months' '2 Years and 10 Months' '2 Years and 0 Months'\n",
            " '16 Years and 2 Months' '16 Years and 3 Months' '22 Years and 8 Months'\n",
            " '9 Years and 5 Months' '9 Years and 7 Months' '9 Years and 8 Months'\n",
            " '9 Years and 9 Months' '11 Years and 11 Months' '12 Years and 0 Months'\n",
            " '12 Years and 1 Months' '24 Years and 2 Months' '16 Years and 0 Months'\n",
            " '16 Years and 1 Months' '14 Years and 7 Months' '25 Years and 4 Months'\n",
            " '15 Years and 3 Months' '7 Years and 1 Months' '7 Years and 2 Months'\n",
            " '7 Years and 3 Months' '7 Years and 4 Months' '7 Years and 5 Months'\n",
            " '23 Years and 7 Months' '23 Years and 8 Months' '23 Years and 9 Months'\n",
            " '30 Years and 1 Months' '29 Years and 10 Months' '9 Years and 10 Months'\n",
            " '9 Years and 11 Months' '10 Years and 0 Months' '2 Years and 2 Months'\n",
            " '23 Years and 10 Months' '23 Years and 11 Months' '24 Years and 0 Months'\n",
            " '24 Years and 1 Months' '6 Years and 4 Months' '0 Years and 1 Months'\n",
            " '0 Years and 2 Months' '0 Years and 3 Months' '0 Years and 7 Months'\n",
            " '3 Years and 8 Months' '32 Years and 7 Months' '3 Years and 7 Months'\n",
            " '3 Years and 9 Months' '3 Years and 10 Months' '0 Years and 11 Months'\n",
            " '1 Years and 0 Months' '1 Years and 1 Months' '4 Years and 4 Months'\n",
            " '3 Years and 11 Months' '4 Years and 0 Months' '4 Years and 1 Months'\n",
            " '4 Years and 2 Months' '4 Years and 3 Months' '2 Years and 1 Months']\n",
            "Payment_of_Min_Amount\n",
            "['No' 'NM' 'True' 'Yes']\n",
            "Amount_invested_monthly\n",
            "['80.41529544' '118.2802216' '81.69952126' ... '24.02847745' '251.6725822'\n",
            " '167.1638652']\n",
            "Payment_Behaviour\n",
            "['High_spent_Small_value_payments' 'Low_spent_Large_value_payments'\n",
            " 'Low_spent_Medium_value_payments' 'Low_spent_Small_value_payments'\n",
            " 'High_spent_Medium_value_payments' '!@9#%8'\n",
            " 'High_spent_Large_value_payments']\n",
            "Monthly_Balance\n",
            "['312.4940887' '284.6291625' '331.2098629' ... 516.8090833 319.1649785\n",
            " 393.6736956]\n",
            "Credit_Score\n",
            "['Good' 'Standard' 'Poor']\n"
          ]
        }
      ]
    },
    {
      "cell_type": "markdown",
      "source": [
        "# Analiza i transformacija podataka po kolonama"
      ],
      "metadata": {
        "id": "WtL-gIzX3UgN"
      }
    },
    {
      "cell_type": "markdown",
      "source": [
        "## **Transformacija kolona Unnamed: 0, Unnamed: 0.1, Unnamed: 0.1.1**\n",
        "\n",
        "Unutar dataset-a se nalaze 3 Unnamed kolone. Iz razloga što su \"unnamed\" ne možemo izvući nikakve informacije o njima, te ćemo ih uklonuti iz dataset-a."
      ],
      "metadata": {
        "id": "IJerM_0b3i0E"
      }
    },
    {
      "cell_type": "code",
      "source": [
        "df = df.drop(['Unnamed: 0', 'Unnamed: 0.1', 'Unnamed: 0.1.1'], axis=1)"
      ],
      "metadata": {
        "id": "0PcrKr-Y3huB"
      },
      "execution_count": null,
      "outputs": []
    },
    {
      "cell_type": "markdown",
      "source": [
        "## **Transformacija kolone \"Month\"**\n",
        "\n",
        " Unutar kolone \"Month\" nalaze se vrijednosti za mjesec u obliku naziva mjeseca,\n",
        " ali i u obliku rednog broja. Potrebno je transformisati podatke da imaju isti oblik.\n",
        " Mi smo uzeli da transformišemo redni broj u naziv mjeseca, iz razloga što \n",
        " ima manje kolona koje trebamo transformisati, te je naziv mjeseca intuitivniji \n",
        " od rednog broja."
      ],
      "metadata": {
        "id": "wOd18cON32Vb"
      }
    },
    {
      "cell_type": "code",
      "source": [
        "# Transformacija\n",
        "df['Month'].replace(['3', '6', '8'], ['March', 'June', 'August'], inplace=True)"
      ],
      "metadata": {
        "id": "5bd-KYyc4AKG"
      },
      "execution_count": null,
      "outputs": []
    },
    {
      "cell_type": "code",
      "source": [
        "# Jedinstvene vrijednosti\n",
        "df['Month'].unique()"
      ],
      "metadata": {
        "colab": {
          "base_uri": "https://localhost:8080/"
        },
        "id": "3sPDR9lO4ns1",
        "outputId": "44f7c61b-5870-4d87-df81-1c51531ff0a9"
      },
      "execution_count": null,
      "outputs": [
        {
          "output_type": "execute_result",
          "data": {
            "text/plain": [
              "array(['January', 'February', 'March', 'April', 'May', 'June', 'July',\n",
              "       'August'], dtype=object)"
            ]
          },
          "metadata": {},
          "execution_count": 20
        }
      ]
    },
    {
      "cell_type": "code",
      "source": [
        "# količina neke jedinstvene vrijednosti u datasetu\n",
        "df['Month'].value_counts(dropna=False)"
      ],
      "metadata": {
        "colab": {
          "base_uri": "https://localhost:8080/"
        },
        "id": "IhzPyYiM4uX6",
        "outputId": "d9cbc3bb-3a96-4277-c6d2-c2a4e3d05b2f"
      },
      "execution_count": null,
      "outputs": [
        {
          "output_type": "execute_result",
          "data": {
            "text/plain": [
              "April       12505\n",
              "August      12504\n",
              "January     12503\n",
              "June        12503\n",
              "March       12502\n",
              "May         12502\n",
              "July        12502\n",
              "February    12501\n",
              "Name: Month, dtype: int64"
            ]
          },
          "metadata": {},
          "execution_count": 22
        }
      ]
    },
    {
      "cell_type": "code",
      "source": [
        "# Deskriptivna statistika za kolonu\n",
        "df['Month'].describe(percentiles=[.25, .5, .75], include=\"all\")"
      ],
      "metadata": {
        "colab": {
          "base_uri": "https://localhost:8080/"
        },
        "id": "xlYPZdwV46ZC",
        "outputId": "7f27f3e0-2e42-4f21-d4c1-33764687ee00"
      },
      "execution_count": null,
      "outputs": [
        {
          "output_type": "execute_result",
          "data": {
            "text/plain": [
              "count     100022\n",
              "unique         8\n",
              "top        April\n",
              "freq       12505\n",
              "Name: Month, dtype: object"
            ]
          },
          "metadata": {},
          "execution_count": 23
        }
      ]
    },
    {
      "cell_type": "code",
      "source": [
        "# Histogram\n",
        "\n",
        "plt.figure()\n",
        "plt.title('Month')\n",
        "df['Month'].hist()"
      ],
      "metadata": {
        "colab": {
          "base_uri": "https://localhost:8080/",
          "height": 298
        },
        "id": "jUAEBLWn4T0V",
        "outputId": "d5857d2b-b4a4-44c7-f7cf-371bd4c4c243"
      },
      "execution_count": null,
      "outputs": [
        {
          "output_type": "execute_result",
          "data": {
            "text/plain": [
              "<matplotlib.axes._subplots.AxesSubplot at 0x7f314f8feeb0>"
            ]
          },
          "metadata": {},
          "execution_count": 19
        },
        {
          "output_type": "display_data",
          "data": {
            "text/plain": [
              "<Figure size 432x288 with 1 Axes>"
            ],
            "image/png": "[encoded data removed]"
          },
          "metadata": {
            "needs_background": "light"
          }
        }
      ]
    },
    {
      "cell_type": "markdown",
      "source": [
        "## **Transformacija kolone \"Name_and_Age\"**\n",
        "\n",
        " Unutar kolone \"Name_and_Age\" se nalaze informacije o imenu i godinama korisnika\n",
        " unutar dataset-a. Te informacije kad su zajedno ne možemo koristiti ni za kakve\n",
        " proračune.\n",
        "\n",
        " Mi smo tu kolonu podijelili na dvije: Name i Age. Te smo primijetili da neke\n",
        " godine nisu \"tačne\". Tj. broj godina ne može biti negativan broj,\n",
        " a kako je maksimalan broj godina koji je dostignut: 122 godine i 164 dana, \n",
        " za gornju granicu smo stavili 123 godine, te sve redove koji ne spadaju\n",
        " unutar intervala [0, 123) smo zamijenili sa srednjom vrijednošću godina.\n",
        " \n",
        "  Nakon svih potrebnih\n",
        " transformacija izbacili smo i kolonu Name_and_Age"
      ],
      "metadata": {
        "id": "GQPXLI4L5SaD"
      }
    },
    {
      "cell_type": "code",
      "source": [
        "def can_convert_to_int(string):\n",
        "  \"\"\"\n",
        "    Pomoćna metoda koja provjerava da li se string može konvertovati u broj\n",
        "  \"\"\"\n",
        "  try:\n",
        "    int(string)\n",
        "    return True\n",
        "  except ValueError:\n",
        "    return False\n",
        "\n",
        "def split_name_and_age(row):\n",
        "  \"\"\"\n",
        "    Pomoćna metoda koja pomaže u konverziji kolone Name_and_Age \n",
        "    u kolone Name i Age\n",
        "  \"\"\"\n",
        "  if row is not np.NaN and row is not None:\n",
        "    chunks = row.split(',')\n",
        "    if(len(chunks) == 2):\n",
        "      return pd.Series({'Name': chunks[0], 'Age': chunks[1]})\n",
        "    if(len(chunks) == 1):\n",
        "      if(can_convert_to_int(chunks[0])):\n",
        "        return pd.Series({'Name': np.nan, 'Age': chunks[0]})\n",
        "      else:\n",
        "        return pd.Series({'Name': chunks[0], 'Age': np.nan})  \n",
        "  return pd.Series({'Name': np.nan, 'Age': np.nan})    "
      ],
      "metadata": {
        "id": "hWH9I92z53tV"
      },
      "execution_count": null,
      "outputs": []
    },
    {
      "cell_type": "code",
      "source": [
        "# Transformacija\n",
        "df[['Name','Age']] = df.apply(lambda x: split_name_and_age(x['Name_and_Age']), axis=1)\n",
        "df['Age'] = df['Age'].str.replace('_', '')\n",
        "df['Age'] = df['Age'].astype('float')\n",
        "df.loc[(df['Age'] < 0) | (df['Age'] > 122), 'Age'] = np.nan\n",
        "df['Age'] = df['Age'].fillna(df['Age'].mean())\n",
        "df['Age'] = df['Age'].apply(np.floor)\n",
        "\n",
        "df['Name'] = df['Name'].str.title()\n",
        "df = df.drop(['Name_and_Age'], axis=1)"
      ],
      "metadata": {
        "id": "KhQqG5LJ5S5o"
      },
      "execution_count": null,
      "outputs": []
    },
    {
      "cell_type": "code",
      "source": [
        "# Jedinstvene vrijednosti\n",
        "df['Age'].unique()"
      ],
      "metadata": {
        "colab": {
          "base_uri": "https://localhost:8080/"
        },
        "outputId": "226ea213-c438-49a0-bcd5-57bae9768a4a",
        "id": "ia8kCPb_5S5q"
      },
      "execution_count": null,
      "outputs": [
        {
          "output_type": "execute_result",
          "data": {
            "text/plain": [
              "array([ 23.,  33.,  28.,  34.,  54.,  55.,  21.,  31.,  30.,  24.,  44.,\n",
              "        45.,  40.,  41.,  32.,  35.,  36.,  39.,  37.,  20.,  46.,  26.,\n",
              "        42.,  48.,  38.,  43.,  22.,  16.,  19.,  18.,  15.,  27.,  25.,\n",
              "        14.,  17.,  47.,  53.,  56.,  29.,  49.,  51.,  50.,  52., 112.,\n",
              "       118.,  99., 100., 102., 111.,  95., 109., 115.])"
            ]
          },
          "metadata": {},
          "execution_count": 42
        }
      ]
    },
    {
      "cell_type": "code",
      "source": [
        "# Jedinstvene vrijednosti\n",
        "df['Name'].unique()"
      ],
      "metadata": {
        "colab": {
          "base_uri": "https://localhost:8080/"
        },
        "id": "pgGTK7MV6Dr-",
        "outputId": "c3a29a2f-2fc4-4796-db87-c673db8aab55"
      },
      "execution_count": null,
      "outputs": [
        {
          "output_type": "execute_result",
          "data": {
            "text/plain": [
              "array(['Aaron Maashoh', nan, 'Rick Rothackerj', ..., 'Chris Wickhamm',\n",
              "       'Sarah Mcbridec', 'Nicks'], dtype=object)"
            ]
          },
          "metadata": {},
          "execution_count": 27
        }
      ]
    },
    {
      "cell_type": "code",
      "source": [
        "# količina neke jedinstvene vrijednosti u datasetu\n",
        "df['Age'].value_counts(dropna=False)"
      ],
      "metadata": {
        "colab": {
          "base_uri": "https://localhost:8080/"
        },
        "outputId": "eb46289f-c07d-4bf9-ae9b-fbc9578e5617",
        "id": "o2VEEuFZ5S5r"
      },
      "execution_count": null,
      "outputs": [
        {
          "output_type": "execute_result",
          "data": {
            "text/plain": [
              "33.0     14865\n",
              "38.0      2714\n",
              "31.0      2676\n",
              "28.0      2655\n",
              "26.0      2646\n",
              "32.0      2601\n",
              "25.0      2595\n",
              "27.0      2586\n",
              "39.0      2575\n",
              "35.0      2569\n",
              "36.0      2542\n",
              "44.0      2537\n",
              "34.0      2530\n",
              "41.0      2515\n",
              "19.0      2506\n",
              "37.0      2482\n",
              "43.0      2473\n",
              "22.0      2471\n",
              "20.0      2470\n",
              "30.0      2458\n",
              "29.0      2456\n",
              "24.0      2443\n",
              "21.0      2430\n",
              "23.0      2391\n",
              "40.0      2372\n",
              "45.0      2369\n",
              "42.0      2311\n",
              "18.0      2142\n",
              "46.0      1447\n",
              "15.0      1437\n",
              "17.0      1345\n",
              "16.0      1320\n",
              "55.0      1244\n",
              "49.0      1236\n",
              "48.0      1228\n",
              "52.0      1223\n",
              "53.0      1193\n",
              "54.0      1173\n",
              "51.0      1155\n",
              "50.0      1147\n",
              "47.0      1098\n",
              "14.0      1060\n",
              "56.0       326\n",
              "95.0         2\n",
              "112.0        1\n",
              "118.0        1\n",
              "99.0         1\n",
              "100.0        1\n",
              "102.0        1\n",
              "111.0        1\n",
              "109.0        1\n",
              "115.0        1\n",
              "Name: Age, dtype: int64"
            ]
          },
          "metadata": {},
          "execution_count": 43
        }
      ]
    },
    {
      "cell_type": "code",
      "source": [
        "# količina neke jedinstvene vrijednosti u datasetu\n",
        "df['Name'].value_counts(dropna=False)"
      ],
      "metadata": {
        "colab": {
          "base_uri": "https://localhost:8080/"
        },
        "id": "VWNGed0v6QHb",
        "outputId": "552d82f3-5d3a-4703-f960-1580c7537843"
      },
      "execution_count": null,
      "outputs": [
        {
          "output_type": "execute_result",
          "data": {
            "text/plain": [
              "NaN               10071\n",
              "Stevex               44\n",
              "Langep               44\n",
              "Jessicad             39\n",
              "Vaughanl             39\n",
              "                  ...  \n",
              "Janeman Latulf        4\n",
              "Julieno               4\n",
              "Aileen Wangg          4\n",
              "Matt Scuffhamk        4\n",
              "Timothyl              3\n",
              "Name: Name, Length: 10129, dtype: int64"
            ]
          },
          "metadata": {},
          "execution_count": 44
        }
      ]
    },
    {
      "cell_type": "code",
      "source": [
        "# Deskriptivna statistika za kolonu\n",
        "df['Age'].describe(percentiles=[.25, .5, .75], include=\"all\")"
      ],
      "metadata": {
        "colab": {
          "base_uri": "https://localhost:8080/"
        },
        "id": "IOuUdsa_6S-f",
        "outputId": "572b420a-349d-4af0-931f-53af494bf3e5"
      },
      "execution_count": null,
      "outputs": [
        {
          "output_type": "execute_result",
          "data": {
            "text/plain": [
              "count    100022.000000\n",
              "mean         33.280618\n",
              "std          10.093665\n",
              "min          14.000000\n",
              "25%          26.000000\n",
              "50%          33.000000\n",
              "75%          40.000000\n",
              "max         118.000000\n",
              "Name: Age, dtype: float64"
            ]
          },
          "metadata": {},
          "execution_count": 45
        }
      ]
    },
    {
      "cell_type": "code",
      "source": [
        "# Deskriptivna statistika za kolonu\n",
        "df['Name'].describe(percentiles=[.25, .5, .75], include=\"all\")"
      ],
      "metadata": {
        "colab": {
          "base_uri": "https://localhost:8080/"
        },
        "outputId": "eb52478a-d926-44ed-a129-d2ff8eb9633d",
        "id": "Ahux7iYJ5S5s"
      },
      "execution_count": null,
      "outputs": [
        {
          "output_type": "execute_result",
          "data": {
            "text/plain": [
              "count      89951\n",
              "unique     10128\n",
              "top       Langep\n",
              "freq          44\n",
              "Name: Name, dtype: object"
            ]
          },
          "metadata": {},
          "execution_count": 46
        }
      ]
    },
    {
      "cell_type": "code",
      "source": [
        "# Histogram\n",
        "\n",
        "plt.figure()\n",
        "plt.title('Age')\n",
        "df['Age'].hist()"
      ],
      "metadata": {
        "colab": {
          "base_uri": "https://localhost:8080/",
          "height": 298
        },
        "outputId": "ceb570de-a449-453e-c054-5fcc289fd463",
        "id": "5f7-MULP5S5t"
      },
      "execution_count": null,
      "outputs": [
        {
          "output_type": "execute_result",
          "data": {
            "text/plain": [
              "<matplotlib.axes._subplots.AxesSubplot at 0x7f313268e670>"
            ]
          },
          "metadata": {},
          "execution_count": 47
        },
        {
          "output_type": "display_data",
          "data": {
            "text/plain": [
              "<Figure size 432x288 with 1 Axes>"
            ],
            "image/png": "[encoded data removed]"
          },
          "metadata": {
            "needs_background": "light"
          }
        }
      ]
    },
    {
      "cell_type": "code",
      "source": [
        "# Boxplot\n",
        "df.boxplot(['Age'])"
      ],
      "metadata": {
        "id": "0CtpdbeT6jLH",
        "colab": {
          "base_uri": "https://localhost:8080/",
          "height": 282
        },
        "outputId": "b3c23a53-11ed-49f5-a29e-acfad2ed9b1e"
      },
      "execution_count": null,
      "outputs": [
        {
          "output_type": "execute_result",
          "data": {
            "text/plain": [
              "<matplotlib.axes._subplots.AxesSubplot at 0x7f314db18c70>"
            ]
          },
          "metadata": {},
          "execution_count": 67
        },
        {
          "output_type": "display_data",
          "data": {
            "text/plain": [
              "<Figure size 432x288 with 1 Axes>"
            ],
            "image/png": "[encoded data removed]"
          },
          "metadata": {
            "needs_background": "light"
          }
        }
      ]
    },
    {
      "cell_type": "markdown",
      "source": [
        "## **Transformacija kolone \"SSN\"**\n",
        "\n",
        " Unutar kolone \"SSN\" nalaze se vrijednosti za social security number. One su jedinstvene za sve kolone i podaci nam ne daju nikakve relevantne informacije. Te kolonu možemo obrisati."
      ],
      "metadata": {
        "id": "MrZhkR468I49"
      }
    },
    {
      "cell_type": "code",
      "source": [
        "# Transformacija\n",
        "df = df.drop(['SSN'], axis=1)"
      ],
      "metadata": {
        "id": "I-e1Z0b38elh"
      },
      "execution_count": null,
      "outputs": []
    },
    {
      "cell_type": "markdown",
      "source": [
        "## **Transformacija kolone \"Occupation\"**\n",
        "\n",
        " Unutar kolone \"Occupation\" nalaze se vrijednosti različog formata. \n",
        " Formati: lowercase, UPPERCASE, CamelCase. Mi smo dataset transformisali u \n",
        " CamelCase. \n",
        "Unutar dataset se nalazi i vrijednost '_______'. Tu smo vrijednost \n",
        " pretvorili u 'No occupation'."
      ],
      "metadata": {
        "id": "ksmt7wLM8kmh"
      }
    },
    {
      "cell_type": "code",
      "source": [
        "# Transformacija\n",
        "df['Occupation'] = df['Occupation'].str.title()\n",
        "df['Occupation'].replace('_______', 'No occupation', inplace = True)\n",
        "df['Occupation'] = df['Occupation'].str.replace(\"_\", \" \")"
      ],
      "metadata": {
        "id": "cF_pgxBi8JTb"
      },
      "execution_count": null,
      "outputs": []
    },
    {
      "cell_type": "code",
      "source": [
        "# Jedinstvene vrijednosti\n",
        "df['Occupation'].unique()"
      ],
      "metadata": {
        "colab": {
          "base_uri": "https://localhost:8080/"
        },
        "outputId": "7d61b27d-0da1-4f48-e99f-c7abc6174c26",
        "id": "U27HhfTx8JTd"
      },
      "execution_count": null,
      "outputs": [
        {
          "output_type": "execute_result",
          "data": {
            "text/plain": [
              "array(['Scientist', 'No occupation', 'Teacher', 'Engineer',\n",
              "       'Entrepreneur', 'Developer', 'Lawyer', 'Media Manager', 'Doctor',\n",
              "       'Journalist', 'Manager', 'Accountant', 'Musician', 'Mechanic',\n",
              "       'Writer', 'Architect'], dtype=object)"
            ]
          },
          "metadata": {},
          "execution_count": 51
        }
      ]
    },
    {
      "cell_type": "code",
      "source": [
        "# količina neke jedinstvene vrijednosti u datasetu\n",
        "df['Occupation'].value_counts(dropna=False)"
      ],
      "metadata": {
        "colab": {
          "base_uri": "https://localhost:8080/"
        },
        "outputId": "3142ab1b-72b6-40c6-af38-fb9ae85e48d3",
        "id": "DzNLaclE8JTf"
      },
      "execution_count": null,
      "outputs": [
        {
          "output_type": "execute_result",
          "data": {
            "text/plain": [
              "No occupation    7063\n",
              "Lawyer           6577\n",
              "Architect        6355\n",
              "Engineer         6352\n",
              "Scientist        6300\n",
              "Mechanic         6292\n",
              "Accountant       6272\n",
              "Developer        6236\n",
              "Media Manager    6233\n",
              "Teacher          6215\n",
              "Entrepreneur     6177\n",
              "Doctor           6089\n",
              "Journalist       6087\n",
              "Manager          5976\n",
              "Musician         5913\n",
              "Writer           5885\n",
              "Name: Occupation, dtype: int64"
            ]
          },
          "metadata": {},
          "execution_count": 52
        }
      ]
    },
    {
      "cell_type": "code",
      "source": [
        "# Deskriptivna statistika za kolonu\n",
        "df['Occupation'].describe(percentiles=[.25, .5, .75], include=\"all\")"
      ],
      "metadata": {
        "colab": {
          "base_uri": "https://localhost:8080/"
        },
        "outputId": "0d5025f5-b601-4ba3-bc06-6449c7d41e20",
        "id": "oX2UvcxB8JTg"
      },
      "execution_count": null,
      "outputs": [
        {
          "output_type": "execute_result",
          "data": {
            "text/plain": [
              "count            100022\n",
              "unique               16\n",
              "top       No occupation\n",
              "freq               7063\n",
              "Name: Occupation, dtype: object"
            ]
          },
          "metadata": {},
          "execution_count": 53
        }
      ]
    },
    {
      "cell_type": "code",
      "source": [
        "# Histogram\n",
        "\n",
        "plt.figure()\n",
        "plt.title('Occupation')\n",
        "df['Occupation'].hist()"
      ],
      "metadata": {
        "colab": {
          "base_uri": "https://localhost:8080/",
          "height": 298
        },
        "outputId": "2681d5ec-4d99-4e39-8458-b30787939ffc",
        "id": "lEM7xslt8JTh"
      },
      "execution_count": null,
      "outputs": [
        {
          "output_type": "execute_result",
          "data": {
            "text/plain": [
              "<matplotlib.axes._subplots.AxesSubplot at 0x7f314dd21af0>"
            ]
          },
          "metadata": {},
          "execution_count": 54
        },
        {
          "output_type": "display_data",
          "data": {
            "text/plain": [
              "<Figure size 432x288 with 1 Axes>"
            ],
            "image/png": "[encoded data removed]"
          },
          "metadata": {
            "needs_background": "light"
          }
        }
      ]
    },
    {
      "cell_type": "markdown",
      "source": [
        "## **Transformacija kolone \"Annual_Income\"**\n",
        "\n",
        " Unutar kolone \"Annual_Income\" nalaze se vrijednosti koje su stringovi, \n",
        " iz razloga što neke vrijednosti imaju donju crticu na kraju vrijednosti. \n",
        " Te donje crtice smo uklonuli, te vrijednosti prebacili u float.\n",
        "\n",
        " Kolona sadrži dosta jedinstvenih vrijednosti, pa smo kolonu dodatno transformisali na način da smo kolonu grupisali po Customer_ID, te za svaku grupu zamijenili vrijednost Annual Incoma sa mean vrijednošću, a prije toga smo\n",
        " None vrijednosti zamijenili sa mean vrijednošću."
      ],
      "metadata": {
        "id": "4CI-H6mR87PA"
      }
    },
    {
      "cell_type": "code",
      "source": [
        "# Transformacija\n",
        "df['Annual_Income'] = df['Annual_Income'].str.replace('_', '')\n",
        "df['Annual_Income'] = df['Annual_Income'].astype('float')\n",
        "df['Annual_Income'] = df['Annual_Income'].fillna(df['Annual_Income'].mean())\n",
        "df['Annual_Income'] = df.groupby('Customer_ID')['Annual_Income'].transform(\"mean\")"
      ],
      "metadata": {
        "id": "XGhgEE0R8-uL"
      },
      "execution_count": null,
      "outputs": []
    },
    {
      "cell_type": "code",
      "source": [
        "# Jedinstvene vrijednosti\n",
        "df['Annual_Income'].unique()"
      ],
      "metadata": {
        "colab": {
          "base_uri": "https://localhost:8080/"
        },
        "outputId": "cac794f5-bcc8-440e-c612-2472a66c9c6d",
        "id": "SZ-jBOQ78-uN"
      },
      "execution_count": null,
      "outputs": [
        {
          "output_type": "execute_result",
          "data": {
            "text/plain": [
              "array([ 19114.12,  34847.84, 143162.64, ...,  37188.1 ,  20002.88,\n",
              "        39628.99])"
            ]
          },
          "metadata": {},
          "execution_count": 123
        }
      ]
    },
    {
      "cell_type": "code",
      "source": [
        "# količina neke jedinstvene vrijednosti u datasetu\n",
        "df['Annual_Income'].value_counts(dropna=False)"
      ],
      "metadata": {
        "colab": {
          "base_uri": "https://localhost:8080/"
        },
        "outputId": "8052be3a-a3b6-419c-abe3-19d4853fed56",
        "id": "OYqcz7yb8-uP"
      },
      "execution_count": null,
      "outputs": [
        {
          "output_type": "execute_result",
          "data": {
            "text/plain": [
              "36585.120     16\n",
              "17273.830     16\n",
              "17816.750     16\n",
              "109945.320    16\n",
              "9141.630      16\n",
              "              ..\n",
              "41077.120      8\n",
              "14527.455      8\n",
              "104183.460     8\n",
              "34660.860      8\n",
              "39628.990      8\n",
              "Name: Annual_Income, Length: 12492, dtype: int64"
            ]
          },
          "metadata": {},
          "execution_count": 124
        }
      ]
    },
    {
      "cell_type": "code",
      "source": [
        "# Deskriptivna statistika za kolonu\n",
        "df['Annual_Income'].describe(percentiles=[.25, .5, .75], include=\"all\")"
      ],
      "metadata": {
        "colab": {
          "base_uri": "https://localhost:8080/"
        },
        "outputId": "13210a18-c9e9-474c-951d-3d7719987077",
        "id": "B1sEQcNt8-uQ"
      },
      "execution_count": null,
      "outputs": [
        {
          "output_type": "execute_result",
          "data": {
            "text/plain": [
              "count    1.000220e+05\n",
              "mean     1.763843e+05\n",
              "std      5.073754e+05\n",
              "min      7.005930e+03\n",
              "25%      2.006023e+04\n",
              "50%      4.067844e+04\n",
              "75%      8.292020e+04\n",
              "max      7.442411e+06\n",
              "Name: Annual_Income, dtype: float64"
            ]
          },
          "metadata": {},
          "execution_count": 125
        }
      ]
    },
    {
      "cell_type": "code",
      "source": [
        "# Histogram\n",
        "\n",
        "plt.figure()\n",
        "plt.title('Annual_Income')\n",
        "df['Annual_Income'].hist()"
      ],
      "metadata": {
        "colab": {
          "base_uri": "https://localhost:8080/",
          "height": 311
        },
        "outputId": "51fc9537-f0de-4d84-aa22-ad42b5d2ff1a",
        "id": "HOFuPXL18-uQ"
      },
      "execution_count": null,
      "outputs": [
        {
          "output_type": "execute_result",
          "data": {
            "text/plain": [
              "<matplotlib.axes._subplots.AxesSubplot at 0x7f3140bc9f70>"
            ]
          },
          "metadata": {},
          "execution_count": 126
        },
        {
          "output_type": "display_data",
          "data": {
            "text/plain": [
              "<Figure size 432x288 with 1 Axes>"
            ],
            "image/png": "[encoded data removed]"
          },
          "metadata": {
            "needs_background": "light"
          }
        }
      ]
    },
    {
      "cell_type": "code",
      "source": [
        "# Boxplot\n",
        "df.boxplot(['Annual_Income'])"
      ],
      "metadata": {
        "colab": {
          "base_uri": "https://localhost:8080/",
          "height": 294
        },
        "id": "mKWRzVeC--TM",
        "outputId": "8adc7c28-3558-44ec-8246-5aef70cdb4e4"
      },
      "execution_count": null,
      "outputs": [
        {
          "output_type": "execute_result",
          "data": {
            "text/plain": [
              "<matplotlib.axes._subplots.AxesSubplot at 0x7f313d528f10>"
            ]
          },
          "metadata": {},
          "execution_count": 127
        },
        {
          "output_type": "display_data",
          "data": {
            "text/plain": [
              "<Figure size 432x288 with 1 Axes>"
            ],
            "image/png": "[encoded data removed]"
          },
          "metadata": {
            "needs_background": "light"
          }
        }
      ]
    },
    {
      "cell_type": "markdown",
      "source": [
        "## **Transformacija kolone \"Monthly_Inhand_Salary\"**\n",
        "\n",
        "Unutar kolone \"Monthly_Inhand_Salary\" nalazi se dosta outliera.\n",
        " Njih cemo rijesiti grupisanjem po CustomerId, i određivanjem mode za grupu."
      ],
      "metadata": {
        "id": "uRX8G9il_a2Q"
      }
    },
    {
      "cell_type": "code",
      "source": [
        "# Transformacija\n",
        "df['Monthly_Inhand_Salary'] = df.groupby(\"Customer_ID\")['Monthly_Inhand_Salary'].transform(\"mean\")"
      ],
      "metadata": {
        "id": "of-lpOhT_bP-"
      },
      "execution_count": null,
      "outputs": []
    },
    {
      "cell_type": "code",
      "source": [
        "# Jedinstvene vrijednosti\n",
        "df['Monthly_Inhand_Salary'].unique()"
      ],
      "metadata": {
        "colab": {
          "base_uri": "https://localhost:8080/"
        },
        "outputId": "e7ef5134-6d5a-4855-c418-52fd8c6b085a",
        "id": "0CgKzbpK_bP_"
      },
      "execution_count": null,
      "outputs": [
        {
          "output_type": "execute_result",
          "data": {
            "text/plain": [
              "array([ 1824.843333,  3037.986667, 12187.22    , ...,  3097.008333,\n",
              "        1929.906667,  3359.415833])"
            ]
          },
          "metadata": {},
          "execution_count": 72
        }
      ]
    },
    {
      "cell_type": "code",
      "source": [
        "# količina neke jedinstvene vrijednosti u datasetu\n",
        "df['Monthly_Inhand_Salary'].value_counts(dropna=False)"
      ],
      "metadata": {
        "colab": {
          "base_uri": "https://localhost:8080/"
        },
        "outputId": "aade0c55-ce6e-49c2-f30b-4743c49c2567",
        "id": "Hpq3Ru2Q_bQA"
      },
      "execution_count": null,
      "outputs": [
        {
          "output_type": "execute_result",
          "data": {
            "text/plain": [
              "6358.956667    16\n",
              "3080.555000    16\n",
              "6639.560000    16\n",
              "6769.130000    16\n",
              "6082.187500    16\n",
              "               ..\n",
              "2782.405000     8\n",
              "5389.321667     8\n",
              "1927.096667     8\n",
              "4590.930000     8\n",
              "3359.415833     8\n",
              "Name: Monthly_Inhand_Salary, Length: 12491, dtype: int64"
            ]
          },
          "metadata": {},
          "execution_count": 73
        }
      ]
    },
    {
      "cell_type": "code",
      "source": [
        "# Deskriptivna statistika za kolonu\n",
        "df['Monthly_Inhand_Salary'].describe(percentiles=[.25, .5, .75], include=\"all\")"
      ],
      "metadata": {
        "colab": {
          "base_uri": "https://localhost:8080/"
        },
        "outputId": "3dc2b53d-cb8c-44a0-ae18-ec6717c1675a",
        "id": "SlF_J5QW_bQA"
      },
      "execution_count": null,
      "outputs": [
        {
          "output_type": "execute_result",
          "data": {
            "text/plain": [
              "count    100022.000000\n",
              "mean       4198.153978\n",
              "std        3186.948625\n",
              "min         303.645417\n",
              "25%        1625.597917\n",
              "50%        3097.008333\n",
              "75%        5961.637500\n",
              "max       15204.633330\n",
              "Name: Monthly_Inhand_Salary, dtype: float64"
            ]
          },
          "metadata": {},
          "execution_count": 74
        }
      ]
    },
    {
      "cell_type": "code",
      "source": [
        "# Histogram\n",
        "\n",
        "plt.figure()\n",
        "plt.title('Monthly_Inhand_Salary')\n",
        "df['Monthly_Inhand_Salary'].hist()"
      ],
      "metadata": {
        "colab": {
          "base_uri": "https://localhost:8080/",
          "height": 298
        },
        "outputId": "3f472ea2-c311-4bee-f301-623a0fd36c82",
        "id": "YmySlwxV_bQB"
      },
      "execution_count": null,
      "outputs": [
        {
          "output_type": "execute_result",
          "data": {
            "text/plain": [
              "<matplotlib.axes._subplots.AxesSubplot at 0x7f3144210d30>"
            ]
          },
          "metadata": {},
          "execution_count": 75
        },
        {
          "output_type": "display_data",
          "data": {
            "text/plain": [
              "<Figure size 432x288 with 1 Axes>"
            ],
            "image/png": "[encoded data removed]"
          },
          "metadata": {
            "needs_background": "light"
          }
        }
      ]
    },
    {
      "cell_type": "code",
      "source": [
        "# Boxplot\n",
        "df.boxplot(['Monthly_Inhand_Salary'])"
      ],
      "metadata": {
        "colab": {
          "base_uri": "https://localhost:8080/",
          "height": 283
        },
        "outputId": "38a48719-b098-4726-8a31-2b303573558e",
        "id": "k_pf86sp_bQB"
      },
      "execution_count": null,
      "outputs": [
        {
          "output_type": "execute_result",
          "data": {
            "text/plain": [
              "<matplotlib.axes._subplots.AxesSubplot at 0x7f3145fdf070>"
            ]
          },
          "metadata": {},
          "execution_count": 76
        },
        {
          "output_type": "display_data",
          "data": {
            "text/plain": [
              "<Figure size 432x288 with 1 Axes>"
            ],
            "image/png": "[encoded data removed]"
          },
          "metadata": {
            "needs_background": "light"
          }
        }
      ]
    },
    {
      "cell_type": "markdown",
      "source": [
        "## **Transformacija kolone \"Num_Bank_Accounts\"**\n",
        "\n",
        " Unutar kolone \"Num_Bank_Accounts\" nalaze se vrijednosti koje su stringovi, \n",
        " iz razloga što neke vrijednosti imaju donju crticu na kraju vrijednosti. \n",
        " Te donje crtice smo uklonuli, te vrijednosti prebacili u float.\n",
        "\n",
        " Kolona sadrži dosta jedinstvenih vrijednosti, pa smo kolonu dodatno transformisali na način da smo kolonu grupisali po Customer_ID, te za svaku grupu zamijenili vrijednost Annual Incoma sa mean vrijednošću.\n",
        "\n",
        " Pošto ova kolona predstavlja količinu, brojeve smo prebacili u cijele."
      ],
      "metadata": {
        "id": "gPLxX_WaABfa"
      }
    },
    {
      "cell_type": "code",
      "source": [
        "# Transformacija\n",
        "df['Num_Bank_Accounts'] = df['Num_Bank_Accounts'].str.replace('accounts', '')\n",
        "df['Num_Bank_Accounts'] = df['Num_Bank_Accounts'].str.replace(' ', '')\n",
        "df['Num_Bank_Accounts'] = df['Num_Bank_Accounts'].astype('float')\n",
        "df[\"Num_Bank_Accounts\"] = df.groupby(\"Customer_ID\")['Num_Bank_Accounts'].transform(\"mean\")\n",
        "df['Num_Bank_Accounts'] = df['Num_Bank_Accounts'].apply(np.floor)"
      ],
      "metadata": {
        "id": "fRIw5Y3OAB19"
      },
      "execution_count": null,
      "outputs": []
    },
    {
      "cell_type": "code",
      "source": [
        "# Jedinstvene vrijednosti\n",
        "df['Num_Bank_Accounts'].unique()"
      ],
      "metadata": {
        "colab": {
          "base_uri": "https://localhost:8080/"
        },
        "outputId": "9aa860af-5448-4025-8cca-01f75615cdb2",
        "id": "qn7MqWeqAB1-"
      },
      "execution_count": null,
      "outputs": [
        {
          "output_type": "execute_result",
          "data": {
            "text/plain": [
              "array([  3.,   2.,   1.,   7.,   4.,   0.,   8.,   5.,   6.,   9.,  10.,\n",
              "       183., 160.,  15.,  76., 189.,  17.,  68., 210., 218., 169.,  88.,\n",
              "       119., 209.,  86., 111., 130., 190., 198., 177., 206.,  19., 225.,\n",
              "       144., 109., 101., 145., 110., 207., 115., 212., 105., 174.,  13.,\n",
              "        95.,  59.,  29., 211., 219.,  83.,  89., 216., 191.,  67.,  57.,\n",
              "       150., 186., 126., 131.,  72., 166., 334., 259., 138., 204., 154.,\n",
              "        84.,  73., 229.,  42.,  99., 157., 108.,  35.,  26., 132., 159.,\n",
              "       223., 170.,  71., 208.,  98., 202., 102.,  69.,  94., 125., 128.,\n",
              "       141., 214., 337., 194., 163.,  77., 222.,  75.,  60., 185., 129.,\n",
              "       220.,  39., 158., 112., 168., 120.,  20., 172., 233.,  62.,  32.,\n",
              "       114.,  49., 195.,  81., 205.,  74.,  50., 167., 103.,  87., 226.,\n",
              "        22., 184.,  53.,  43., 124.,  25., 187., 171., 137.,  79., 153.,\n",
              "        23., 133., 148.,  85., 136., 176.,  96., 175., 143.,  97.,  54.,\n",
              "       146.,  46., 203., 200., 155.,  78., 224., 100.,  47., 116.,  12.,\n",
              "       106.,  70., 139.,  80., 135., 151., 113., 213., 164.,  45., 196.,\n",
              "        64., 161., 178., 221.,  65.,  63.,  18., 182., 127.,  44., 147.,\n",
              "       197., 180.,  27.,  33., 250., 107.,  -1., 149., 188.,  91., 201.,\n",
              "        34., 230., 199.,  28., 192., 122., 227., 156.,  93., 152., 121.,\n",
              "       231., 142.,  52.,  41.,  90., 215.,  14., 179., 104., 165., 134.,\n",
              "        30., 117., 343.,  48.,  21., 240., 173.,  37., 181., 140., 325.,\n",
              "       217.,  58.,  92.,  66., 411.,  55.,  36.,  61.,  31., 232., 276.,\n",
              "        82., 314., 246.,  24.,  11.,  38., 193.,  56., 368., 238.,  51.,\n",
              "       228., 304., 257., 293., 162.,  40., 123., 375., 316., 118., 384.,\n",
              "        16., 331., 322., 291., 323., 382., 308., 242.])"
            ]
          },
          "metadata": {},
          "execution_count": 106
        }
      ]
    },
    {
      "cell_type": "code",
      "source": [
        "# količina neke jedinstvene vrijednosti u datasetu\n",
        "df['Num_Bank_Accounts'].value_counts(dropna=False)"
      ],
      "metadata": {
        "colab": {
          "base_uri": "https://localhost:8080/"
        },
        "outputId": "213811aa-79de-448a-9a79-23dc256e5e88",
        "id": "UtXQFvGjAB1_"
      },
      "execution_count": null,
      "outputs": [
        {
          "output_type": "execute_result",
          "data": {
            "text/plain": [
              "6.0      11921\n",
              "7.0      11699\n",
              "8.0      11596\n",
              "4.0      11203\n",
              "5.0      10892\n",
              "         ...  \n",
              "232.0        8\n",
              "276.0        8\n",
              "314.0        8\n",
              "246.0        8\n",
              "242.0        8\n",
              "Name: Num_Bank_Accounts, Length: 261, dtype: int64"
            ]
          },
          "metadata": {},
          "execution_count": 107
        }
      ]
    },
    {
      "cell_type": "code",
      "source": [
        "# Deskriptivna statistika za kolonu\n",
        "df['Num_Bank_Accounts'].describe(percentiles=[.25, .5, .75], include=\"all\")"
      ],
      "metadata": {
        "colab": {
          "base_uri": "https://localhost:8080/"
        },
        "outputId": "79e1ba92-1040-47d9-9a12-db19c46d825b",
        "id": "TmEUtW4kAB2A"
      },
      "execution_count": null,
      "outputs": [
        {
          "output_type": "execute_result",
          "data": {
            "text/plain": [
              "count    100022.000000\n",
              "mean         17.033183\n",
              "std          41.399076\n",
              "min          -1.000000\n",
              "25%           4.000000\n",
              "50%           6.000000\n",
              "75%           8.000000\n",
              "max         411.000000\n",
              "Name: Num_Bank_Accounts, dtype: float64"
            ]
          },
          "metadata": {},
          "execution_count": 108
        }
      ]
    },
    {
      "cell_type": "code",
      "source": [
        "# Histogram\n",
        "\n",
        "plt.figure()\n",
        "plt.title('Num_Bank_Accounts')\n",
        "df['Num_Bank_Accounts'].hist()"
      ],
      "metadata": {
        "colab": {
          "base_uri": "https://localhost:8080/",
          "height": 298
        },
        "outputId": "b8133706-8c90-49b4-8eeb-ad5be95d2146",
        "id": "IS9GK1E_AB2A"
      },
      "execution_count": null,
      "outputs": [
        {
          "output_type": "execute_result",
          "data": {
            "text/plain": [
              "<matplotlib.axes._subplots.AxesSubplot at 0x7f314db715e0>"
            ]
          },
          "metadata": {},
          "execution_count": 109
        },
        {
          "output_type": "display_data",
          "data": {
            "text/plain": [
              "<Figure size 432x288 with 1 Axes>"
            ],
            "image/png": "[encoded data removed]"
          },
          "metadata": {
            "needs_background": "light"
          }
        }
      ]
    },
    {
      "cell_type": "code",
      "source": [
        "# Boxplot\n",
        "df.boxplot(['Num_Bank_Accounts'])"
      ],
      "metadata": {
        "colab": {
          "base_uri": "https://localhost:8080/",
          "height": 283
        },
        "outputId": "26349da2-c363-4854-ca70-69d42eefbb34",
        "id": "tOlHYozLAB2B"
      },
      "execution_count": null,
      "outputs": [
        {
          "output_type": "execute_result",
          "data": {
            "text/plain": [
              "<matplotlib.axes._subplots.AxesSubplot at 0x7f313d561760>"
            ]
          },
          "metadata": {},
          "execution_count": 110
        },
        {
          "output_type": "display_data",
          "data": {
            "text/plain": [
              "<Figure size 432x288 with 1 Axes>"
            ],
            "image/png": "[encoded data removed]"
          },
          "metadata": {
            "needs_background": "light"
          }
        }
      ]
    },
    {
      "cell_type": "markdown",
      "source": [
        "## **Transformacija kolone \"Num_Credit_Card\"**\n",
        "\n",
        " Unutar kolone \"Num_Credit_Card\" nalaze se vrijednosti koje su stringovi, \n",
        " iz razloga što neke vrijednosti imaju donju crticu na kraju vrijednosti. \n",
        " Te donje crtice smo uklonuli, te vrijednosti prebacili u float.\n",
        "\n",
        " Kolona sadrži dosta jedinstvenih vrijednosti, pa smo kolonu dodatno transformisali na način da smo kolonu grupisali po Customer_ID, te za svaku grupu zamijenili vrijednost Num_Credit_Card sa mean vrijednošću.\n",
        "\n",
        "  Pošto ova kolona predstavlja količinu, brojeve smo prebacili u cijele."
      ],
      "metadata": {
        "id": "vVwrHa_eApvA"
      }
    },
    {
      "cell_type": "code",
      "source": [
        "# Transformacija\n",
        "df['Num_Credit_Card'] = df['Num_Credit_Card'].str.replace('cards', '')\n",
        "df['Num_Credit_Card'] = df['Num_Credit_Card'].str.replace(' ', '')\n",
        "df['Num_Credit_Card'] = df['Num_Credit_Card'].astype('float')\n",
        "df[\"Num_Credit_Card\"] = df.groupby(\"Customer_ID\")['Num_Credit_Card'].transform(\"mean\")\n",
        "df['Num_Credit_Card'] = df['Num_Credit_Card'].apply(np.floor)"
      ],
      "metadata": {
        "id": "IKf4PUVxAqdf"
      },
      "execution_count": null,
      "outputs": []
    },
    {
      "cell_type": "code",
      "source": [
        "# Jedinstvene vrijednosti\n",
        "df['Num_Credit_Card'].unique()"
      ],
      "metadata": {
        "colab": {
          "base_uri": "https://localhost:8080/"
        },
        "outputId": "c1746fe0-2e01-4e94-c593-56b133267ace",
        "id": "BCHOgW5mAqdg"
      },
      "execution_count": null,
      "outputs": [
        {
          "output_type": "execute_result",
          "data": {
            "text/plain": [
              "array([  4., 176.,   5., 165.,   1.,   7.,   6., 134.,  65.,   8., 177.,\n",
              "       119.,   3.,  70., 130.,   9., 316.,   2.,  10.,  66., 123.,  35.,\n",
              "       107., 122., 158.,  94., 109., 148.,  88., 166.,  62., 189., 153.,\n",
              "        25., 186., 327.,  26.,  71., 151., 164., 147.,  69., 104.,  16.,\n",
              "        33., 127., 181.,  32., 184.,  81.,  18.,  38.,  20., 167.,  60.,\n",
              "        23., 100., 132., 115.,  47., 128., 118., 139., 112.,  55., 182.,\n",
              "        21.,  54.,  79.,  42.,  80.,  68., 157.,  84., 174., 351.,  90.,\n",
              "        86., 155., 178., 357.,  52.,  31., 138., 254., 175.,  77.,  53.,\n",
              "         0., 168., 116.,  41., 136., 120., 150., 195., 101., 145., 113.,\n",
              "        13.,  44., 202.,  95., 163.,  19., 283.,  36., 140., 133.,  89.,\n",
              "       213., 315., 334., 114., 121., 156.,  92.,  97.,  12.,  75., 143.,\n",
              "        43., 159., 144.,  99., 188.,  22., 171.,  11.,  49.,  96., 102.,\n",
              "       152.,  63., 169.,  46., 193., 160., 187.,  57., 111., 103.,  30.,\n",
              "        83.,  40., 142.,  67., 231., 323., 185., 287., 106.,  37., 137.,\n",
              "        24.,  17., 105., 126.,  64.,  59., 170., 149., 235., 129., 162.,\n",
              "       124.,  93.,  76., 108., 125.,  34.,  39., 275., 172.,  50.,  91.,\n",
              "       242., 322.,  14., 192.,  87.,  27.,  72.,  78., 311., 173., 110.,\n",
              "       154.,  61.,  98., 191., 246., 272.,  74., 199.,  28., 117., 229.,\n",
              "       244., 198., 207., 180., 179.,  85., 262.,  45.,  56., 190., 261.,\n",
              "       243., 183., 146.,  15., 161., 241., 309., 318., 131., 238., 271.,\n",
              "        73., 371.,  29., 219., 141., 268., 135., 212., 248., 208.,  48.,\n",
              "       225.,  58., 332., 330., 265., 203., 218., 211., 362., 301., 335.,\n",
              "       197., 324.,  51.,  82., 298., 341., 257., 214., 304., 204., 285.,\n",
              "       233., 281., 236., 293., 346., 201.])"
            ]
          },
          "metadata": {},
          "execution_count": 129
        }
      ]
    },
    {
      "cell_type": "code",
      "source": [
        "# količina neke jedinstvene vrijednosti u datasetu\n",
        "df['Num_Credit_Card'].value_counts(dropna=False)"
      ],
      "metadata": {
        "colab": {
          "base_uri": "https://localhost:8080/"
        },
        "outputId": "7155ee63-10fe-478e-e77e-1a6df521e0ad",
        "id": "L0dTBY3RAqdh"
      },
      "execution_count": null,
      "outputs": [
        {
          "output_type": "execute_result",
          "data": {
            "text/plain": [
              "5.0      15579\n",
              "6.0      14182\n",
              "7.0      13892\n",
              "4.0      12017\n",
              "3.0      11498\n",
              "         ...  \n",
              "371.0        8\n",
              "268.0        8\n",
              "212.0        8\n",
              "248.0        8\n",
              "201.0        8\n",
              "Name: Num_Credit_Card, Length: 259, dtype: int64"
            ]
          },
          "metadata": {},
          "execution_count": 130
        }
      ]
    },
    {
      "cell_type": "code",
      "source": [
        "# Deskriptivna statistika za kolonu\n",
        "df['Num_Credit_Card'].describe(percentiles=[.25, .5, .75], include=\"all\")"
      ],
      "metadata": {
        "colab": {
          "base_uri": "https://localhost:8080/"
        },
        "outputId": "b140d1f5-a1c7-4023-d02e-99a1a6f903ea",
        "id": "stjA-BqIAqdi"
      },
      "execution_count": null,
      "outputs": [
        {
          "output_type": "execute_result",
          "data": {
            "text/plain": [
              "count    100022.000000\n",
              "mean         22.384625\n",
              "std          45.484734\n",
              "min           0.000000\n",
              "25%           4.000000\n",
              "50%           6.000000\n",
              "75%           8.000000\n",
              "max         371.000000\n",
              "Name: Num_Credit_Card, dtype: float64"
            ]
          },
          "metadata": {},
          "execution_count": 131
        }
      ]
    },
    {
      "cell_type": "code",
      "source": [
        "# Histogram\n",
        "\n",
        "plt.figure()\n",
        "plt.title('Num_Credit_Card')\n",
        "df['Num_Credit_Card'].hist()"
      ],
      "metadata": {
        "colab": {
          "base_uri": "https://localhost:8080/",
          "height": 298
        },
        "outputId": "0765030b-c68c-414e-9c81-bf6ae1b6cf7a",
        "id": "u1VrJ4ViAqdj"
      },
      "execution_count": null,
      "outputs": [
        {
          "output_type": "execute_result",
          "data": {
            "text/plain": [
              "<matplotlib.axes._subplots.AxesSubplot at 0x7f313d3bf190>"
            ]
          },
          "metadata": {},
          "execution_count": 132
        },
        {
          "output_type": "display_data",
          "data": {
            "text/plain": [
              "<Figure size 432x288 with 1 Axes>"
            ],
            "image/png": "[encoded data removed]"
          },
          "metadata": {
            "needs_background": "light"
          }
        }
      ]
    },
    {
      "cell_type": "code",
      "source": [
        "# Boxplot\n",
        "df.boxplot(['Num_Credit_Card'])"
      ],
      "metadata": {
        "colab": {
          "base_uri": "https://localhost:8080/",
          "height": 283
        },
        "outputId": "91f5517d-8f14-40bf-cadd-0ee778e2c2b8",
        "id": "FBRfOhIpAqdk"
      },
      "execution_count": null,
      "outputs": [
        {
          "output_type": "execute_result",
          "data": {
            "text/plain": [
              "<matplotlib.axes._subplots.AxesSubplot at 0x7f313d4580a0>"
            ]
          },
          "metadata": {},
          "execution_count": 133
        },
        {
          "output_type": "display_data",
          "data": {
            "text/plain": [
              "<Figure size 432x288 with 1 Axes>"
            ],
            "image/png": "[encoded data removed]"
          },
          "metadata": {
            "needs_background": "light"
          }
        }
      ]
    },
    {
      "cell_type": "markdown",
      "source": [
        "## **Transformacija kolone \"Interest_Rate\"**\n",
        "\n",
        " Unutar kolone \"Interest_Rate\" nalazi se dosta outliera.\n",
        " Njih cemo rijesiti grupisanjem po CustomerId, i određivanjem mean za grupu."
      ],
      "metadata": {
        "id": "KlKkJqwcBLz5"
      }
    },
    {
      "cell_type": "code",
      "source": [
        "# Transformacija\n",
        "df[\"Interest_Rate\"] = df.groupby(\"Customer_ID\")['Interest_Rate'].transform(\"mean\")"
      ],
      "metadata": {
        "id": "KkUnpG7xBMOf"
      },
      "execution_count": null,
      "outputs": []
    },
    {
      "cell_type": "code",
      "source": [
        "# Jedinstvene vrijednosti\n",
        "df['Interest_Rate'].unique()"
      ],
      "metadata": {
        "colab": {
          "base_uri": "https://localhost:8080/"
        },
        "outputId": "9863fa8c-50fa-4614-b15b-c1c0eceb953e",
        "id": "ElS9DReaBMOg"
      },
      "execution_count": null,
      "outputs": [
        {
          "output_type": "execute_result",
          "data": {
            "text/plain": [
              "array([  3.   ,   6.   ,   8.   , ..., 553.875,  67.625, 256.5  ])"
            ]
          },
          "metadata": {},
          "execution_count": 90
        }
      ]
    },
    {
      "cell_type": "code",
      "source": [
        "# količina neke jedinstvene vrijednosti u datasetu\n",
        "df['Interest_Rate'].value_counts(dropna=False)"
      ],
      "metadata": {
        "colab": {
          "base_uri": "https://localhost:8080/"
        },
        "outputId": "19172cbd-f0f4-463e-84d5-72017665cc59",
        "id": "_P_I8FoeBMOh"
      },
      "execution_count": null,
      "outputs": [
        {
          "output_type": "execute_result",
          "data": {
            "text/plain": [
              "8.000      4416\n",
              "5.000      4273\n",
              "6.000      4026\n",
              "10.000     4024\n",
              "9.000      3960\n",
              "           ... \n",
              "299.250       8\n",
              "143.375       8\n",
              "596.625       8\n",
              "767.250       8\n",
              "256.500       8\n",
              "Name: Interest_Rate, Length: 1646, dtype: int64"
            ]
          },
          "metadata": {},
          "execution_count": 91
        }
      ]
    },
    {
      "cell_type": "code",
      "source": [
        "# Deskriptivna statistika za kolonu\n",
        "df['Interest_Rate'].describe(percentiles=[.25, .5, .75], include=\"all\")"
      ],
      "metadata": {
        "colab": {
          "base_uri": "https://localhost:8080/"
        },
        "outputId": "53763e82-edcd-4d54-a62a-fabbf5c32b94",
        "id": "XJK1zsPPBMOi"
      },
      "execution_count": null,
      "outputs": [
        {
          "output_type": "execute_result",
          "data": {
            "text/plain": [
              "count    100022.000000\n",
              "mean         72.462958\n",
              "std         165.014774\n",
              "min           1.000000\n",
              "25%           8.000000\n",
              "50%          16.000000\n",
              "75%          27.000000\n",
              "max        1601.750000\n",
              "Name: Interest_Rate, dtype: float64"
            ]
          },
          "metadata": {},
          "execution_count": 92
        }
      ]
    },
    {
      "cell_type": "code",
      "source": [
        "# Histogram\n",
        "\n",
        "plt.figure()\n",
        "plt.title('Interest_Rate')\n",
        "df['Interest_Rate'].hist()"
      ],
      "metadata": {
        "colab": {
          "base_uri": "https://localhost:8080/",
          "height": 298
        },
        "outputId": "bc11b371-14ec-451f-8e87-463b9eaf4ca3",
        "id": "SR7SBcftBMOi"
      },
      "execution_count": null,
      "outputs": [
        {
          "output_type": "execute_result",
          "data": {
            "text/plain": [
              "<matplotlib.axes._subplots.AxesSubplot at 0x7f31442b4400>"
            ]
          },
          "metadata": {},
          "execution_count": 93
        },
        {
          "output_type": "display_data",
          "data": {
            "text/plain": [
              "<Figure size 432x288 with 1 Axes>"
            ],
            "image/png": "[encoded data removed]"
          },
          "metadata": {
            "needs_background": "light"
          }
        }
      ]
    },
    {
      "cell_type": "code",
      "source": [
        "# Boxplot\n",
        "df.boxplot(['Interest_Rate'])"
      ],
      "metadata": {
        "colab": {
          "base_uri": "https://localhost:8080/",
          "height": 283
        },
        "outputId": "ee982721-46dc-49ca-9f94-7aad57bebfad",
        "id": "6le3-KnZBMOj"
      },
      "execution_count": null,
      "outputs": [
        {
          "output_type": "execute_result",
          "data": {
            "text/plain": [
              "<matplotlib.axes._subplots.AxesSubplot at 0x7f314dcd60a0>"
            ]
          },
          "metadata": {},
          "execution_count": 94
        },
        {
          "output_type": "display_data",
          "data": {
            "text/plain": [
              "<Figure size 432x288 with 1 Axes>"
            ],
            "image/png": "[encoded data removed]"
          },
          "metadata": {
            "needs_background": "light"
          }
        }
      ]
    },
    {
      "cell_type": "markdown",
      "source": [
        "## **Transformacija kolone \"Num_of_Loan\"**\n",
        "\n",
        " Unutar kolone \"Num_of_Loan\" nalaze se vrijednosti koje su stringovi, \n",
        " iz razloga što neke vrijednosti imaju dodatan tekst uz vrijednost.\n",
        " Taj tekst smo uklonuli i kolonu prebacili u float vrijednosti.\n",
        "\n",
        " Nan vrijednosti smo zamijenili sa 0, dok smo se riješili \n",
        " nekih outliera mijenjanjem vrijednosti kolona tako što smo grupisali\n",
        " kolone po Customer_ID, te izračunali mean vrijednost\n",
        "\n",
        "  Pošto ova kolona predstavlja količinu, brojeve smo prebacili u pozivine  cijele.\n",
        "\n"
      ],
      "metadata": {
        "id": "Nucxc_-XBlFU"
      }
    },
    {
      "cell_type": "code",
      "source": [
        "# Transformacija\n",
        "df['Num_of_Loan'] = df['Num_of_Loan'].str.replace('_', '')\n",
        "df['Num_of_Loan'] = df['Num_of_Loan'].astype('float')\n",
        "df.loc[(df['Num_of_Loan'] < 0)] = np.nan\n",
        "df['Num_of_Loan'].fillna(df['Num_of_Loan'].mean(), inplace=True)\n",
        "df[\"Num_of_Loan\"] = df.groupby(\"Customer_ID\")['Num_of_Loan'].transform(\"mean\")\n",
        "df['Num_of_Loan'] = df['Num_of_Loan'].apply(np.floor)\n",
        "df['Num_of_Loan'].fillna(0, inplace=True)"
      ],
      "metadata": {
        "id": "Yg_5FmbxBliW"
      },
      "execution_count": null,
      "outputs": []
    },
    {
      "cell_type": "code",
      "source": [
        "# Jedinstvene vrijednosti\n",
        "df['Num_of_Loan'].unique()"
      ],
      "metadata": {
        "colab": {
          "base_uri": "https://localhost:8080/"
        },
        "outputId": "374bdbbd-2c51-421a-c439-9174ded17cbe",
        "id": "ranmHKP9BliX"
      },
      "execution_count": null,
      "outputs": [
        {
          "output_type": "execute_result",
          "data": {
            "text/plain": [
              "array([  4.,   1., 123.,   0.,   2.,   3.,   7.,   5.,   6.,   8.,   9.,\n",
              "       212.,  81.,  45.,  68., 248.,  23.,  73.,  43.,  62.,  93., 219.,\n",
              "        99., 145.,  74.,  91., 110.,  78.,  79.,  19.,  83.,  94., 139.,\n",
              "       149., 167.,  10., 121., 108., 118., 181.,  25.,  55., 126., 159.,\n",
              "        66., 206., 173.,  12., 185., 134., 129., 168.,  24.,  48., 186.,\n",
              "        20., 124., 155., 143., 140., 154.,  53.,  77., 197.,  44., 202.,\n",
              "       169.,  69., 183., 116., 170., 204., 150.,  15., 172., 105., 101.,\n",
              "       153., 100., 151., 130., 137.,  11., 102.,  60., 171.,  70.,  59.,\n",
              "       114., 160.,  34.,  97., 188.,  32.,  38., 178., 213.,  36.,  65.,\n",
              "        61., 189., 175.,  90., 165., 136., 106.,  57.,  31., 125.,  51.,\n",
              "        96.,  21.,  82.,  33.,  54., 158., 161.,  29., 337.,  41.,  47.,\n",
              "       120.,  71.,  50.,  18.,  49., 286.,  14.,  56., 127.,  30.,  37.,\n",
              "       109., 107.,  39.,  76.,  42., 119., 347., 112., 184., 147., 128.,\n",
              "        46., 142.,  26., 182., 162., 177.,  67.,  22.,  85., 276., 113.,\n",
              "        40., 144., 176., 190.,  75., 103., 191.,  88.,  87., 138.,  95.,\n",
              "       117., 156.,  35., 230.,  89., 232., 166.,  72., 148.,  84., 164.,\n",
              "       132., 199., 146.,  64., 200.,  27., 122.,  63., 141., 135.,  28.,\n",
              "       174., 152., 187., 246., 308.,  13.])"
            ]
          },
          "metadata": {},
          "execution_count": 149
        }
      ]
    },
    {
      "cell_type": "code",
      "source": [
        "# količina neke jedinstvene vrijednosti u datasetu\n",
        "df['Num_of_Loan'].value_counts(dropna=False)"
      ],
      "metadata": {
        "colab": {
          "base_uri": "https://localhost:8080/"
        },
        "outputId": "50ff4d56-72aa-470b-bf18-caecb6e8ce73",
        "id": "siGfWqiMBliY"
      },
      "execution_count": null,
      "outputs": [
        {
          "output_type": "execute_result",
          "data": {
            "text/plain": [
              "3.0      14692\n",
              "2.0      14606\n",
              "0.0      14418\n",
              "4.0      14142\n",
              "1.0      10197\n",
              "         ...  \n",
              "232.0        6\n",
              "230.0        6\n",
              "174.0        6\n",
              "246.0        6\n",
              "88.0         5\n",
              "Name: Num_of_Loan, Length: 193, dtype: int64"
            ]
          },
          "metadata": {},
          "execution_count": 150
        }
      ]
    },
    {
      "cell_type": "code",
      "source": [
        "# Deskriptivna statistika za kolonu\n",
        "df['Num_of_Loan'].describe(percentiles=[.25, .5, .75], include=\"all\")"
      ],
      "metadata": {
        "colab": {
          "base_uri": "https://localhost:8080/"
        },
        "outputId": "2ea1c547-2838-4d7d-97ed-b79850df2115",
        "id": "HxcDsPnyBliZ"
      },
      "execution_count": null,
      "outputs": [
        {
          "output_type": "execute_result",
          "data": {
            "text/plain": [
              "count    100022.000000\n",
              "mean          6.878187\n",
              "std          21.746616\n",
              "min           0.000000\n",
              "25%           2.000000\n",
              "50%           3.000000\n",
              "75%           5.000000\n",
              "max         347.000000\n",
              "Name: Num_of_Loan, dtype: float64"
            ]
          },
          "metadata": {},
          "execution_count": 151
        }
      ]
    },
    {
      "cell_type": "code",
      "source": [
        "# Histogram\n",
        "\n",
        "plt.figure()\n",
        "plt.title('Num_of_Loan')\n",
        "df['Num_of_Loan'].hist()"
      ],
      "metadata": {
        "colab": {
          "base_uri": "https://localhost:8080/",
          "height": 298
        },
        "outputId": "088167d5-60c2-452e-df88-d0e87469f25f",
        "id": "lXlcMySfBlib"
      },
      "execution_count": null,
      "outputs": [
        {
          "output_type": "execute_result",
          "data": {
            "text/plain": [
              "<matplotlib.axes._subplots.AxesSubplot at 0x7f313d375940>"
            ]
          },
          "metadata": {},
          "execution_count": 152
        },
        {
          "output_type": "display_data",
          "data": {
            "text/plain": [
              "<Figure size 432x288 with 1 Axes>"
            ],
            "image/png": "[encoded data removed]"
          },
          "metadata": {
            "needs_background": "light"
          }
        }
      ]
    },
    {
      "cell_type": "code",
      "source": [
        "# Boxplot\n",
        "df.boxplot(['Num_of_Loan'])"
      ],
      "metadata": {
        "colab": {
          "base_uri": "https://localhost:8080/",
          "height": 283
        },
        "outputId": "fd645916-7754-4436-85ce-e00b62927209",
        "id": "b7vV00-_Blic"
      },
      "execution_count": null,
      "outputs": [
        {
          "output_type": "execute_result",
          "data": {
            "text/plain": [
              "<matplotlib.axes._subplots.AxesSubplot at 0x7f312dfcc670>"
            ]
          },
          "metadata": {},
          "execution_count": 153
        },
        {
          "output_type": "display_data",
          "data": {
            "text/plain": [
              "<Figure size 432x288 with 1 Axes>"
            ],
            "image/png": "[encoded data removed]"
          },
          "metadata": {
            "needs_background": "light"
          }
        }
      ]
    },
    {
      "cell_type": "markdown",
      "source": [
        "## **Transformacija kolone \"Type_of_Loan\"**\n",
        "\n",
        " Unutar kolone \"Type_of_Loan\" nalaze se vrijednosti koji su stringovi koji govore\n",
        " koje sve vrste zajmova postoje za taj red, ali od tih podataka ne možemo izvući\n",
        " nikakve korektne informacije. Pa smo iz tog razloga kreirali kolone koje sadrže\n",
        " informaciju da li taj određeni zajam postoji za određeni red. \n",
        " Nakon izvlačenja novih kolona obrisali smo staru kolonu Type of Loan"
      ],
      "metadata": {
        "id": "7BW_ouIJGq6r"
      }
    },
    {
      "cell_type": "code",
      "source": [
        "# Transformacija\n",
        "df['Auto_Loan'] = np.where(df['Type_of_Loan'].str.contains('Auto Loan'), True, False)\n",
        "df['Credit_Builder_Loan'] = np.where(df['Type_of_Loan'].str.contains('Credit-Builder Loan'), True, False)\n",
        "df['Personal_Loan'] = np.where(df['Type_of_Loan'].str.contains('Personal Loan'), True, False)\n",
        "df['Home_Equity_Loan'] = np.where(df['Type_of_Loan'].str.contains('Home Equity Loan'), True, False)\n",
        "df['Not_Specified'] = np.where(df['Type_of_Loan'].str.contains('Not Specified') | df['Type_of_Loan'].str.contains('uknown'), True, False)\n",
        "df['Payday_Loan'] = np.where(df['Type_of_Loan'].str.contains('Payday Loan'), True, False)\n",
        "df['Student_Loan'] = np.where(df['Type_of_Loan'].str.contains('Student_Loan'), True, False)\n",
        "df['Mortgage_Loan'] = np.where(df['Type_of_Loan'].str.contains('Mortgage Loan'), True, False)\n",
        "df['Debt_Consolidation_Loan'] = np.where(df['Type_of_Loan'].str.contains('Debt Consolidation Loan'), True, False)\n",
        "df = df.drop(['Type_of_Loan'], axis=1)"
      ],
      "metadata": {
        "id": "_ktRNJvBGrYc"
      },
      "execution_count": null,
      "outputs": []
    },
    {
      "cell_type": "code",
      "source": [
        "# količina neke jedinstvene vrijednosti u datasetu\n",
        "df[['Auto_Loan', 'Credit_Builder_Loan', 'Personal_Loan', 'Home_Equity_Loan', 'Not_Specified', 'Payday_Loan', 'Student_Loan', 'Mortgage_Loan', 'Debt_Consolidation_Loan']].value_counts(dropna=False)"
      ],
      "metadata": {
        "colab": {
          "base_uri": "https://localhost:8080/"
        },
        "outputId": "955b8c38-19cc-4ac2-cff4-c8ea9d1328bc",
        "id": "kkxOagSnGrYf"
      },
      "execution_count": null,
      "outputs": [
        {
          "output_type": "execute_result",
          "data": {
            "text/plain": [
              "Auto_Loan  Credit_Builder_Loan  Personal_Loan  Home_Equity_Loan  Not_Specified  Payday_Loan  Student_Loan  Mortgage_Loan  Debt_Consolidation_Loan\n",
              "True       True                 True           True              False          True         True          True           True                       11457\n",
              "False      False                False          False             True           False        False         False          False                       5367\n",
              "           True                 False          False             False          False        False         False          False                       2025\n",
              "           False                True           False             False          False        False         False          False                       2007\n",
              "                                False          False             False          True         False         False          False                       1987\n",
              "                                                                                                                                                     ...  \n",
              "True       False                False          True              True           True         False         True           True                          64\n",
              "           True                 True           True              True           True         False         True           False                         61\n",
              "                                                                 False          True         False         True           True                          56\n",
              "False      True                 True           True              True           True         False         True           True                          54\n",
              "True       True                 True           False             True           True         False         True           True                          31\n",
              "Length: 256, dtype: int64"
            ]
          },
          "metadata": {},
          "execution_count": 156
        }
      ]
    },
    {
      "cell_type": "code",
      "source": [
        "# Deskriptivna statistika za kolonu\n",
        "df[['Auto_Loan', 'Credit_Builder_Loan', 'Personal_Loan', 'Home_Equity_Loan', 'Not_Specified', 'Payday_Loan', 'Student_Loan', 'Mortgage_Loan', 'Debt_Consolidation_Loan']].describe(percentiles=[.25, .5, .75], include=\"all\")"
      ],
      "metadata": {
        "colab": {
          "base_uri": "https://localhost:8080/",
          "height": 175
        },
        "outputId": "c57e9ab7-4753-40f1-fc13-ea8a471b686a",
        "id": "DHGDiUX5GrYg"
      },
      "execution_count": null,
      "outputs": [
        {
          "output_type": "execute_result",
          "data": {
            "text/plain": [
              "       Auto_Loan Credit_Builder_Loan Personal_Loan Home_Equity_Loan  \\\n",
              "count     100022              100022        100022           100022   \n",
              "unique         2                   2             2                2   \n",
              "top        False               False         False            False   \n",
              "freq       59148               58096         58691            58379   \n",
              "\n",
              "       Not_Specified Payday_Loan Student_Loan Mortgage_Loan  \\\n",
              "count         100022      100022       100022        100022   \n",
              "unique             2           2            2             2   \n",
              "top            False       False        False         False   \n",
              "freq           66156       57834        88565         58405   \n",
              "\n",
              "       Debt_Consolidation_Loan  \n",
              "count                   100022  \n",
              "unique                       2  \n",
              "top                      False  \n",
              "freq                     58674  "
            ],
            "text/html": [
              "\n",
              "  <div id=\"df-bfdf3b67-c8c2-4dd9-8eac-7e0306148ac8\">\n",
              "    <div class=\"colab-df-container\">\n",
              "      <div>\n",
              "<style scoped>\n",
              "    .dataframe tbody tr th:only-of-type {\n",
              "        vertical-align: middle;\n",
              "    }\n",
              "\n",
              "    .dataframe tbody tr th {\n",
              "        vertical-align: top;\n",
              "    }\n",
              "\n",
              "    .dataframe thead th {\n",
              "        text-align: right;\n",
              "    }\n",
              "</style>\n",
              "<table border=\"1\" class=\"dataframe\">\n",
              "  <thead>\n",
              "    <tr style=\"text-align: right;\">\n",
              "      <th></th>\n",
              "      <th>Auto_Loan</th>\n",
              "      <th>Credit_Builder_Loan</th>\n",
              "      <th>Personal_Loan</th>\n",
              "      <th>Home_Equity_Loan</th>\n",
              "      <th>Not_Specified</th>\n",
              "      <th>Payday_Loan</th>\n",
              "      <th>Student_Loan</th>\n",
              "      <th>Mortgage_Loan</th>\n",
              "      <th>Debt_Consolidation_Loan</th>\n",
              "    </tr>\n",
              "  </thead>\n",
              "  <tbody>\n",
              "    <tr>\n",
              "      <th>count</th>\n",
              "      <td>100022</td>\n",
              "      <td>100022</td>\n",
              "      <td>100022</td>\n",
              "      <td>100022</td>\n",
              "      <td>100022</td>\n",
              "      <td>100022</td>\n",
              "      <td>100022</td>\n",
              "      <td>100022</td>\n",
              "      <td>100022</td>\n",
              "    </tr>\n",
              "    <tr>\n",
              "      <th>unique</th>\n",
              "      <td>2</td>\n",
              "      <td>2</td>\n",
              "      <td>2</td>\n",
              "      <td>2</td>\n",
              "      <td>2</td>\n",
              "      <td>2</td>\n",
              "      <td>2</td>\n",
              "      <td>2</td>\n",
              "      <td>2</td>\n",
              "    </tr>\n",
              "    <tr>\n",
              "      <th>top</th>\n",
              "      <td>False</td>\n",
              "      <td>False</td>\n",
              "      <td>False</td>\n",
              "      <td>False</td>\n",
              "      <td>False</td>\n",
              "      <td>False</td>\n",
              "      <td>False</td>\n",
              "      <td>False</td>\n",
              "      <td>False</td>\n",
              "    </tr>\n",
              "    <tr>\n",
              "      <th>freq</th>\n",
              "      <td>59148</td>\n",
              "      <td>58096</td>\n",
              "      <td>58691</td>\n",
              "      <td>58379</td>\n",
              "      <td>66156</td>\n",
              "      <td>57834</td>\n",
              "      <td>88565</td>\n",
              "      <td>58405</td>\n",
              "      <td>58674</td>\n",
              "    </tr>\n",
              "  </tbody>\n",
              "</table>\n",
              "</div>\n",
              "      <button class=\"colab-df-convert\" onclick=\"convertToInteractive('df-bfdf3b67-c8c2-4dd9-8eac-7e0306148ac8')\"\n",
              "              title=\"Convert this dataframe to an interactive table.\"\n",
              "              style=\"display:none;\">\n",
              "        \n",
              "  <svg xmlns=\"http://www.w3.org/2000/svg\" height=\"24px\"viewBox=\"0 0 24 24\"\n",
              "       width=\"24px\">\n",
              "    <path d=\"M0 0h24v24H0V0z\" fill=\"none\"/>\n",
              "    <path d=\"M18.56 5.44l.94 2.06.94-2.06 2.06-.94-2.06-.94-.94-2.06-.94 2.06-2.06.94zm-11 1L8.5 8.5l.94-2.06 2.06-.94-2.06-.94L8.5 2.5l-.94 2.06-2.06.94zm10 10l.94 2.06.94-2.06 2.06-.94-2.06-.94-.94-2.06-.94 2.06-2.06.94z\"/><path d=\"M17.41 7.96l-1.37-1.37c-.4-.4-.92-.59-1.43-.59-.52 0-1.04.2-1.43.59L10.3 9.45l-7.72 7.72c-.78.78-.78 2.05 0 2.83L4 21.41c.39.39.9.59 1.41.59.51 0 1.02-.2 1.41-.59l7.78-7.78 2.81-2.81c.8-.78.8-2.07 0-2.86zM5.41 20L4 18.59l7.72-7.72 1.47 1.35L5.41 20z\"/>\n",
              "  </svg>\n",
              "      </button>\n",
              "      \n",
              "  <style>\n",
              "    .colab-df-container {\n",
              "      display:flex;\n",
              "      flex-wrap:wrap;\n",
              "      gap: 12px;\n",
              "    }\n",
              "\n",
              "    .colab-df-convert {\n",
              "      background-color: #E8F0FE;\n",
              "      border: none;\n",
              "      border-radius: 50%;\n",
              "      cursor: pointer;\n",
              "      display: none;\n",
              "      fill: #1967D2;\n",
              "      height: 32px;\n",
              "      padding: 0 0 0 0;\n",
              "      width: 32px;\n",
              "    }\n",
              "\n",
              "    .colab-df-convert:hover {\n",
              "      background-color: #E2EBFA;\n",
              "      box-shadow: 0px 1px 2px rgba(60, 64, 67, 0.3), 0px 1px 3px 1px rgba(60, 64, 67, 0.15);\n",
              "      fill: #174EA6;\n",
              "    }\n",
              "\n",
              "    [theme=dark] .colab-df-convert {\n",
              "      background-color: #3B4455;\n",
              "      fill: #D2E3FC;\n",
              "    }\n",
              "\n",
              "    [theme=dark] .colab-df-convert:hover {\n",
              "      background-color: #434B5C;\n",
              "      box-shadow: 0px 1px 3px 1px rgba(0, 0, 0, 0.15);\n",
              "      filter: drop-shadow(0px 1px 2px rgba(0, 0, 0, 0.3));\n",
              "      fill: #FFFFFF;\n",
              "    }\n",
              "  </style>\n",
              "\n",
              "      <script>\n",
              "        const buttonEl =\n",
              "          document.querySelector('#df-bfdf3b67-c8c2-4dd9-8eac-7e0306148ac8 button.colab-df-convert');\n",
              "        buttonEl.style.display =\n",
              "          google.colab.kernel.accessAllowed ? 'block' : 'none';\n",
              "\n",
              "        async function convertToInteractive(key) {\n",
              "          const element = document.querySelector('#df-bfdf3b67-c8c2-4dd9-8eac-7e0306148ac8');\n",
              "          const dataTable =\n",
              "            await google.colab.kernel.invokeFunction('convertToInteractive',\n",
              "                                                     [key], {});\n",
              "          if (!dataTable) return;\n",
              "\n",
              "          const docLinkHtml = 'Like what you see? Visit the ' +\n",
              "            '<a target=\"_blank\" href=https://colab.research.google.com/notebooks/data_table.ipynb>data table notebook</a>'\n",
              "            + ' to learn more about interactive tables.';\n",
              "          element.innerHTML = '';\n",
              "          dataTable['output_type'] = 'display_data';\n",
              "          await google.colab.output.renderOutput(dataTable, element);\n",
              "          const docLink = document.createElement('div');\n",
              "          docLink.innerHTML = docLinkHtml;\n",
              "          element.appendChild(docLink);\n",
              "        }\n",
              "      </script>\n",
              "    </div>\n",
              "  </div>\n",
              "  "
            ]
          },
          "metadata": {},
          "execution_count": 157
        }
      ]
    },
    {
      "cell_type": "markdown",
      "source": [
        "## **Transformacija kolone \"Num_of_Delayed_Payment\"**\n",
        "\n",
        " Unutar kolone \"Num_of_Delayed_Payment\" nalaze se vrijednosti koje su stringovi, \n",
        " iz razloga što neke vrijednosti imaju dodatan tekst uz vrijednost.\n",
        " Taj tekst smo uklonuli i kolonu prebacili u float vrijednosti. \n",
        " U koloni postoje i negativne i NaN vrijednosti. Kolonu smo grupisali po CustomerId\n",
        " i uzeli srednju vrijednost Num_of_Delayed_Payment za grupu da bismo transformisali\n",
        " vrijednosti."
      ],
      "metadata": {
        "id": "fYmJYJZTIAdg"
      }
    },
    {
      "cell_type": "code",
      "source": [
        "# Transformacija\n",
        "df['Num_of_Delayed_Payment'] = df['Num_of_Delayed_Payment'].str.replace('_', '')\n",
        "df['Num_of_Delayed_Payment'].replace('_', np.NaN, inplace = True)\n",
        "df['Num_of_Delayed_Payment'].replace('', np.NaN, inplace = True)\n",
        "df['Num_of_Delayed_Payment'] = df['Num_of_Delayed_Payment'].astype('float')\n",
        "df.loc[df['Num_of_Delayed_Payment'] < 0, 'Num_of_Delayed_Payment'] = np.NaN\n",
        "df['Num_of_Delayed_Payment'] = df['Num_of_Delayed_Payment'].fillna(df.mean())\n",
        "df[\"Num_of_Delayed_Payment\"] = df.groupby(\"Customer_ID\")['Num_of_Delayed_Payment'].transform(\"mean\")\n",
        "df['Num_of_Delayed_Payment'] = df['Num_of_Delayed_Payment'].apply(np.floor)"
      ],
      "metadata": {
        "colab": {
          "base_uri": "https://localhost:8080/"
        },
        "id": "7JdDr92mIA_o",
        "outputId": "e954eb35-61f1-4a5c-e4b6-c8b7c0418843"
      },
      "execution_count": null,
      "outputs": [
        {
          "output_type": "stream",
          "name": "stderr",
          "text": [
            "<ipython-input-161-9cdd1bc0159c>:7: FutureWarning: Dropping of nuisance columns in DataFrame reductions (with 'numeric_only=None') is deprecated; in a future version this will raise TypeError.  Select only valid columns before calling the reduction.\n",
            "  df['Num_of_Delayed_Payment'] = df['Num_of_Delayed_Payment'].fillna(df.mean())\n"
          ]
        }
      ]
    },
    {
      "cell_type": "code",
      "source": [
        "# Jedinstvene vrijednosti\n",
        "df['Num_of_Delayed_Payment'].unique()"
      ],
      "metadata": {
        "colab": {
          "base_uri": "https://localhost:8080/"
        },
        "outputId": "73d3a8f1-d86c-4d22-8c78-57bfc80e8401",
        "id": "pc6t5SIIIA_p"
      },
      "execution_count": null,
      "outputs": [
        {
          "output_type": "execute_result",
          "data": {
            "text/plain": [
              "array([6.000e+00, 2.000e+00, 1.400e+01, 7.000e+00, 1.300e+01, 1.100e+01,\n",
              "       0.000e+00, 1.900e+01, 1.000e+00, 8.000e+00, 1.200e+01, 1.000e+01,\n",
              "       1.800e+01, 2.100e+01, 9.000e+00, 5.000e+00, 4.320e+02, 1.700e+01,\n",
              "       2.000e+01, 3.920e+02, 1.850e+02, 2.400e+01, 4.600e+02, 1.600e+01,\n",
              "       2.300e+01, 3.600e+01, 1.500e+01, 1.510e+02, 1.180e+02, 3.000e+00,\n",
              "       3.380e+02, 2.200e+01, 4.000e+00, 2.680e+02, 9.000e+01, 4.420e+02,\n",
              "       4.210e+02, 1.250e+02, 1.020e+02, 4.860e+02, 2.500e+01, 3.120e+02,\n",
              "       2.660e+02, 1.950e+02, 5.280e+02, 3.690e+02, 2.840e+02, 3.420e+02,\n",
              "       2.600e+01, 3.400e+01, 3.850e+02, 6.400e+01, 5.990e+02, 4.730e+02,\n",
              "       3.100e+02, 6.000e+02, 2.530e+02, 1.110e+02, 3.940e+02, 3.320e+02,\n",
              "       3.900e+01, 1.490e+02, 3.210e+02, 2.120e+02, 3.610e+02, 2.260e+02,\n",
              "       4.790e+02, 1.590e+02, 5.600e+02, 2.170e+02, 4.130e+02, 1.320e+02,\n",
              "       3.930e+02, 4.980e+02, 8.900e+01, 5.020e+02, 2.000e+02, 2.640e+02,\n",
              "       2.910e+02, 4.050e+02, 1.530e+02, 1.710e+02, 2.390e+02, 4.100e+01,\n",
              "       1.120e+02, 5.070e+02, 5.050e+02, 2.760e+02, 1.480e+02, 3.290e+02,\n",
              "       4.970e+02, 4.030e+02, 1.400e+02, 2.330e+02, 5.640e+02, 3.510e+02,\n",
              "       4.670e+02, 2.460e+02, 5.150e+02, 3.910e+02, 5.310e+02, 3.800e+01,\n",
              "       3.250e+02, 2.340e+02, 4.200e+02, 9.700e+01, 2.810e+02, 5.290e+02,\n",
              "       7.000e+01, 2.110e+02, 9.200e+01, 1.650e+02, 1.990e+02, 1.570e+02,\n",
              "       2.610e+02, 5.100e+01, 8.000e+01, 2.740e+02, 2.190e+02, 4.560e+02,\n",
              "       1.240e+02, 3.300e+01, 6.160e+02, 3.050e+02, 2.140e+02, 2.060e+02,\n",
              "       5.210e+02, 6.700e+01, 3.490e+02, 1.840e+02, 1.810e+02, 4.140e+02,\n",
              "       3.980e+02, 1.310e+02, 4.020e+02, 5.880e+02, 5.620e+02, 5.170e+02,\n",
              "       7.900e+01, 2.370e+02, 4.010e+02, 4.060e+02, 3.580e+02, 4.680e+02,\n",
              "       4.510e+02, 8.400e+01, 2.400e+02, 3.030e+02, 4.400e+01, 6.900e+01,\n",
              "       5.200e+01, 3.800e+02, 5.810e+02, 2.130e+02, 4.410e+02, 2.500e+02,\n",
              "       3.010e+02, 5.340e+02, 3.660e+02, 4.470e+02, 3.430e+02, 5.860e+02,\n",
              "       2.880e+02, 1.210e+02, 5.700e+02, 1.330e+02, 2.620e+02, 5.250e+02,\n",
              "       1.750e+02, 2.790e+02, 5.080e+02, 4.450e+02, 3.780e+02, 5.200e+02,\n",
              "       2.450e+02, 1.580e+02, 3.730e+02, 4.390e+02, 4.780e+02, 4.360e+02,\n",
              "       4.080e+02, 4.800e+02, 3.170e+02, 3.300e+02, 7.110e+02, 1.540e+02,\n",
              "       2.800e+02, 6.100e+01, 5.500e+01, 9.900e+01, 3.130e+02, 5.430e+02,\n",
              "       4.100e+02, 3.700e+02, 1.070e+02, 1.290e+02, 7.200e+01, 2.160e+02,\n",
              "       3.640e+02, 4.610e+02, 4.000e+01, 6.060e+02, 3.520e+02, 2.920e+02,\n",
              "       2.720e+02, 5.970e+02, 4.660e+02, 2.590e+02, 3.880e+02, 5.190e+02,\n",
              "       3.770e+02, 4.160e+02, 5.630e+02, 2.440e+02, 4.490e+02, 4.570e+02,\n",
              "       5.980e+02, 8.700e+01, 3.740e+02, 5.440e+02, 5.470e+02, 4.520e+02,\n",
              "       3.860e+02, 3.630e+02, 5.390e+02, 5.900e+02, 2.320e+02, 9.800e+01,\n",
              "       7.150e+02, 3.260e+02, 3.870e+02, 1.780e+02, 5.910e+02, 2.310e+02,\n",
              "       6.950e+02, 6.480e+02, 1.460e+02, 2.780e+02, 5.700e+01, 3.360e+02,\n",
              "       3.190e+02, 1.550e+02, 5.490e+02, 2.770e+02, 4.340e+02, 6.130e+02,\n",
              "       2.490e+02, 6.600e+01, 4.330e+02, 4.150e+02, 1.130e+02, 4.850e+02,\n",
              "       1.690e+02, 5.800e+02, 1.870e+02, 4.590e+02, 8.100e+01, 3.720e+02,\n",
              "       9.600e+01, 4.690e+02, 8.840e+02, 3.680e+02, 3.440e+02, 2.860e+02,\n",
              "       4.700e+01, 5.830e+02, 2.650e+02, 1.620e+02, 9.100e+01, 3.270e+02,\n",
              "       1.560e+02, 5.790e+02, 2.730e+02, 6.330e+02, 1.360e+02, 4.240e+02,\n",
              "       4.350e+02, 6.800e+01, 2.090e+02, 5.650e+02, 3.900e+02, 2.200e+02,\n",
              "       6.300e+01, 3.890e+02, 2.290e+02, 5.100e+02, 2.220e+02, 4.740e+02,\n",
              "       5.600e+01, 2.480e+02, 4.990e+02, 5.520e+02, 5.960e+02, 1.220e+02,\n",
              "       6.390e+02, 5.560e+02, 2.820e+02, 1.420e+02, 1.660e+02, 5.000e+01,\n",
              "       5.670e+02, 1.830e+02, 3.390e+02, 3.000e+02, 2.630e+02, 4.290e+02,\n",
              "       3.550e+02, 4.090e+02, 5.180e+02, 4.070e+02, 5.330e+02, 1.109e+03,\n",
              "       1.010e+02, 2.020e+02, 1.970e+02, 7.250e+02, 4.440e+02, 3.070e+02,\n",
              "       2.870e+02, 1.940e+02, 3.020e+02, 3.040e+02, 1.740e+02, 1.610e+02,\n",
              "       4.650e+02, 5.270e+02, 5.300e+01, 4.170e+02, 6.670e+02, 1.380e+02,\n",
              "       3.200e+01, 3.370e+02, 2.940e+02, 1.190e+02, 7.300e+02, 1.520e+02,\n",
              "       5.380e+02, 5.460e+02, 3.620e+02, 5.040e+02, 4.000e+02, 2.250e+02,\n",
              "       3.350e+02, 3.500e+01, 7.230e+02, 1.370e+02, 3.540e+02, 3.200e+02,\n",
              "       5.510e+02, 3.530e+02, 3.760e+02, 1.700e+02, 4.960e+02, 4.190e+02,\n",
              "       3.570e+02, 1.670e+02, 6.380e+02, 3.410e+02, 4.120e+02, 5.530e+02,\n",
              "       5.370e+02, 5.060e+02, 1.640e+02, 5.690e+02, 4.110e+02, 7.030e+02,\n",
              "       2.990e+02, 6.620e+02, 4.760e+02, 2.690e+02, 2.980e+02, 5.350e+02,\n",
              "       8.300e+01, 5.480e+02, 4.230e+02, 4.530e+02, 4.500e+02, 7.300e+01,\n",
              "       5.160e+02, 3.670e+02, 4.930e+02, 9.250e+02, 1.390e+02, 1.040e+02,\n",
              "       4.840e+02, 6.100e+02, 4.380e+02, 1.100e+02, 4.890e+02, 6.350e+02,\n",
              "       4.430e+02, 4.180e+02, 5.420e+02, 2.050e+02, 4.920e+02, 4.500e+01,\n",
              "       3.990e+02, 1.790e+02, 1.920e+02, 6.150e+02, 7.100e+02, 1.147e+03,\n",
              "       4.460e+02, 4.950e+02, 7.100e+01, 6.450e+02, 5.030e+02, 3.840e+02,\n",
              "       6.270e+02, 5.940e+02, 1.350e+02, 8.200e+01, 2.040e+02, 6.140e+02,\n",
              "       6.370e+02, 2.430e+02, 1.470e+02, 2.240e+02, 4.830e+02, 4.700e+02,\n",
              "       7.800e+01, 3.180e+02, 1.090e+02, 3.560e+02, 5.660e+02, 3.810e+02,\n",
              "       6.180e+02, 3.000e+01, 3.100e+01, 7.400e+01, 1.930e+02, 2.080e+02,\n",
              "       3.650e+02, 1.030e+02, 2.750e+02, 3.340e+02, 5.140e+02, 7.570e+02,\n",
              "       1.630e+02, 2.270e+02, 2.890e+02, 3.590e+02, 5.500e+02, 5.540e+02,\n",
              "       2.360e+02, 1.600e+02, 6.000e+01, 2.150e+02, 3.140e+02, 5.000e+02,\n",
              "       4.940e+02, 3.500e+02])"
            ]
          },
          "metadata": {},
          "execution_count": 162
        }
      ]
    },
    {
      "cell_type": "code",
      "source": [
        "# količina neke jedinstvene vrijednosti u datasetu\n",
        "df['Num_of_Delayed_Payment'].value_counts(dropna=False)"
      ],
      "metadata": {
        "colab": {
          "base_uri": "https://localhost:8080/"
        },
        "outputId": "22e6fa83-9d80-477f-e72d-301c94d4de7b",
        "id": "2ilCHEQOIA_q"
      },
      "execution_count": null,
      "outputs": [
        {
          "output_type": "execute_result",
          "data": {
            "text/plain": [
              "19.0     6108\n",
              "18.0     5713\n",
              "16.0     5690\n",
              "15.0     5570\n",
              "9.0      5506\n",
              "         ... \n",
              "434.0       8\n",
              "613.0       8\n",
              "433.0       8\n",
              "113.0       8\n",
              "350.0       8\n",
              "Name: Num_of_Delayed_Payment, Length: 452, dtype: int64"
            ]
          },
          "metadata": {},
          "execution_count": 163
        }
      ]
    },
    {
      "cell_type": "code",
      "source": [
        "# Deskriptivna statistika za kolonu\n",
        "df['Num_of_Delayed_Payment'].describe(percentiles=[.25, .5, .75], include=\"all\")"
      ],
      "metadata": {
        "colab": {
          "base_uri": "https://localhost:8080/"
        },
        "outputId": "4f789865-6535-4eb5-d28f-4f29a79554db",
        "id": "6BG0v2tWIA_q"
      },
      "execution_count": null,
      "outputs": [
        {
          "output_type": "execute_result",
          "data": {
            "text/plain": [
              "count    100022.000000\n",
              "mean         30.611455\n",
              "std          84.007060\n",
              "min           0.000000\n",
              "25%           9.000000\n",
              "50%          14.000000\n",
              "75%          19.000000\n",
              "max        1147.000000\n",
              "Name: Num_of_Delayed_Payment, dtype: float64"
            ]
          },
          "metadata": {},
          "execution_count": 164
        }
      ]
    },
    {
      "cell_type": "code",
      "source": [
        "# Histogram\n",
        "\n",
        "plt.figure()\n",
        "plt.title('Num_of_Delayed_Payment')\n",
        "df['Num_of_Delayed_Payment'].hist()"
      ],
      "metadata": {
        "colab": {
          "base_uri": "https://localhost:8080/",
          "height": 298
        },
        "outputId": "ff95fd3f-f51d-412b-c805-d0f69b79903d",
        "id": "4exrbC_VIA_r"
      },
      "execution_count": null,
      "outputs": [
        {
          "output_type": "execute_result",
          "data": {
            "text/plain": [
              "<matplotlib.axes._subplots.AxesSubplot at 0x7f312dddcd00>"
            ]
          },
          "metadata": {},
          "execution_count": 165
        },
        {
          "output_type": "display_data",
          "data": {
            "text/plain": [
              "<Figure size 432x288 with 1 Axes>"
            ],
            "image/png": "[encoded data removed]"
          },
          "metadata": {
            "needs_background": "light"
          }
        }
      ]
    },
    {
      "cell_type": "code",
      "source": [
        "# Boxplot\n",
        "df.boxplot(['Num_of_Delayed_Payment'])"
      ],
      "metadata": {
        "colab": {
          "base_uri": "https://localhost:8080/",
          "height": 286
        },
        "outputId": "ad2980e8-24d1-4dc4-f274-71f632d1e449",
        "id": "OGR48CW6IA_s"
      },
      "execution_count": null,
      "outputs": [
        {
          "output_type": "execute_result",
          "data": {
            "text/plain": [
              "<matplotlib.axes._subplots.AxesSubplot at 0x7f312ddf8cd0>"
            ]
          },
          "metadata": {},
          "execution_count": 166
        },
        {
          "output_type": "display_data",
          "data": {
            "text/plain": [
              "<Figure size 432x288 with 1 Axes>"
            ],
            "image/png": "[encoded data removed]"
          },
          "metadata": {
            "needs_background": "light"
          }
        }
      ]
    },
    {
      "cell_type": "markdown",
      "source": [
        "## **Transformacija kolone \"Changed_Credit_Limit\"**\n",
        "\n",
        " Unutar kolone \"Changed_Credit_Limit\" nalaze se vrijednosti koje su stringovi, \n",
        " iz razloga što neke vrijednosti imaju dodatan tekst uz vrijednost.\n",
        " Taj tekst smo uklonuli i kolonu prebacili u float vrijednosti.\n",
        " Unutar kolone je postojala i vrijednost _. Tu smo vrijednost prvo transformisali \n",
        " u NaN, da bismo kolonu mogli prebaciti u float. Nakon čega smo vrijednosi NaN,\n",
        " transformisali u median vrijednost kolone."
      ],
      "metadata": {
        "id": "io3dihbGJPYj"
      }
    },
    {
      "cell_type": "code",
      "source": [
        "# Transformacija\n",
        "df['Changed_Credit_Limit'].replace('_', np.NaN, inplace = True)\n",
        "df['Changed_Credit_Limit'] = df['Changed_Credit_Limit'].astype('float')\n",
        "df[\"Changed_Credit_Limit\"] = df.groupby(\"Customer_ID\")['Changed_Credit_Limit'].transform(\"mean\")"
      ],
      "metadata": {
        "id": "eCe7R7HtJVTv"
      },
      "execution_count": null,
      "outputs": []
    },
    {
      "cell_type": "code",
      "source": [
        "# Jedinstvene vrijednosti\n",
        "df['Changed_Credit_Limit'].unique()"
      ],
      "metadata": {
        "colab": {
          "base_uri": "https://localhost:8080/"
        },
        "outputId": "e51a1102-2a7b-4efb-f5aa-83cf128eed45",
        "id": "iOpvxr6YJVTw"
      },
      "execution_count": null,
      "outputs": [
        {
          "output_type": "execute_result",
          "data": {
            "text/plain": [
              "array([10.27      ,  5.795     ,  7.85      , ..., 18.93714286,\n",
              "       17.55857143,  0.965     ])"
            ]
          },
          "metadata": {},
          "execution_count": 169
        }
      ]
    },
    {
      "cell_type": "code",
      "source": [
        "# količina neke jedinstvene vrijednosti u datasetu\n",
        "df['Changed_Credit_Limit'].value_counts(dropna=False)"
      ],
      "metadata": {
        "colab": {
          "base_uri": "https://localhost:8080/"
        },
        "outputId": "0b45a70a-ccaf-464a-a78d-8d4e9d25f045",
        "id": "dZWrI7xxJVTx"
      },
      "execution_count": null,
      "outputs": [
        {
          "output_type": "execute_result",
          "data": {
            "text/plain": [
              "11.020000    80\n",
              "8.770000     80\n",
              "8.230000     80\n",
              "9.250000     80\n",
              "8.190000     80\n",
              "             ..\n",
              "14.305714     8\n",
              "9.797143      8\n",
              "20.665000     8\n",
              "29.085000     8\n",
              "0.965000      8\n",
              "Name: Changed_Credit_Limit, Length: 5894, dtype: int64"
            ]
          },
          "metadata": {},
          "execution_count": 170
        }
      ]
    },
    {
      "cell_type": "code",
      "source": [
        "# Deskriptivna statistika za kolonu\n",
        "df['Changed_Credit_Limit'].describe(percentiles=[.25, .5, .75], include=\"all\")"
      ],
      "metadata": {
        "colab": {
          "base_uri": "https://localhost:8080/"
        },
        "outputId": "da97370d-b6a9-4736-ab08-ec9265e5f5d5",
        "id": "HOcDJsKqJVTy"
      },
      "execution_count": null,
      "outputs": [
        {
          "output_type": "execute_result",
          "data": {
            "text/plain": [
              "count    100022.000000\n",
              "mean         10.388280\n",
              "std           6.542724\n",
              "min          -1.070000\n",
              "25%           5.455000\n",
              "50%           9.370000\n",
              "75%          14.655000\n",
              "max          31.115000\n",
              "Name: Changed_Credit_Limit, dtype: float64"
            ]
          },
          "metadata": {},
          "execution_count": 171
        }
      ]
    },
    {
      "cell_type": "code",
      "source": [
        "# Histogram\n",
        "\n",
        "plt.figure()\n",
        "plt.title('Changed_Credit_Limit')\n",
        "df['Changed_Credit_Limit'].hist()"
      ],
      "metadata": {
        "colab": {
          "base_uri": "https://localhost:8080/",
          "height": 298
        },
        "outputId": "7d7c6ba6-a4a9-426c-d906-4368cfa91599",
        "id": "8ApJRIkKJVT0"
      },
      "execution_count": null,
      "outputs": [
        {
          "output_type": "execute_result",
          "data": {
            "text/plain": [
              "<matplotlib.axes._subplots.AxesSubplot at 0x7f312bce0d30>"
            ]
          },
          "metadata": {},
          "execution_count": 172
        },
        {
          "output_type": "display_data",
          "data": {
            "text/plain": [
              "<Figure size 432x288 with 1 Axes>"
            ],
            "image/png": "[encoded data removed]"
          },
          "metadata": {
            "needs_background": "light"
          }
        }
      ]
    },
    {
      "cell_type": "code",
      "source": [
        "# Boxplot\n",
        "df.boxplot(['Changed_Credit_Limit'])"
      ],
      "metadata": {
        "colab": {
          "base_uri": "https://localhost:8080/",
          "height": 283
        },
        "outputId": "4756ec54-7151-471f-9560-59d3cf4203f4",
        "id": "BKabuxF4JVT2"
      },
      "execution_count": null,
      "outputs": [
        {
          "output_type": "execute_result",
          "data": {
            "text/plain": [
              "<matplotlib.axes._subplots.AxesSubplot at 0x7f312bce0040>"
            ]
          },
          "metadata": {},
          "execution_count": 174
        },
        {
          "output_type": "display_data",
          "data": {
            "text/plain": [
              "<Figure size 432x288 with 1 Axes>"
            ],
            "image/png": "[encoded data removed]"
          },
          "metadata": {
            "needs_background": "light"
          }
        }
      ]
    },
    {
      "cell_type": "markdown",
      "source": [
        "## **Transformacija kolone \"Num_Credit_Inquiries\"**\n",
        "\n",
        " Unutar kolone \"Num_Credit_Inquiries\" nalazi se dosta outliera.\n",
        " Njih cemo rijesiti grupisanjem po CustomerId, i određivanjem mean za grupu."
      ],
      "metadata": {
        "id": "vLm4p9dzJ8mB"
      }
    },
    {
      "cell_type": "code",
      "source": [
        "# Transformacija\n",
        "df[\"Num_Credit_Inquiries\"] = df.groupby(\"Customer_ID\")['Num_Credit_Inquiries'].transform(\"mean\")\n",
        "df['Num_Credit_Inquiries'] = df['Num_Credit_Inquiries'].apply(np.floor)"
      ],
      "metadata": {
        "id": "6PFoSMcgJ9Gg"
      },
      "execution_count": null,
      "outputs": []
    },
    {
      "cell_type": "code",
      "source": [
        "# Jedinstvene vrijednosti\n",
        "df['Num_Credit_Inquiries'].unique()"
      ],
      "metadata": {
        "colab": {
          "base_uri": "https://localhost:8080/"
        },
        "outputId": "3cbedd2e-42ac-46d0-b629-28a687134429",
        "id": "PXlky1gHJ9Gh"
      },
      "execution_count": null,
      "outputs": [
        {
          "output_type": "execute_result",
          "data": {
            "text/plain": [
              "array([  4.,   2.,   3.,   5.,   6.,   7.,   0.,   9.,   1., 136., 437.,\n",
              "        10.,  77.,   8.,  11., 202.,  66.,  13.,  12., 160.,  15.,  14.,\n",
              "        17.,  37.,  18.,  87., 161., 240., 245., 341., 164., 158., 317.,\n",
              "       285., 137., 150., 257., 250., 151., 287., 130., 189.,  57.,  74.,\n",
              "       122., 106., 230., 169., 368., 219.,  75.,  79., 146., 273., 156.,\n",
              "       129.,  23., 482., 104., 263., 152., 271., 166.,  67., 221.,  43.,\n",
              "        61., 194., 171., 374., 278.,  69., 100., 235., 178., 282.,  49.,\n",
              "        29.,  35., 234., 180.,  58., 168.,  16., 183., 163., 147.,  41.,\n",
              "       288., 326., 195.,  33., 116., 576., 121., 176., 212., 159., 157.,\n",
              "       184., 131.,  76., 207., 268.,  92., 196., 205., 259., 294., 270.,\n",
              "       188., 289., 277., 154., 108., 264., 142., 225.,  53., 269.,  51.,\n",
              "        38., 247., 253., 291., 231., 321.,  32., 276.,  56.,  40., 329.,\n",
              "       280., 243.,  85., 299., 261., 300., 102., 367.,  63.,  86., 255.,\n",
              "       281., 135., 177.,  26., 304., 200., 323., 315.,  47., 125., 228.,\n",
              "        83.,  88., 301.,  45., 320., 242., 499., 191., 241., 139., 145.,\n",
              "       292., 446., 256., 258.,  42.,  31., 206., 111., 134.,  70.,  19.,\n",
              "       481., 208., 209., 232., 117., 297., 239.,  73., 165.,  21., 141.,\n",
              "        28., 254., 109., 179., 113., 401.,  93., 216., 334., 557., 284.,\n",
              "        68., 222., 344.,  89., 127.,  24., 118., 369., 197., 210., 211.,\n",
              "        36., 373.,  22., 133., 322., 124., 328., 186., 360., 423., 220.,\n",
              "       149., 248., 128., 312.,  71., 199.,  91., 162., 311., 170., 201.,\n",
              "       175., 303., 204., 565., 290., 307., 223., 229., 173.,  78.,  81.,\n",
              "        72., 107., 279., 262.,  50., 286., 275.,  84., 214., 198., 251.,\n",
              "        25., 324., 143., 469., 123., 233.,  82., 283.,  95., 120., 174.,\n",
              "       314., 181., 193., 185., 237., 148., 560., 252., 296.,  90., 172.,\n",
              "       224.,  80., 226., 305., 260., 249., 213., 363., 310., 119.,  62.,\n",
              "       101., 105., 352., 236., 265., 182., 327.,  44.,  54., 246., 302.,\n",
              "       217.,  64., 192.,  94., 462., 333., 319.,  96., 190., 114., 267.,\n",
              "        99.,  65.,  34.,  59., 380.,  46., 140.,  97., 132., 144., 295.,\n",
              "       308., 227., 274., 350., 153., 390., 203.,  27.,  39., 332., 389.,\n",
              "       309.,  60., 138., 345.,  20., 575., 354., 112., 306., 325., 602.,\n",
              "       330., 238., 115.,  52.,  30., 155., 365., 335., 103., 414., 418.,\n",
              "       510., 413., 443., 541., 110., 331., 167., 244., 567., 348., 313.,\n",
              "       458., 298., 126., 353., 215., 472., 293., 318.,  48., 362., 438.,\n",
              "       549., 396.,  55., 408., 357., 316.])"
            ]
          },
          "metadata": {},
          "execution_count": 181
        }
      ]
    },
    {
      "cell_type": "code",
      "source": [
        "# količina neke jedinstvene vrijednosti u datasetu\n",
        "df['Num_Credit_Inquiries'].value_counts(dropna=False)"
      ],
      "metadata": {
        "colab": {
          "base_uri": "https://localhost:8080/"
        },
        "outputId": "99b30385-85e9-4e8f-c438-fa8b07efc954",
        "id": "5cJVbl6bJ9Gi"
      },
      "execution_count": null,
      "outputs": [
        {
          "output_type": "execute_result",
          "data": {
            "text/plain": [
              "4.0      10611\n",
              "3.0       9161\n",
              "2.0       8226\n",
              "1.0       7408\n",
              "7.0       7018\n",
              "         ...  \n",
              "47.0         8\n",
              "602.0        8\n",
              "330.0        8\n",
              "238.0        8\n",
              "316.0        8\n",
              "Name: Num_Credit_Inquiries, Length: 380, dtype: int64"
            ]
          },
          "metadata": {},
          "execution_count": 182
        }
      ]
    },
    {
      "cell_type": "code",
      "source": [
        "# Deskriptivna statistika za kolonu\n",
        "df['Num_Credit_Inquiries'].describe(percentiles=[.25, .5, .75], include=\"all\")"
      ],
      "metadata": {
        "colab": {
          "base_uri": "https://localhost:8080/"
        },
        "outputId": "6db487a5-e797-497d-d242-c2436e28ade7",
        "id": "IJ-nqbosJ9Gj"
      },
      "execution_count": null,
      "outputs": [
        {
          "output_type": "execute_result",
          "data": {
            "text/plain": [
              "count    100022.000000\n",
              "mean         27.407770\n",
              "std          68.758637\n",
              "min           0.000000\n",
              "25%           3.000000\n",
              "50%           6.000000\n",
              "75%          10.000000\n",
              "max         602.000000\n",
              "Name: Num_Credit_Inquiries, dtype: float64"
            ]
          },
          "metadata": {},
          "execution_count": 183
        }
      ]
    },
    {
      "cell_type": "code",
      "source": [
        "# Histogram\n",
        "\n",
        "plt.figure()\n",
        "plt.title('Num_Credit_Inquiries')\n",
        "df['Num_Credit_Inquiries'].hist()"
      ],
      "metadata": {
        "colab": {
          "base_uri": "https://localhost:8080/",
          "height": 298
        },
        "outputId": "7705d8e2-7c38-4a7c-fea3-465aa39a82da",
        "id": "SiqwrF25J9Gj"
      },
      "execution_count": null,
      "outputs": [
        {
          "output_type": "execute_result",
          "data": {
            "text/plain": [
              "<matplotlib.axes._subplots.AxesSubplot at 0x7f312bc78f40>"
            ]
          },
          "metadata": {},
          "execution_count": 184
        },
        {
          "output_type": "display_data",
          "data": {
            "text/plain": [
              "<Figure size 432x288 with 1 Axes>"
            ],
            "image/png": "[encoded data removed]"
          },
          "metadata": {
            "needs_background": "light"
          }
        }
      ]
    },
    {
      "cell_type": "code",
      "source": [
        "# Boxplot\n",
        "df.boxplot(['Num_Credit_Inquiries'])"
      ],
      "metadata": {
        "colab": {
          "base_uri": "https://localhost:8080/",
          "height": 283
        },
        "outputId": "9b34e6ce-f015-4f33-dee6-11cc164bd660",
        "id": "O1d6pJrWJ9Gk"
      },
      "execution_count": null,
      "outputs": [
        {
          "output_type": "execute_result",
          "data": {
            "text/plain": [
              "<matplotlib.axes._subplots.AxesSubplot at 0x7f312bc82730>"
            ]
          },
          "metadata": {},
          "execution_count": 185
        },
        {
          "output_type": "display_data",
          "data": {
            "text/plain": [
              "<Figure size 432x288 with 1 Axes>"
            ],
            "image/png": "[encoded data removed]"
          },
          "metadata": {
            "needs_background": "light"
          }
        }
      ]
    },
    {
      "cell_type": "markdown",
      "source": [
        "## **Transformacija kolone \"Credit_Mix\"**\n",
        "\n",
        " Unutar kolone \"Credit_Mix\" nalaze se 4 različite vrijednosti. Sve su intuitivne,\n",
        " sem vrijednosti '_'. Tu smo vrijednost zamijenili sa \"Unknown\""
      ],
      "metadata": {
        "id": "87B2fNsWKiZN"
      }
    },
    {
      "cell_type": "code",
      "source": [
        "# Transformacija\n",
        "df['Credit_Mix'].replace('_', 'Unknown', inplace = True)"
      ],
      "metadata": {
        "id": "SFJMm2PCKizP"
      },
      "execution_count": null,
      "outputs": []
    },
    {
      "cell_type": "code",
      "source": [
        "# Jedinstvene vrijednosti\n",
        "df['Credit_Mix'].unique()"
      ],
      "metadata": {
        "colab": {
          "base_uri": "https://localhost:8080/"
        },
        "outputId": "bd0d5108-d44b-45d8-99fc-721df4ee844f",
        "id": "acGzYrEzKizQ"
      },
      "execution_count": null,
      "outputs": [
        {
          "output_type": "execute_result",
          "data": {
            "text/plain": [
              "array(['Unknown', 'Good', 'Standard', 'Bad'], dtype=object)"
            ]
          },
          "metadata": {},
          "execution_count": 187
        }
      ]
    },
    {
      "cell_type": "code",
      "source": [
        "# količina neke jedinstvene vrijednosti u datasetu\n",
        "df['Credit_Mix'].value_counts(dropna=False)"
      ],
      "metadata": {
        "colab": {
          "base_uri": "https://localhost:8080/"
        },
        "outputId": "9bc97e9c-5a6e-4ef1-9002-0e03806dd37f",
        "id": "ZWCJBTdKKizR"
      },
      "execution_count": null,
      "outputs": [
        {
          "output_type": "execute_result",
          "data": {
            "text/plain": [
              "Standard    36489\n",
              "Good        24339\n",
              "Unknown     20199\n",
              "Bad         18995\n",
              "Name: Credit_Mix, dtype: int64"
            ]
          },
          "metadata": {},
          "execution_count": 188
        }
      ]
    },
    {
      "cell_type": "code",
      "source": [
        "# Deskriptivna statistika za kolonu\n",
        "df['Credit_Mix'].describe(percentiles=[.25, .5, .75], include=\"all\")"
      ],
      "metadata": {
        "colab": {
          "base_uri": "https://localhost:8080/"
        },
        "outputId": "816009d0-a8b0-4989-90e3-779e2f27e025",
        "id": "5KzifD_JKizS"
      },
      "execution_count": null,
      "outputs": [
        {
          "output_type": "execute_result",
          "data": {
            "text/plain": [
              "count       100022\n",
              "unique           4\n",
              "top       Standard\n",
              "freq         36489\n",
              "Name: Credit_Mix, dtype: object"
            ]
          },
          "metadata": {},
          "execution_count": 189
        }
      ]
    },
    {
      "cell_type": "code",
      "source": [
        "# Histogram\n",
        "\n",
        "plt.figure()\n",
        "plt.title('Credit_Mix')\n",
        "df['Credit_Mix'].hist()"
      ],
      "metadata": {
        "colab": {
          "base_uri": "https://localhost:8080/",
          "height": 298
        },
        "outputId": "dac8e01d-93b4-4388-a9f0-ff3a9c348ebd",
        "id": "6mnL4Nq3KizT"
      },
      "execution_count": null,
      "outputs": [
        {
          "output_type": "execute_result",
          "data": {
            "text/plain": [
              "<matplotlib.axes._subplots.AxesSubplot at 0x7f312bab6220>"
            ]
          },
          "metadata": {},
          "execution_count": 190
        },
        {
          "output_type": "display_data",
          "data": {
            "text/plain": [
              "<Figure size 432x288 with 1 Axes>"
            ],
            "image/png": "[encoded data removed]"
          },
          "metadata": {
            "needs_background": "light"
          }
        }
      ]
    },
    {
      "cell_type": "markdown",
      "source": [
        "## **Transformacija kolone \"Outstanding_Debt\"**\n",
        "\n",
        " Unutar kolone \"Outstanding_Debt\" nalaze se vrijednosti koje su stringovi, \n",
        " iz razloga što neke vrijednosti imaju dodatan tekst uz vrijednost.\n",
        " Taj tekst smo uklonuli i kolonu prebacili u float vrijednosti.\n"
      ],
      "metadata": {
        "id": "Z0L7A9hnK9JG"
      }
    },
    {
      "cell_type": "code",
      "source": [
        "# Transformacija\n",
        "df['Outstanding_Debt'] = df['Outstanding_Debt'].str.replace('_', '')\n",
        "df['Outstanding_Debt'] = df['Outstanding_Debt'].astype('float')\n",
        "df['Outstanding_Debt'] = df['Outstanding_Debt'].fillna(df.mean())\n",
        "df[\"Outstanding_Debt\"] = df.groupby(\"Customer_ID\")['Outstanding_Debt'].transform(\"mean\")"
      ],
      "metadata": {
        "colab": {
          "base_uri": "https://localhost:8080/"
        },
        "id": "Jzy5OJC7K9lE",
        "outputId": "9d09713d-e674-47c3-ef52-c12b3724f9fb"
      },
      "execution_count": null,
      "outputs": [
        {
          "output_type": "stream",
          "name": "stderr",
          "text": [
            "<ipython-input-192-3c9c8c7f912f>:4: FutureWarning: Dropping of nuisance columns in DataFrame reductions (with 'numeric_only=None') is deprecated; in a future version this will raise TypeError.  Select only valid columns before calling the reduction.\n",
            "  df['Outstanding_Debt'] = df['Outstanding_Debt'].fillna(df.mean())\n"
          ]
        }
      ]
    },
    {
      "cell_type": "code",
      "source": [
        "# Jedinstvene vrijednosti\n",
        "df['Outstanding_Debt'].unique()"
      ],
      "metadata": {
        "colab": {
          "base_uri": "https://localhost:8080/"
        },
        "outputId": "4471b64f-dcb0-4305-a61d-3951e011943f",
        "id": "S1p46voEK9lF"
      },
      "execution_count": null,
      "outputs": [
        {
          "output_type": "execute_result",
          "data": {
            "text/plain": [
              "array([ 809.98,  605.03, 1303.01, ...,  620.64, 3571.7 ,  502.38])"
            ]
          },
          "metadata": {},
          "execution_count": 193
        }
      ]
    },
    {
      "cell_type": "code",
      "source": [
        "# količina neke jedinstvene vrijednosti u datasetu\n",
        "df['Outstanding_Debt'].value_counts(dropna=False)"
      ],
      "metadata": {
        "colab": {
          "base_uri": "https://localhost:8080/"
        },
        "outputId": "8dab508f-c4d8-48fa-8987-1be585536f5a",
        "id": "y4TiVy8OK9lG"
      },
      "execution_count": null,
      "outputs": [
        {
          "output_type": "execute_result",
          "data": {
            "text/plain": [
              "1360.45    24\n",
              "460.46     24\n",
              "1151.70    24\n",
              "1109.03    24\n",
              "2552.06    16\n",
              "           ..\n",
              "2344.43     8\n",
              "1255.36     8\n",
              "2462.92     8\n",
              "1195.71     8\n",
              "502.38      8\n",
              "Name: Outstanding_Debt, Length: 12203, dtype: int64"
            ]
          },
          "metadata": {},
          "execution_count": 194
        }
      ]
    },
    {
      "cell_type": "code",
      "source": [
        "# Deskriptivna statistika za kolonu\n",
        "df['Outstanding_Debt'].describe(percentiles=[.25, .5, .75], include=\"all\")"
      ],
      "metadata": {
        "colab": {
          "base_uri": "https://localhost:8080/"
        },
        "outputId": "045e7a79-a9eb-424d-b3d0-6f2a197fec83",
        "id": "o6bUfDnlK9lH"
      },
      "execution_count": null,
      "outputs": [
        {
          "output_type": "execute_result",
          "data": {
            "text/plain": [
              "count    100022.000000\n",
              "mean       1426.277013\n",
              "std        1155.131588\n",
              "min           0.230000\n",
              "25%         566.080000\n",
              "50%        1166.230000\n",
              "75%        1946.810000\n",
              "max        4998.070000\n",
              "Name: Outstanding_Debt, dtype: float64"
            ]
          },
          "metadata": {},
          "execution_count": 195
        }
      ]
    },
    {
      "cell_type": "code",
      "source": [
        "# Histogram\n",
        "\n",
        "plt.figure()\n",
        "plt.title('Outstanding_Debt')\n",
        "df['Outstanding_Debt'].hist()"
      ],
      "metadata": {
        "colab": {
          "base_uri": "https://localhost:8080/",
          "height": 298
        },
        "outputId": "fb2a9760-397d-46df-d557-3651c1a31097",
        "id": "_AMzkc8VK9lI"
      },
      "execution_count": null,
      "outputs": [
        {
          "output_type": "execute_result",
          "data": {
            "text/plain": [
              "<matplotlib.axes._subplots.AxesSubplot at 0x7f312b9e46a0>"
            ]
          },
          "metadata": {},
          "execution_count": 196
        },
        {
          "output_type": "display_data",
          "data": {
            "text/plain": [
              "<Figure size 432x288 with 1 Axes>"
            ],
            "image/png": "[encoded data removed]"
          },
          "metadata": {
            "needs_background": "light"
          }
        }
      ]
    },
    {
      "cell_type": "code",
      "source": [
        "# Boxplot\n",
        "df.boxplot(['Outstanding_Debt'])"
      ],
      "metadata": {
        "colab": {
          "base_uri": "https://localhost:8080/",
          "height": 283
        },
        "outputId": "aca2e463-f549-4244-e1b5-2f7f85b52a5a",
        "id": "MrAaANNFK9lJ"
      },
      "execution_count": null,
      "outputs": [
        {
          "output_type": "execute_result",
          "data": {
            "text/plain": [
              "<matplotlib.axes._subplots.AxesSubplot at 0x7f312b9e4880>"
            ]
          },
          "metadata": {},
          "execution_count": 197
        },
        {
          "output_type": "display_data",
          "data": {
            "text/plain": [
              "<Figure size 432x288 with 1 Axes>"
            ],
            "image/png": "[encoded data removed]"
          },
          "metadata": {
            "needs_background": "light"
          }
        }
      ]
    },
    {
      "cell_type": "markdown",
      "source": [
        "## **Transformacija kolone \"Credit_History_Age\"**\n",
        "\n",
        " Unutar kolone \"Credit_History_Age\" nalaze se vrijednosti koje su stringovi, \n",
        " ali predstavljaju broj godina i mjeseci. S tom informacijom u obliku stringa,\n",
        " ne možemo raditi ništa. Te smo vrijednosti prebacili u broj mjeseci pomoću \n",
        " pomočne metode."
      ],
      "metadata": {
        "id": "DUH5YRthLstX"
      }
    },
    {
      "cell_type": "code",
      "source": [
        "def toMonths(input):\n",
        "  \"\"\"\n",
        "    Pomoćna metoda kreirana za pretvaranje vrijednosti inputa u broj mjeseci\n",
        "  \"\"\"\n",
        "  if input is not np.NaN:\n",
        "    numbers = [int(i) for i in input.split() if i.isdigit()]\n",
        "    if len(numbers) != 2:\n",
        "      return input\n",
        "    years = numbers[0]\n",
        "    months = numbers[1] \n",
        "    total_months = years*12 + months\n",
        "    return total_months"
      ],
      "metadata": {
        "id": "cr0znkiUL65f"
      },
      "execution_count": null,
      "outputs": []
    },
    {
      "cell_type": "code",
      "source": [
        "# Transformacija\n",
        "for x in df['Credit_History_Age'].unique():\n",
        "  df['Credit_History_Age'] = df['Credit_History_Age'].str.replace(str(x), str(toMonths(x)))\n",
        "df[\"Credit_History_Age\"].fillna('0', inplace = True)\n",
        "df['Credit_History_Age'] = df['Credit_History_Age'].astype('float')"
      ],
      "metadata": {
        "id": "cHIki8iLLtDg"
      },
      "execution_count": null,
      "outputs": []
    },
    {
      "cell_type": "code",
      "source": [
        "# Jedinstvene vrijednosti\n",
        "df['Credit_History_Age'].unique()"
      ],
      "metadata": {
        "colab": {
          "base_uri": "https://localhost:8080/"
        },
        "outputId": "d79c26da-7fc3-43bd-e8ec-caef202b9b4c",
        "id": "1m6WCHOeLtDh"
      },
      "execution_count": null,
      "outputs": [
        {
          "output_type": "execute_result",
          "data": {
            "text/plain": [
              "array([2.650e+02, 0.000e+00, 2.670e+02, 2.680e+02, 2.690e+02, 2.700e+02,\n",
              "       2.710e+02, 3.190e+02, 3.200e+02, 3.210e+02, 3.220e+02, 3.230e+02,\n",
              "       3.240e+02, 3.250e+02, 3.260e+02, 2.130e+02, 2.140e+02, 2.150e+02,\n",
              "       2.170e+02, 2.180e+02, 2.190e+02, 2.200e+02, 2.070e+02, 2.080e+02,\n",
              "       2.090e+02, 2.100e+02, 2.110e+02, 2.120e+02, 3.680e+02, 3.690e+02,\n",
              "       3.700e+02, 3.710e+02, 3.720e+02, 3.730e+02, 3.740e+02, 3.750e+02,\n",
              "       3.840e+02, 3.860e+02, 3.870e+02, 3.890e+02, 3.900e+02, 3.670e+02,\n",
              "       1.760e+02, 1.770e+02, 1.780e+02, 1.790e+02, 1.800e+02, 1.810e+02,\n",
              "       1.820e+02, 2.560e+02, 2.570e+02, 2.580e+02, 2.590e+02, 2.600e+02,\n",
              "       2.610e+02, 2.620e+02, 2.630e+02, 3.180e+02, 2.300e+02, 2.310e+02,\n",
              "       2.320e+02, 2.330e+02, 2.340e+02, 2.350e+02, 2.360e+02, 3.050e+02,\n",
              "       3.060e+02, 3.070e+02, 3.080e+02, 3.090e+02, 3.100e+02, 3.110e+02,\n",
              "       3.120e+02, 3.270e+02, 3.280e+02, 3.290e+02, 1.070e+02, 1.080e+02,\n",
              "       1.090e+02, 1.100e+02, 1.110e+02, 1.120e+02, 1.140e+02, 2.210e+02,\n",
              "       2.220e+02, 2.240e+02, 2.250e+02, 2.020e+02, 2.030e+02, 2.040e+02,\n",
              "       2.050e+02, 2.060e+02, 2.110e+03, 2.111e+03, 2.112e+03, 2.114e+03,\n",
              "       3.560e+02, 3.570e+02, 7.700e+01, 7.800e+01, 7.900e+01, 8.000e+01,\n",
              "       8.100e+01, 8.200e+01, 8.300e+01, 8.400e+01, 3.300e+02, 3.310e+02,\n",
              "       3.320e+02, 3.330e+02, 2.230e+02, 2.370e+02, 2.380e+02, 1.210e+02,\n",
              "       1.220e+02, 1.230e+02, 1.240e+02, 1.250e+02, 1.260e+02, 1.270e+02,\n",
              "       1.280e+02, 3.930e+02, 3.940e+02, 3.950e+02, 3.960e+02, 3.970e+02,\n",
              "       4.000e+02, 1.470e+02, 1.480e+02, 1.490e+02, 1.500e+02, 1.510e+02,\n",
              "       1.520e+02, 1.540e+02, 1.530e+02, 1.640e+02, 1.670e+02, 1.680e+02,\n",
              "       1.690e+02, 1.700e+02, 1.710e+02, 3.630e+02, 3.640e+02, 3.650e+02,\n",
              "       3.660e+02, 1.050e+02, 1.060e+02, 1.106e+03, 1.107e+03, 1.108e+03,\n",
              "       1.109e+03, 1.040e+02, 1.570e+02, 1.580e+02, 1.590e+02, 1.610e+02,\n",
              "       1.620e+02, 1.630e+02, 2.640e+02, 3.130e+02, 3.140e+02, 1.600e+02,\n",
              "       1.650e+02, 3.350e+02, 3.360e+02, 3.370e+02, 3.380e+02, 3.390e+02,\n",
              "       3.400e+02, 3.410e+02, 3.420e+02, 9.400e+01, 9.500e+01, 9.600e+01,\n",
              "       9.700e+01, 9.800e+01, 9.900e+01, 1.000e+02, 1.010e+02, 2.910e+02,\n",
              "       2.920e+02, 2.930e+02, 2.940e+02, 2.950e+02, 2.960e+02, 2.970e+02,\n",
              "       1.400e+01, 1.500e+01, 1.600e+01, 1.700e+01, 1.800e+01, 1.900e+01,\n",
              "       2.000e+01, 1.310e+02, 1.320e+02, 1.330e+02, 1.150e+02, 1.160e+02,\n",
              "       1.170e+02, 1.180e+02, 2.390e+02, 2.400e+02, 2.410e+02, 1.290e+02,\n",
              "       1.300e+02, 1.720e+02, 1.730e+02, 1.740e+02, 2.480e+02, 2.490e+02,\n",
              "       2.500e+02, 2.510e+02, 2.520e+02, 2.530e+02, 4.000e+00, 5.000e+00,\n",
              "       6.000e+00, 8.000e+00, 9.000e+00, 1.000e+01, 3.810e+02, 3.820e+02,\n",
              "       3.830e+02, 3.850e+02, 1.550e+02, 1.560e+02, 1.190e+02, 1.200e+02,\n",
              "       1.410e+02, 1.420e+02, 2.980e+02, 2.990e+02, 3.000e+02, 3.010e+02,\n",
              "       3.020e+02, 3.030e+02, 1.960e+02, 3.160e+02, 3.170e+02, 6.200e+01,\n",
              "       6.300e+01, 6.400e+01, 6.500e+01, 6.600e+01, 6.700e+01, 6.800e+01,\n",
              "       6.900e+01, 3.500e+01, 3.600e+01, 3.700e+01, 3.800e+01, 3.900e+01,\n",
              "       4.000e+01, 4.100e+01, 4.200e+01, 2.420e+02, 1.020e+02, 1.030e+02,\n",
              "       5.300e+01, 5.400e+01, 5.500e+01, 5.600e+01, 5.700e+01, 5.800e+01,\n",
              "       5.900e+01, 6.000e+01, 3.920e+02, 1.460e+02, 3.880e+02, 3.590e+02,\n",
              "       3.600e+02, 3.620e+02, 3.150e+02, 2.770e+02, 9.000e+01, 9.100e+01,\n",
              "       9.200e+01, 9.300e+01, 2.103e+03, 2.104e+03, 2.105e+03, 2.106e+03,\n",
              "       3.530e+02, 3.550e+02, 2.430e+02, 2.400e+01, 2.500e+01, 2.600e+01,\n",
              "       2.470e+02, 2.107e+03, 2.108e+03, 1.660e+02, 2.100e+01, 2.200e+01,\n",
              "       2.300e+01, 4.030e+02, 4.040e+02, 2.109e+03, 6.100e+01, 7.000e+01,\n",
              "       7.100e+01, 7.200e+01, 7.300e+01, 7.400e+01, 7.500e+01, 2.730e+02,\n",
              "       2.740e+02, 2.660e+02, 2.700e+01, 2.800e+01, 2.900e+01, 3.000e+01,\n",
              "       3.100e+01, 3.200e+01, 3.300e+01, 3.400e+01, 1.750e+02, 1.130e+02,\n",
              "       1.450e+02, 2.900e+02, 8.500e+01, 8.600e+01, 8.700e+01, 8.800e+01,\n",
              "       8.900e+01, 2.830e+02, 2.840e+02, 2.850e+02, 3.610e+02, 3.580e+02,\n",
              "       2.860e+02, 2.870e+02, 2.880e+02, 2.890e+02, 7.600e+01, 1.000e+00,\n",
              "       2.000e+00, 3.000e+00, 7.000e+00, 4.400e+01, 4.300e+01, 4.500e+01,\n",
              "       4.600e+01, 1.100e+01, 1.200e+01, 1.300e+01, 5.200e+01, 4.700e+01,\n",
              "       4.800e+01, 4.900e+01, 5.000e+01, 5.100e+01])"
            ]
          },
          "metadata": {},
          "execution_count": 200
        }
      ]
    },
    {
      "cell_type": "code",
      "source": [
        "# količina neke jedinstvene vrijednosti u datasetu\n",
        "df['Credit_History_Age'].value_counts(dropna=False)"
      ],
      "metadata": {
        "colab": {
          "base_uri": "https://localhost:8080/"
        },
        "outputId": "4bcdfa0c-bc04-4d5f-c99c-1582d92b2c61",
        "id": "-1hIg_w4LtDi"
      },
      "execution_count": null,
      "outputs": [
        {
          "output_type": "execute_result",
          "data": {
            "text/plain": [
              "0.0      9034\n",
              "196.0     775\n",
              "170.0     688\n",
              "232.0     678\n",
              "171.0     672\n",
              "         ... \n",
              "3.0        20\n",
              "2.0        15\n",
              "403.0      14\n",
              "404.0      12\n",
              "1.0         2\n",
              "Name: Credit_History_Age, Length: 352, dtype: int64"
            ]
          },
          "metadata": {},
          "execution_count": 202
        }
      ]
    },
    {
      "cell_type": "code",
      "source": [
        "# Deskriptivna statistika za kolonu\n",
        "df['Credit_History_Age'].describe(percentiles=[.25, .5, .75], include=\"all\")"
      ],
      "metadata": {
        "colab": {
          "base_uri": "https://localhost:8080/"
        },
        "outputId": "975c39e1-9886-410b-c266-20309aa17754",
        "id": "PU3-VcHbLtDj"
      },
      "execution_count": null,
      "outputs": [
        {
          "output_type": "execute_result",
          "data": {
            "text/plain": [
              "count    100022.000000\n",
              "mean        253.066735\n",
              "std         337.966541\n",
              "min           0.000000\n",
              "25%         110.000000\n",
              "50%         205.000000\n",
              "75%         296.000000\n",
              "max        2114.000000\n",
              "Name: Credit_History_Age, dtype: float64"
            ]
          },
          "metadata": {},
          "execution_count": 203
        }
      ]
    },
    {
      "cell_type": "code",
      "source": [
        "# Histogram\n",
        "\n",
        "plt.figure()\n",
        "plt.title('Credit_History_Age')\n",
        "df['Credit_History_Age'].hist()"
      ],
      "metadata": {
        "colab": {
          "base_uri": "https://localhost:8080/",
          "height": 298
        },
        "outputId": "48dab0c8-4419-4a68-8e79-149fea4dc94c",
        "id": "IlMPphvYLtDk"
      },
      "execution_count": null,
      "outputs": [
        {
          "output_type": "execute_result",
          "data": {
            "text/plain": [
              "<matplotlib.axes._subplots.AxesSubplot at 0x7f312b938df0>"
            ]
          },
          "metadata": {},
          "execution_count": 204
        },
        {
          "output_type": "display_data",
          "data": {
            "text/plain": [
              "<Figure size 432x288 with 1 Axes>"
            ],
            "image/png": "[encoded data removed]"
          },
          "metadata": {
            "needs_background": "light"
          }
        }
      ]
    },
    {
      "cell_type": "code",
      "source": [
        "# Boxplot\n",
        "df.boxplot(['Credit_History_Age'])"
      ],
      "metadata": {
        "colab": {
          "base_uri": "https://localhost:8080/",
          "height": 283
        },
        "outputId": "25afa522-e4ef-43df-a539-93d639ce9a6d",
        "id": "__DTubqcLtDl"
      },
      "execution_count": null,
      "outputs": [
        {
          "output_type": "execute_result",
          "data": {
            "text/plain": [
              "<matplotlib.axes._subplots.AxesSubplot at 0x7f312b783e20>"
            ]
          },
          "metadata": {},
          "execution_count": 205
        },
        {
          "output_type": "display_data",
          "data": {
            "text/plain": [
              "<Figure size 432x288 with 1 Axes>"
            ],
            "image/png": "[encoded data removed]"
          },
          "metadata": {
            "needs_background": "light"
          }
        }
      ]
    },
    {
      "cell_type": "markdown",
      "source": [
        "## **Transformacija kolone \"Payment_of_Min_Amount\"**\n",
        "\n",
        " Unutar kolone \"Payment_of_Min_Amount\" nalaze se kategoricke varijable. \n",
        " Postoje dvije YES i NO varijable, te True i NM varijable. True var \n",
        " cemo prebaciti u YES a NP u No."
      ],
      "metadata": {
        "id": "mbAC0cpKMfME"
      }
    },
    {
      "cell_type": "code",
      "source": [
        "# Transformacija\n",
        "df['Payment_of_Min_Amount'].replace('NM', 'No', inplace = True)\n",
        "df['Payment_of_Min_Amount'].replace('True', 'Yes', inplace = True)"
      ],
      "metadata": {
        "id": "f-SeZqV-Mflw"
      },
      "execution_count": null,
      "outputs": []
    },
    {
      "cell_type": "code",
      "source": [
        "# Jedinstvene vrijednosti\n",
        "df['Payment_of_Min_Amount'].unique()"
      ],
      "metadata": {
        "colab": {
          "base_uri": "https://localhost:8080/"
        },
        "outputId": "7bb8d907-e23b-42b4-903c-d3ad8a3446bb",
        "id": "vYSxYKMkMflw"
      },
      "execution_count": null,
      "outputs": [
        {
          "output_type": "execute_result",
          "data": {
            "text/plain": [
              "array(['No', 'Yes'], dtype=object)"
            ]
          },
          "metadata": {},
          "execution_count": 207
        }
      ]
    },
    {
      "cell_type": "code",
      "source": [
        "# količina neke jedinstvene vrijednosti u datasetu\n",
        "df['Payment_of_Min_Amount'].value_counts(dropna=False)"
      ],
      "metadata": {
        "colab": {
          "base_uri": "https://localhost:8080/"
        },
        "outputId": "35710203-de40-4f56-a773-518eaca7e3d3",
        "id": "43DWyNC5Mflx"
      },
      "execution_count": null,
      "outputs": [
        {
          "output_type": "execute_result",
          "data": {
            "text/plain": [
              "Yes    52340\n",
              "No     47682\n",
              "Name: Payment_of_Min_Amount, dtype: int64"
            ]
          },
          "metadata": {},
          "execution_count": 208
        }
      ]
    },
    {
      "cell_type": "code",
      "source": [
        "# Deskriptivna statistika za kolonu\n",
        "df['Payment_of_Min_Amount'].describe(percentiles=[.25, .5, .75], include=\"all\")"
      ],
      "metadata": {
        "colab": {
          "base_uri": "https://localhost:8080/"
        },
        "outputId": "9b96e7fe-e128-4238-d770-33211baf0ad9",
        "id": "beQzcvM1Mfly"
      },
      "execution_count": null,
      "outputs": [
        {
          "output_type": "execute_result",
          "data": {
            "text/plain": [
              "count     100022\n",
              "unique         2\n",
              "top          Yes\n",
              "freq       52340\n",
              "Name: Payment_of_Min_Amount, dtype: object"
            ]
          },
          "metadata": {},
          "execution_count": 209
        }
      ]
    },
    {
      "cell_type": "code",
      "source": [
        "# Histogram\n",
        "\n",
        "plt.figure()\n",
        "plt.title('Payment_of_Min_Amount')\n",
        "df['Payment_of_Min_Amount'].hist()"
      ],
      "metadata": {
        "colab": {
          "base_uri": "https://localhost:8080/",
          "height": 298
        },
        "outputId": "7e26d7bd-1b56-44d8-bdbb-9010754767e3",
        "id": "EvHPMX5eMfly"
      },
      "execution_count": null,
      "outputs": [
        {
          "output_type": "execute_result",
          "data": {
            "text/plain": [
              "<matplotlib.axes._subplots.AxesSubplot at 0x7f312b7536d0>"
            ]
          },
          "metadata": {},
          "execution_count": 210
        },
        {
          "output_type": "display_data",
          "data": {
            "text/plain": [
              "<Figure size 432x288 with 1 Axes>"
            ],
            "image/png": "[encoded data removed]"
          },
          "metadata": {
            "needs_background": "light"
          }
        }
      ]
    },
    {
      "cell_type": "markdown",
      "source": [
        "## **Transformacija kolone \"Total_EMI_per_month\"**\n",
        "\n",
        " Unutar kolone \"Total_EMI_per_month\" nalazi se dosta outliera.\n",
        " Njih cemo rijesiti grupisanjem po CustomerId, i određivanjem medijane za grupu."
      ],
      "metadata": {
        "id": "f_k-E1kGM_7D"
      }
    },
    {
      "cell_type": "code",
      "source": [
        "# Transformacija\n",
        "df[\"Total_EMI_per_month\"] = df.groupby(\"Customer_ID\")['Total_EMI_per_month'].transform(\"mean\")"
      ],
      "metadata": {
        "id": "l_xYhkS5NAQz"
      },
      "execution_count": null,
      "outputs": []
    },
    {
      "cell_type": "code",
      "source": [
        "# Jedinstvene vrijednosti\n",
        "df['Total_EMI_per_month'].unique()"
      ],
      "metadata": {
        "colab": {
          "base_uri": "https://localhost:8080/"
        },
        "outputId": "33ee554c-d906-4a32-ae44-7f68554665f2",
        "id": "-_YySmGjNAQ0"
      },
      "execution_count": null,
      "outputs": [
        {
          "output_type": "execute_result",
          "data": {
            "text/plain": [
              "array([  49.57494921,   18.81621457,  246.9923195 , ...,   84.20594942,\n",
              "       1567.34417582, 7360.46601978])"
            ]
          },
          "metadata": {},
          "execution_count": 212
        }
      ]
    },
    {
      "cell_type": "code",
      "source": [
        "# količina neke jedinstvene vrijednosti u datasetu\n",
        "df['Total_EMI_per_month'].value_counts(dropna=False)"
      ],
      "metadata": {
        "colab": {
          "base_uri": "https://localhost:8080/"
        },
        "outputId": "1878f2a6-bcd9-4eb9-abe4-61165ecca6aa",
        "id": "sCQijK1hNAQ1"
      },
      "execution_count": null,
      "outputs": [
        {
          "output_type": "execute_result",
          "data": {
            "text/plain": [
              "0.000000       7992\n",
              "7.925876          9\n",
              "35.339358         9\n",
              "65.425242         9\n",
              "69.136840         9\n",
              "               ... \n",
              "80.576532         8\n",
              "56.747677         8\n",
              "39.628117         8\n",
              "7962.789888       8\n",
              "7360.466020       8\n",
              "Name: Total_EMI_per_month, Length: 11502, dtype: int64"
            ]
          },
          "metadata": {},
          "execution_count": 213
        }
      ]
    },
    {
      "cell_type": "code",
      "source": [
        "# Deskriptivna statistika za kolonu\n",
        "df['Total_EMI_per_month'].describe(percentiles=[.25, .5, .75], include=\"all\")"
      ],
      "metadata": {
        "colab": {
          "base_uri": "https://localhost:8080/"
        },
        "outputId": "e0a46867-3b98-4737-e48d-8208ddc747be",
        "id": "cVO0bRalNAQ2"
      },
      "execution_count": null,
      "outputs": [
        {
          "output_type": "execute_result",
          "data": {
            "text/plain": [
              "count    100022.000000\n",
              "mean       1403.551424\n",
              "std        2916.605570\n",
              "min           0.000000\n",
              "25%          41.106397\n",
              "50%         105.277684\n",
              "75%         369.929379\n",
              "max       29986.742104\n",
              "Name: Total_EMI_per_month, dtype: float64"
            ]
          },
          "metadata": {},
          "execution_count": 214
        }
      ]
    },
    {
      "cell_type": "code",
      "source": [
        "# Histogram\n",
        "\n",
        "plt.figure()\n",
        "plt.title('Total_EMI_per_month')\n",
        "df['Total_EMI_per_month'].hist()"
      ],
      "metadata": {
        "colab": {
          "base_uri": "https://localhost:8080/",
          "height": 298
        },
        "outputId": "7ddaf012-6c19-4306-dd6b-5b591330b72f",
        "id": "S5DIDBD9NAQ3"
      },
      "execution_count": null,
      "outputs": [
        {
          "output_type": "execute_result",
          "data": {
            "text/plain": [
              "<matplotlib.axes._subplots.AxesSubplot at 0x7f312b6d1f40>"
            ]
          },
          "metadata": {},
          "execution_count": 215
        },
        {
          "output_type": "display_data",
          "data": {
            "text/plain": [
              "<Figure size 432x288 with 1 Axes>"
            ],
            "image/png": "[encoded data removed]"
          },
          "metadata": {
            "needs_background": "light"
          }
        }
      ]
    },
    {
      "cell_type": "code",
      "source": [
        "# Boxplot\n",
        "df.boxplot(['Total_EMI_per_month'])"
      ],
      "metadata": {
        "colab": {
          "base_uri": "https://localhost:8080/",
          "height": 283
        },
        "outputId": "4a0fd860-455d-46e1-b72a-a86025e48aaa",
        "id": "Dj9kn6CWNAQ4"
      },
      "execution_count": null,
      "outputs": [
        {
          "output_type": "execute_result",
          "data": {
            "text/plain": [
              "<matplotlib.axes._subplots.AxesSubplot at 0x7f312b667d90>"
            ]
          },
          "metadata": {},
          "execution_count": 216
        },
        {
          "output_type": "display_data",
          "data": {
            "text/plain": [
              "<Figure size 432x288 with 1 Axes>"
            ],
            "image/png": "[encoded data removed]"
          },
          "metadata": {
            "needs_background": "light"
          }
        }
      ]
    },
    {
      "cell_type": "markdown",
      "source": [
        "## **Transformacija kolone \"Amount_invested_monthly\"**\n",
        "\n",
        " Unutar kolone \"Amount_invested_monthly\" nalaze se vrijednosti koje su stringovi, \n",
        " iz razloga što neke vrijednosti imaju dodatan tekst uz vrijednost.\n",
        " Taj tekst smo uklonuli i kolonu prebacili u float vrijednosti. Kolonu smo grupisali po CustomerId\n",
        " i uzeli srednju vrijednost Num_of_Delayed_Payment za grupu da bismo transformisali\n",
        " vrijednosti."
      ],
      "metadata": {
        "id": "64E3aXKTNaxk"
      }
    },
    {
      "cell_type": "code",
      "source": [
        "# Transformacija\n",
        "df['Amount_invested_monthly'] = df['Amount_invested_monthly'].str.replace('_', '')\n",
        "df['Amount_invested_monthly'] = df['Amount_invested_monthly'].astype('float')\n",
        "df['Amount_invested_monthly'] = df['Amount_invested_monthly'].fillna(df.mean())\n",
        "df[\"Amount_invested_monthly\"] = df.groupby(\"Customer_ID\")['Amount_invested_monthly'].transform(\"mean\")"
      ],
      "metadata": {
        "colab": {
          "base_uri": "https://localhost:8080/"
        },
        "outputId": "ae489f23-a862-4322-b19c-7bf7b4782e40",
        "id": "AYjicBPzNbIK"
      },
      "execution_count": null,
      "outputs": [
        {
          "output_type": "stream",
          "name": "stderr",
          "text": [
            "<ipython-input-219-d502062b621b>:4: FutureWarning: Dropping of nuisance columns in DataFrame reductions (with 'numeric_only=None') is deprecated; in a future version this will raise TypeError.  Select only valid columns before calling the reduction.\n",
            "  df['Amount_invested_monthly'] = df['Amount_invested_monthly'].fillna(df.mean())\n"
          ]
        }
      ]
    },
    {
      "cell_type": "code",
      "source": [
        "# Jedinstvene vrijednosti\n",
        "df['Amount_invested_monthly'].unique()"
      ],
      "metadata": {
        "colab": {
          "base_uri": "https://localhost:8080/"
        },
        "outputId": "877df799-e3db-432a-acd2-a948210dbc6b",
        "id": "FEe5Bi6cNbIL"
      },
      "execution_count": null,
      "outputs": [
        {
          "output_type": "execute_result",
          "data": {
            "text/plain": [
              "array([  98.35409025,   95.63799934, 2772.30251836, ...,  123.47334229,\n",
              "        100.99204187,  160.06664828])"
            ]
          },
          "metadata": {},
          "execution_count": 220
        }
      ]
    },
    {
      "cell_type": "code",
      "source": [
        "# količina neke jedinstvene vrijednosti u datasetu\n",
        "df['Amount_invested_monthly'].value_counts(dropna=False)"
      ],
      "metadata": {
        "colab": {
          "base_uri": "https://localhost:8080/"
        },
        "outputId": "3c2dbef4-04b0-41e9-984c-9a39bfc57651",
        "id": "IJWhwBzbNbIM"
      },
      "execution_count": null,
      "outputs": [
        {
          "output_type": "execute_result",
          "data": {
            "text/plain": [
              "49.648601      9\n",
              "117.623464     9\n",
              "53.191314      9\n",
              "1258.400286    9\n",
              "132.433016     9\n",
              "              ..\n",
              "1314.040813    8\n",
              "1304.244614    8\n",
              "400.933254     8\n",
              "181.011036     8\n",
              "160.066648     8\n",
              "Name: Amount_invested_monthly, Length: 12500, dtype: int64"
            ]
          },
          "metadata": {},
          "execution_count": 221
        }
      ]
    },
    {
      "cell_type": "code",
      "source": [
        "# Deskriptivna statistika za kolonu\n",
        "df['Amount_invested_monthly'].describe(percentiles=[.25, .5, .75], include=\"all\")"
      ],
      "metadata": {
        "colab": {
          "base_uri": "https://localhost:8080/"
        },
        "outputId": "0d074085-c664-4f63-81d9-87c7036ddbc0",
        "id": "gyGhDRdQNbIN"
      },
      "execution_count": null,
      "outputs": [
        {
          "output_type": "execute_result",
          "data": {
            "text/plain": [
              "count    100022.000000\n",
              "mean        637.472372\n",
              "std         751.418354\n",
              "min          15.292436\n",
              "25%         117.167697\n",
              "50%         233.554522\n",
              "75%        1336.228669\n",
              "max        5748.505316\n",
              "Name: Amount_invested_monthly, dtype: float64"
            ]
          },
          "metadata": {},
          "execution_count": 222
        }
      ]
    },
    {
      "cell_type": "code",
      "source": [
        "# Histogram\n",
        "\n",
        "plt.figure()\n",
        "plt.title('Amount_invested_monthly')\n",
        "df['Amount_invested_monthly'].hist()"
      ],
      "metadata": {
        "colab": {
          "base_uri": "https://localhost:8080/",
          "height": 298
        },
        "outputId": "183f95bb-ea68-47c3-fd34-3f54c7e2a773",
        "id": "n94wXiO0NbIO"
      },
      "execution_count": null,
      "outputs": [
        {
          "output_type": "execute_result",
          "data": {
            "text/plain": [
              "<matplotlib.axes._subplots.AxesSubplot at 0x7f312b5f1ac0>"
            ]
          },
          "metadata": {},
          "execution_count": 223
        },
        {
          "output_type": "display_data",
          "data": {
            "text/plain": [
              "<Figure size 432x288 with 1 Axes>"
            ],
            "image/png": "[encoded data removed]"
          },
          "metadata": {
            "needs_background": "light"
          }
        }
      ]
    },
    {
      "cell_type": "code",
      "source": [
        "# Boxplot\n",
        "df.boxplot(['Amount_invested_monthly'])"
      ],
      "metadata": {
        "colab": {
          "base_uri": "https://localhost:8080/",
          "height": 286
        },
        "outputId": "e78daaaf-6348-46ce-8217-0f0d5543a186",
        "id": "c5xZgfCDNbIS"
      },
      "execution_count": null,
      "outputs": [
        {
          "output_type": "execute_result",
          "data": {
            "text/plain": [
              "<matplotlib.axes._subplots.AxesSubplot at 0x7f312b7f1940>"
            ]
          },
          "metadata": {},
          "execution_count": 224
        },
        {
          "output_type": "display_data",
          "data": {
            "text/plain": [
              "<Figure size 432x288 with 1 Axes>"
            ],
            "image/png": "[encoded data removed]"
          },
          "metadata": {
            "needs_background": "light"
          }
        }
      ]
    },
    {
      "cell_type": "markdown",
      "source": [
        "## **Transformacija kolone \"Payment_Behaviour\"**\n",
        "\n",
        " Unutar kolone \"Payment_Behaviour\" nalaze se vrijednosti koje su stringovi, koji\n",
        " predstavljaju vrstu payment behaviour.  Nakon toga smo kreirali 5 novih kolona koje sadrže informaciju o vrsti payment behaviour. \n",
        " Nakon izvlačenja novih kolona obrisali smo staru kolonu Payment_Behaviour."
      ],
      "metadata": {
        "id": "2m1v6nREOkNr"
      }
    },
    {
      "cell_type": "code",
      "source": [
        "# Transformacija\n",
        "df['Low_spent'] = np.where(df['Payment_Behaviour'].str.contains('Low_spent'), True, False)\n",
        "df['High_spent'] = np.where(df['Payment_Behaviour'].str.contains('High_spent'), True, False)\n",
        "df['Large_value_payments'] = np.where(df['Payment_Behaviour'].str.contains('Large_value_payments'), True, False)\n",
        "df['Medium_value_payments'] = np.where(df['Payment_Behaviour'].str.contains('Medium_value_payments'), True, False)\n",
        "df['Small_value_payments'] = np.where(df['Payment_Behaviour'].str.contains('Small_value_payments'), True, False)\n",
        "df = df.drop(['Payment_Behaviour'], axis=1)"
      ],
      "metadata": {
        "id": "jdOlapjPOkwP"
      },
      "execution_count": null,
      "outputs": []
    },
    {
      "cell_type": "code",
      "source": [
        "# količina neke jedinstvene vrijednosti u datasetu\n",
        "df[['Low_spent', 'High_spent', 'Large_value_payments', 'Medium_value_payments', 'Small_value_payments']].value_counts(dropna=False)"
      ],
      "metadata": {
        "colab": {
          "base_uri": "https://localhost:8080/"
        },
        "outputId": "c7a62709-8fcd-487f-c0da-ae1d220ace8a",
        "id": "InnBJ7xFOkwR"
      },
      "execution_count": null,
      "outputs": [
        {
          "output_type": "execute_result",
          "data": {
            "text/plain": [
              "Low_spent  High_spent  Large_value_payments  Medium_value_payments  Small_value_payments\n",
              "True       False       False                 False                  True                    25521\n",
              "False      True        False                 True                   False                   17544\n",
              "True       False       False                 True                   False                   13862\n",
              "False      True        True                  False                  False                   13725\n",
              "                       False                 False                  True                    11342\n",
              "True       False       True                  False                  False                   10427\n",
              "False      False       False                 False                  False                    7601\n",
              "dtype: int64"
            ]
          },
          "metadata": {},
          "execution_count": 227
        }
      ]
    },
    {
      "cell_type": "code",
      "source": [
        "# Deskriptivna statistika za kolonu\n",
        "df[['Low_spent', 'High_spent', 'Large_value_payments', 'Medium_value_payments', 'Small_value_payments']].describe(percentiles=[.25, .5, .75], include=\"all\")"
      ],
      "metadata": {
        "colab": {
          "base_uri": "https://localhost:8080/",
          "height": 175
        },
        "outputId": "cfe1ebfe-5ac7-4859-e94c-5aaaf50fbac4",
        "id": "sTQ1EiiWOkwS"
      },
      "execution_count": null,
      "outputs": [
        {
          "output_type": "execute_result",
          "data": {
            "text/plain": [
              "       Low_spent High_spent Large_value_payments Medium_value_payments  \\\n",
              "count     100022     100022               100022                100022   \n",
              "unique         2          2                    2                     2   \n",
              "top        False      False                False                 False   \n",
              "freq       50212      57411                75870                 68616   \n",
              "\n",
              "       Small_value_payments  \n",
              "count                100022  \n",
              "unique                    2  \n",
              "top                   False  \n",
              "freq                  63159  "
            ],
            "text/html": [
              "\n",
              "  <div id=\"df-d3b9c0ff-d19c-4440-9479-4f39b6db9a59\">\n",
              "    <div class=\"colab-df-container\">\n",
              "      <div>\n",
              "<style scoped>\n",
              "    .dataframe tbody tr th:only-of-type {\n",
              "        vertical-align: middle;\n",
              "    }\n",
              "\n",
              "    .dataframe tbody tr th {\n",
              "        vertical-align: top;\n",
              "    }\n",
              "\n",
              "    .dataframe thead th {\n",
              "        text-align: right;\n",
              "    }\n",
              "</style>\n",
              "<table border=\"1\" class=\"dataframe\">\n",
              "  <thead>\n",
              "    <tr style=\"text-align: right;\">\n",
              "      <th></th>\n",
              "      <th>Low_spent</th>\n",
              "      <th>High_spent</th>\n",
              "      <th>Large_value_payments</th>\n",
              "      <th>Medium_value_payments</th>\n",
              "      <th>Small_value_payments</th>\n",
              "    </tr>\n",
              "  </thead>\n",
              "  <tbody>\n",
              "    <tr>\n",
              "      <th>count</th>\n",
              "      <td>100022</td>\n",
              "      <td>100022</td>\n",
              "      <td>100022</td>\n",
              "      <td>100022</td>\n",
              "      <td>100022</td>\n",
              "    </tr>\n",
              "    <tr>\n",
              "      <th>unique</th>\n",
              "      <td>2</td>\n",
              "      <td>2</td>\n",
              "      <td>2</td>\n",
              "      <td>2</td>\n",
              "      <td>2</td>\n",
              "    </tr>\n",
              "    <tr>\n",
              "      <th>top</th>\n",
              "      <td>False</td>\n",
              "      <td>False</td>\n",
              "      <td>False</td>\n",
              "      <td>False</td>\n",
              "      <td>False</td>\n",
              "    </tr>\n",
              "    <tr>\n",
              "      <th>freq</th>\n",
              "      <td>50212</td>\n",
              "      <td>57411</td>\n",
              "      <td>75870</td>\n",
              "      <td>68616</td>\n",
              "      <td>63159</td>\n",
              "    </tr>\n",
              "  </tbody>\n",
              "</table>\n",
              "</div>\n",
              "      <button class=\"colab-df-convert\" onclick=\"convertToInteractive('df-d3b9c0ff-d19c-4440-9479-4f39b6db9a59')\"\n",
              "              title=\"Convert this dataframe to an interactive table.\"\n",
              "              style=\"display:none;\">\n",
              "        \n",
              "  <svg xmlns=\"http://www.w3.org/2000/svg\" height=\"24px\"viewBox=\"0 0 24 24\"\n",
              "       width=\"24px\">\n",
              "    <path d=\"M0 0h24v24H0V0z\" fill=\"none\"/>\n",
              "    <path d=\"M18.56 5.44l.94 2.06.94-2.06 2.06-.94-2.06-.94-.94-2.06-.94 2.06-2.06.94zm-11 1L8.5 8.5l.94-2.06 2.06-.94-2.06-.94L8.5 2.5l-.94 2.06-2.06.94zm10 10l.94 2.06.94-2.06 2.06-.94-2.06-.94-.94-2.06-.94 2.06-2.06.94z\"/><path d=\"M17.41 7.96l-1.37-1.37c-.4-.4-.92-.59-1.43-.59-.52 0-1.04.2-1.43.59L10.3 9.45l-7.72 7.72c-.78.78-.78 2.05 0 2.83L4 21.41c.39.39.9.59 1.41.59.51 0 1.02-.2 1.41-.59l7.78-7.78 2.81-2.81c.8-.78.8-2.07 0-2.86zM5.41 20L4 18.59l7.72-7.72 1.47 1.35L5.41 20z\"/>\n",
              "  </svg>\n",
              "      </button>\n",
              "      \n",
              "  <style>\n",
              "    .colab-df-container {\n",
              "      display:flex;\n",
              "      flex-wrap:wrap;\n",
              "      gap: 12px;\n",
              "    }\n",
              "\n",
              "    .colab-df-convert {\n",
              "      background-color: #E8F0FE;\n",
              "      border: none;\n",
              "      border-radius: 50%;\n",
              "      cursor: pointer;\n",
              "      display: none;\n",
              "      fill: #1967D2;\n",
              "      height: 32px;\n",
              "      padding: 0 0 0 0;\n",
              "      width: 32px;\n",
              "    }\n",
              "\n",
              "    .colab-df-convert:hover {\n",
              "      background-color: #E2EBFA;\n",
              "      box-shadow: 0px 1px 2px rgba(60, 64, 67, 0.3), 0px 1px 3px 1px rgba(60, 64, 67, 0.15);\n",
              "      fill: #174EA6;\n",
              "    }\n",
              "\n",
              "    [theme=dark] .colab-df-convert {\n",
              "      background-color: #3B4455;\n",
              "      fill: #D2E3FC;\n",
              "    }\n",
              "\n",
              "    [theme=dark] .colab-df-convert:hover {\n",
              "      background-color: #434B5C;\n",
              "      box-shadow: 0px 1px 3px 1px rgba(0, 0, 0, 0.15);\n",
              "      filter: drop-shadow(0px 1px 2px rgba(0, 0, 0, 0.3));\n",
              "      fill: #FFFFFF;\n",
              "    }\n",
              "  </style>\n",
              "\n",
              "      <script>\n",
              "        const buttonEl =\n",
              "          document.querySelector('#df-d3b9c0ff-d19c-4440-9479-4f39b6db9a59 button.colab-df-convert');\n",
              "        buttonEl.style.display =\n",
              "          google.colab.kernel.accessAllowed ? 'block' : 'none';\n",
              "\n",
              "        async function convertToInteractive(key) {\n",
              "          const element = document.querySelector('#df-d3b9c0ff-d19c-4440-9479-4f39b6db9a59');\n",
              "          const dataTable =\n",
              "            await google.colab.kernel.invokeFunction('convertToInteractive',\n",
              "                                                     [key], {});\n",
              "          if (!dataTable) return;\n",
              "\n",
              "          const docLinkHtml = 'Like what you see? Visit the ' +\n",
              "            '<a target=\"_blank\" href=https://colab.research.google.com/notebooks/data_table.ipynb>data table notebook</a>'\n",
              "            + ' to learn more about interactive tables.';\n",
              "          element.innerHTML = '';\n",
              "          dataTable['output_type'] = 'display_data';\n",
              "          await google.colab.output.renderOutput(dataTable, element);\n",
              "          const docLink = document.createElement('div');\n",
              "          docLink.innerHTML = docLinkHtml;\n",
              "          element.appendChild(docLink);\n",
              "        }\n",
              "      </script>\n",
              "    </div>\n",
              "  </div>\n",
              "  "
            ]
          },
          "metadata": {},
          "execution_count": 228
        }
      ]
    },
    {
      "cell_type": "markdown",
      "source": [
        "## **Transformacija kolone \"Monthly_Balance\"**\n",
        "\n",
        " Unutar kolone \"Monthly_Balance\" nalaze se vrijednosti koje su stringovi, \n",
        " iz razloga što neke vrijednosti imaju dodatan tekst uz vrijednost.\n",
        " Taj tekst smo uklonuli i kolonu prebacili u float vrijednosti.\n",
        "\n",
        "  Kolonu smo grupisali po CustomerId\n",
        " i uzeli srednju vrijednost Num_of_Delayed_Payment za grupu da bismo transformisali\n",
        " vrijednosti."
      ],
      "metadata": {
        "id": "mUVCxEpIPUyG"
      }
    },
    {
      "cell_type": "code",
      "source": [
        "# Transformacija\n",
        "df['Monthly_Balance'] = df['Monthly_Balance'].str.replace('_', '')\n",
        "df['Monthly_Balance'] = df['Monthly_Balance'].astype('float')\n",
        "df['Monthly_Balance'] = df['Monthly_Balance'].fillna(df.mean())\n",
        "df[\"Monthly_Balance\"] = df.groupby(\"Customer_ID\")['Monthly_Balance'].transform(\"mean\")\n",
        "df['Monthly_Balance'].fillna(0, inplace=True)"
      ],
      "metadata": {
        "colab": {
          "base_uri": "https://localhost:8080/"
        },
        "outputId": "fd7a8b56-bee8-4cd1-e797-83e9610958c9",
        "id": "YERZ7bh2PVLY"
      },
      "execution_count": null,
      "outputs": [
        {
          "output_type": "stream",
          "name": "stderr",
          "text": [
            "<ipython-input-235-c2ae93a5f80b>:4: FutureWarning: Dropping of nuisance columns in DataFrame reductions (with 'numeric_only=None') is deprecated; in a future version this will raise TypeError.  Select only valid columns before calling the reduction.\n",
            "  df['Monthly_Balance'] = df['Monthly_Balance'].fillna(df.mean())\n"
          ]
        }
      ]
    },
    {
      "cell_type": "code",
      "source": [
        "# Jedinstvene vrijednosti\n",
        "df['Monthly_Balance'].unique()"
      ],
      "metadata": {
        "colab": {
          "base_uri": "https://localhost:8080/"
        },
        "outputId": "ec2e708b-958a-458f-d987-35d95e261028",
        "id": "YYezEzONPVLZ"
      },
      "execution_count": null,
      "outputs": [
        {
          "output_type": "execute_result",
          "data": {
            "text/plain": [
              "array([304.55529386, 454.34445275, 852.8992359 , ..., 369.39174861,\n",
              "       261.76074295,   0.        ])"
            ]
          },
          "metadata": {},
          "execution_count": 236
        }
      ]
    },
    {
      "cell_type": "code",
      "source": [
        "# količina neke jedinstvene vrijednosti u datasetu\n",
        "df['Monthly_Balance'].value_counts(dropna=False)"
      ],
      "metadata": {
        "colab": {
          "base_uri": "https://localhost:8080/"
        },
        "outputId": "6ac088ca-7d54-465d-844d-770a6a303d60",
        "id": "DUFGeTpIPVLb"
      },
      "execution_count": null,
      "outputs": [
        {
          "output_type": "execute_result",
          "data": {
            "text/plain": [
              " 0.000000e+00    1712\n",
              "-4.166667e+25      72\n",
              " 4.911901e+02       9\n",
              " 2.965212e+02       9\n",
              " 2.766835e+02       9\n",
              "                 ... \n",
              " 3.882080e+02       8\n",
              " 5.605552e+02       8\n",
              " 4.072692e+02       8\n",
              " 2.934905e+02       8\n",
              " 4.468009e+02       8\n",
              "Name: Monthly_Balance, Length: 12279, dtype: int64"
            ]
          },
          "metadata": {},
          "execution_count": 237
        }
      ]
    },
    {
      "cell_type": "code",
      "source": [
        "# Deskriptivna statistika za kolonu\n",
        "df['Monthly_Balance'].describe(percentiles=[.25, .5, .75], include=\"all\")"
      ],
      "metadata": {
        "colab": {
          "base_uri": "https://localhost:8080/"
        },
        "outputId": "ba494391-9e49-44c1-9dfd-c5ae0914d897",
        "id": "E6CvnjVnPVLf"
      },
      "execution_count": null,
      "outputs": [
        {
          "output_type": "execute_result",
          "data": {
            "text/plain": [
              "count    1.000220e+05\n",
              "mean    -2.999340e+22\n",
              "std      1.117514e+24\n",
              "min     -4.166667e+25\n",
              "25%      2.823220e+02\n",
              "50%      3.356855e+02\n",
              "75%      4.600997e+02\n",
              "max      1.349265e+03\n",
              "Name: Monthly_Balance, dtype: float64"
            ]
          },
          "metadata": {},
          "execution_count": 238
        }
      ]
    },
    {
      "cell_type": "code",
      "source": [
        "# Histogram\n",
        "\n",
        "plt.figure()\n",
        "plt.title('Monthly_Balance')\n",
        "df['Monthly_Balance'].hist()"
      ],
      "metadata": {
        "colab": {
          "base_uri": "https://localhost:8080/",
          "height": 311
        },
        "outputId": "3dbae269-a45c-40cc-b9d0-1c5ee05a0839",
        "id": "3zM0DqQCPVLg"
      },
      "execution_count": null,
      "outputs": [
        {
          "output_type": "execute_result",
          "data": {
            "text/plain": [
              "<matplotlib.axes._subplots.AxesSubplot at 0x7f3129a66550>"
            ]
          },
          "metadata": {},
          "execution_count": 239
        },
        {
          "output_type": "display_data",
          "data": {
            "text/plain": [
              "<Figure size 432x288 with 1 Axes>"
            ],
            "image/png": "[encoded data removed]"
          },
          "metadata": {
            "needs_background": "light"
          }
        }
      ]
    },
    {
      "cell_type": "code",
      "source": [
        "# Boxplot\n",
        "df.boxplot(['Monthly_Balance'])"
      ],
      "metadata": {
        "colab": {
          "base_uri": "https://localhost:8080/",
          "height": 294
        },
        "outputId": "6058ecd8-c159-43cb-dc14-21ab6b7ed558",
        "id": "bvubww2sPVLh"
      },
      "execution_count": null,
      "outputs": [
        {
          "output_type": "execute_result",
          "data": {
            "text/plain": [
              "<matplotlib.axes._subplots.AxesSubplot at 0x7f3126841130>"
            ]
          },
          "metadata": {},
          "execution_count": 240
        },
        {
          "output_type": "display_data",
          "data": {
            "text/plain": [
              "<Figure size 432x288 with 1 Axes>"
            ],
            "image/png": "[encoded data removed]"
          },
          "metadata": {
            "needs_background": "light"
          }
        }
      ]
    },
    {
      "cell_type": "markdown",
      "source": [
        "# Sveukupna transformacija u jednoj ćeliji"
      ],
      "metadata": {
        "id": "746UrspYS-WO"
      }
    },
    {
      "cell_type": "code",
      "source": [
        "df = pd.read_csv('/content/drive/Shareddrives/MU/creditscore_dataset.csv')\n",
        "df = df.drop(['Unnamed: 0', 'Unnamed: 0.1', 'Unnamed: 0.1.1'], axis=1)\n",
        "df['Month'].replace(['3', '6', '8'], ['March', 'June', 'August'], inplace=True)\n",
        "df[['Name','Age']] = df.apply(lambda x: split_name_and_age(x['Name_and_Age']), axis=1)\n",
        "df['Age'] = df['Age'].str.replace('_', '')\n",
        "df['Age'] = df['Age'].astype('float')\n",
        "df.loc[(df['Age'] < 0) | (df['Age'] > 122), 'Age'] = np.nan\n",
        "df['Age'] = df['Age'].fillna(df['Age'].mean())\n",
        "df['Age'] = df['Age'].apply(np.floor)\n",
        "df['Name'] = df['Name'].str.title()\n",
        "df = df.drop(['Name_and_Age'], axis=1)\n",
        "df = df.drop(['SSN'], axis=1)\n",
        "df['Occupation'] = df['Occupation'].str.title()\n",
        "df['Occupation'].replace('_______', 'No occupation', inplace = True)\n",
        "df['Occupation'] = df['Occupation'].str.replace(\"_\", \" \")\n",
        "df['Annual_Income'] = df['Annual_Income'].str.replace('_', '')\n",
        "df['Annual_Income'] = df['Annual_Income'].astype('float')\n",
        "df['Annual_Income'] = df['Annual_Income'].fillna(df['Annual_Income'].mean())\n",
        "df['Annual_Income'] = df.groupby('Customer_ID')['Annual_Income'].transform(\"mean\")\n",
        "df['Monthly_Inhand_Salary'] = df.groupby(\"Customer_ID\")['Monthly_Inhand_Salary'].transform(\"mean\")\n",
        "df['Num_Bank_Accounts'] = df['Num_Bank_Accounts'].str.replace('accounts', '')\n",
        "df['Num_Bank_Accounts'] = df['Num_Bank_Accounts'].str.replace(' ', '')\n",
        "df['Num_Bank_Accounts'] = df['Num_Bank_Accounts'].astype('float')\n",
        "df[\"Num_Bank_Accounts\"] = df.groupby(\"Customer_ID\")['Num_Bank_Accounts'].transform(\"mean\")\n",
        "df['Num_Bank_Accounts'] = df['Num_Bank_Accounts'].apply(np.floor)\n",
        "df['Num_Credit_Card'] = df['Num_Credit_Card'].str.replace('cards', '')\n",
        "df['Num_Credit_Card'] = df['Num_Credit_Card'].str.replace(' ', '')\n",
        "df['Num_Credit_Card'] = df['Num_Credit_Card'].astype('float')\n",
        "df[\"Num_Credit_Card\"] = df.groupby(\"Customer_ID\")['Num_Credit_Card'].transform(\"mean\")\n",
        "df['Num_Credit_Card'] = df['Num_Credit_Card'].apply(np.floor)\n",
        "df[\"Interest_Rate\"] = df.groupby(\"Customer_ID\")['Interest_Rate'].transform(\"mean\")\n",
        "df['Num_of_Loan'] = df['Num_of_Loan'].str.replace('_', '')\n",
        "df['Num_of_Loan'] = df['Num_of_Loan'].astype('float')\n",
        "df.loc[(df['Num_of_Loan'] < 0), 'Num_of_Loan'] = np.nan\n",
        "df['Num_of_Loan'] = df['Num_of_Loan'].fillna(df['Num_of_Loan'].mean())\n",
        "df[\"Num_of_Loan\"] = df.groupby(\"Customer_ID\")['Num_of_Loan'].transform(\"mean\")\n",
        "df['Num_of_Loan'] = df['Num_of_Loan'].apply(np.floor)\n",
        "df['Auto_Loan'] = np.where(df['Type_of_Loan'].str.contains('Auto Loan'), True, False)\n",
        "df['Credit_Builder_Loan'] = np.where(df['Type_of_Loan'].str.contains('Credit-Builder Loan'), True, False)\n",
        "df['Personal_Loan'] = np.where(df['Type_of_Loan'].str.contains('Personal Loan'), True, False)\n",
        "df['Home_Equity_Loan'] = np.where(df['Type_of_Loan'].str.contains('Home Equity Loan'), True, False)\n",
        "df['Not_Specified'] = np.where(df['Type_of_Loan'].str.contains('Not Specified') | df['Type_of_Loan'].str.contains('uknown'), True, False)\n",
        "df['Payday_Loan'] = np.where(df['Type_of_Loan'].str.contains('Payday Loan'), True, False)\n",
        "df['Student_Loan'] = np.where(df['Type_of_Loan'].str.contains('Student_Loan'), True, False)\n",
        "df['Mortgage_Loan'] = np.where(df['Type_of_Loan'].str.contains('Mortgage Loan'), True, False)\n",
        "df['Debt_Consolidation_Loan'] = np.where(df['Type_of_Loan'].str.contains('Debt Consolidation Loan'), True, False)\n",
        "df = df.drop(['Type_of_Loan'], axis=1)\n",
        "df['Num_of_Delayed_Payment'] = df['Num_of_Delayed_Payment'].str.replace('_', '')\n",
        "df['Num_of_Delayed_Payment'].replace('_', np.NaN, inplace = True)\n",
        "df['Num_of_Delayed_Payment'].replace('', np.NaN, inplace = True)\n",
        "df['Num_of_Delayed_Payment'] = df['Num_of_Delayed_Payment'].astype('float')\n",
        "df.loc[df['Num_of_Delayed_Payment'] < 0, 'Num_of_Delayed_Payment'] = np.NaN\n",
        "df['Num_of_Delayed_Payment'] = df['Num_of_Delayed_Payment'].fillna(df['Num_of_Delayed_Payment'].mean())\n",
        "df[\"Num_of_Delayed_Payment\"] = df.groupby(\"Customer_ID\")['Num_of_Delayed_Payment'].transform(\"mean\")\n",
        "df['Num_of_Delayed_Payment'] = df['Num_of_Delayed_Payment'].apply(np.floor)\n",
        "df['Changed_Credit_Limit'].replace('_', np.NaN, inplace = True)\n",
        "df['Changed_Credit_Limit'] = df['Changed_Credit_Limit'].astype('float')\n",
        "df[\"Changed_Credit_Limit\"] = df.groupby(\"Customer_ID\")['Changed_Credit_Limit'].transform(\"mean\")\n",
        "df[\"Num_Credit_Inquiries\"] = df.groupby(\"Customer_ID\")['Num_Credit_Inquiries'].transform(\"mean\")\n",
        "df['Num_Credit_Inquiries'] = df['Num_Credit_Inquiries'].apply(np.floor)\n",
        "df['Credit_Mix'].replace('_', 'Unknown', inplace = True)\n",
        "df['Outstanding_Debt'] = df['Outstanding_Debt'].str.replace('_', '')\n",
        "df['Outstanding_Debt'] = df['Outstanding_Debt'].astype('float')\n",
        "df['Outstanding_Debt'] = df['Outstanding_Debt'].fillna(df['Outstanding_Debt'].mean())\n",
        "df[\"Outstanding_Debt\"] = df.groupby(\"Customer_ID\")['Outstanding_Debt'].transform(\"mean\")\n",
        "for x in df['Credit_History_Age'].unique():\n",
        "  df['Credit_History_Age'] = df['Credit_History_Age'].str.replace(str(x), str(toMonths(x)))\n",
        "df['Credit_History_Age'] = df['Credit_History_Age'].astype('float')  \n",
        "df['Credit_History_Age'] = df['Credit_History_Age'].fillna(df['Credit_History_Age'].mean())\n",
        "df[\"Credit_History_Age\"] = df.groupby(\"Customer_ID\")['Credit_History_Age'].transform(\"mean\")\n",
        "df['Payment_of_Min_Amount'].replace('NM', 'No', inplace = True)\n",
        "df['Payment_of_Min_Amount'].replace('True', 'Yes', inplace = True)\n",
        "df[\"Total_EMI_per_month\"] = df.groupby(\"Customer_ID\")['Total_EMI_per_month'].transform(\"mean\")\n",
        "df['Amount_invested_monthly'] = df['Amount_invested_monthly'].str.replace('_', '')\n",
        "df['Amount_invested_monthly'] = df['Amount_invested_monthly'].astype('float')\n",
        "df['Amount_invested_monthly'] = df['Amount_invested_monthly'].fillna(df['Amount_invested_monthly'].mean())\n",
        "df[\"Amount_invested_monthly\"] = df.groupby(\"Customer_ID\")['Amount_invested_monthly'].transform(\"mean\")\n",
        "df['Low_spent'] = np.where(df['Payment_Behaviour'].str.contains('Low_spent'), True, False)\n",
        "df['High_spent'] = np.where(df['Payment_Behaviour'].str.contains('High_spent'), True, False)\n",
        "df['Large_value_payments'] = np.where(df['Payment_Behaviour'].str.contains('Large_value_payments'), True, False)\n",
        "df['Medium_value_payments'] = np.where(df['Payment_Behaviour'].str.contains('Medium_value_payments'), True, False)\n",
        "df['Small_value_payments'] = np.where(df['Payment_Behaviour'].str.contains('Small_value_payments'), True, False)\n",
        "df = df.drop(['Payment_Behaviour'], axis=1)\n",
        "df['Monthly_Balance'] = df['Monthly_Balance'].str.replace('_', '')\n",
        "df['Monthly_Balance'] = df['Monthly_Balance'].astype('float')\n",
        "df['Monthly_Balance'] = df['Monthly_Balance'].fillna(df['Monthly_Balance'].mean())\n",
        "df[\"Monthly_Balance\"] = df.groupby(\"Customer_ID\")['Monthly_Balance'].transform(\"mean\")"
      ],
      "metadata": {
        "id": "MZGQNc7SRhGO"
      },
      "execution_count": null,
      "outputs": []
    },
    {
      "cell_type": "code",
      "source": [
        "df.to_csv(r'/content/drive/Shareddrives/MU/cleared_creditscore_dataset.csv', index=False)"
      ],
      "metadata": {
        "id": "Lcf8G1KdpEEZ"
      },
      "execution_count": null,
      "outputs": []
    },
    {
      "cell_type": "markdown",
      "source": [
        "# **Analiza podataka nakon transformacije**"
      ],
      "metadata": {
        "id": "ZZiZajXZQ_5Z"
      }
    },
    {
      "cell_type": "markdown",
      "source": [
        "Iz slijedeće ćelije koda možemo vidjeti da u poređenju s početnim datasetom, imamo isti broj redova, tj 100022, ali se broj kolona povećao s 30 na 39."
      ],
      "metadata": {
        "id": "VFq3OmyIUePA"
      }
    },
    {
      "cell_type": "code",
      "source": [
        "# dimenzije seta podataka nakon transformacije\n",
        "df.shape"
      ],
      "metadata": {
        "colab": {
          "base_uri": "https://localhost:8080/"
        },
        "id": "LbeR8BUpUH2t",
        "outputId": "7f9bde71-dd48-4b45-b4ff-3d3c56ec3929"
      },
      "execution_count": null,
      "outputs": [
        {
          "output_type": "execute_result",
          "data": {
            "text/plain": [
              "(100022, 39)"
            ]
          },
          "metadata": {},
          "execution_count": 8
        }
      ]
    },
    {
      "cell_type": "markdown",
      "source": [
        "Dosta kolona smo prebacili iz tipa object u tip float, pa imamo više numeričkih varijabli."
      ],
      "metadata": {
        "id": "2Lk7_dvcUxME"
      }
    },
    {
      "cell_type": "code",
      "source": [
        "# nazivi varijabli i tipovi podataka nakon transformacije\n",
        "print(\"Nazivi varijabli i tipovi podataka: \\n\")\n",
        "df.dtypes"
      ],
      "metadata": {
        "colab": {
          "base_uri": "https://localhost:8080/"
        },
        "id": "gHhfOqNgUE4A",
        "outputId": "d7d468bc-f1a6-4e81-edab-957a9d3a5519"
      },
      "execution_count": null,
      "outputs": [
        {
          "output_type": "stream",
          "name": "stdout",
          "text": [
            "Nazivi varijabli i tipovi podataka: \n",
            "\n"
          ]
        },
        {
          "output_type": "execute_result",
          "data": {
            "text/plain": [
              "ID                           object\n",
              "Customer_ID                  object\n",
              "Month                        object\n",
              "Occupation                   object\n",
              "Annual_Income               float64\n",
              "Monthly_Inhand_Salary       float64\n",
              "Num_Bank_Accounts           float64\n",
              "Num_Credit_Card             float64\n",
              "Interest_Rate               float64\n",
              "Num_of_Loan                 float64\n",
              "Delay_from_due_date         float64\n",
              "Num_of_Delayed_Payment      float64\n",
              "Changed_Credit_Limit        float64\n",
              "Num_Credit_Inquiries        float64\n",
              "Credit_Mix                   object\n",
              "Outstanding_Debt            float64\n",
              "Credit_Utilization_Ratio    float64\n",
              "Credit_History_Age          float64\n",
              "Payment_of_Min_Amount        object\n",
              "Total_EMI_per_month         float64\n",
              "Amount_invested_monthly     float64\n",
              "Monthly_Balance             float64\n",
              "Credit_Score                 object\n",
              "Name                         object\n",
              "Age                         float64\n",
              "Auto_Loan                      bool\n",
              "Credit_Builder_Loan            bool\n",
              "Personal_Loan                  bool\n",
              "Home_Equity_Loan               bool\n",
              "Not_Specified                  bool\n",
              "Payday_Loan                    bool\n",
              "Student_Loan                   bool\n",
              "Mortgage_Loan                  bool\n",
              "Debt_Consolidation_Loan        bool\n",
              "Low_spent                      bool\n",
              "High_spent                     bool\n",
              "Large_value_payments           bool\n",
              "Medium_value_payments          bool\n",
              "Small_value_payments           bool\n",
              "dtype: object"
            ]
          },
          "metadata": {},
          "execution_count": 8
        }
      ]
    },
    {
      "cell_type": "markdown",
      "source": [
        "Nakon transformacije sada imamo 17 numeričkih kolona"
      ],
      "metadata": {
        "id": "r_fJuq6LVLpm"
      }
    },
    {
      "cell_type": "code",
      "source": [
        "# Selekcija numeričkih varijabli nakon\n",
        "numerics = ['int16', 'int32', 'int64', 'float16', 'float32', 'float64']\n",
        "df_numerics = df.select_dtypes(include=numerics)\n",
        "df_numerics"
      ],
      "metadata": {
        "colab": {
          "base_uri": "https://localhost:8080/",
          "height": 488
        },
        "id": "fe89SO2uVDW9",
        "outputId": "b894a99a-fcd4-45b4-8889-dd1af6f65671"
      },
      "execution_count": null,
      "outputs": [
        {
          "output_type": "execute_result",
          "data": {
            "text/plain": [
              "        Annual_Income  Monthly_Inhand_Salary  Num_Bank_Accounts  \\\n",
              "0            19114.12            1824.843333                3.0   \n",
              "1            19114.12            1824.843333                3.0   \n",
              "2            19114.12            1824.843333                3.0   \n",
              "3            19114.12            1824.843333                3.0   \n",
              "4            19114.12            1824.843333                3.0   \n",
              "...               ...                    ...                ...   \n",
              "100017       39628.99            3359.415833                4.0   \n",
              "100018       39628.99            3359.415833                4.0   \n",
              "100019       39628.99            3359.415833                4.0   \n",
              "100020       39628.99            3359.415833                4.0   \n",
              "100021       39628.99            3359.415833                4.0   \n",
              "\n",
              "        Num_Credit_Card  Interest_Rate  Num_of_Loan  Delay_from_due_date  \\\n",
              "0                   4.0           3.00          4.0                  3.0   \n",
              "1                   4.0           3.00          4.0                 -1.0   \n",
              "2                   4.0           3.00          4.0                  3.0   \n",
              "3                   4.0           3.00          4.0                  5.0   \n",
              "4                   4.0           3.00          4.0                  6.0   \n",
              "...                 ...            ...          ...                  ...   \n",
              "100017              6.0         722.25          2.0                 23.0   \n",
              "100018              6.0         722.25          2.0                 18.0   \n",
              "100019              6.0         722.25          2.0                 27.0   \n",
              "100020              6.0         722.25          2.0                 20.0   \n",
              "100021              6.0         722.25          2.0                 18.0   \n",
              "\n",
              "        Num_of_Delayed_Payment  Changed_Credit_Limit  Num_Credit_Inquiries  \\\n",
              "0                          6.0                 10.27                   4.0   \n",
              "1                          6.0                 10.27                   4.0   \n",
              "2                          6.0                 10.27                   4.0   \n",
              "3                          6.0                 10.27                   4.0   \n",
              "4                          6.0                 10.27                   4.0   \n",
              "...                        ...                   ...                   ...   \n",
              "100017                     6.0                 11.00                   3.0   \n",
              "100018                     6.0                 11.00                   3.0   \n",
              "100019                     6.0                 11.00                   3.0   \n",
              "100020                     6.0                 11.00                   3.0   \n",
              "100021                     6.0                 11.00                   3.0   \n",
              "\n",
              "        Outstanding_Debt  Credit_Utilization_Ratio  Credit_History_Age  \\\n",
              "0                 809.98                 26.822620               265.0   \n",
              "1                 809.98                 31.944960                 0.0   \n",
              "2                 809.98                 28.609352               267.0   \n",
              "3                 809.98                 31.377862               268.0   \n",
              "4                 809.98                 24.797347               269.0   \n",
              "...                  ...                       ...                 ...   \n",
              "100017            502.38                 34.663572               318.0   \n",
              "100018            502.38                 40.565631               319.0   \n",
              "100019            502.38                 41.255522               320.0   \n",
              "100020            502.38                 33.638208               381.0   \n",
              "100021            502.38                 34.192463               382.0   \n",
              "\n",
              "        Total_EMI_per_month  Amount_invested_monthly  Monthly_Balance   Age  \n",
              "0                 49.574949                98.354090       304.555294  23.0  \n",
              "1                 49.574949                98.354090       304.555294  23.0  \n",
              "2                 49.574949                98.354090       304.555294  33.0  \n",
              "3                 49.574949                98.354090       304.555294  23.0  \n",
              "4                 49.574949                98.354090       304.555294  23.0  \n",
              "...                     ...                      ...              ...   ...  \n",
              "100017          7360.466020               160.066648         0.000000  25.0  \n",
              "100018          7360.466020               160.066648         0.000000  25.0  \n",
              "100019          7360.466020               160.066648         0.000000  25.0  \n",
              "100020          7360.466020               160.066648         0.000000  25.0  \n",
              "100021          7360.466020               160.066648         0.000000  25.0  \n",
              "\n",
              "[100022 rows x 17 columns]"
            ],
            "text/html": [
              "\n",
              "  <div id=\"df-41a0f860-96ff-45a1-b545-ed34e26d0ff0\">\n",
              "    <div class=\"colab-df-container\">\n",
              "      <div>\n",
              "<style scoped>\n",
              "    .dataframe tbody tr th:only-of-type {\n",
              "        vertical-align: middle;\n",
              "    }\n",
              "\n",
              "    .dataframe tbody tr th {\n",
              "        vertical-align: top;\n",
              "    }\n",
              "\n",
              "    .dataframe thead th {\n",
              "        text-align: right;\n",
              "    }\n",
              "</style>\n",
              "<table border=\"1\" class=\"dataframe\">\n",
              "  <thead>\n",
              "    <tr style=\"text-align: right;\">\n",
              "      <th></th>\n",
              "      <th>Annual_Income</th>\n",
              "      <th>Monthly_Inhand_Salary</th>\n",
              "      <th>Num_Bank_Accounts</th>\n",
              "      <th>Num_Credit_Card</th>\n",
              "      <th>Interest_Rate</th>\n",
              "      <th>Num_of_Loan</th>\n",
              "      <th>Delay_from_due_date</th>\n",
              "      <th>Num_of_Delayed_Payment</th>\n",
              "      <th>Changed_Credit_Limit</th>\n",
              "      <th>Num_Credit_Inquiries</th>\n",
              "      <th>Outstanding_Debt</th>\n",
              "      <th>Credit_Utilization_Ratio</th>\n",
              "      <th>Credit_History_Age</th>\n",
              "      <th>Total_EMI_per_month</th>\n",
              "      <th>Amount_invested_monthly</th>\n",
              "      <th>Monthly_Balance</th>\n",
              "      <th>Age</th>\n",
              "    </tr>\n",
              "  </thead>\n",
              "  <tbody>\n",
              "    <tr>\n",
              "      <th>0</th>\n",
              "      <td>19114.12</td>\n",
              "      <td>1824.843333</td>\n",
              "      <td>3.0</td>\n",
              "      <td>4.0</td>\n",
              "      <td>3.00</td>\n",
              "      <td>4.0</td>\n",
              "      <td>3.0</td>\n",
              "      <td>6.0</td>\n",
              "      <td>10.27</td>\n",
              "      <td>4.0</td>\n",
              "      <td>809.98</td>\n",
              "      <td>26.822620</td>\n",
              "      <td>265.0</td>\n",
              "      <td>49.574949</td>\n",
              "      <td>98.354090</td>\n",
              "      <td>304.555294</td>\n",
              "      <td>23.0</td>\n",
              "    </tr>\n",
              "    <tr>\n",
              "      <th>1</th>\n",
              "      <td>19114.12</td>\n",
              "      <td>1824.843333</td>\n",
              "      <td>3.0</td>\n",
              "      <td>4.0</td>\n",
              "      <td>3.00</td>\n",
              "      <td>4.0</td>\n",
              "      <td>-1.0</td>\n",
              "      <td>6.0</td>\n",
              "      <td>10.27</td>\n",
              "      <td>4.0</td>\n",
              "      <td>809.98</td>\n",
              "      <td>31.944960</td>\n",
              "      <td>0.0</td>\n",
              "      <td>49.574949</td>\n",
              "      <td>98.354090</td>\n",
              "      <td>304.555294</td>\n",
              "      <td>23.0</td>\n",
              "    </tr>\n",
              "    <tr>\n",
              "      <th>2</th>\n",
              "      <td>19114.12</td>\n",
              "      <td>1824.843333</td>\n",
              "      <td>3.0</td>\n",
              "      <td>4.0</td>\n",
              "      <td>3.00</td>\n",
              "      <td>4.0</td>\n",
              "      <td>3.0</td>\n",
              "      <td>6.0</td>\n",
              "      <td>10.27</td>\n",
              "      <td>4.0</td>\n",
              "      <td>809.98</td>\n",
              "      <td>28.609352</td>\n",
              "      <td>267.0</td>\n",
              "      <td>49.574949</td>\n",
              "      <td>98.354090</td>\n",
              "      <td>304.555294</td>\n",
              "      <td>33.0</td>\n",
              "    </tr>\n",
              "    <tr>\n",
              "      <th>3</th>\n",
              "      <td>19114.12</td>\n",
              "      <td>1824.843333</td>\n",
              "      <td>3.0</td>\n",
              "      <td>4.0</td>\n",
              "      <td>3.00</td>\n",
              "      <td>4.0</td>\n",
              "      <td>5.0</td>\n",
              "      <td>6.0</td>\n",
              "      <td>10.27</td>\n",
              "      <td>4.0</td>\n",
              "      <td>809.98</td>\n",
              "      <td>31.377862</td>\n",
              "      <td>268.0</td>\n",
              "      <td>49.574949</td>\n",
              "      <td>98.354090</td>\n",
              "      <td>304.555294</td>\n",
              "      <td>23.0</td>\n",
              "    </tr>\n",
              "    <tr>\n",
              "      <th>4</th>\n",
              "      <td>19114.12</td>\n",
              "      <td>1824.843333</td>\n",
              "      <td>3.0</td>\n",
              "      <td>4.0</td>\n",
              "      <td>3.00</td>\n",
              "      <td>4.0</td>\n",
              "      <td>6.0</td>\n",
              "      <td>6.0</td>\n",
              "      <td>10.27</td>\n",
              "      <td>4.0</td>\n",
              "      <td>809.98</td>\n",
              "      <td>24.797347</td>\n",
              "      <td>269.0</td>\n",
              "      <td>49.574949</td>\n",
              "      <td>98.354090</td>\n",
              "      <td>304.555294</td>\n",
              "      <td>23.0</td>\n",
              "    </tr>\n",
              "    <tr>\n",
              "      <th>...</th>\n",
              "      <td>...</td>\n",
              "      <td>...</td>\n",
              "      <td>...</td>\n",
              "      <td>...</td>\n",
              "      <td>...</td>\n",
              "      <td>...</td>\n",
              "      <td>...</td>\n",
              "      <td>...</td>\n",
              "      <td>...</td>\n",
              "      <td>...</td>\n",
              "      <td>...</td>\n",
              "      <td>...</td>\n",
              "      <td>...</td>\n",
              "      <td>...</td>\n",
              "      <td>...</td>\n",
              "      <td>...</td>\n",
              "      <td>...</td>\n",
              "    </tr>\n",
              "    <tr>\n",
              "      <th>100017</th>\n",
              "      <td>39628.99</td>\n",
              "      <td>3359.415833</td>\n",
              "      <td>4.0</td>\n",
              "      <td>6.0</td>\n",
              "      <td>722.25</td>\n",
              "      <td>2.0</td>\n",
              "      <td>23.0</td>\n",
              "      <td>6.0</td>\n",
              "      <td>11.00</td>\n",
              "      <td>3.0</td>\n",
              "      <td>502.38</td>\n",
              "      <td>34.663572</td>\n",
              "      <td>318.0</td>\n",
              "      <td>7360.466020</td>\n",
              "      <td>160.066648</td>\n",
              "      <td>0.000000</td>\n",
              "      <td>25.0</td>\n",
              "    </tr>\n",
              "    <tr>\n",
              "      <th>100018</th>\n",
              "      <td>39628.99</td>\n",
              "      <td>3359.415833</td>\n",
              "      <td>4.0</td>\n",
              "      <td>6.0</td>\n",
              "      <td>722.25</td>\n",
              "      <td>2.0</td>\n",
              "      <td>18.0</td>\n",
              "      <td>6.0</td>\n",
              "      <td>11.00</td>\n",
              "      <td>3.0</td>\n",
              "      <td>502.38</td>\n",
              "      <td>40.565631</td>\n",
              "      <td>319.0</td>\n",
              "      <td>7360.466020</td>\n",
              "      <td>160.066648</td>\n",
              "      <td>0.000000</td>\n",
              "      <td>25.0</td>\n",
              "    </tr>\n",
              "    <tr>\n",
              "      <th>100019</th>\n",
              "      <td>39628.99</td>\n",
              "      <td>3359.415833</td>\n",
              "      <td>4.0</td>\n",
              "      <td>6.0</td>\n",
              "      <td>722.25</td>\n",
              "      <td>2.0</td>\n",
              "      <td>27.0</td>\n",
              "      <td>6.0</td>\n",
              "      <td>11.00</td>\n",
              "      <td>3.0</td>\n",
              "      <td>502.38</td>\n",
              "      <td>41.255522</td>\n",
              "      <td>320.0</td>\n",
              "      <td>7360.466020</td>\n",
              "      <td>160.066648</td>\n",
              "      <td>0.000000</td>\n",
              "      <td>25.0</td>\n",
              "    </tr>\n",
              "    <tr>\n",
              "      <th>100020</th>\n",
              "      <td>39628.99</td>\n",
              "      <td>3359.415833</td>\n",
              "      <td>4.0</td>\n",
              "      <td>6.0</td>\n",
              "      <td>722.25</td>\n",
              "      <td>2.0</td>\n",
              "      <td>20.0</td>\n",
              "      <td>6.0</td>\n",
              "      <td>11.00</td>\n",
              "      <td>3.0</td>\n",
              "      <td>502.38</td>\n",
              "      <td>33.638208</td>\n",
              "      <td>381.0</td>\n",
              "      <td>7360.466020</td>\n",
              "      <td>160.066648</td>\n",
              "      <td>0.000000</td>\n",
              "      <td>25.0</td>\n",
              "    </tr>\n",
              "    <tr>\n",
              "      <th>100021</th>\n",
              "      <td>39628.99</td>\n",
              "      <td>3359.415833</td>\n",
              "      <td>4.0</td>\n",
              "      <td>6.0</td>\n",
              "      <td>722.25</td>\n",
              "      <td>2.0</td>\n",
              "      <td>18.0</td>\n",
              "      <td>6.0</td>\n",
              "      <td>11.00</td>\n",
              "      <td>3.0</td>\n",
              "      <td>502.38</td>\n",
              "      <td>34.192463</td>\n",
              "      <td>382.0</td>\n",
              "      <td>7360.466020</td>\n",
              "      <td>160.066648</td>\n",
              "      <td>0.000000</td>\n",
              "      <td>25.0</td>\n",
              "    </tr>\n",
              "  </tbody>\n",
              "</table>\n",
              "<p>100022 rows × 17 columns</p>\n",
              "</div>\n",
              "      <button class=\"colab-df-convert\" onclick=\"convertToInteractive('df-41a0f860-96ff-45a1-b545-ed34e26d0ff0')\"\n",
              "              title=\"Convert this dataframe to an interactive table.\"\n",
              "              style=\"display:none;\">\n",
              "        \n",
              "  <svg xmlns=\"http://www.w3.org/2000/svg\" height=\"24px\"viewBox=\"0 0 24 24\"\n",
              "       width=\"24px\">\n",
              "    <path d=\"M0 0h24v24H0V0z\" fill=\"none\"/>\n",
              "    <path d=\"M18.56 5.44l.94 2.06.94-2.06 2.06-.94-2.06-.94-.94-2.06-.94 2.06-2.06.94zm-11 1L8.5 8.5l.94-2.06 2.06-.94-2.06-.94L8.5 2.5l-.94 2.06-2.06.94zm10 10l.94 2.06.94-2.06 2.06-.94-2.06-.94-.94-2.06-.94 2.06-2.06.94z\"/><path d=\"M17.41 7.96l-1.37-1.37c-.4-.4-.92-.59-1.43-.59-.52 0-1.04.2-1.43.59L10.3 9.45l-7.72 7.72c-.78.78-.78 2.05 0 2.83L4 21.41c.39.39.9.59 1.41.59.51 0 1.02-.2 1.41-.59l7.78-7.78 2.81-2.81c.8-.78.8-2.07 0-2.86zM5.41 20L4 18.59l7.72-7.72 1.47 1.35L5.41 20z\"/>\n",
              "  </svg>\n",
              "      </button>\n",
              "      \n",
              "  <style>\n",
              "    .colab-df-container {\n",
              "      display:flex;\n",
              "      flex-wrap:wrap;\n",
              "      gap: 12px;\n",
              "    }\n",
              "\n",
              "    .colab-df-convert {\n",
              "      background-color: #E8F0FE;\n",
              "      border: none;\n",
              "      border-radius: 50%;\n",
              "      cursor: pointer;\n",
              "      display: none;\n",
              "      fill: #1967D2;\n",
              "      height: 32px;\n",
              "      padding: 0 0 0 0;\n",
              "      width: 32px;\n",
              "    }\n",
              "\n",
              "    .colab-df-convert:hover {\n",
              "      background-color: #E2EBFA;\n",
              "      box-shadow: 0px 1px 2px rgba(60, 64, 67, 0.3), 0px 1px 3px 1px rgba(60, 64, 67, 0.15);\n",
              "      fill: #174EA6;\n",
              "    }\n",
              "\n",
              "    [theme=dark] .colab-df-convert {\n",
              "      background-color: #3B4455;\n",
              "      fill: #D2E3FC;\n",
              "    }\n",
              "\n",
              "    [theme=dark] .colab-df-convert:hover {\n",
              "      background-color: #434B5C;\n",
              "      box-shadow: 0px 1px 3px 1px rgba(0, 0, 0, 0.15);\n",
              "      filter: drop-shadow(0px 1px 2px rgba(0, 0, 0, 0.3));\n",
              "      fill: #FFFFFF;\n",
              "    }\n",
              "  </style>\n",
              "\n",
              "      <script>\n",
              "        const buttonEl =\n",
              "          document.querySelector('#df-41a0f860-96ff-45a1-b545-ed34e26d0ff0 button.colab-df-convert');\n",
              "        buttonEl.style.display =\n",
              "          google.colab.kernel.accessAllowed ? 'block' : 'none';\n",
              "\n",
              "        async function convertToInteractive(key) {\n",
              "          const element = document.querySelector('#df-41a0f860-96ff-45a1-b545-ed34e26d0ff0');\n",
              "          const dataTable =\n",
              "            await google.colab.kernel.invokeFunction('convertToInteractive',\n",
              "                                                     [key], {});\n",
              "          if (!dataTable) return;\n",
              "\n",
              "          const docLinkHtml = 'Like what you see? Visit the ' +\n",
              "            '<a target=\"_blank\" href=https://colab.research.google.com/notebooks/data_table.ipynb>data table notebook</a>'\n",
              "            + ' to learn more about interactive tables.';\n",
              "          element.innerHTML = '';\n",
              "          dataTable['output_type'] = 'display_data';\n",
              "          await google.colab.output.renderOutput(dataTable, element);\n",
              "          const docLink = document.createElement('div');\n",
              "          docLink.innerHTML = docLinkHtml;\n",
              "          element.appendChild(docLink);\n",
              "        }\n",
              "      </script>\n",
              "    </div>\n",
              "  </div>\n",
              "  "
            ]
          },
          "metadata": {},
          "execution_count": 10
        }
      ]
    },
    {
      "cell_type": "markdown",
      "source": [
        "U slijedećoj tabeli imamo i prikaz deskriptivne statistike za sve kolone"
      ],
      "metadata": {
        "id": "g7QdgDqnVZJE"
      }
    },
    {
      "cell_type": "code",
      "source": [
        "# Deskriptivna statistika za sve varijable\n",
        "df.describe(percentiles=[.25, .5, .75], include=\"all\")"
      ],
      "metadata": {
        "colab": {
          "base_uri": "https://localhost:8080/",
          "height": 505
        },
        "id": "fBRa4ndLVX3e",
        "outputId": "c6850bfc-e564-47d5-a9aa-98cf0c411a47"
      },
      "execution_count": null,
      "outputs": [
        {
          "output_type": "execute_result",
          "data": {
            "text/plain": [
              "            ID Customer_ID  Month     Occupation  Annual_Income  \\\n",
              "count    96146       96146  96146          96146   9.614600e+04   \n",
              "unique   96124       12500      8             16            NaN   \n",
              "top     0xc600  CUS_0x5313    May  No occupation            NaN   \n",
              "freq         2           9  12063           6778            NaN   \n",
              "mean       NaN         NaN    NaN            NaN   1.761714e+05   \n",
              "std        NaN         NaN    NaN            NaN   5.071647e+05   \n",
              "min        NaN         NaN    NaN            NaN   7.005930e+03   \n",
              "25%        NaN         NaN    NaN            NaN   2.005771e+04   \n",
              "50%        NaN         NaN    NaN            NaN   4.065174e+04   \n",
              "75%        NaN         NaN    NaN            NaN   8.292804e+04   \n",
              "max        NaN         NaN    NaN            NaN   7.442411e+06   \n",
              "\n",
              "        Monthly_Inhand_Salary  Num_Bank_Accounts  Num_Credit_Card  \\\n",
              "count            96146.000000       96146.000000     96146.000000   \n",
              "unique                    NaN                NaN              NaN   \n",
              "top                       NaN                NaN              NaN   \n",
              "freq                      NaN                NaN              NaN   \n",
              "mean              4199.173284          17.029216        22.388087   \n",
              "std               3189.068968          41.417656        45.486202   \n",
              "min                303.645417          -1.000000         0.000000   \n",
              "25%               1625.188333           4.000000         4.000000   \n",
              "50%               3096.836667           6.000000         6.000000   \n",
              "75%               5961.745000           8.000000         8.000000   \n",
              "max              15204.633330         411.000000       371.000000   \n",
              "\n",
              "        Interest_Rate    Num_of_Loan  ...  Not_Specified  Payday_Loan  \\\n",
              "count    96146.000000  100022.000000  ...         100022       100022   \n",
              "unique            NaN            NaN  ...              2            2   \n",
              "top               NaN            NaN  ...          False        False   \n",
              "freq              NaN            NaN  ...          66156        57834   \n",
              "mean        72.530861       6.878187  ...            NaN          NaN   \n",
              "std        165.176698      21.746616  ...            NaN          NaN   \n",
              "min          1.000000       0.000000  ...            NaN          NaN   \n",
              "25%          8.000000       2.000000  ...            NaN          NaN   \n",
              "50%         16.000000       3.000000  ...            NaN          NaN   \n",
              "75%         27.000000       5.000000  ...            NaN          NaN   \n",
              "max       1601.750000     347.000000  ...            NaN          NaN   \n",
              "\n",
              "        Student_Loan  Mortgage_Loan Debt_Consolidation_Loan  Low_spent  \\\n",
              "count         100022         100022                  100022     100022   \n",
              "unique             2              2                       2          2   \n",
              "top            False          False                   False       True   \n",
              "freq           88565          58405                   58674      51816   \n",
              "mean             NaN            NaN                     NaN        NaN   \n",
              "std              NaN            NaN                     NaN        NaN   \n",
              "min              NaN            NaN                     NaN        NaN   \n",
              "25%              NaN            NaN                     NaN        NaN   \n",
              "50%              NaN            NaN                     NaN        NaN   \n",
              "75%              NaN            NaN                     NaN        NaN   \n",
              "max              NaN            NaN                     NaN        NaN   \n",
              "\n",
              "        High_spent  Large_value_payments Medium_value_payments  \\\n",
              "count       100022                100022                100022   \n",
              "unique           2                     2                     2   \n",
              "top          False                 False                 False   \n",
              "freq         55240                 72930                 65953   \n",
              "mean           NaN                   NaN                   NaN   \n",
              "std            NaN                   NaN                   NaN   \n",
              "min            NaN                   NaN                   NaN   \n",
              "25%            NaN                   NaN                   NaN   \n",
              "50%            NaN                   NaN                   NaN   \n",
              "75%            NaN                   NaN                   NaN   \n",
              "max            NaN                   NaN                   NaN   \n",
              "\n",
              "        Small_value_payments  \n",
              "count                 100022  \n",
              "unique                     2  \n",
              "top                    False  \n",
              "freq                   60709  \n",
              "mean                     NaN  \n",
              "std                      NaN  \n",
              "min                      NaN  \n",
              "25%                      NaN  \n",
              "50%                      NaN  \n",
              "75%                      NaN  \n",
              "max                      NaN  \n",
              "\n",
              "[11 rows x 39 columns]"
            ],
            "text/html": [
              "\n",
              "  <div id=\"df-e7f4d8fc-ffdf-41fd-9a31-6e9757e34f49\">\n",
              "    <div class=\"colab-df-container\">\n",
              "      <div>\n",
              "<style scoped>\n",
              "    .dataframe tbody tr th:only-of-type {\n",
              "        vertical-align: middle;\n",
              "    }\n",
              "\n",
              "    .dataframe tbody tr th {\n",
              "        vertical-align: top;\n",
              "    }\n",
              "\n",
              "    .dataframe thead th {\n",
              "        text-align: right;\n",
              "    }\n",
              "</style>\n",
              "<table border=\"1\" class=\"dataframe\">\n",
              "  <thead>\n",
              "    <tr style=\"text-align: right;\">\n",
              "      <th></th>\n",
              "      <th>ID</th>\n",
              "      <th>Customer_ID</th>\n",
              "      <th>Month</th>\n",
              "      <th>Occupation</th>\n",
              "      <th>Annual_Income</th>\n",
              "      <th>Monthly_Inhand_Salary</th>\n",
              "      <th>Num_Bank_Accounts</th>\n",
              "      <th>Num_Credit_Card</th>\n",
              "      <th>Interest_Rate</th>\n",
              "      <th>Num_of_Loan</th>\n",
              "      <th>...</th>\n",
              "      <th>Not_Specified</th>\n",
              "      <th>Payday_Loan</th>\n",
              "      <th>Student_Loan</th>\n",
              "      <th>Mortgage_Loan</th>\n",
              "      <th>Debt_Consolidation_Loan</th>\n",
              "      <th>Low_spent</th>\n",
              "      <th>High_spent</th>\n",
              "      <th>Large_value_payments</th>\n",
              "      <th>Medium_value_payments</th>\n",
              "      <th>Small_value_payments</th>\n",
              "    </tr>\n",
              "  </thead>\n",
              "  <tbody>\n",
              "    <tr>\n",
              "      <th>count</th>\n",
              "      <td>96146</td>\n",
              "      <td>96146</td>\n",
              "      <td>96146</td>\n",
              "      <td>96146</td>\n",
              "      <td>9.614600e+04</td>\n",
              "      <td>96146.000000</td>\n",
              "      <td>96146.000000</td>\n",
              "      <td>96146.000000</td>\n",
              "      <td>96146.000000</td>\n",
              "      <td>100022.000000</td>\n",
              "      <td>...</td>\n",
              "      <td>100022</td>\n",
              "      <td>100022</td>\n",
              "      <td>100022</td>\n",
              "      <td>100022</td>\n",
              "      <td>100022</td>\n",
              "      <td>100022</td>\n",
              "      <td>100022</td>\n",
              "      <td>100022</td>\n",
              "      <td>100022</td>\n",
              "      <td>100022</td>\n",
              "    </tr>\n",
              "    <tr>\n",
              "      <th>unique</th>\n",
              "      <td>96124</td>\n",
              "      <td>12500</td>\n",
              "      <td>8</td>\n",
              "      <td>16</td>\n",
              "      <td>NaN</td>\n",
              "      <td>NaN</td>\n",
              "      <td>NaN</td>\n",
              "      <td>NaN</td>\n",
              "      <td>NaN</td>\n",
              "      <td>NaN</td>\n",
              "      <td>...</td>\n",
              "      <td>2</td>\n",
              "      <td>2</td>\n",
              "      <td>2</td>\n",
              "      <td>2</td>\n",
              "      <td>2</td>\n",
              "      <td>2</td>\n",
              "      <td>2</td>\n",
              "      <td>2</td>\n",
              "      <td>2</td>\n",
              "      <td>2</td>\n",
              "    </tr>\n",
              "    <tr>\n",
              "      <th>top</th>\n",
              "      <td>0xc600</td>\n",
              "      <td>CUS_0x5313</td>\n",
              "      <td>May</td>\n",
              "      <td>No occupation</td>\n",
              "      <td>NaN</td>\n",
              "      <td>NaN</td>\n",
              "      <td>NaN</td>\n",
              "      <td>NaN</td>\n",
              "      <td>NaN</td>\n",
              "      <td>NaN</td>\n",
              "      <td>...</td>\n",
              "      <td>False</td>\n",
              "      <td>False</td>\n",
              "      <td>False</td>\n",
              "      <td>False</td>\n",
              "      <td>False</td>\n",
              "      <td>True</td>\n",
              "      <td>False</td>\n",
              "      <td>False</td>\n",
              "      <td>False</td>\n",
              "      <td>False</td>\n",
              "    </tr>\n",
              "    <tr>\n",
              "      <th>freq</th>\n",
              "      <td>2</td>\n",
              "      <td>9</td>\n",
              "      <td>12063</td>\n",
              "      <td>6778</td>\n",
              "      <td>NaN</td>\n",
              "      <td>NaN</td>\n",
              "      <td>NaN</td>\n",
              "      <td>NaN</td>\n",
              "      <td>NaN</td>\n",
              "      <td>NaN</td>\n",
              "      <td>...</td>\n",
              "      <td>66156</td>\n",
              "      <td>57834</td>\n",
              "      <td>88565</td>\n",
              "      <td>58405</td>\n",
              "      <td>58674</td>\n",
              "      <td>51816</td>\n",
              "      <td>55240</td>\n",
              "      <td>72930</td>\n",
              "      <td>65953</td>\n",
              "      <td>60709</td>\n",
              "    </tr>\n",
              "    <tr>\n",
              "      <th>mean</th>\n",
              "      <td>NaN</td>\n",
              "      <td>NaN</td>\n",
              "      <td>NaN</td>\n",
              "      <td>NaN</td>\n",
              "      <td>1.761714e+05</td>\n",
              "      <td>4199.173284</td>\n",
              "      <td>17.029216</td>\n",
              "      <td>22.388087</td>\n",
              "      <td>72.530861</td>\n",
              "      <td>6.878187</td>\n",
              "      <td>...</td>\n",
              "      <td>NaN</td>\n",
              "      <td>NaN</td>\n",
              "      <td>NaN</td>\n",
              "      <td>NaN</td>\n",
              "      <td>NaN</td>\n",
              "      <td>NaN</td>\n",
              "      <td>NaN</td>\n",
              "      <td>NaN</td>\n",
              "      <td>NaN</td>\n",
              "      <td>NaN</td>\n",
              "    </tr>\n",
              "    <tr>\n",
              "      <th>std</th>\n",
              "      <td>NaN</td>\n",
              "      <td>NaN</td>\n",
              "      <td>NaN</td>\n",
              "      <td>NaN</td>\n",
              "      <td>5.071647e+05</td>\n",
              "      <td>3189.068968</td>\n",
              "      <td>41.417656</td>\n",
              "      <td>45.486202</td>\n",
              "      <td>165.176698</td>\n",
              "      <td>21.746616</td>\n",
              "      <td>...</td>\n",
              "      <td>NaN</td>\n",
              "      <td>NaN</td>\n",
              "      <td>NaN</td>\n",
              "      <td>NaN</td>\n",
              "      <td>NaN</td>\n",
              "      <td>NaN</td>\n",
              "      <td>NaN</td>\n",
              "      <td>NaN</td>\n",
              "      <td>NaN</td>\n",
              "      <td>NaN</td>\n",
              "    </tr>\n",
              "    <tr>\n",
              "      <th>min</th>\n",
              "      <td>NaN</td>\n",
              "      <td>NaN</td>\n",
              "      <td>NaN</td>\n",
              "      <td>NaN</td>\n",
              "      <td>7.005930e+03</td>\n",
              "      <td>303.645417</td>\n",
              "      <td>-1.000000</td>\n",
              "      <td>0.000000</td>\n",
              "      <td>1.000000</td>\n",
              "      <td>0.000000</td>\n",
              "      <td>...</td>\n",
              "      <td>NaN</td>\n",
              "      <td>NaN</td>\n",
              "      <td>NaN</td>\n",
              "      <td>NaN</td>\n",
              "      <td>NaN</td>\n",
              "      <td>NaN</td>\n",
              "      <td>NaN</td>\n",
              "      <td>NaN</td>\n",
              "      <td>NaN</td>\n",
              "      <td>NaN</td>\n",
              "    </tr>\n",
              "    <tr>\n",
              "      <th>25%</th>\n",
              "      <td>NaN</td>\n",
              "      <td>NaN</td>\n",
              "      <td>NaN</td>\n",
              "      <td>NaN</td>\n",
              "      <td>2.005771e+04</td>\n",
              "      <td>1625.188333</td>\n",
              "      <td>4.000000</td>\n",
              "      <td>4.000000</td>\n",
              "      <td>8.000000</td>\n",
              "      <td>2.000000</td>\n",
              "      <td>...</td>\n",
              "      <td>NaN</td>\n",
              "      <td>NaN</td>\n",
              "      <td>NaN</td>\n",
              "      <td>NaN</td>\n",
              "      <td>NaN</td>\n",
              "      <td>NaN</td>\n",
              "      <td>NaN</td>\n",
              "      <td>NaN</td>\n",
              "      <td>NaN</td>\n",
              "      <td>NaN</td>\n",
              "    </tr>\n",
              "    <tr>\n",
              "      <th>50%</th>\n",
              "      <td>NaN</td>\n",
              "      <td>NaN</td>\n",
              "      <td>NaN</td>\n",
              "      <td>NaN</td>\n",
              "      <td>4.065174e+04</td>\n",
              "      <td>3096.836667</td>\n",
              "      <td>6.000000</td>\n",
              "      <td>6.000000</td>\n",
              "      <td>16.000000</td>\n",
              "      <td>3.000000</td>\n",
              "      <td>...</td>\n",
              "      <td>NaN</td>\n",
              "      <td>NaN</td>\n",
              "      <td>NaN</td>\n",
              "      <td>NaN</td>\n",
              "      <td>NaN</td>\n",
              "      <td>NaN</td>\n",
              "      <td>NaN</td>\n",
              "      <td>NaN</td>\n",
              "      <td>NaN</td>\n",
              "      <td>NaN</td>\n",
              "    </tr>\n",
              "    <tr>\n",
              "      <th>75%</th>\n",
              "      <td>NaN</td>\n",
              "      <td>NaN</td>\n",
              "      <td>NaN</td>\n",
              "      <td>NaN</td>\n",
              "      <td>8.292804e+04</td>\n",
              "      <td>5961.745000</td>\n",
              "      <td>8.000000</td>\n",
              "      <td>8.000000</td>\n",
              "      <td>27.000000</td>\n",
              "      <td>5.000000</td>\n",
              "      <td>...</td>\n",
              "      <td>NaN</td>\n",
              "      <td>NaN</td>\n",
              "      <td>NaN</td>\n",
              "      <td>NaN</td>\n",
              "      <td>NaN</td>\n",
              "      <td>NaN</td>\n",
              "      <td>NaN</td>\n",
              "      <td>NaN</td>\n",
              "      <td>NaN</td>\n",
              "      <td>NaN</td>\n",
              "    </tr>\n",
              "    <tr>\n",
              "      <th>max</th>\n",
              "      <td>NaN</td>\n",
              "      <td>NaN</td>\n",
              "      <td>NaN</td>\n",
              "      <td>NaN</td>\n",
              "      <td>7.442411e+06</td>\n",
              "      <td>15204.633330</td>\n",
              "      <td>411.000000</td>\n",
              "      <td>371.000000</td>\n",
              "      <td>1601.750000</td>\n",
              "      <td>347.000000</td>\n",
              "      <td>...</td>\n",
              "      <td>NaN</td>\n",
              "      <td>NaN</td>\n",
              "      <td>NaN</td>\n",
              "      <td>NaN</td>\n",
              "      <td>NaN</td>\n",
              "      <td>NaN</td>\n",
              "      <td>NaN</td>\n",
              "      <td>NaN</td>\n",
              "      <td>NaN</td>\n",
              "      <td>NaN</td>\n",
              "    </tr>\n",
              "  </tbody>\n",
              "</table>\n",
              "<p>11 rows × 39 columns</p>\n",
              "</div>\n",
              "      <button class=\"colab-df-convert\" onclick=\"convertToInteractive('df-e7f4d8fc-ffdf-41fd-9a31-6e9757e34f49')\"\n",
              "              title=\"Convert this dataframe to an interactive table.\"\n",
              "              style=\"display:none;\">\n",
              "        \n",
              "  <svg xmlns=\"http://www.w3.org/2000/svg\" height=\"24px\"viewBox=\"0 0 24 24\"\n",
              "       width=\"24px\">\n",
              "    <path d=\"M0 0h24v24H0V0z\" fill=\"none\"/>\n",
              "    <path d=\"M18.56 5.44l.94 2.06.94-2.06 2.06-.94-2.06-.94-.94-2.06-.94 2.06-2.06.94zm-11 1L8.5 8.5l.94-2.06 2.06-.94-2.06-.94L8.5 2.5l-.94 2.06-2.06.94zm10 10l.94 2.06.94-2.06 2.06-.94-2.06-.94-.94-2.06-.94 2.06-2.06.94z\"/><path d=\"M17.41 7.96l-1.37-1.37c-.4-.4-.92-.59-1.43-.59-.52 0-1.04.2-1.43.59L10.3 9.45l-7.72 7.72c-.78.78-.78 2.05 0 2.83L4 21.41c.39.39.9.59 1.41.59.51 0 1.02-.2 1.41-.59l7.78-7.78 2.81-2.81c.8-.78.8-2.07 0-2.86zM5.41 20L4 18.59l7.72-7.72 1.47 1.35L5.41 20z\"/>\n",
              "  </svg>\n",
              "      </button>\n",
              "      \n",
              "  <style>\n",
              "    .colab-df-container {\n",
              "      display:flex;\n",
              "      flex-wrap:wrap;\n",
              "      gap: 12px;\n",
              "    }\n",
              "\n",
              "    .colab-df-convert {\n",
              "      background-color: #E8F0FE;\n",
              "      border: none;\n",
              "      border-radius: 50%;\n",
              "      cursor: pointer;\n",
              "      display: none;\n",
              "      fill: #1967D2;\n",
              "      height: 32px;\n",
              "      padding: 0 0 0 0;\n",
              "      width: 32px;\n",
              "    }\n",
              "\n",
              "    .colab-df-convert:hover {\n",
              "      background-color: #E2EBFA;\n",
              "      box-shadow: 0px 1px 2px rgba(60, 64, 67, 0.3), 0px 1px 3px 1px rgba(60, 64, 67, 0.15);\n",
              "      fill: #174EA6;\n",
              "    }\n",
              "\n",
              "    [theme=dark] .colab-df-convert {\n",
              "      background-color: #3B4455;\n",
              "      fill: #D2E3FC;\n",
              "    }\n",
              "\n",
              "    [theme=dark] .colab-df-convert:hover {\n",
              "      background-color: #434B5C;\n",
              "      box-shadow: 0px 1px 3px 1px rgba(0, 0, 0, 0.15);\n",
              "      filter: drop-shadow(0px 1px 2px rgba(0, 0, 0, 0.3));\n",
              "      fill: #FFFFFF;\n",
              "    }\n",
              "  </style>\n",
              "\n",
              "      <script>\n",
              "        const buttonEl =\n",
              "          document.querySelector('#df-e7f4d8fc-ffdf-41fd-9a31-6e9757e34f49 button.colab-df-convert');\n",
              "        buttonEl.style.display =\n",
              "          google.colab.kernel.accessAllowed ? 'block' : 'none';\n",
              "\n",
              "        async function convertToInteractive(key) {\n",
              "          const element = document.querySelector('#df-e7f4d8fc-ffdf-41fd-9a31-6e9757e34f49');\n",
              "          const dataTable =\n",
              "            await google.colab.kernel.invokeFunction('convertToInteractive',\n",
              "                                                     [key], {});\n",
              "          if (!dataTable) return;\n",
              "\n",
              "          const docLinkHtml = 'Like what you see? Visit the ' +\n",
              "            '<a target=\"_blank\" href=https://colab.research.google.com/notebooks/data_table.ipynb>data table notebook</a>'\n",
              "            + ' to learn more about interactive tables.';\n",
              "          element.innerHTML = '';\n",
              "          dataTable['output_type'] = 'display_data';\n",
              "          await google.colab.output.renderOutput(dataTable, element);\n",
              "          const docLink = document.createElement('div');\n",
              "          docLink.innerHTML = docLinkHtml;\n",
              "          element.appendChild(docLink);\n",
              "        }\n",
              "      </script>\n",
              "    </div>\n",
              "  </div>\n",
              "  "
            ]
          },
          "metadata": {},
          "execution_count": 11
        }
      ]
    },
    {
      "cell_type": "markdown",
      "source": [
        "Korelacija između parova varijabli nakon transformacije "
      ],
      "metadata": {
        "id": "GM5yqxUEVqLZ"
      }
    },
    {
      "cell_type": "code",
      "source": [
        "#Vizuelni prikaz korelacije izmedju parova varijabli\n",
        "CorrMatrix = pd.DataFrame.corr(df)\n",
        "sns.heatmap(CorrMatrix)\n",
        "plt.show()"
      ],
      "metadata": {
        "colab": {
          "base_uri": "https://localhost:8080/",
          "height": 392
        },
        "id": "-WDk-mj6Vpif",
        "outputId": "4d81f031-7ce3-45db-bc8a-bd416d768126"
      },
      "execution_count": null,
      "outputs": [
        {
          "output_type": "display_data",
          "data": {
            "text/plain": [
              "<Figure size 432x288 with 2 Axes>"
            ],
            "image/png": "[encoded data removed]"
          },
          "metadata": {
            "needs_background": "light"
          }
        }
      ]
    },
    {
      "cell_type": "markdown",
      "source": [
        "# Spremanje dataFrame-a u novi CSV za potrebe korištenja u drugom zadatku"
      ],
      "metadata": {
        "id": "mV-whtq1Yjxd"
      }
    },
    {
      "cell_type": "code",
      "source": [
        "df.to_csv(r'/content/drive/Shareddrives/MU/cleared_creditscore_dataset.csv', index=False)"
      ],
      "metadata": {
        "id": "P5iKx8eFYiwP"
      },
      "execution_count": null,
      "outputs": []
    }
  ]
}