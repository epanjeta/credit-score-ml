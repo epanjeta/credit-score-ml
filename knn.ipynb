{
  "nbformat": 4,
  "nbformat_minor": 0,
  "metadata": {
    "colab": {
      "provenance": []
    },
    "kernelspec": {
      "name": "python3",
      "display_name": "Python 3"
    },
    "language_info": {
      "name": "python"
    }
  },
  "cells": [
    {
      "cell_type": "code",
      "execution_count": null,
      "metadata": {
        "id": "3ph_riEAPK-U"
      },
      "outputs": [],
      "source": [
        "# importi\n",
        "import pandas as pd\n",
        "import matplotlib.pyplot as plt\n",
        "import seaborn as sns\n",
        "import numpy as np\n",
        "import scipy.stats as stats\n",
        "from sklearn.model_selection import train_test_split\n",
        "from sklearn.neighbors import KNeighborsClassifier\n",
        "from sklearn.metrics import classification_report, confusion_matrix \n",
        "from sklearn.preprocessing import MinMaxScaler\n",
        "from sklearn.metrics import accuracy_score\n",
        "import matplotlib.pyplot as plt\n",
        "from sklearn.metrics import ConfusionMatrixDisplay\n",
        "from sklearn.metrics import classification_report\n",
        "from sklearn.metrics import roc_curve, roc_auc_score\n",
        "from imblearn.over_sampling import RandomOverSampler\n",
        "from imblearn.under_sampling import RandomUnderSampler\n",
        "from sklearn.pipeline import make_pipeline\n",
        "from sklearn.preprocessing import StandardScaler\n",
        "from sklearn.model_selection import StratifiedKFold"
      ]
    },
    {
      "cell_type": "code",
      "source": [
        "# mount drive\n",
        "from google.colab import drive\n",
        "drive.mount('/content/drive')"
      ],
      "metadata": {
        "colab": {
          "base_uri": "https://localhost:8080/"
        },
        "id": "6HjZGHI8PpRU",
        "outputId": "ddc1a333-b3d6-4a0a-8166-9342615c1954"
      },
      "execution_count": null,
      "outputs": [
        {
          "output_type": "stream",
          "name": "stdout",
          "text": [
            "Mounted at /content/drive\n"
          ]
        }
      ]
    },
    {
      "cell_type": "code",
      "source": [
        "# učitavanje data set-a\n",
        "df = pd.read_csv('/content/drive/Shareddrives/MU/cleared_creditscore_dataset.csv')\n",
        "df.head(10)"
      ],
      "metadata": {
        "colab": {
          "base_uri": "https://localhost:8080/",
          "height": 474
        },
        "id": "4ppxexz4Psdz",
        "outputId": "60c5ebed-5e67-48be-f2c2-daba5dc6d46f"
      },
      "execution_count": null,
      "outputs": [
        {
          "output_type": "execute_result",
          "data": {
            "text/plain": [
              "       ID Customer_ID     Month     Occupation  Annual_Income  \\\n",
              "0  0x1602   CUS_0xd40   January      Scientist       19114.12   \n",
              "1  0x1603   CUS_0xd40  February      Scientist       19114.12   \n",
              "2  0x1604   CUS_0xd40     March      Scientist       19114.12   \n",
              "3  0x1605   CUS_0xd40     April      Scientist       19114.12   \n",
              "4  0x1606   CUS_0xd40       May      Scientist       19114.12   \n",
              "5  0x1607   CUS_0xd40      June      Scientist       19114.12   \n",
              "6  0x1608   CUS_0xd40      July      Scientist       19114.12   \n",
              "7  0x1609   CUS_0xd40    August      Scientist       19114.12   \n",
              "8  0x160e  CUS_0x21b1   January  No occupation       34847.84   \n",
              "9  0x160f  CUS_0x21b1  February        Teacher       34847.84   \n",
              "\n",
              "   Monthly_Inhand_Salary  Num_Bank_Accounts  Num_Credit_Card  Interest_Rate  \\\n",
              "0            1824.843333                3.0              4.0            3.0   \n",
              "1            1824.843333                3.0              4.0            3.0   \n",
              "2            1824.843333                3.0              4.0            3.0   \n",
              "3            1824.843333                3.0              4.0            3.0   \n",
              "4            1824.843333                3.0              4.0            3.0   \n",
              "5            1824.843333                3.0              4.0            3.0   \n",
              "6            1824.843333                3.0              4.0            3.0   \n",
              "7            1824.843333                3.0              4.0            3.0   \n",
              "8            3037.986667                2.0            176.0            6.0   \n",
              "9            3037.986667                2.0            176.0            6.0   \n",
              "\n",
              "   Num_of_Loan  ...  Not_Specified  Payday_Loan  Student_Loan  Mortgage_Loan  \\\n",
              "0          4.0  ...          False        False         False          False   \n",
              "1          4.0  ...          False        False         False          False   \n",
              "2          4.0  ...          False        False         False          False   \n",
              "3          4.0  ...          False        False         False          False   \n",
              "4          4.0  ...          False        False         False          False   \n",
              "5          4.0  ...          False        False         False          False   \n",
              "6          4.0  ...          False        False         False          False   \n",
              "7          4.0  ...          False        False         False          False   \n",
              "8          1.0  ...          False        False         False          False   \n",
              "9          1.0  ...          False        False         False          False   \n",
              "\n",
              "  Debt_Consolidation_Loan  Low_spent  High_spent  Large_value_payments  \\\n",
              "0                   False      False        True                 False   \n",
              "1                   False       True       False                  True   \n",
              "2                   False       True       False                 False   \n",
              "3                   False       True       False                 False   \n",
              "4                   False      False        True                 False   \n",
              "5                   False      False       False                 False   \n",
              "6                   False       True       False                 False   \n",
              "7                   False      False        True                 False   \n",
              "8                   False       True       False                 False   \n",
              "9                   False      False        True                  True   \n",
              "\n",
              "  Medium_value_payments  Small_value_payments  \n",
              "0                 False                  True  \n",
              "1                 False                 False  \n",
              "2                  True                 False  \n",
              "3                 False                  True  \n",
              "4                  True                 False  \n",
              "5                 False                 False  \n",
              "6                 False                  True  \n",
              "7                  True                 False  \n",
              "8                 False                  True  \n",
              "9                 False                 False  \n",
              "\n",
              "[10 rows x 39 columns]"
            ],
            "text/html": [
              "\n",
              "  <div id=\"df-e0491f20-bfe2-4d80-9541-f1d478360a02\">\n",
              "    <div class=\"colab-df-container\">\n",
              "      <div>\n",
              "<style scoped>\n",
              "    .dataframe tbody tr th:only-of-type {\n",
              "        vertical-align: middle;\n",
              "    }\n",
              "\n",
              "    .dataframe tbody tr th {\n",
              "        vertical-align: top;\n",
              "    }\n",
              "\n",
              "    .dataframe thead th {\n",
              "        text-align: right;\n",
              "    }\n",
              "</style>\n",
              "<table border=\"1\" class=\"dataframe\">\n",
              "  <thead>\n",
              "    <tr style=\"text-align: right;\">\n",
              "      <th></th>\n",
              "      <th>ID</th>\n",
              "      <th>Customer_ID</th>\n",
              "      <th>Month</th>\n",
              "      <th>Occupation</th>\n",
              "      <th>Annual_Income</th>\n",
              "      <th>Monthly_Inhand_Salary</th>\n",
              "      <th>Num_Bank_Accounts</th>\n",
              "      <th>Num_Credit_Card</th>\n",
              "      <th>Interest_Rate</th>\n",
              "      <th>Num_of_Loan</th>\n",
              "      <th>...</th>\n",
              "      <th>Not_Specified</th>\n",
              "      <th>Payday_Loan</th>\n",
              "      <th>Student_Loan</th>\n",
              "      <th>Mortgage_Loan</th>\n",
              "      <th>Debt_Consolidation_Loan</th>\n",
              "      <th>Low_spent</th>\n",
              "      <th>High_spent</th>\n",
              "      <th>Large_value_payments</th>\n",
              "      <th>Medium_value_payments</th>\n",
              "      <th>Small_value_payments</th>\n",
              "    </tr>\n",
              "  </thead>\n",
              "  <tbody>\n",
              "    <tr>\n",
              "      <th>0</th>\n",
              "      <td>0x1602</td>\n",
              "      <td>CUS_0xd40</td>\n",
              "      <td>January</td>\n",
              "      <td>Scientist</td>\n",
              "      <td>19114.12</td>\n",
              "      <td>1824.843333</td>\n",
              "      <td>3.0</td>\n",
              "      <td>4.0</td>\n",
              "      <td>3.0</td>\n",
              "      <td>4.0</td>\n",
              "      <td>...</td>\n",
              "      <td>False</td>\n",
              "      <td>False</td>\n",
              "      <td>False</td>\n",
              "      <td>False</td>\n",
              "      <td>False</td>\n",
              "      <td>False</td>\n",
              "      <td>True</td>\n",
              "      <td>False</td>\n",
              "      <td>False</td>\n",
              "      <td>True</td>\n",
              "    </tr>\n",
              "    <tr>\n",
              "      <th>1</th>\n",
              "      <td>0x1603</td>\n",
              "      <td>CUS_0xd40</td>\n",
              "      <td>February</td>\n",
              "      <td>Scientist</td>\n",
              "      <td>19114.12</td>\n",
              "      <td>1824.843333</td>\n",
              "      <td>3.0</td>\n",
              "      <td>4.0</td>\n",
              "      <td>3.0</td>\n",
              "      <td>4.0</td>\n",
              "      <td>...</td>\n",
              "      <td>False</td>\n",
              "      <td>False</td>\n",
              "      <td>False</td>\n",
              "      <td>False</td>\n",
              "      <td>False</td>\n",
              "      <td>True</td>\n",
              "      <td>False</td>\n",
              "      <td>True</td>\n",
              "      <td>False</td>\n",
              "      <td>False</td>\n",
              "    </tr>\n",
              "    <tr>\n",
              "      <th>2</th>\n",
              "      <td>0x1604</td>\n",
              "      <td>CUS_0xd40</td>\n",
              "      <td>March</td>\n",
              "      <td>Scientist</td>\n",
              "      <td>19114.12</td>\n",
              "      <td>1824.843333</td>\n",
              "      <td>3.0</td>\n",
              "      <td>4.0</td>\n",
              "      <td>3.0</td>\n",
              "      <td>4.0</td>\n",
              "      <td>...</td>\n",
              "      <td>False</td>\n",
              "      <td>False</td>\n",
              "      <td>False</td>\n",
              "      <td>False</td>\n",
              "      <td>False</td>\n",
              "      <td>True</td>\n",
              "      <td>False</td>\n",
              "      <td>False</td>\n",
              "      <td>True</td>\n",
              "      <td>False</td>\n",
              "    </tr>\n",
              "    <tr>\n",
              "      <th>3</th>\n",
              "      <td>0x1605</td>\n",
              "      <td>CUS_0xd40</td>\n",
              "      <td>April</td>\n",
              "      <td>Scientist</td>\n",
              "      <td>19114.12</td>\n",
              "      <td>1824.843333</td>\n",
              "      <td>3.0</td>\n",
              "      <td>4.0</td>\n",
              "      <td>3.0</td>\n",
              "      <td>4.0</td>\n",
              "      <td>...</td>\n",
              "      <td>False</td>\n",
              "      <td>False</td>\n",
              "      <td>False</td>\n",
              "      <td>False</td>\n",
              "      <td>False</td>\n",
              "      <td>True</td>\n",
              "      <td>False</td>\n",
              "      <td>False</td>\n",
              "      <td>False</td>\n",
              "      <td>True</td>\n",
              "    </tr>\n",
              "    <tr>\n",
              "      <th>4</th>\n",
              "      <td>0x1606</td>\n",
              "      <td>CUS_0xd40</td>\n",
              "      <td>May</td>\n",
              "      <td>Scientist</td>\n",
              "      <td>19114.12</td>\n",
              "      <td>1824.843333</td>\n",
              "      <td>3.0</td>\n",
              "      <td>4.0</td>\n",
              "      <td>3.0</td>\n",
              "      <td>4.0</td>\n",
              "      <td>...</td>\n",
              "      <td>False</td>\n",
              "      <td>False</td>\n",
              "      <td>False</td>\n",
              "      <td>False</td>\n",
              "      <td>False</td>\n",
              "      <td>False</td>\n",
              "      <td>True</td>\n",
              "      <td>False</td>\n",
              "      <td>True</td>\n",
              "      <td>False</td>\n",
              "    </tr>\n",
              "    <tr>\n",
              "      <th>5</th>\n",
              "      <td>0x1607</td>\n",
              "      <td>CUS_0xd40</td>\n",
              "      <td>June</td>\n",
              "      <td>Scientist</td>\n",
              "      <td>19114.12</td>\n",
              "      <td>1824.843333</td>\n",
              "      <td>3.0</td>\n",
              "      <td>4.0</td>\n",
              "      <td>3.0</td>\n",
              "      <td>4.0</td>\n",
              "      <td>...</td>\n",
              "      <td>False</td>\n",
              "      <td>False</td>\n",
              "      <td>False</td>\n",
              "      <td>False</td>\n",
              "      <td>False</td>\n",
              "      <td>False</td>\n",
              "      <td>False</td>\n",
              "      <td>False</td>\n",
              "      <td>False</td>\n",
              "      <td>False</td>\n",
              "    </tr>\n",
              "    <tr>\n",
              "      <th>6</th>\n",
              "      <td>0x1608</td>\n",
              "      <td>CUS_0xd40</td>\n",
              "      <td>July</td>\n",
              "      <td>Scientist</td>\n",
              "      <td>19114.12</td>\n",
              "      <td>1824.843333</td>\n",
              "      <td>3.0</td>\n",
              "      <td>4.0</td>\n",
              "      <td>3.0</td>\n",
              "      <td>4.0</td>\n",
              "      <td>...</td>\n",
              "      <td>False</td>\n",
              "      <td>False</td>\n",
              "      <td>False</td>\n",
              "      <td>False</td>\n",
              "      <td>False</td>\n",
              "      <td>True</td>\n",
              "      <td>False</td>\n",
              "      <td>False</td>\n",
              "      <td>False</td>\n",
              "      <td>True</td>\n",
              "    </tr>\n",
              "    <tr>\n",
              "      <th>7</th>\n",
              "      <td>0x1609</td>\n",
              "      <td>CUS_0xd40</td>\n",
              "      <td>August</td>\n",
              "      <td>Scientist</td>\n",
              "      <td>19114.12</td>\n",
              "      <td>1824.843333</td>\n",
              "      <td>3.0</td>\n",
              "      <td>4.0</td>\n",
              "      <td>3.0</td>\n",
              "      <td>4.0</td>\n",
              "      <td>...</td>\n",
              "      <td>False</td>\n",
              "      <td>False</td>\n",
              "      <td>False</td>\n",
              "      <td>False</td>\n",
              "      <td>False</td>\n",
              "      <td>False</td>\n",
              "      <td>True</td>\n",
              "      <td>False</td>\n",
              "      <td>True</td>\n",
              "      <td>False</td>\n",
              "    </tr>\n",
              "    <tr>\n",
              "      <th>8</th>\n",
              "      <td>0x160e</td>\n",
              "      <td>CUS_0x21b1</td>\n",
              "      <td>January</td>\n",
              "      <td>No occupation</td>\n",
              "      <td>34847.84</td>\n",
              "      <td>3037.986667</td>\n",
              "      <td>2.0</td>\n",
              "      <td>176.0</td>\n",
              "      <td>6.0</td>\n",
              "      <td>1.0</td>\n",
              "      <td>...</td>\n",
              "      <td>False</td>\n",
              "      <td>False</td>\n",
              "      <td>False</td>\n",
              "      <td>False</td>\n",
              "      <td>False</td>\n",
              "      <td>True</td>\n",
              "      <td>False</td>\n",
              "      <td>False</td>\n",
              "      <td>False</td>\n",
              "      <td>True</td>\n",
              "    </tr>\n",
              "    <tr>\n",
              "      <th>9</th>\n",
              "      <td>0x160f</td>\n",
              "      <td>CUS_0x21b1</td>\n",
              "      <td>February</td>\n",
              "      <td>Teacher</td>\n",
              "      <td>34847.84</td>\n",
              "      <td>3037.986667</td>\n",
              "      <td>2.0</td>\n",
              "      <td>176.0</td>\n",
              "      <td>6.0</td>\n",
              "      <td>1.0</td>\n",
              "      <td>...</td>\n",
              "      <td>False</td>\n",
              "      <td>False</td>\n",
              "      <td>False</td>\n",
              "      <td>False</td>\n",
              "      <td>False</td>\n",
              "      <td>False</td>\n",
              "      <td>True</td>\n",
              "      <td>True</td>\n",
              "      <td>False</td>\n",
              "      <td>False</td>\n",
              "    </tr>\n",
              "  </tbody>\n",
              "</table>\n",
              "<p>10 rows × 39 columns</p>\n",
              "</div>\n",
              "      <button class=\"colab-df-convert\" onclick=\"convertToInteractive('df-e0491f20-bfe2-4d80-9541-f1d478360a02')\"\n",
              "              title=\"Convert this dataframe to an interactive table.\"\n",
              "              style=\"display:none;\">\n",
              "        \n",
              "  <svg xmlns=\"http://www.w3.org/2000/svg\" height=\"24px\"viewBox=\"0 0 24 24\"\n",
              "       width=\"24px\">\n",
              "    <path d=\"M0 0h24v24H0V0z\" fill=\"none\"/>\n",
              "    <path d=\"M18.56 5.44l.94 2.06.94-2.06 2.06-.94-2.06-.94-.94-2.06-.94 2.06-2.06.94zm-11 1L8.5 8.5l.94-2.06 2.06-.94-2.06-.94L8.5 2.5l-.94 2.06-2.06.94zm10 10l.94 2.06.94-2.06 2.06-.94-2.06-.94-.94-2.06-.94 2.06-2.06.94z\"/><path d=\"M17.41 7.96l-1.37-1.37c-.4-.4-.92-.59-1.43-.59-.52 0-1.04.2-1.43.59L10.3 9.45l-7.72 7.72c-.78.78-.78 2.05 0 2.83L4 21.41c.39.39.9.59 1.41.59.51 0 1.02-.2 1.41-.59l7.78-7.78 2.81-2.81c.8-.78.8-2.07 0-2.86zM5.41 20L4 18.59l7.72-7.72 1.47 1.35L5.41 20z\"/>\n",
              "  </svg>\n",
              "      </button>\n",
              "      \n",
              "  <style>\n",
              "    .colab-df-container {\n",
              "      display:flex;\n",
              "      flex-wrap:wrap;\n",
              "      gap: 12px;\n",
              "    }\n",
              "\n",
              "    .colab-df-convert {\n",
              "      background-color: #E8F0FE;\n",
              "      border: none;\n",
              "      border-radius: 50%;\n",
              "      cursor: pointer;\n",
              "      display: none;\n",
              "      fill: #1967D2;\n",
              "      height: 32px;\n",
              "      padding: 0 0 0 0;\n",
              "      width: 32px;\n",
              "    }\n",
              "\n",
              "    .colab-df-convert:hover {\n",
              "      background-color: #E2EBFA;\n",
              "      box-shadow: 0px 1px 2px rgba(60, 64, 67, 0.3), 0px 1px 3px 1px rgba(60, 64, 67, 0.15);\n",
              "      fill: #174EA6;\n",
              "    }\n",
              "\n",
              "    [theme=dark] .colab-df-convert {\n",
              "      background-color: #3B4455;\n",
              "      fill: #D2E3FC;\n",
              "    }\n",
              "\n",
              "    [theme=dark] .colab-df-convert:hover {\n",
              "      background-color: #434B5C;\n",
              "      box-shadow: 0px 1px 3px 1px rgba(0, 0, 0, 0.15);\n",
              "      filter: drop-shadow(0px 1px 2px rgba(0, 0, 0, 0.3));\n",
              "      fill: #FFFFFF;\n",
              "    }\n",
              "  </style>\n",
              "\n",
              "      <script>\n",
              "        const buttonEl =\n",
              "          document.querySelector('#df-e0491f20-bfe2-4d80-9541-f1d478360a02 button.colab-df-convert');\n",
              "        buttonEl.style.display =\n",
              "          google.colab.kernel.accessAllowed ? 'block' : 'none';\n",
              "\n",
              "        async function convertToInteractive(key) {\n",
              "          const element = document.querySelector('#df-e0491f20-bfe2-4d80-9541-f1d478360a02');\n",
              "          const dataTable =\n",
              "            await google.colab.kernel.invokeFunction('convertToInteractive',\n",
              "                                                     [key], {});\n",
              "          if (!dataTable) return;\n",
              "\n",
              "          const docLinkHtml = 'Like what you see? Visit the ' +\n",
              "            '<a target=\"_blank\" href=https://colab.research.google.com/notebooks/data_table.ipynb>data table notebook</a>'\n",
              "            + ' to learn more about interactive tables.';\n",
              "          element.innerHTML = '';\n",
              "          dataTable['output_type'] = 'display_data';\n",
              "          await google.colab.output.renderOutput(dataTable, element);\n",
              "          const docLink = document.createElement('div');\n",
              "          docLink.innerHTML = docLinkHtml;\n",
              "          element.appendChild(docLink);\n",
              "        }\n",
              "      </script>\n",
              "    </div>\n",
              "  </div>\n",
              "  "
            ]
          },
          "metadata": {},
          "execution_count": 3
        }
      ]
    },
    {
      "cell_type": "markdown",
      "source": [
        "# Analiza i dodatna priprema seta podataka\n",
        "Prvi korak pri izgradnji modela, jeste ponovna analiza podataka. Potrebno je provjeriti koje podatke treba dodatno transformisati. Potrebno je prvo da analiziramo moguće vrijednosti za svaku kolonu.\n",
        "\n",
        "Nakon toga, potrebno je pretvoriti sve podatke u numeričke (jer knn algoritam zahtjeva numeričke podatke)."
      ],
      "metadata": {
        "id": "ZE6hLPlNZOqL"
      }
    },
    {
      "cell_type": "code",
      "source": [
        "# Nazivi varijabli i tipovi podataka\n",
        "df.dtypes"
      ],
      "metadata": {
        "colab": {
          "base_uri": "https://localhost:8080/"
        },
        "id": "jl9SfPZ3TEja",
        "outputId": "e6607637-f6ce-479c-86a1-eab20c7cfe7f"
      },
      "execution_count": null,
      "outputs": [
        {
          "output_type": "execute_result",
          "data": {
            "text/plain": [
              "ID                           object\n",
              "Customer_ID                  object\n",
              "Month                        object\n",
              "Occupation                   object\n",
              "Annual_Income               float64\n",
              "Monthly_Inhand_Salary       float64\n",
              "Num_Bank_Accounts           float64\n",
              "Num_Credit_Card             float64\n",
              "Interest_Rate               float64\n",
              "Num_of_Loan                 float64\n",
              "Delay_from_due_date           int64\n",
              "Num_of_Delayed_Payment      float64\n",
              "Changed_Credit_Limit        float64\n",
              "Num_Credit_Inquiries        float64\n",
              "Credit_Mix                   object\n",
              "Outstanding_Debt            float64\n",
              "Credit_Utilization_Ratio    float64\n",
              "Credit_History_Age          float64\n",
              "Payment_of_Min_Amount        object\n",
              "Total_EMI_per_month         float64\n",
              "Amount_invested_monthly     float64\n",
              "Monthly_Balance             float64\n",
              "Credit_Score                 object\n",
              "Name                         object\n",
              "Age                         float64\n",
              "Auto_Loan                      bool\n",
              "Credit_Builder_Loan            bool\n",
              "Personal_Loan                  bool\n",
              "Home_Equity_Loan               bool\n",
              "Not_Specified                  bool\n",
              "Payday_Loan                    bool\n",
              "Student_Loan                   bool\n",
              "Mortgage_Loan                  bool\n",
              "Debt_Consolidation_Loan        bool\n",
              "Low_spent                      bool\n",
              "High_spent                     bool\n",
              "Large_value_payments           bool\n",
              "Medium_value_payments          bool\n",
              "Small_value_payments           bool\n",
              "dtype: object"
            ]
          },
          "metadata": {},
          "execution_count": 4
        }
      ]
    },
    {
      "cell_type": "code",
      "source": [
        "# Da bismo uspjeli izvršiti odgovarajuće transformacije podataka, potrebno je prvo da analiziramo moguće vrijednosti za svaku kolonu tipa object.\n",
        "for col in df:\n",
        "  if(df[col].dtypes == 'object'):\n",
        "    print(col)\n",
        "    print(df[col].unique())"
      ],
      "metadata": {
        "colab": {
          "base_uri": "https://localhost:8080/"
        },
        "id": "jnMQtVXkVGi8",
        "outputId": "009b32c0-e50f-4bf8-f340-40f693b29110"
      },
      "execution_count": null,
      "outputs": [
        {
          "output_type": "stream",
          "name": "stdout",
          "text": [
            "ID\n",
            "['0x1602' '0x1603' '0x1604' ... '0x25feb' '0x25fec' '0x25fed']\n",
            "Customer_ID\n",
            "['CUS_0xd40' 'CUS_0x21b1' 'CUS_0x2dbc' ... 'CUS_0xaf61' 'CUS_0x8600'\n",
            " 'CUS_0x942c']\n",
            "Month\n",
            "['January' 'February' 'March' 'April' 'May' 'June' 'July' 'August']\n",
            "Occupation\n",
            "['Scientist' 'No occupation' 'Teacher' 'Engineer' 'Entrepreneur'\n",
            " 'Developer' 'Lawyer' 'Media Manager' 'Doctor' 'Journalist' 'Manager'\n",
            " 'Accountant' 'Musician' 'Mechanic' 'Writer' 'Architect']\n",
            "Credit_Mix\n",
            "['Unknown' 'Good' 'Standard' 'Bad']\n",
            "Payment_of_Min_Amount\n",
            "['No' 'Yes']\n",
            "Credit_Score\n",
            "['Good' 'Standard' 'Poor']\n",
            "Name\n",
            "['Aaron Maashoh' nan 'Rick Rothackerj' ... 'Chris Wickhamm'\n",
            " 'Sarah Mcbridec' 'Nicks']\n"
          ]
        }
      ]
    },
    {
      "cell_type": "markdown",
      "source": [
        "Potrebno je transformisati sljedeće kolone: Month, Occupation, Credit_Mix, Payment_of_Min_Amount te obrisati kolone ID, Customer_ID i Name"
      ],
      "metadata": {
        "id": "PDqoGviNahJD"
      }
    },
    {
      "cell_type": "code",
      "source": [
        "#Transformacija u numericke (usput funkcija će služiti za reset podataka ukoliko su skalirani)\n",
        "\n",
        "def reloadCsv(df):\n",
        "  #  ucitavanje dataset-a\n",
        "  df = pd.read_csv('/content/drive/Shareddrives/MU/cleared_creditscore_dataset.csv')\n",
        "\n",
        "  return df\n",
        "\n",
        "def transformNumeric(df):\n",
        "  # kolone Customer_ID, ID, Name možemo obrisati\n",
        "  df = df.drop(['Customer_ID', 'ID', 'Name'], axis=1)\n",
        "\n",
        "  # pretvaramo kolonu Month u numericku\n",
        "  df.loc[df[\"Month\"] == \"January\", \"Month\"] = 1\n",
        "  df.loc[df[\"Month\"] == \"February\", \"Month\"] = 2\n",
        "  df.loc[df[\"Month\"] == \"March\", \"Month\"] = 3\n",
        "  df.loc[df[\"Month\"] == \"April\", \"Month\"] = 4\n",
        "  df.loc[df[\"Month\"] == \"May\", \"Month\"] = 5\n",
        "  df.loc[df[\"Month\"] == \"June\", \"Month\"] = 6\n",
        "  df.loc[df[\"Month\"] == \"July\", \"Month\"] = 7\n",
        "  df.loc[df[\"Month\"] == \"August\", \"Month\"] = 8\n",
        "  df['Month'] = df['Month'].astype('int')\n",
        "\n",
        "  # pretvaramo kolonu Occupation u numericku\n",
        "  df.loc[df[\"Occupation\"] == \"No occupation\", \"Occupation\"] = 0\n",
        "  df.loc[df[\"Occupation\"] == \"Musician\", \"Occupation\"] = 1\n",
        "  df.loc[df[\"Occupation\"] == \"Media Manager\", \"Occupation\"] = 2\n",
        "  df.loc[df[\"Occupation\"] == \"Manager\", \"Occupation\"] = 3\n",
        "  df.loc[df[\"Occupation\"] == \"Entrepreneur\", \"Occupation\"] = 4\n",
        "  df.loc[df[\"Occupation\"] == \"Teacher\", \"Occupation\"] = 5\n",
        "  df.loc[df[\"Occupation\"] == \"Writer\", \"Occupation\"] = 6\n",
        "  df.loc[df[\"Occupation\"] == \"Journalist\", \"Occupation\"] = 7\n",
        "  df.loc[df[\"Occupation\"] == \"Lawyer\", \"Occupation\"] = 8\n",
        "  df.loc[df[\"Occupation\"] == \"Accountant\", \"Occupation\"] = 9\n",
        "  df.loc[df[\"Occupation\"] == \"Mechanic\", \"Occupation\"] = 10\n",
        "  df.loc[df[\"Occupation\"] == \"Architect\", \"Occupation\"] = 11\n",
        "  df.loc[df[\"Occupation\"] == \"Engineer\", \"Occupation\"] = 12\n",
        "  df.loc[df[\"Occupation\"] == \"Developer\", \"Occupation\"] = 13\n",
        "  df.loc[df[\"Occupation\"] == \"Scientist\", \"Occupation\"] = 14\n",
        "  df.loc[df[\"Occupation\"] == \"Doctor\", \"Occupation\"] = 15\n",
        "  df['Occupation'] = df['Occupation'].astype('int')\n",
        "\n",
        "  # pretvaramo kolonu Credit_Mix u numericku\n",
        "  df.loc[df[\"Credit_Mix\"] == \"Unknown\", \"Credit_Mix\"] = 0\n",
        "  df.loc[df[\"Credit_Mix\"] == \"Good\", \"Credit_Mix\"] = 3\n",
        "  df.loc[df[\"Credit_Mix\"] == \"Standard\", \"Credit_Mix\"] = 2\n",
        "  df.loc[df[\"Credit_Mix\"] == \"Bad\", \"Credit_Mix\"] = 1\n",
        "  df['Credit_Mix'] = df['Credit_Mix'].astype('int')\n",
        "\n",
        "  # pretvaramo kolonu Payment_of_Min_Amount u numericku\n",
        "  df.loc[df[\"Payment_of_Min_Amount\"] == \"No\", \"Payment_of_Min_Amount\"] = 0\n",
        "  df.loc[df[\"Payment_of_Min_Amount\"] == \"Yes\", \"Payment_of_Min_Amount\"] = 1\n",
        "  df['Payment_of_Min_Amount'] = df['Payment_of_Min_Amount'].astype('int')\n",
        "\n",
        "  return df"
      ],
      "metadata": {
        "id": "b9R9agw4WfPT"
      },
      "execution_count": null,
      "outputs": []
    },
    {
      "cell_type": "code",
      "source": [
        "def transformNumericUpgraded(df):\n",
        "  # kolone Customer_ID, ID, Name možemo obrisati\n",
        "  df = df.drop(['Customer_ID', 'ID', 'Name'], axis=1)\n",
        "\n",
        "  # pretvaramo kolonu Month u numericku\n",
        "  df.loc[df[\"Month\"] == \"January\", \"Month\"] = 1\n",
        "  df.loc[df[\"Month\"] == \"February\", \"Month\"] = 2\n",
        "  df.loc[df[\"Month\"] == \"March\", \"Month\"] = 3\n",
        "  df.loc[df[\"Month\"] == \"April\", \"Month\"] = 4\n",
        "  df.loc[df[\"Month\"] == \"May\", \"Month\"] = 5\n",
        "  df.loc[df[\"Month\"] == \"June\", \"Month\"] = 6\n",
        "  df.loc[df[\"Month\"] == \"July\", \"Month\"] = 7\n",
        "  df.loc[df[\"Month\"] == \"August\", \"Month\"] = 8\n",
        "  df['Month'] = df['Month'].astype('int')\n",
        "\n",
        "  # Kreiranje kolona za svaki tip posla posebno\n",
        "  df['Teacher'] = np.where(df['Occupation'] == 'Teacher', True, False)\n",
        "  df['Writer'] = np.where(df['Occupation'] == 'Writer', True, False)\n",
        "  df['Lawyer'] = np.where(df['Occupation'] == 'Lawyer', True, False)\n",
        "  df['Scientist'] = np.where(df['Occupation'] == 'Scientist', True, False)\n",
        "  df['Musician'] = np.where(df['Occupation'] == 'Musician', True, False)\n",
        "  df['Manager'] = np.where(df['Occupation'] == 'Manager', True, False)\n",
        "  df['Entrepreneur'] = np.where(df['Occupation'] == 'Entrepreneur', True, False)\n",
        "  df['Journalist'] = np.where(df['Occupation'] == 'Journalist', True, False)\n",
        "  df['Accountant'] = np.where(df['Occupation'] == 'Accountant', True, False)\n",
        "  df['Mechanic'] = np.where(df['Occupation'] == 'Mechanic', True, False)\n",
        "  df['Architect'] = np.where(df['Occupation'] == 'Architect', True, False)\n",
        "  df['Engineer'] = np.where(df['Occupation'] == 'Engineer', True, False)\n",
        "  df['Developer'] = np.where(df['Occupation'] == 'Developer', True, False)\n",
        "  df['Doctor'] = np.where(df['Occupation'] == 'Doctor', True, False)\n",
        "  df['No occupation'] = np.where(df['Occupation'] == 'No occupation', True, False)\n",
        "  df = df.drop(['Occupation'], axis=1)\n",
        "\n",
        "\n",
        "  # pretvaramo kolonu Credit_Mix u numericku\n",
        "  df.loc[df[\"Credit_Mix\"] == \"Unknown\", \"Credit_Mix\"] = 0\n",
        "  df.loc[df[\"Credit_Mix\"] == \"Good\", \"Credit_Mix\"] = 3\n",
        "  df.loc[df[\"Credit_Mix\"] == \"Standard\", \"Credit_Mix\"] = 2\n",
        "  df.loc[df[\"Credit_Mix\"] == \"Bad\", \"Credit_Mix\"] = 1\n",
        "  df['Credit_Mix'] = df['Credit_Mix'].astype('int')\n",
        "\n",
        "  # pretvaramo kolonu Payment_of_Min_Amount u numericku\n",
        "  df.loc[df[\"Payment_of_Min_Amount\"] == \"No\", \"Payment_of_Min_Amount\"] = 0\n",
        "  df.loc[df[\"Payment_of_Min_Amount\"] == \"Yes\", \"Payment_of_Min_Amount\"] = 1\n",
        "  df['Payment_of_Min_Amount'] = df['Payment_of_Min_Amount'].astype('int')\n",
        "\n",
        "  return df"
      ],
      "metadata": {
        "id": "_qrRsrbns-D1"
      },
      "execution_count": null,
      "outputs": []
    },
    {
      "cell_type": "code",
      "source": [
        "# Transformacija i ispis naziva varijabli i tipova podataka nakon transformacije\n",
        "df = reloadCsv(df)\n",
        "df = transformNumericUpgraded(df)\n",
        "df.to_csv(r'/content/drive/Shareddrives/MU/knn_cleared_creditscore_dataset.csv', index=False)\n",
        "df.dtypes"
      ],
      "metadata": {
        "colab": {
          "base_uri": "https://localhost:8080/"
        },
        "id": "I9phW2A4X1Wt",
        "outputId": "e121b6e1-009f-4cb4-dc37-e03cd9f4f465"
      },
      "execution_count": null,
      "outputs": [
        {
          "output_type": "execute_result",
          "data": {
            "text/plain": [
              "Month                         int64\n",
              "Annual_Income               float64\n",
              "Monthly_Inhand_Salary       float64\n",
              "Num_Bank_Accounts           float64\n",
              "Num_Credit_Card             float64\n",
              "Interest_Rate               float64\n",
              "Num_of_Loan                 float64\n",
              "Delay_from_due_date           int64\n",
              "Num_of_Delayed_Payment      float64\n",
              "Changed_Credit_Limit        float64\n",
              "Num_Credit_Inquiries        float64\n",
              "Credit_Mix                    int64\n",
              "Outstanding_Debt            float64\n",
              "Credit_Utilization_Ratio    float64\n",
              "Credit_History_Age          float64\n",
              "Payment_of_Min_Amount         int64\n",
              "Total_EMI_per_month         float64\n",
              "Amount_invested_monthly     float64\n",
              "Monthly_Balance             float64\n",
              "Credit_Score                 object\n",
              "Age                         float64\n",
              "Auto_Loan                      bool\n",
              "Credit_Builder_Loan            bool\n",
              "Personal_Loan                  bool\n",
              "Home_Equity_Loan               bool\n",
              "Not_Specified                  bool\n",
              "Payday_Loan                    bool\n",
              "Student_Loan                   bool\n",
              "Mortgage_Loan                  bool\n",
              "Debt_Consolidation_Loan        bool\n",
              "Low_spent                      bool\n",
              "High_spent                     bool\n",
              "Large_value_payments           bool\n",
              "Medium_value_payments          bool\n",
              "Small_value_payments           bool\n",
              "Teacher                        bool\n",
              "Writer                         bool\n",
              "Lawyer                         bool\n",
              "Scientist                      bool\n",
              "Musician                       bool\n",
              "Manager                        bool\n",
              "Entrepreneur                   bool\n",
              "Journalist                     bool\n",
              "Accountant                     bool\n",
              "Mechanic                       bool\n",
              "Architect                      bool\n",
              "Engineer                       bool\n",
              "Developer                      bool\n",
              "Doctor                         bool\n",
              "No occupation                  bool\n",
              "dtype: object"
            ]
          },
          "metadata": {},
          "execution_count": 6
        }
      ]
    },
    {
      "cell_type": "markdown",
      "source": [
        "# Izgradnja modela\n"
      ],
      "metadata": {
        "id": "UNCKuaU2a4Zx"
      }
    },
    {
      "cell_type": "markdown",
      "source": [
        "## Model 1 - bez skaliranja"
      ],
      "metadata": {
        "id": "ib07tVxKjE0E"
      }
    },
    {
      "cell_type": "code",
      "source": [
        "# Razdvajanje podataka od labele Credit_Score\n",
        "y = df['Credit_Score']\n",
        "x = df.drop(['Credit_Score'], axis = 1)"
      ],
      "metadata": {
        "id": "RZvUWiFDX5LS"
      },
      "execution_count": null,
      "outputs": []
    },
    {
      "cell_type": "code",
      "source": [
        "# Opis podataka bez dodatnog skaliranja\n",
        "x.describe().T"
      ],
      "metadata": {
        "colab": {
          "base_uri": "https://localhost:8080/",
          "height": 677
        },
        "id": "pjEn5wwjavE6",
        "outputId": "9701c7c9-2f2a-41ea-e86f-24f29b7a96b8"
      },
      "execution_count": null,
      "outputs": [
        {
          "output_type": "execute_result",
          "data": {
            "text/plain": [
              "                             count          mean           std           min  \\\n",
              "Month                     100022.0  4.500060e+00  2.291304e+00  1.000000e+00   \n",
              "Annual_Income             100022.0  1.763843e+05  5.073754e+05  7.005930e+03   \n",
              "Monthly_Inhand_Salary     100022.0  4.198154e+03  3.186949e+03  3.036454e+02   \n",
              "Num_Bank_Accounts         100022.0  1.703318e+01  4.139908e+01 -1.000000e+00   \n",
              "Num_Credit_Card           100022.0  2.238463e+01  4.548473e+01  0.000000e+00   \n",
              "Interest_Rate             100022.0  7.246296e+01  1.650148e+02  1.000000e+00   \n",
              "Num_of_Loan               100022.0  7.019676e+00  2.126335e+01  0.000000e+00   \n",
              "Delay_from_due_date       100022.0  2.106931e+01  1.486054e+01 -5.000000e+00   \n",
              "Num_of_Delayed_Payment    100022.0  3.070613e+01  7.715761e+01  0.000000e+00   \n",
              "Changed_Credit_Limit      100022.0  1.038828e+01  6.542724e+00 -1.070000e+00   \n",
              "Num_Credit_Inquiries      100022.0  2.740777e+01  6.875864e+01  0.000000e+00   \n",
              "Credit_Mix                100022.0  1.649537e+00  1.057456e+00  0.000000e+00   \n",
              "Outstanding_Debt          100022.0  1.426277e+03  1.155132e+03  2.300000e-01   \n",
              "Credit_Utilization_Ratio  100022.0  3.228499e+01  5.116671e+00  2.000000e+01   \n",
              "Credit_History_Age        100022.0  2.781932e+02  2.723643e+02  4.500000e+00   \n",
              "Payment_of_Min_Amount     100022.0  5.232849e-01  4.994600e-01  0.000000e+00   \n",
              "Total_EMI_per_month       100022.0  1.403551e+03  2.916606e+03  0.000000e+00   \n",
              "Amount_invested_monthly   100022.0  6.373082e+02  7.155545e+02  1.686148e+01   \n",
              "Monthly_Balance           100022.0 -3.088580e+22  1.117498e+24 -4.166667e+25   \n",
              "Age                       100022.0  3.328062e+01  1.009367e+01  1.400000e+01   \n",
              "\n",
              "                                   25%           50%           75%  \\\n",
              "Month                         3.000000      4.500000      6.750000   \n",
              "Annual_Income             20060.230000  40678.440000  82920.200000   \n",
              "Monthly_Inhand_Salary      1625.597917   3097.008333   5961.637500   \n",
              "Num_Bank_Accounts             4.000000      6.000000      8.000000   \n",
              "Num_Credit_Card               4.000000      6.000000      8.000000   \n",
              "Interest_Rate                 8.000000     16.000000     27.000000   \n",
              "Num_of_Loan                   2.000000      3.000000      6.000000   \n",
              "Delay_from_due_date          10.000000     18.000000     28.000000   \n",
              "Num_of_Delayed_Payment       10.000000     15.000000     19.000000   \n",
              "Changed_Credit_Limit          5.455000      9.370000     14.655000   \n",
              "Num_Credit_Inquiries          3.000000      6.000000     10.000000   \n",
              "Credit_Mix                    1.000000      2.000000      2.000000   \n",
              "Outstanding_Debt            566.080000   1166.230000   1946.810000   \n",
              "Credit_Utilization_Ratio     28.052683     32.305645     36.496135   \n",
              "Credit_History_Age          155.774147    218.149147    312.667258   \n",
              "Payment_of_Min_Amount         0.000000      1.000000      1.000000   \n",
              "Total_EMI_per_month          41.106397    105.277684    369.929379   \n",
              "Amount_invested_monthly     143.118965    261.430445   1336.106176   \n",
              "Monthly_Balance             271.830205    322.114566    432.079502   \n",
              "Age                          26.000000     33.000000     40.000000   \n",
              "\n",
              "                                   max  \n",
              "Month                     8.000000e+00  \n",
              "Annual_Income             7.442411e+06  \n",
              "Monthly_Inhand_Salary     1.520463e+04  \n",
              "Num_Bank_Accounts         4.110000e+02  \n",
              "Num_Credit_Card           3.710000e+02  \n",
              "Interest_Rate             1.601750e+03  \n",
              "Num_of_Loan               3.470000e+02  \n",
              "Delay_from_due_date       6.700000e+01  \n",
              "Num_of_Delayed_Payment    9.750000e+02  \n",
              "Changed_Credit_Limit      3.111500e+01  \n",
              "Num_Credit_Inquiries      6.020000e+02  \n",
              "Credit_Mix                3.000000e+00  \n",
              "Outstanding_Debt          4.998070e+03  \n",
              "Credit_Utilization_Ratio  5.000000e+01  \n",
              "Credit_History_Age        2.108500e+03  \n",
              "Payment_of_Min_Amount     1.000000e+00  \n",
              "Total_EMI_per_month       2.998674e+04  \n",
              "Amount_invested_monthly   5.352769e+03  \n",
              "Monthly_Balance           1.349265e+03  \n",
              "Age                       1.180000e+02  "
            ],
            "text/html": [
              "\n",
              "  <div id=\"df-1eb4a77e-8e0c-43ae-854d-1d8fe65ac858\">\n",
              "    <div class=\"colab-df-container\">\n",
              "      <div>\n",
              "<style scoped>\n",
              "    .dataframe tbody tr th:only-of-type {\n",
              "        vertical-align: middle;\n",
              "    }\n",
              "\n",
              "    .dataframe tbody tr th {\n",
              "        vertical-align: top;\n",
              "    }\n",
              "\n",
              "    .dataframe thead th {\n",
              "        text-align: right;\n",
              "    }\n",
              "</style>\n",
              "<table border=\"1\" class=\"dataframe\">\n",
              "  <thead>\n",
              "    <tr style=\"text-align: right;\">\n",
              "      <th></th>\n",
              "      <th>count</th>\n",
              "      <th>mean</th>\n",
              "      <th>std</th>\n",
              "      <th>min</th>\n",
              "      <th>25%</th>\n",
              "      <th>50%</th>\n",
              "      <th>75%</th>\n",
              "      <th>max</th>\n",
              "    </tr>\n",
              "  </thead>\n",
              "  <tbody>\n",
              "    <tr>\n",
              "      <th>Month</th>\n",
              "      <td>100022.0</td>\n",
              "      <td>4.500060e+00</td>\n",
              "      <td>2.291304e+00</td>\n",
              "      <td>1.000000e+00</td>\n",
              "      <td>3.000000</td>\n",
              "      <td>4.500000</td>\n",
              "      <td>6.750000</td>\n",
              "      <td>8.000000e+00</td>\n",
              "    </tr>\n",
              "    <tr>\n",
              "      <th>Annual_Income</th>\n",
              "      <td>100022.0</td>\n",
              "      <td>1.763843e+05</td>\n",
              "      <td>5.073754e+05</td>\n",
              "      <td>7.005930e+03</td>\n",
              "      <td>20060.230000</td>\n",
              "      <td>40678.440000</td>\n",
              "      <td>82920.200000</td>\n",
              "      <td>7.442411e+06</td>\n",
              "    </tr>\n",
              "    <tr>\n",
              "      <th>Monthly_Inhand_Salary</th>\n",
              "      <td>100022.0</td>\n",
              "      <td>4.198154e+03</td>\n",
              "      <td>3.186949e+03</td>\n",
              "      <td>3.036454e+02</td>\n",
              "      <td>1625.597917</td>\n",
              "      <td>3097.008333</td>\n",
              "      <td>5961.637500</td>\n",
              "      <td>1.520463e+04</td>\n",
              "    </tr>\n",
              "    <tr>\n",
              "      <th>Num_Bank_Accounts</th>\n",
              "      <td>100022.0</td>\n",
              "      <td>1.703318e+01</td>\n",
              "      <td>4.139908e+01</td>\n",
              "      <td>-1.000000e+00</td>\n",
              "      <td>4.000000</td>\n",
              "      <td>6.000000</td>\n",
              "      <td>8.000000</td>\n",
              "      <td>4.110000e+02</td>\n",
              "    </tr>\n",
              "    <tr>\n",
              "      <th>Num_Credit_Card</th>\n",
              "      <td>100022.0</td>\n",
              "      <td>2.238463e+01</td>\n",
              "      <td>4.548473e+01</td>\n",
              "      <td>0.000000e+00</td>\n",
              "      <td>4.000000</td>\n",
              "      <td>6.000000</td>\n",
              "      <td>8.000000</td>\n",
              "      <td>3.710000e+02</td>\n",
              "    </tr>\n",
              "    <tr>\n",
              "      <th>Interest_Rate</th>\n",
              "      <td>100022.0</td>\n",
              "      <td>7.246296e+01</td>\n",
              "      <td>1.650148e+02</td>\n",
              "      <td>1.000000e+00</td>\n",
              "      <td>8.000000</td>\n",
              "      <td>16.000000</td>\n",
              "      <td>27.000000</td>\n",
              "      <td>1.601750e+03</td>\n",
              "    </tr>\n",
              "    <tr>\n",
              "      <th>Num_of_Loan</th>\n",
              "      <td>100022.0</td>\n",
              "      <td>7.019676e+00</td>\n",
              "      <td>2.126335e+01</td>\n",
              "      <td>0.000000e+00</td>\n",
              "      <td>2.000000</td>\n",
              "      <td>3.000000</td>\n",
              "      <td>6.000000</td>\n",
              "      <td>3.470000e+02</td>\n",
              "    </tr>\n",
              "    <tr>\n",
              "      <th>Delay_from_due_date</th>\n",
              "      <td>100022.0</td>\n",
              "      <td>2.106931e+01</td>\n",
              "      <td>1.486054e+01</td>\n",
              "      <td>-5.000000e+00</td>\n",
              "      <td>10.000000</td>\n",
              "      <td>18.000000</td>\n",
              "      <td>28.000000</td>\n",
              "      <td>6.700000e+01</td>\n",
              "    </tr>\n",
              "    <tr>\n",
              "      <th>Num_of_Delayed_Payment</th>\n",
              "      <td>100022.0</td>\n",
              "      <td>3.070613e+01</td>\n",
              "      <td>7.715761e+01</td>\n",
              "      <td>0.000000e+00</td>\n",
              "      <td>10.000000</td>\n",
              "      <td>15.000000</td>\n",
              "      <td>19.000000</td>\n",
              "      <td>9.750000e+02</td>\n",
              "    </tr>\n",
              "    <tr>\n",
              "      <th>Changed_Credit_Limit</th>\n",
              "      <td>100022.0</td>\n",
              "      <td>1.038828e+01</td>\n",
              "      <td>6.542724e+00</td>\n",
              "      <td>-1.070000e+00</td>\n",
              "      <td>5.455000</td>\n",
              "      <td>9.370000</td>\n",
              "      <td>14.655000</td>\n",
              "      <td>3.111500e+01</td>\n",
              "    </tr>\n",
              "    <tr>\n",
              "      <th>Num_Credit_Inquiries</th>\n",
              "      <td>100022.0</td>\n",
              "      <td>2.740777e+01</td>\n",
              "      <td>6.875864e+01</td>\n",
              "      <td>0.000000e+00</td>\n",
              "      <td>3.000000</td>\n",
              "      <td>6.000000</td>\n",
              "      <td>10.000000</td>\n",
              "      <td>6.020000e+02</td>\n",
              "    </tr>\n",
              "    <tr>\n",
              "      <th>Credit_Mix</th>\n",
              "      <td>100022.0</td>\n",
              "      <td>1.649537e+00</td>\n",
              "      <td>1.057456e+00</td>\n",
              "      <td>0.000000e+00</td>\n",
              "      <td>1.000000</td>\n",
              "      <td>2.000000</td>\n",
              "      <td>2.000000</td>\n",
              "      <td>3.000000e+00</td>\n",
              "    </tr>\n",
              "    <tr>\n",
              "      <th>Outstanding_Debt</th>\n",
              "      <td>100022.0</td>\n",
              "      <td>1.426277e+03</td>\n",
              "      <td>1.155132e+03</td>\n",
              "      <td>2.300000e-01</td>\n",
              "      <td>566.080000</td>\n",
              "      <td>1166.230000</td>\n",
              "      <td>1946.810000</td>\n",
              "      <td>4.998070e+03</td>\n",
              "    </tr>\n",
              "    <tr>\n",
              "      <th>Credit_Utilization_Ratio</th>\n",
              "      <td>100022.0</td>\n",
              "      <td>3.228499e+01</td>\n",
              "      <td>5.116671e+00</td>\n",
              "      <td>2.000000e+01</td>\n",
              "      <td>28.052683</td>\n",
              "      <td>32.305645</td>\n",
              "      <td>36.496135</td>\n",
              "      <td>5.000000e+01</td>\n",
              "    </tr>\n",
              "    <tr>\n",
              "      <th>Credit_History_Age</th>\n",
              "      <td>100022.0</td>\n",
              "      <td>2.781932e+02</td>\n",
              "      <td>2.723643e+02</td>\n",
              "      <td>4.500000e+00</td>\n",
              "      <td>155.774147</td>\n",
              "      <td>218.149147</td>\n",
              "      <td>312.667258</td>\n",
              "      <td>2.108500e+03</td>\n",
              "    </tr>\n",
              "    <tr>\n",
              "      <th>Payment_of_Min_Amount</th>\n",
              "      <td>100022.0</td>\n",
              "      <td>5.232849e-01</td>\n",
              "      <td>4.994600e-01</td>\n",
              "      <td>0.000000e+00</td>\n",
              "      <td>0.000000</td>\n",
              "      <td>1.000000</td>\n",
              "      <td>1.000000</td>\n",
              "      <td>1.000000e+00</td>\n",
              "    </tr>\n",
              "    <tr>\n",
              "      <th>Total_EMI_per_month</th>\n",
              "      <td>100022.0</td>\n",
              "      <td>1.403551e+03</td>\n",
              "      <td>2.916606e+03</td>\n",
              "      <td>0.000000e+00</td>\n",
              "      <td>41.106397</td>\n",
              "      <td>105.277684</td>\n",
              "      <td>369.929379</td>\n",
              "      <td>2.998674e+04</td>\n",
              "    </tr>\n",
              "    <tr>\n",
              "      <th>Amount_invested_monthly</th>\n",
              "      <td>100022.0</td>\n",
              "      <td>6.373082e+02</td>\n",
              "      <td>7.155545e+02</td>\n",
              "      <td>1.686148e+01</td>\n",
              "      <td>143.118965</td>\n",
              "      <td>261.430445</td>\n",
              "      <td>1336.106176</td>\n",
              "      <td>5.352769e+03</td>\n",
              "    </tr>\n",
              "    <tr>\n",
              "      <th>Monthly_Balance</th>\n",
              "      <td>100022.0</td>\n",
              "      <td>-3.088580e+22</td>\n",
              "      <td>1.117498e+24</td>\n",
              "      <td>-4.166667e+25</td>\n",
              "      <td>271.830205</td>\n",
              "      <td>322.114566</td>\n",
              "      <td>432.079502</td>\n",
              "      <td>1.349265e+03</td>\n",
              "    </tr>\n",
              "    <tr>\n",
              "      <th>Age</th>\n",
              "      <td>100022.0</td>\n",
              "      <td>3.328062e+01</td>\n",
              "      <td>1.009367e+01</td>\n",
              "      <td>1.400000e+01</td>\n",
              "      <td>26.000000</td>\n",
              "      <td>33.000000</td>\n",
              "      <td>40.000000</td>\n",
              "      <td>1.180000e+02</td>\n",
              "    </tr>\n",
              "  </tbody>\n",
              "</table>\n",
              "</div>\n",
              "      <button class=\"colab-df-convert\" onclick=\"convertToInteractive('df-1eb4a77e-8e0c-43ae-854d-1d8fe65ac858')\"\n",
              "              title=\"Convert this dataframe to an interactive table.\"\n",
              "              style=\"display:none;\">\n",
              "        \n",
              "  <svg xmlns=\"http://www.w3.org/2000/svg\" height=\"24px\"viewBox=\"0 0 24 24\"\n",
              "       width=\"24px\">\n",
              "    <path d=\"M0 0h24v24H0V0z\" fill=\"none\"/>\n",
              "    <path d=\"M18.56 5.44l.94 2.06.94-2.06 2.06-.94-2.06-.94-.94-2.06-.94 2.06-2.06.94zm-11 1L8.5 8.5l.94-2.06 2.06-.94-2.06-.94L8.5 2.5l-.94 2.06-2.06.94zm10 10l.94 2.06.94-2.06 2.06-.94-2.06-.94-.94-2.06-.94 2.06-2.06.94z\"/><path d=\"M17.41 7.96l-1.37-1.37c-.4-.4-.92-.59-1.43-.59-.52 0-1.04.2-1.43.59L10.3 9.45l-7.72 7.72c-.78.78-.78 2.05 0 2.83L4 21.41c.39.39.9.59 1.41.59.51 0 1.02-.2 1.41-.59l7.78-7.78 2.81-2.81c.8-.78.8-2.07 0-2.86zM5.41 20L4 18.59l7.72-7.72 1.47 1.35L5.41 20z\"/>\n",
              "  </svg>\n",
              "      </button>\n",
              "      \n",
              "  <style>\n",
              "    .colab-df-container {\n",
              "      display:flex;\n",
              "      flex-wrap:wrap;\n",
              "      gap: 12px;\n",
              "    }\n",
              "\n",
              "    .colab-df-convert {\n",
              "      background-color: #E8F0FE;\n",
              "      border: none;\n",
              "      border-radius: 50%;\n",
              "      cursor: pointer;\n",
              "      display: none;\n",
              "      fill: #1967D2;\n",
              "      height: 32px;\n",
              "      padding: 0 0 0 0;\n",
              "      width: 32px;\n",
              "    }\n",
              "\n",
              "    .colab-df-convert:hover {\n",
              "      background-color: #E2EBFA;\n",
              "      box-shadow: 0px 1px 2px rgba(60, 64, 67, 0.3), 0px 1px 3px 1px rgba(60, 64, 67, 0.15);\n",
              "      fill: #174EA6;\n",
              "    }\n",
              "\n",
              "    [theme=dark] .colab-df-convert {\n",
              "      background-color: #3B4455;\n",
              "      fill: #D2E3FC;\n",
              "    }\n",
              "\n",
              "    [theme=dark] .colab-df-convert:hover {\n",
              "      background-color: #434B5C;\n",
              "      box-shadow: 0px 1px 3px 1px rgba(0, 0, 0, 0.15);\n",
              "      filter: drop-shadow(0px 1px 2px rgba(0, 0, 0, 0.3));\n",
              "      fill: #FFFFFF;\n",
              "    }\n",
              "  </style>\n",
              "\n",
              "      <script>\n",
              "        const buttonEl =\n",
              "          document.querySelector('#df-1eb4a77e-8e0c-43ae-854d-1d8fe65ac858 button.colab-df-convert');\n",
              "        buttonEl.style.display =\n",
              "          google.colab.kernel.accessAllowed ? 'block' : 'none';\n",
              "\n",
              "        async function convertToInteractive(key) {\n",
              "          const element = document.querySelector('#df-1eb4a77e-8e0c-43ae-854d-1d8fe65ac858');\n",
              "          const dataTable =\n",
              "            await google.colab.kernel.invokeFunction('convertToInteractive',\n",
              "                                                     [key], {});\n",
              "          if (!dataTable) return;\n",
              "\n",
              "          const docLinkHtml = 'Like what you see? Visit the ' +\n",
              "            '<a target=\"_blank\" href=https://colab.research.google.com/notebooks/data_table.ipynb>data table notebook</a>'\n",
              "            + ' to learn more about interactive tables.';\n",
              "          element.innerHTML = '';\n",
              "          dataTable['output_type'] = 'display_data';\n",
              "          await google.colab.output.renderOutput(dataTable, element);\n",
              "          const docLink = document.createElement('div');\n",
              "          docLink.innerHTML = docLinkHtml;\n",
              "          element.appendChild(docLink);\n",
              "        }\n",
              "      </script>\n",
              "    </div>\n",
              "  </div>\n",
              "  "
            ]
          },
          "metadata": {},
          "execution_count": 9
        }
      ]
    },
    {
      "cell_type": "code",
      "source": [
        "# Ponovno učitavanje podataka i pretvaranje u numeričke \n",
        "df = reloadCsv(df)\n",
        "df = transformNumericUpgraded(df)\n",
        "\n",
        "# Razdvajanje podataka od labele Credit_Score\n",
        "y = df['Credit_Score']\n",
        "x = df.drop(['Credit_Score'], axis = 1)\n",
        "\n",
        "# Podjela podataka na podatke za trening i test, gdje koristimo 80% podatka za trening i preostalih 20% za testiranje\n",
        "x_train, x_test, y_train, y_test = train_test_split(\n",
        "             x, y, test_size = 0.2, random_state=42)\n",
        "\n",
        "# Kreiranje modela 1 - bez skaliranih podataka\n",
        "knn = KNeighborsClassifier(n_neighbors=5)\n",
        "model1 = knn.fit(x_train, y_train)\n",
        "prediction1 = model1.predict(x_test)\n",
        "\n",
        "# Ispis tačnosti\n",
        "accuracy_score(y_test, prediction1)"
      ],
      "metadata": {
        "colab": {
          "base_uri": "https://localhost:8080/"
        },
        "id": "qvKHXhKBc9QM",
        "outputId": "499b6cdb-2b1d-4d12-c68e-ee7231c2bfb6"
      },
      "execution_count": null,
      "outputs": [
        {
          "output_type": "execute_result",
          "data": {
            "text/plain": [
              "0.7821044738815296"
            ]
          },
          "metadata": {},
          "execution_count": 8
        }
      ]
    },
    {
      "cell_type": "code",
      "source": [
        "#Vizuelizacija konfuzijske matrice\n",
        "cm1 = confusion_matrix(y_test, prediction1)\n",
        "disp = ConfusionMatrixDisplay(confusion_matrix=cm1,display_labels=knn.classes_)\n",
        "disp.plot()\n",
        "plt.show()"
      ],
      "metadata": {
        "colab": {
          "base_uri": "https://localhost:8080/",
          "height": 279
        },
        "id": "ztVsidrgkrW6",
        "outputId": "17bfc002-1dab-4618-faf1-08d3f77588e5"
      },
      "execution_count": null,
      "outputs": [
        {
          "output_type": "display_data",
          "data": {
            "text/plain": [
              "<Figure size 432x288 with 2 Axes>"
            ],
            "image/png": "[encoded data removed]"
          },
          "metadata": {
            "needs_background": "light"
          }
        }
      ]
    },
    {
      "cell_type": "code",
      "source": [
        "print(\"Tacnost: \")\n",
        "print(metrics.accuracy_score(y_test, prediction1))\n",
        "\n",
        "#Stepen greške- error rate\n",
        "print(\"Stepen greske: \")\n",
        "print(1 - metrics.accuracy_score(y_test, prediction1))\n",
        "\n",
        "#Osjetljivost\n",
        "print(\"Osjetljivost: \")\n",
        "print(sensitivity_score(y_test, prediction1, average='macro'))\n",
        "\n",
        "#Specificnost\n",
        "print(\"Specificnost: \")\n",
        "print(specificity_score(y_test, prediction1, average='macro'))\n",
        "\n",
        "#Preciznost\n",
        "print(\"Preciznost: \")\n",
        "print(precision_score(y_test, prediction1, average='macro'))\n",
        "\n",
        "#Opoziv\n",
        "print(\"Opoziv (recall): \")\n",
        "print(recall_score(y_test, prediction1, average='macro'))\n",
        "\n",
        "#F-score\n",
        "print(\"F-score: \")\n",
        "print(f1_score(y_test, prediction1, average='macro'))\n",
        "\n",
        "#Kappa statistika\n",
        "print(\"Kappa statistika: \")\n",
        "print(cohen_kappa_score(y_test, prediction1))"
      ],
      "metadata": {
        "colab": {
          "base_uri": "https://localhost:8080/"
        },
        "id": "BbmihLR-9tPc",
        "outputId": "692b7093-7145-4ad1-e66d-da728126bcc4"
      },
      "execution_count": null,
      "outputs": [
        {
          "output_type": "stream",
          "name": "stdout",
          "text": [
            "Tacnost: \n",
            "0.7821044738815296\n",
            "Stepen greske: \n",
            "0.2178955261184704\n",
            "Osjetljivost: \n",
            "0.7713618039486043\n",
            "Specificnost: \n",
            "0.8745957313988143\n",
            "Preciznost: \n",
            "0.7761065665559443\n",
            "Opoziv (recall): \n",
            "0.7713618039486043\n",
            "F-score: \n",
            "0.7735362295275855\n",
            "Kappa statistika: \n",
            "0.6383208935217849\n"
          ]
        }
      ]
    },
    {
      "cell_type": "code",
      "source": [
        "# Klasifikacijski izvještaj\n",
        "\n",
        "cr1 = classification_report(y_test, prediction1)\n",
        "print(\"Klasifikacijski izvjestaj\")\n",
        "print(cr1)"
      ],
      "metadata": {
        "colab": {
          "base_uri": "https://localhost:8080/"
        },
        "id": "MOIIC0tXXuSP",
        "outputId": "1a86c654-9387-4580-862e-a81ede48ec82"
      },
      "execution_count": null,
      "outputs": [
        {
          "output_type": "stream",
          "name": "stdout",
          "text": [
            "Klasifikacijski izvjestaj\n",
            "              precision    recall  f1-score   support\n",
            "\n",
            "        Good       0.76      0.73      0.75      3594\n",
            "        Poor       0.77      0.79      0.78      5849\n",
            "    Standard       0.80      0.80      0.80     10562\n",
            "\n",
            "    accuracy                           0.78     20005\n",
            "   macro avg       0.78      0.77      0.77     20005\n",
            "weighted avg       0.78      0.78      0.78     20005\n",
            "\n"
          ]
        }
      ]
    },
    {
      "cell_type": "markdown",
      "source": [
        "## Model 2 - min-max skaliranje"
      ],
      "metadata": {
        "id": "O6wzWuoNbJgh"
      }
    },
    {
      "cell_type": "code",
      "source": [
        "# Ponovno učitavanje podataka i pretvaranje u numeričke \n",
        "df = reloadCsv(df)\n",
        "df = transformNumericUpgraded(df)\n",
        "\n",
        "# Razdvajanje podataka od labele Credit_Score\n",
        "y = df['Credit_Score']\n",
        "x = df.drop(['Credit_Score'], axis = 1)\n",
        "\n",
        "# Primjena min-max skaliranja\n",
        "mms = MinMaxScaler()\n",
        "mms.fit(x)\n",
        "x = mms.transform(x)"
      ],
      "metadata": {
        "id": "4_0tpsdcc-V_"
      },
      "execution_count": null,
      "outputs": []
    },
    {
      "cell_type": "code",
      "source": [
        "# Podjela podataka na podatke za trening i test, gdje koristimo 80% podatka za trening i preostalih 20% za testiranje\n",
        "x_train, x_test, y_train, y_test = train_test_split(\n",
        "             x, y, test_size = 0.2, random_state=42)\n",
        "\n",
        "# Kreiranje modela 2 - skalirani podaci min-max transformacijom\n",
        "knn = KNeighborsClassifier(n_neighbors=7)\n",
        "model2 = knn.fit(x_train, y_train)\n",
        "prediction2 = model2.predict(x_test)\n",
        "\n",
        "# Ispis tačnosti\n",
        "accuracy_score(y_test, prediction2)"
      ],
      "metadata": {
        "colab": {
          "base_uri": "https://localhost:8080/"
        },
        "id": "XTBnT8yMmJxj",
        "outputId": "c51a788d-b229-47a5-d4f6-63556518f88f"
      },
      "execution_count": null,
      "outputs": [
        {
          "output_type": "execute_result",
          "data": {
            "text/plain": [
              "0.5905523619095226"
            ]
          },
          "metadata": {},
          "execution_count": 12
        }
      ]
    },
    {
      "cell_type": "code",
      "source": [
        "#Vizuelizacija konfuzijske matrice\n",
        "cm2 = confusion_matrix(y_test, prediction2)\n",
        "disp = ConfusionMatrixDisplay(confusion_matrix=cm2,display_labels=knn.classes_)\n",
        "disp.plot()\n",
        "plt.show()"
      ],
      "metadata": {
        "colab": {
          "base_uri": "https://localhost:8080/",
          "height": 279
        },
        "id": "4WQIZBdCm0xH",
        "outputId": "faa72063-c678-45cc-f888-c26846246829"
      },
      "execution_count": null,
      "outputs": [
        {
          "output_type": "display_data",
          "data": {
            "text/plain": [
              "<Figure size 432x288 with 2 Axes>"
            ],
            "image/png": "[encoded data removed]"
          },
          "metadata": {
            "needs_background": "light"
          }
        }
      ]
    },
    {
      "cell_type": "code",
      "source": [
        "print(\"Tacnost: \")\n",
        "print(metrics.accuracy_score(y_test, prediction2))\n",
        "\n",
        "#Stepen greške- error rate\n",
        "print(\"Stepen greske: \")\n",
        "print(1 - metrics.accuracy_score(y_test, prediction2))\n",
        "\n",
        "#Osjetljivost\n",
        "print(\"Osjetljivost: \")\n",
        "print(sensitivity_score(y_test, prediction2, average='macro'))\n",
        "\n",
        "#Specificnost\n",
        "print(\"Specificnost: \")\n",
        "print(specificity_score(y_test, prediction2, average='macro'))\n",
        "\n",
        "#Preciznost\n",
        "print(\"Preciznost: \")\n",
        "print(precision_score(y_test, prediction2, average='macro'))\n",
        "\n",
        "#Opoziv\n",
        "print(\"Opoziv (recall): \")\n",
        "print(recall_score(y_test, prediction2, average='macro'))\n",
        "\n",
        "#F-score\n",
        "print(\"F-score: \")\n",
        "print(f1_score(y_test, prediction2, average='macro'))\n",
        "\n",
        "#Kappa statistika\n",
        "print(\"Kappa statistika: \")\n",
        "print(cohen_kappa_score(y_test, prediction2))"
      ],
      "metadata": {
        "colab": {
          "base_uri": "https://localhost:8080/"
        },
        "id": "fSNF678L-0IP",
        "outputId": "68574af9-eab0-4b41-e108-977cc6820066"
      },
      "execution_count": null,
      "outputs": [
        {
          "output_type": "stream",
          "name": "stdout",
          "text": [
            "Tacnost: \n",
            "0.5905523619095226\n",
            "Stepen greske: \n",
            "0.40944763809047735\n",
            "Osjetljivost: \n",
            "0.5428388755091845\n",
            "Specificnost: \n",
            "0.761934027798179\n",
            "Preciznost: \n",
            "0.560207709328753\n",
            "Opoziv (recall): \n",
            "0.5428388755091845\n",
            "F-score: \n",
            "0.5494902737990889\n",
            "Kappa statistika: \n",
            "0.3046489661748617\n"
          ]
        }
      ]
    },
    {
      "cell_type": "code",
      "source": [
        "# Klasifikacijski izvještaj\n",
        "\n",
        "cr2 = classification_report(y_test, prediction2)\n",
        "print(\"Klasifikacijski izvjestaj\")\n",
        "print(cr2)"
      ],
      "metadata": {
        "colab": {
          "base_uri": "https://localhost:8080/"
        },
        "id": "wSsFmTowjdOK",
        "outputId": "1c8f020b-e7b7-4e94-fce7-4198f379d4b7"
      },
      "execution_count": null,
      "outputs": [
        {
          "output_type": "stream",
          "name": "stdout",
          "text": [
            "Klasifikacijski izvjestaj\n",
            "              precision    recall  f1-score   support\n",
            "\n",
            "        Good       0.47      0.44      0.46      3594\n",
            "        Poor       0.58      0.49      0.53      5849\n",
            "    Standard       0.63      0.70      0.66     10562\n",
            "\n",
            "    accuracy                           0.59     20005\n",
            "   macro avg       0.56      0.54      0.55     20005\n",
            "weighted avg       0.59      0.59      0.59     20005\n",
            "\n"
          ]
        }
      ]
    },
    {
      "cell_type": "markdown",
      "source": [
        "## Model 3 - z-score skaliranje"
      ],
      "metadata": {
        "id": "KF7a1JL5jyZs"
      }
    },
    {
      "cell_type": "code",
      "source": [
        "# Ponovno učitavanje podataka i pretvaranje u numeričke \n",
        "df = reloadCsv(df)\n",
        "df = transformNumericUpgraded(df)\n",
        "\n",
        "# Razdvajanje podataka od labele Credit_Score\n",
        "y = df['Credit_Score']\n",
        "x = df.drop(['Credit_Score'], axis = 1)\n",
        "\n",
        "# Primjena z score skaliranja\n",
        "x = x.apply(stats.zscore)"
      ],
      "metadata": {
        "id": "KTtyrI9Fgxyi"
      },
      "execution_count": null,
      "outputs": []
    },
    {
      "cell_type": "code",
      "source": [
        "# Podjela podataka na podatke za trening i test, gdje koristimo 80% podatka za trening i preostalih 20% za testiranje\n",
        "x_train, x_test, y_train, y_test = train_test_split(\n",
        "             x, y, test_size = 0.2, random_state=42)\n",
        "\n",
        "# Kreiranje modela 3 - skalirani podaci min-max transformacijom\n",
        "knn = KNeighborsClassifier(n_neighbors=7)\n",
        "model3 = knn.fit(x_train, y_train)\n",
        "prediction3 = model3.predict(x_test)\n",
        "\n",
        "# Ispis tačnosti\n",
        "accuracy_score(y_test, prediction3)"
      ],
      "metadata": {
        "colab": {
          "base_uri": "https://localhost:8080/"
        },
        "id": "49SECaJ6grAt",
        "outputId": "159da5b2-f30e-4eb0-98ee-e58a58aadef4"
      },
      "execution_count": null,
      "outputs": [
        {
          "output_type": "execute_result",
          "data": {
            "text/plain": [
              "0.7079730067483129"
            ]
          },
          "metadata": {},
          "execution_count": 16
        }
      ]
    },
    {
      "cell_type": "code",
      "source": [
        "#Vizuelizacija konfuzijske matrice\n",
        "cm3 = confusion_matrix(y_test, prediction3)\n",
        "disp = ConfusionMatrixDisplay(confusion_matrix=cm3,display_labels=knn.classes_)\n",
        "disp.plot()\n",
        "plt.show()"
      ],
      "metadata": {
        "colab": {
          "base_uri": "https://localhost:8080/",
          "height": 279
        },
        "id": "I70oOukgbIuG",
        "outputId": "df4145b9-8666-4fd6-9185-3fe93e3889bb"
      },
      "execution_count": null,
      "outputs": [
        {
          "output_type": "display_data",
          "data": {
            "text/plain": [
              "<Figure size 432x288 with 2 Axes>"
            ],
            "image/png": "[encoded data removed]"
          },
          "metadata": {
            "needs_background": "light"
          }
        }
      ]
    },
    {
      "cell_type": "code",
      "source": [
        "print(\"Tacnost: \")\n",
        "print(metrics.accuracy_score(y_test, prediction3))\n",
        "\n",
        "#Stepen greške- error rate\n",
        "print(\"Stepen greske: \")\n",
        "print(1 - metrics.accuracy_score(y_test, prediction3))\n",
        "\n",
        "#Osjetljivost\n",
        "print(\"Osjetljivost: \")\n",
        "print(sensitivity_score(y_test, prediction3, average='macro'))\n",
        "\n",
        "#Specificnost\n",
        "print(\"Specificnost: \")\n",
        "print(specificity_score(y_test, prediction3, average='macro'))\n",
        "\n",
        "#Preciznost\n",
        "print(\"Preciznost: \")\n",
        "print(precision_score(y_test, prediction3, average='macro'))\n",
        "\n",
        "#Opoziv\n",
        "print(\"Opoziv (recall): \")\n",
        "print(recall_score(y_test, prediction3, average='macro'))\n",
        "\n",
        "#F-score\n",
        "print(\"F-score: \")\n",
        "print(f1_score(y_test, prediction3, average='macro'))\n",
        "\n",
        "#Kappa statistika\n",
        "print(\"Kappa statistika: \")\n",
        "print(cohen_kappa_score(y_test, prediction3))"
      ],
      "metadata": {
        "colab": {
          "base_uri": "https://localhost:8080/"
        },
        "id": "fUQNuOlg_vLG",
        "outputId": "ba03bbf0-35f0-4983-edc3-db29e6606841"
      },
      "execution_count": null,
      "outputs": [
        {
          "output_type": "stream",
          "name": "stdout",
          "text": [
            "Tacnost: \n",
            "0.7079730067483129\n",
            "Stepen greske: \n",
            "0.29202699325168713\n",
            "Osjetljivost: \n",
            "0.6711744732316075\n",
            "Specificnost: \n",
            "0.8295634168869764\n",
            "Preciznost: \n",
            "0.6907338189180011\n",
            "Opoziv (recall): \n",
            "0.6711744732316075\n",
            "F-score: \n",
            "0.6798511109666227\n",
            "Kappa statistika: \n",
            "0.5072578890718662\n"
          ]
        }
      ]
    },
    {
      "cell_type": "code",
      "source": [
        "# Klasifikacijski izvještaj\n",
        "\n",
        "cr3 = classification_report(y_test, prediction3)\n",
        "print(\"Klasifikacijski izvjestaj\")\n",
        "print(cr3)"
      ],
      "metadata": {
        "id": "RtZ6j2CJbP11",
        "colab": {
          "base_uri": "https://localhost:8080/"
        },
        "outputId": "a7cd8ba4-be0f-4eb6-ea58-c39bee61ba5f"
      },
      "execution_count": null,
      "outputs": [
        {
          "output_type": "stream",
          "name": "stdout",
          "text": [
            "Klasifikacijski izvjestaj\n",
            "              precision    recall  f1-score   support\n",
            "\n",
            "        Good       0.62      0.56      0.59      3594\n",
            "        Poor       0.73      0.68      0.70      5849\n",
            "    Standard       0.72      0.77      0.75     10562\n",
            "\n",
            "    accuracy                           0.71     20005\n",
            "   macro avg       0.69      0.67      0.68     20005\n",
            "weighted avg       0.71      0.71      0.71     20005\n",
            "\n"
          ]
        }
      ]
    },
    {
      "cell_type": "markdown",
      "source": [
        "## Odabir modela za dalje razmatranje\n",
        "Nakon kreiranja 3 modela možemo zaključiti da model 1 (model bez skaliranih podataka) daje najbolje rezultate. Prije svega **model 1 ima tačnost od 78%**, dok modeli sa min-max i z-score skaliranjem daju tačnosti od 59% i 70% respketivno. Osim toga, posmatrajću kalsifikacijske izvještaje za sva 3 modela, vidimo da model 1 ima znatno bolje rezultate kada posmatramo preciznost, opoziv, osjetljivost te f1 mjere.\n",
        "\n",
        "Razlog zbog čega se ovo dešava može biti to da su pri predikciji labele određene kolone bitnije od drugih, pa skaliranje podataka daje lošije rezultate. Što vjerovatno ima smisla, jer kolona *Annual_Income* sigurno ima veći utjecaj na *Credit_Score* nego neke druge kolone pa je loša ideja skalirati podatke da budu u istom rangu, odnosno ne bi trebali izjednačavati značaj svih kolona pri izradi modela. \n",
        "\n",
        "U nastavku ćemo pokušati nadograditi **model 1** kako bi dodatno poboljšali njegove performanse. "
      ],
      "metadata": {
        "id": "j0jaWWFnm1CF"
      }
    },
    {
      "cell_type": "markdown",
      "source": [
        "# Nadogradnja odabranog modela\n",
        "\n",
        "Sada ćemo pokušati nadograditi odabrani model. Prije svega detaljnije ćemo analizirati konfuzijsku matricu odabranog modela."
      ],
      "metadata": {
        "id": "JsBzkCsFqAfw"
      }
    },
    {
      "cell_type": "code",
      "source": [
        "from sklearn.metrics import recall_score\n",
        "from sklearn.metrics import precision_score\n",
        "from sklearn.metrics import f1_score\n",
        "from sklearn import metrics\n",
        "from imblearn.metrics import specificity_score\n",
        "from imblearn.metrics import sensitivity_score\n",
        "from sklearn.metrics import cohen_kappa_score\n",
        "from sklearn.metrics import accuracy_score"
      ],
      "metadata": {
        "id": "DGiCRfrROk-r"
      },
      "execution_count": null,
      "outputs": []
    },
    {
      "cell_type": "code",
      "source": [
        "# Ponovno učitavanje podataka i pretvaranje u numeričke \n",
        "df = reloadCsv(df)\n",
        "df = transformNumericUpgraded(df)\n",
        "\n",
        "# Razdvajanje podataka od labele Credit_Score\n",
        "y = df['Credit_Score']\n",
        "x = df.drop(['Credit_Score'], axis = 1)\n",
        "\n",
        "# Podjela podataka na podatke za trening i test, gdje koristimo 80% podatka za trening i preostalih 20% za testiranje\n",
        "x_train, x_test, y_train, y_test = train_test_split(\n",
        "             x, y, test_size = 0.2, random_state=42)\n",
        "\n",
        "# Kreiranje modela 1 - bez skaliranih podataka\n",
        "knn = KNeighborsClassifier(n_neighbors=5)\n",
        "model = knn.fit(x_train, y_train)\n",
        "prediction = model.predict(x_test)\n",
        "\n",
        "print(\"Tacnost: \")\n",
        "print(metrics.accuracy_score(y_test, prediction))\n",
        "\n",
        "#Stepen greške- error rate\n",
        "print(\"Stepen greske: \")\n",
        "print(1 - metrics.accuracy_score(y_test, prediction))\n",
        "\n",
        "#Osjetljivost\n",
        "print(\"Osjetljivost: \")\n",
        "print(sensitivity_score(y_test, prediction, average='macro'))\n",
        "\n",
        "#Specificnost\n",
        "print(\"Specificnost: \")\n",
        "print(specificity_score(y_test, prediction, average='macro'))\n",
        "\n",
        "#Preciznost\n",
        "print(\"Preciznost: \")\n",
        "print(precision_score(y_test, prediction, average='macro'))\n",
        "\n",
        "#Opoziv\n",
        "print(\"Opoziv (recall): \")\n",
        "print(recall_score(y_test, prediction, average='macro'))\n",
        "\n",
        "#F-score\n",
        "print(\"F-score: \")\n",
        "print(f1_score(y_test, prediction, average='macro'))\n",
        "\n",
        "#Kappa statistika\n",
        "print(\"Kappa statistika: \")\n",
        "print(cohen_kappa_score(y_test, prediction))"
      ],
      "metadata": {
        "colab": {
          "base_uri": "https://localhost:8080/"
        },
        "id": "wYc4PwB8N39h",
        "outputId": "06d25451-e8b5-4ef6-ae10-c2c1e25a6745"
      },
      "execution_count": null,
      "outputs": [
        {
          "output_type": "stream",
          "name": "stdout",
          "text": [
            "Tacnost: \n",
            "0.7821044738815296\n",
            "Stepen greske: \n",
            "0.2178955261184704\n",
            "Osjetljivost: \n",
            "0.7713618039486043\n",
            "Specificnost: \n",
            "0.8745957313988143\n",
            "Preciznost: \n",
            "0.7761065665559443\n",
            "Opoziv (recall): \n",
            "0.7713618039486043\n",
            "F-score: \n",
            "0.7735362295275855\n",
            "Kappa statistika: \n",
            "0.6383208935217849\n"
          ]
        }
      ]
    },
    {
      "cell_type": "markdown",
      "source": [
        "Sada ćemo pokušati dobiti veću tačnost koristeći metode oversamplinga i undersamplinga. "
      ],
      "metadata": {
        "id": "6847CL6dPUVv"
      }
    },
    {
      "cell_type": "code",
      "source": [
        "# Restart podataka\n",
        "df = reloadCsv(df)\n",
        "df = transformNumericUpgraded(df)\n",
        "\n",
        "y = df['Credit_Score']\n",
        "x = df.drop(['Credit_Score'], axis = 1)\n",
        "\n",
        "# Podjela podataka na podatke za trening i test, gdje koristimo 80% podatka za trening i preostalih 20% za testiranje\n",
        "x_train, x_test, y_train, y_test = train_test_split(\n",
        "             x, y, test_size = 0.2, random_state=42)\n",
        "\n",
        "# Undersampling\n",
        "undersampler=RandomUnderSampler(sampling_strategy='majority')\n",
        "\n",
        "#primjena undersampling strategije\n",
        "x_under, y_under=undersampler.fit_resample(x_train, y_train)\n",
        "x_under, y_under=undersampler.fit_resample(x_under, y_under)\n",
        "\n",
        "\n",
        "#prikaz balansiranosti seta podataka\n",
        "print(np.unique(y_train, return_counts=True))\n",
        "print(np.unique(y_under, return_counts=True))\n",
        "\n",
        "#Kreiranje modela sa podacima undersampliranim\n",
        "knn = KNeighborsClassifier(n_neighbors=5)\n",
        "model = knn.fit(x_under, y_under)\n",
        "prediction = model.predict(x_test)\n",
        "\n",
        "# Ispis tačnosti\n",
        "accuracy_score(y_test, prediction)"
      ],
      "metadata": {
        "colab": {
          "base_uri": "https://localhost:8080/"
        },
        "id": "6vc6g-cQpe7P",
        "outputId": "935e4b5b-c6ac-4605-fd8a-f1bacbe6d8bf"
      },
      "execution_count": null,
      "outputs": [
        {
          "output_type": "stream",
          "name": "stdout",
          "text": [
            "(array(['Good', 'Poor', 'Standard'], dtype=object), array([14238, 23159, 42620]))\n",
            "(array(['Good', 'Poor', 'Standard'], dtype=object), array([14238, 14238, 14238]))\n"
          ]
        },
        {
          "output_type": "execute_result",
          "data": {
            "text/plain": [
              "0.6350412396900775"
            ]
          },
          "metadata": {},
          "execution_count": 6
        }
      ]
    },
    {
      "cell_type": "code",
      "source": [
        "# Restart podataka\n",
        "df = reloadCsv(df)\n",
        "df = transformNumericUpgraded(df)\n",
        "\n",
        "y = df['Credit_Score']\n",
        "x = df.drop(['Credit_Score'], axis = 1)\n",
        "\n",
        "# Podjela podataka na podatke za trening i test, gdje koristimo 80% podatka za trening i preostalih 20% za testiranje\n",
        "x_train, x_test, y_train, y_test = train_test_split(\n",
        "             x, y, test_size = 0.2, random_state=42)\n",
        "\n",
        "# Oversampling\n",
        "oversample=RandomOverSampler(sampling_strategy='minority')\n",
        "\n",
        "#primjena oversample strategije\n",
        "x_under, y_under=oversample.fit_resample(x_train, y_train)\n",
        "x_under, y_under=oversample.fit_resample(x_under, y_under)\n",
        "\n",
        "#prikaz balansiranosti seta podataka\n",
        "print(np.unique(y_train, return_counts=True))\n",
        "print(np.unique(y_under, return_counts=True))\n",
        "\n",
        "#Kreiranje modela sa podacima undersampliranim\n",
        "knn = KNeighborsClassifier(n_neighbors=5)\n",
        "model = knn.fit(x_under, y_under)\n",
        "prediction = model.predict(x_test)\n",
        "\n",
        "# Ispis tačnosti\n",
        "accuracy_score(y_test, prediction)"
      ],
      "metadata": {
        "colab": {
          "base_uri": "https://localhost:8080/"
        },
        "id": "7DsSolMqq4d8",
        "outputId": "3ff2a52a-b682-4138-efd4-7c9a0b4ab95d"
      },
      "execution_count": null,
      "outputs": [
        {
          "output_type": "stream",
          "name": "stdout",
          "text": [
            "(array(['Good', 'Poor', 'Standard'], dtype=object), array([14238, 23159, 42620]))\n",
            "(array(['Good', 'Poor', 'Standard'], dtype=object), array([42620, 42620, 42620]))\n"
          ]
        },
        {
          "output_type": "execute_result",
          "data": {
            "text/plain": [
              "0.7560109972506873"
            ]
          },
          "metadata": {},
          "execution_count": 7
        }
      ]
    },
    {
      "cell_type": "markdown",
      "source": [
        "Može se primijetiti da metode oversamplinga i undersamplinga nisu dovele do poboljšanja tačnosti modela. Čak šta više, tačnost je opala nakon primjene ovih metoda."
      ],
      "metadata": {
        "id": "2nrYXTl2PxIP"
      }
    },
    {
      "cell_type": "code",
      "source": [
        "# Ponovno učitavanje podataka i pretvaranje u numeričke \n",
        "df = reloadCsv(df)\n",
        "df = transformNumericUpgraded(df)\n",
        "\n",
        "# Razdvajanje podataka od labele Credit_Score\n",
        "y = df['Credit_Score']\n",
        "x = df.drop(['Credit_Score'], axis = 1)\n",
        "\n",
        "# Podjela podataka na podatke za trening i test, gdje koristimo 80% podatka za trening i preostalih 20% za testiranje\n",
        "x_train, x_test, y_train, y_test = train_test_split(\n",
        "             x, y, test_size = 0.2, random_state=42)\n",
        "\n",
        "# Kreiranje modela 1.1 - bez skaliranih podataka, distance\n",
        "knn = KNeighborsClassifier(weights = 'distance', n_neighbors=5)\n",
        "model1 = knn.fit(x_train, y_train)\n",
        "prediction1 = model1.predict(x_test)\n",
        "\n",
        "# Ispis tačnosti\n",
        "accuracy_score(y_test, prediction1)"
      ],
      "metadata": {
        "colab": {
          "base_uri": "https://localhost:8080/"
        },
        "id": "DlsFZQa5DvLf",
        "outputId": "3d0b3ad8-2bfa-447b-9144-623564e12386"
      },
      "execution_count": null,
      "outputs": [
        {
          "output_type": "execute_result",
          "data": {
            "text/plain": [
              "0.7836540864783804"
            ]
          },
          "metadata": {},
          "execution_count": 19
        }
      ]
    },
    {
      "cell_type": "code",
      "source": [
        "# Ponovno učitavanje podataka i pretvaranje u numeričke \n",
        "df = reloadCsv(df)\n",
        "df = transformNumericUpgraded(df)\n",
        "\n",
        "# Razdvajanje podataka od labele Credit_Score\n",
        "y = df['Credit_Score']\n",
        "x = df.drop(['Credit_Score'], axis = 1)\n",
        "\n",
        "# Podjela podataka na podatke za trening i test, gdje koristimo 80% podatka za trening i preostalih 20% za testiranje\n",
        "x_train, x_test, y_train, y_test = train_test_split(\n",
        "             x, y, test_size = 0.2, random_state=42)\n",
        "\n",
        "# Kreiranje modela 1.2 - bez skaliranih podataka, distance, ball_tree\n",
        "knn = KNeighborsClassifier(weights = 'distance', algorithm = 'ball_tree', n_neighbors=5)\n",
        "model1 = knn.fit(x_train, y_train)\n",
        "prediction1 = model1.predict(x_test)\n",
        "\n",
        "# Ispis tačnosti\n",
        "accuracy_score(y_test, prediction1)"
      ],
      "metadata": {
        "colab": {
          "base_uri": "https://localhost:8080/"
        },
        "id": "HYYuwKQAETD0",
        "outputId": "e3d10bcf-ec21-4c6f-c676-23e28fd7a2e0"
      },
      "execution_count": null,
      "outputs": [
        {
          "output_type": "execute_result",
          "data": {
            "text/plain": [
              "0.807748062984254"
            ]
          },
          "metadata": {},
          "execution_count": 20
        }
      ]
    },
    {
      "cell_type": "code",
      "source": [
        "# Ponovno učitavanje podataka i pretvaranje u numeričke \n",
        "df = reloadCsv(df)\n",
        "df = transformNumericUpgraded(df)\n",
        "\n",
        "# Razdvajanje podataka od labele Credit_Score\n",
        "y = df['Credit_Score']\n",
        "x = df.drop(['Credit_Score'], axis = 1)\n",
        "\n",
        "# Podjela podataka na podatke za trening i test, gdje koristimo 80% podatka za trening i preostalih 20% za testiranje\n",
        "x_train, x_test, y_train, y_test = train_test_split(\n",
        "             x, y, test_size = 0.2, random_state=42)\n",
        "\n",
        "# Kreiranje modela 1.3 - bez skaliranih podataka, distance, kd_tree\n",
        "knn = KNeighborsClassifier(weights = 'distance', algorithm = 'kd_tree', n_neighbors=5)\n",
        "model1 = knn.fit(x_train, y_train)\n",
        "prediction1 = model1.predict(x_test)\n",
        "\n",
        "# Ispis tačnosti\n",
        "accuracy_score(y_test, prediction1)"
      ],
      "metadata": {
        "colab": {
          "base_uri": "https://localhost:8080/"
        },
        "id": "g1coC02_Echi",
        "outputId": "37972e5e-892e-44c2-ffe2-41127e28791e"
      },
      "execution_count": null,
      "outputs": [
        {
          "output_type": "execute_result",
          "data": {
            "text/plain": [
              "0.807748062984254"
            ]
          },
          "metadata": {},
          "execution_count": 21
        }
      ]
    },
    {
      "cell_type": "code",
      "source": [
        "# Ponovno učitavanje podataka i pretvaranje u numeričke \n",
        "df = reloadCsv(df)\n",
        "df = transformNumericUpgraded(df)\n",
        "\n",
        "# Razdvajanje podataka od labele Credit_Score\n",
        "y = df['Credit_Score']\n",
        "x = df.drop(['Credit_Score'], axis = 1)\n",
        "\n",
        "# Podjela podataka na podatke za trening i test, gdje koristimo 80% podatka za trening i preostalih 20% za testiranje\n",
        "x_train, x_test, y_train, y_test = train_test_split(\n",
        "             x, y, test_size = 0.2, random_state=42)\n",
        "\n",
        "# Kreiranje modela 1.4 - bez skaliranih podataka, distance, brute\n",
        "knn = KNeighborsClassifier(weights = 'distance', algorithm = 'brute', n_neighbors=5)\n",
        "model1 = knn.fit(x_train, y_train)\n",
        "prediction1 = model1.predict(x_test)\n",
        "\n",
        "# Ispis tačnosti\n",
        "accuracy_score(y_test, prediction1)"
      ],
      "metadata": {
        "colab": {
          "base_uri": "https://localhost:8080/"
        },
        "id": "pS7yFaG_ErdA",
        "outputId": "f30180e5-a175-4814-e6e9-152a0bfcb6ae"
      },
      "execution_count": null,
      "outputs": [
        {
          "output_type": "execute_result",
          "data": {
            "text/plain": [
              "0.7836540864783804"
            ]
          },
          "metadata": {},
          "execution_count": 22
        }
      ]
    },
    {
      "cell_type": "code",
      "source": [
        "# Ponovno učitavanje podataka i pretvaranje u numeričke \n",
        "df = reloadCsv(df)\n",
        "df = transformNumericUpgraded(df)\n",
        "\n",
        "# Razdvajanje podataka od labele Credit_Score\n",
        "y = df['Credit_Score']\n",
        "x = df.drop(['Credit_Score'], axis = 1)\n",
        "\n",
        "# Podjela podataka na podatke za trening i test, gdje koristimo 80% podatka za trening i preostalih 20% za testiranje\n",
        "x_train, x_test, y_train, y_test = train_test_split(\n",
        "             x, y, test_size = 0.2, random_state=42)\n",
        "\n",
        "# Kreiranje modela 1.5 - bez skaliranih podataka, distance, ball_tree, cityblock\n",
        "knn = KNeighborsClassifier(weights = 'distance', algorithm = 'ball_tree', metric='cityblock', n_neighbors=5)\n",
        "model1 = knn.fit(x_train, y_train)\n",
        "prediction1 = model1.predict(x_test)\n",
        "\n",
        "# Ispis tačnosti\n",
        "accuracy_score(y_test, prediction1)"
      ],
      "metadata": {
        "colab": {
          "base_uri": "https://localhost:8080/"
        },
        "id": "t87OGg6oE_vW",
        "outputId": "c286496c-0562-4f8f-fec4-e9f7877f0e11"
      },
      "execution_count": null,
      "outputs": [
        {
          "output_type": "execute_result",
          "data": {
            "text/plain": [
              "0.8103474131467133"
            ]
          },
          "metadata": {},
          "execution_count": 23
        }
      ]
    },
    {
      "cell_type": "code",
      "source": [
        "# Ponovno učitavanje podataka i pretvaranje u numeričke \n",
        "df = reloadCsv(df)\n",
        "df = transformNumericUpgraded(df)\n",
        "\n",
        "# Razdvajanje podataka od labele Credit_Score\n",
        "y = df['Credit_Score']\n",
        "x = df.drop(['Credit_Score'], axis = 1)\n",
        "\n",
        "# Podjela podataka na podatke za trening i test, gdje koristimo 80% podatka za trening i preostalih 20% za testiranje\n",
        "x_train, x_test, y_train, y_test = train_test_split(\n",
        "             x, y, test_size = 0.2, random_state=42)\n",
        "\n",
        "# Kreiranje modela 1.6 - bez skaliranih podataka, distance, ball_tree, euclidean\n",
        "knn = KNeighborsClassifier(weights = 'distance', algorithm = 'ball_tree', metric='euclidean', n_neighbors=5)\n",
        "model1 = knn.fit(x_train, y_train)\n",
        "prediction1 = model1.predict(x_test)\n",
        "\n",
        "# Ispis tačnosti\n",
        "accuracy_score(y_test, prediction1)"
      ],
      "metadata": {
        "colab": {
          "base_uri": "https://localhost:8080/"
        },
        "id": "omLPRy9TFO3N",
        "outputId": "3ee83e0a-7105-4385-b7c8-815779387195"
      },
      "execution_count": null,
      "outputs": [
        {
          "output_type": "execute_result",
          "data": {
            "text/plain": [
              "0.807748062984254"
            ]
          },
          "metadata": {},
          "execution_count": 24
        }
      ]
    },
    {
      "cell_type": "code",
      "source": [
        "# Ponovno učitavanje podataka i pretvaranje u numeričke \n",
        "df = reloadCsv(df)\n",
        "df = transformNumericUpgraded(df)\n",
        "\n",
        "# Razdvajanje podataka od labele Credit_Score\n",
        "y = df['Credit_Score']\n",
        "x = df.drop(['Credit_Score'], axis = 1)\n",
        "\n",
        "# Podjela podataka na podatke za trening i test, gdje koristimo 80% podatka za trening i preostalih 20% za testiranje\n",
        "x_train, x_test, y_train, y_test = train_test_split(\n",
        "             x, y, test_size = 0.2, random_state=42)\n",
        "\n",
        "# Kreiranje modela 1.7 - bez skaliranih podataka, distance, ball_tree, manhattan\n",
        "knn = KNeighborsClassifier(weights = 'distance', algorithm = 'ball_tree', metric='manhattan', n_neighbors=5)\n",
        "model1 = knn.fit(x_train, y_train)\n",
        "prediction1 = model1.predict(x_test)\n",
        "\n",
        "# Ispis tačnosti\n",
        "accuracy_score(y_test, prediction1)"
      ],
      "metadata": {
        "colab": {
          "base_uri": "https://localhost:8080/"
        },
        "id": "IcaoHeCfFZF9",
        "outputId": "058d7064-12ba-468f-c2a0-be25a8406a56"
      },
      "execution_count": null,
      "outputs": [
        {
          "output_type": "execute_result",
          "data": {
            "text/plain": [
              "0.8103474131467133"
            ]
          },
          "metadata": {},
          "execution_count": 25
        }
      ]
    },
    {
      "cell_type": "code",
      "source": [
        "# Ponovno učitavanje podataka i pretvaranje u numeričke \n",
        "df = reloadCsv(df)\n",
        "df = transformNumericUpgraded(df)\n",
        "\n",
        "# Razdvajanje podataka od labele Credit_Score\n",
        "y = df['Credit_Score']\n",
        "x = df.drop(['Credit_Score'], axis = 1)\n",
        "\n",
        "# Podjela podataka na podatke za trening i test, gdje koristimo 80% podatka za trening i preostalih 20% za testiranje\n",
        "x_train, x_test, y_train, y_test = train_test_split(\n",
        "             x, y, test_size = 0.2, random_state=42)\n",
        "\n",
        "# Kreiranje modela 1.8 - bez skaliranih podataka, distance, ball_tree, l1\n",
        "knn = KNeighborsClassifier(weights = 'distance', algorithm = 'ball_tree', metric='l1', n_neighbors=5)\n",
        "model1 = knn.fit(x_train, y_train)\n",
        "prediction1 = model1.predict(x_test)\n",
        "\n",
        "# Ispis tačnosti\n",
        "accuracy_score(y_test, prediction1)"
      ],
      "metadata": {
        "colab": {
          "base_uri": "https://localhost:8080/"
        },
        "id": "f1XQXv5gFjHs",
        "outputId": "9f4a3df1-19f3-40c2-cb5e-bca1d6b5fe1a"
      },
      "execution_count": null,
      "outputs": [
        {
          "output_type": "execute_result",
          "data": {
            "text/plain": [
              "0.8103474131467133"
            ]
          },
          "metadata": {},
          "execution_count": 26
        }
      ]
    },
    {
      "cell_type": "code",
      "source": [
        "# Ponovno učitavanje podataka i pretvaranje u numeričke \n",
        "df = reloadCsv(df)\n",
        "df = transformNumericUpgraded(df)\n",
        "\n",
        "# Razdvajanje podataka od labele Credit_Score\n",
        "y = df['Credit_Score']\n",
        "x = df.drop(['Credit_Score'], axis = 1)\n",
        "\n",
        "# Podjela podataka na podatke za trening i test, gdje koristimo 80% podatka za trening i preostalih 20% za testiranje\n",
        "x_train, x_test, y_train, y_test = train_test_split(\n",
        "             x, y, test_size = 0.2, random_state=42)\n",
        "\n",
        "# Kreiranje modela 1.9 - bez skaliranih podataka, distance, ball_tree, l2\n",
        "knn = KNeighborsClassifier(weights = 'distance', algorithm = 'ball_tree', metric='l2', n_neighbors=5)\n",
        "model1 = knn.fit(x_train, y_train)\n",
        "prediction1 = model1.predict(x_test)\n",
        "\n",
        "# Ispis tačnosti\n",
        "accuracy_score(y_test, prediction1)"
      ],
      "metadata": {
        "colab": {
          "base_uri": "https://localhost:8080/"
        },
        "id": "1_PNA3uBFqys",
        "outputId": "b206c521-73b7-4e83-e7ca-9f2cdd41a21b"
      },
      "execution_count": null,
      "outputs": [
        {
          "output_type": "execute_result",
          "data": {
            "text/plain": [
              "0.807748062984254"
            ]
          },
          "metadata": {},
          "execution_count": 7
        }
      ]
    },
    {
      "cell_type": "code",
      "source": [
        "scores = []\n",
        "x_train, x_test, y_train, y_test = train_test_split(\n",
        "             x, y, test_size = 0.2, random_state=42)\n",
        "for i in range (1, 30, 2):\n",
        "  knn = KNeighborsClassifier(weights = 'distance', algorithm = 'ball_tree', metric='l1', n_neighbors=i)\n",
        "  model = knn.fit(x_train, y_train)\n",
        "  prediction = model.predict(x_test)\n",
        "  scores.append(accuracy_score(y_test, prediction))\n",
        "  print('n =', i)\n",
        "  print(accuracy_score(y_test, prediction))"
      ],
      "metadata": {
        "colab": {
          "base_uri": "https://localhost:8080/"
        },
        "id": "X2tMdlGIGCpE",
        "outputId": "31463da4-d67a-4e88-e0b8-34210a9428cb"
      },
      "execution_count": null,
      "outputs": [
        {
          "output_type": "stream",
          "name": "stdout",
          "text": [
            "n = 1\n",
            "0.7896525868532867\n",
            "n = 3\n",
            "0.8038490377405648\n",
            "n = 5\n",
            "0.8103474131467133\n",
            "n = 7\n",
            "0.811647088227943\n",
            "n = 9\n",
            "0.811197200699825\n",
            "n = 11\n",
            "0.8109972506873282\n",
            "n = 13\n",
            "0.810947263184204\n",
            "n = 15\n",
            "0.8113971507123219\n",
            "n = 17\n",
            "0.8112971757060735\n",
            "n = 19\n",
            "0.811197200699825\n",
            "n = 21\n",
            "0.8111472131967008\n",
            "n = 23\n",
            "0.810947263184204\n",
            "n = 25\n",
            "0.8107973006748312\n",
            "n = 27\n",
            "0.8110472381904524\n",
            "n = 29\n",
            "0.8107473131717071\n"
          ]
        }
      ]
    },
    {
      "cell_type": "code",
      "source": [
        "for i in range (31, 101, 2):\n",
        "  knn = KNeighborsClassifier(weights = 'distance', algorithm = 'ball_tree', metric='l1', n_neighbors=i)\n",
        "  model = knn.fit(x_train, y_train)\n",
        "  prediction = model.predict(x_test)\n",
        "  scores.append(accuracy_score(y_test, prediction))\n",
        "  print('n =', i)\n",
        "  print(accuracy_score(y_test, prediction))"
      ],
      "metadata": {
        "colab": {
          "base_uri": "https://localhost:8080/"
        },
        "id": "aTqgp-AJI4ks",
        "outputId": "a7a82bb5-520f-4afa-cf3f-02cd9bcbe2a2"
      },
      "execution_count": null,
      "outputs": [
        {
          "output_type": "stream",
          "name": "stdout",
          "text": [
            "n = 31\n",
            "0.8112971757060735\n",
            "n = 33\n",
            "0.810947263184204\n",
            "n = 35\n",
            "0.8107973006748312\n",
            "n = 37\n",
            "0.8107973006748312\n",
            "n = 39\n",
            "0.8108972756810797\n",
            "n = 41\n",
            "0.8108972756810797\n",
            "n = 43\n",
            "0.8109972506873282\n",
            "n = 45\n",
            "0.8110472381904524\n",
            "n = 47\n",
            "0.8112471882029493\n",
            "n = 49\n",
            "0.8113971507123219\n",
            "n = 51\n",
            "0.8115471132216946\n",
            "n = 53\n",
            "0.8116970757310672\n",
            "n = 55\n",
            "0.8115971007248188\n",
            "n = 57\n",
            "0.8119470132466883\n",
            "n = 59\n",
            "0.8117470632341914\n",
            "n = 61\n",
            "0.8119470132466883\n",
            "n = 63\n",
            "0.8117470632341914\n",
            "n = 65\n",
            "0.8118470382404399\n",
            "n = 67\n",
            "0.8116970757310672\n",
            "n = 69\n",
            "0.8118470382404399\n",
            "n = 71\n",
            "0.8115971007248188\n",
            "n = 73\n",
            "0.8114471382154461\n",
            "n = 75\n",
            "0.8115471132216946\n",
            "n = 77\n",
            "0.8117470632341914\n",
            "n = 79\n",
            "0.811647088227943\n",
            "n = 81\n",
            "0.8115971007248188\n",
            "n = 83\n",
            "0.8115971007248188\n",
            "n = 85\n",
            "0.8114971257185704\n",
            "n = 87\n",
            "0.8114971257185704\n",
            "n = 89\n",
            "0.8113471632091978\n",
            "n = 91\n",
            "0.8113471632091978\n",
            "n = 93\n",
            "0.8112471882029493\n",
            "n = 95\n",
            "0.8114471382154461\n",
            "n = 97\n",
            "0.8115971007248188\n",
            "n = 99\n",
            "0.8114971257185704\n"
          ]
        }
      ]
    },
    {
      "cell_type": "code",
      "source": [
        "import matplotlib.pyplot as plt\n",
        "plt.plot(scores)"
      ],
      "metadata": {
        "colab": {
          "base_uri": "https://localhost:8080/",
          "height": 282
        },
        "id": "2fPHTHiVNScs",
        "outputId": "1a74ff98-8e34-4bfb-fc72-3eb03b1f4deb"
      },
      "execution_count": null,
      "outputs": [
        {
          "output_type": "execute_result",
          "data": {
            "text/plain": [
              "[<matplotlib.lines.Line2D at 0x7f50eab7ea30>]"
            ]
          },
          "metadata": {},
          "execution_count": 30
        },
        {
          "output_type": "display_data",
          "data": {
            "text/plain": [
              "<Figure size 432x288 with 1 Axes>"
            ],
            "image/png": "[encoded data removed]"
          },
          "metadata": {
            "needs_background": "light"
          }
        }
      ]
    },
    {
      "cell_type": "code",
      "source": [
        "max(scores)"
      ],
      "metadata": {
        "colab": {
          "base_uri": "https://localhost:8080/"
        },
        "id": "QOPdsOf0OJnv",
        "outputId": "d5ee6292-7666-4994-cc1c-b712666291d8"
      },
      "execution_count": null,
      "outputs": [
        {
          "output_type": "execute_result",
          "data": {
            "text/plain": [
              "0.8119470132466883"
            ]
          },
          "metadata": {},
          "execution_count": 31
        }
      ]
    },
    {
      "cell_type": "code",
      "source": [
        "# Ponovno učitavanje podataka i pretvaranje u numeričke \n",
        "df = reloadCsv(df)\n",
        "df = transformNumericUpgraded(df)\n",
        "\n",
        "# Razdvajanje podataka od labele Credit_Score\n",
        "y = df['Credit_Score']\n",
        "x = df.drop(['Credit_Score'], axis = 1)\n",
        "\n",
        "# Podjela podataka na podatke za trening i test, gdje koristimo 80% podatka za trening i preostalih 20% za testiranje\n",
        "x_train, x_test, y_train, y_test = train_test_split(\n",
        "             x, y, test_size = 0.2, random_state=42)\n",
        "\n",
        "# Kreiranje modela 1.8 - bez skaliranih podataka, distance, ball_tree, l1\n",
        "knn = KNeighborsClassifier(weights = 'distance', algorithm = 'ball_tree', metric='l1', n_neighbors=61)\n",
        "model1 = knn.fit(x_train, y_train)\n",
        "prediction1 = model1.predict(x_test)\n",
        "\n",
        "# Ispis tačnosti\n",
        "accuracy_score(y_test, prediction1)"
      ],
      "metadata": {
        "colab": {
          "base_uri": "https://localhost:8080/"
        },
        "id": "qV2Kwd2xG_AL",
        "outputId": "7d760681-c4e3-4809-ee11-b4b8dfdb85cf"
      },
      "execution_count": null,
      "outputs": [
        {
          "output_type": "execute_result",
          "data": {
            "text/plain": [
              "0.8119470132466883"
            ]
          },
          "metadata": {},
          "execution_count": 11
        }
      ]
    },
    {
      "cell_type": "code",
      "source": [
        "cm1 = confusion_matrix(y_test, prediction1)\n",
        "disp = ConfusionMatrixDisplay(confusion_matrix=cm1,display_labels=knn.classes_)\n",
        "disp.plot()\n",
        "plt.show()"
      ],
      "metadata": {
        "colab": {
          "base_uri": "https://localhost:8080/",
          "height": 279
        },
        "id": "7U-v3SBfHNDi",
        "outputId": "9740c822-4e6f-42ec-974d-190e9b0efc0a"
      },
      "execution_count": null,
      "outputs": [
        {
          "output_type": "display_data",
          "data": {
            "text/plain": [
              "<Figure size 432x288 with 2 Axes>"
            ],
            "image/png": "[encoded data removed]"
          },
          "metadata": {
            "needs_background": "light"
          }
        }
      ]
    },
    {
      "cell_type": "code",
      "source": [
        "print(\"Tacnost: \")\n",
        "print(metrics.accuracy_score(y_test, prediction1))\n",
        "\n",
        "#Stepen greške- error rate\n",
        "print(\"Stepen greske: \")\n",
        "print(1 - metrics.accuracy_score(y_test, prediction1))\n",
        "\n",
        "#Osjetljivost\n",
        "print(\"Osjetljivost: \")\n",
        "print(sensitivity_score(y_test, prediction1, average='macro'))\n",
        "\n",
        "#Specificnost\n",
        "print(\"Specificnost: \")\n",
        "print(specificity_score(y_test, prediction1, average='macro'))\n",
        "\n",
        "#Preciznost\n",
        "print(\"Preciznost: \")\n",
        "print(precision_score(y_test, prediction1, average='macro'))\n",
        "\n",
        "#Opoziv\n",
        "print(\"Opoziv (recall): \")\n",
        "print(recall_score(y_test, prediction1, average='macro'))\n",
        "\n",
        "#F-score\n",
        "print(\"F-score: \")\n",
        "print(f1_score(y_test, prediction1, average='macro'))\n",
        "\n",
        "#Kappa statistika\n",
        "print(\"Kappa statistika: \")\n",
        "print(cohen_kappa_score(y_test, prediction1))"
      ],
      "metadata": {
        "colab": {
          "base_uri": "https://localhost:8080/"
        },
        "id": "JNTBnnuFHZcU",
        "outputId": "d5ddbf9a-8e81-4679-af37-67a62efc1df0"
      },
      "execution_count": null,
      "outputs": [
        {
          "output_type": "stream",
          "name": "stdout",
          "text": [
            "Tacnost: \n",
            "0.8119470132466883\n",
            "Stepen greske: \n",
            "0.18805298675331172\n",
            "Osjetljivost: \n",
            "0.8099900722750714\n",
            "Specificnost: \n",
            "0.894412706668787\n",
            "Preciznost: \n",
            "0.8014207951791662\n",
            "Opoziv (recall): \n",
            "0.8099900722750714\n",
            "F-score: \n",
            "0.8053310106951738\n",
            "Kappa statistika: \n",
            "0.6909288190464222\n"
          ]
        }
      ]
    },
    {
      "cell_type": "code",
      "source": [
        "#Kreiranje instance pipeline\n",
        "pipeline = make_pipeline(KNeighborsClassifier(n_neighbors=5))\n",
        "\n",
        "# Create an instance of StratifiedKFold which can be used to get indices of different training and test folds\n",
        "strtfdKFold = StratifiedKFold(n_splits=30,)\n",
        "kfold = strtfdKFold.split(x_train, y_train)\n",
        "scores = []\n",
        "#\n",
        "for k, (train, test) in enumerate(kfold):\n",
        "    pipeline.fit(x_train.iloc[train, :], y_train.iloc[train])\n",
        "    score = pipeline.score(x_train.iloc[test, :], y_train.iloc[test])\n",
        "    scores.append(score)\n",
        "    print('Fold: %2d, Accuracy: %.3f' % (k+1, score))\n",
        " \n",
        "print('\\n\\nCross-Validation accuracy: %.3f +/- %.3f' %(np.mean(scores), np.std(scores)))"
      ],
      "metadata": {
        "colab": {
          "base_uri": "https://localhost:8080/"
        },
        "id": "zQHnhFB-ISHH",
        "outputId": "73790ec6-5dd2-40b6-c614-be07397da970"
      },
      "execution_count": null,
      "outputs": [
        {
          "output_type": "stream",
          "name": "stdout",
          "text": [
            "Fold:  1, Accuracy: 0.780\n",
            "Fold:  2, Accuracy: 0.746\n",
            "Fold:  3, Accuracy: 0.780\n",
            "Fold:  4, Accuracy: 0.747\n",
            "Fold:  5, Accuracy: 0.760\n",
            "Fold:  6, Accuracy: 0.775\n",
            "Fold:  7, Accuracy: 0.778\n",
            "Fold:  8, Accuracy: 0.772\n",
            "Fold:  9, Accuracy: 0.761\n",
            "Fold: 10, Accuracy: 0.782\n",
            "Fold: 11, Accuracy: 0.781\n",
            "Fold: 12, Accuracy: 0.747\n",
            "Fold: 13, Accuracy: 0.773\n",
            "Fold: 14, Accuracy: 0.769\n",
            "Fold: 15, Accuracy: 0.773\n",
            "Fold: 16, Accuracy: 0.768\n",
            "Fold: 17, Accuracy: 0.766\n",
            "Fold: 18, Accuracy: 0.775\n",
            "Fold: 19, Accuracy: 0.754\n",
            "Fold: 20, Accuracy: 0.761\n",
            "Fold: 21, Accuracy: 0.781\n",
            "Fold: 22, Accuracy: 0.761\n",
            "Fold: 23, Accuracy: 0.744\n",
            "Fold: 24, Accuracy: 0.782\n",
            "Fold: 25, Accuracy: 0.765\n",
            "Fold: 26, Accuracy: 0.779\n",
            "Fold: 27, Accuracy: 0.782\n",
            "Fold: 28, Accuracy: 0.750\n",
            "Fold: 29, Accuracy: 0.756\n",
            "Fold: 30, Accuracy: 0.752\n",
            "\n",
            "\n",
            "Cross-Validation accuracy: 0.767 +/- 0.013\n"
          ]
        }
      ]
    },
    {
      "cell_type": "code",
      "source": [
        "#Kreiranje instance pipeline nakon tuninga parametara\n",
        "pipeline = make_pipeline(KNeighborsClassifier(weights = 'distance', algorithm = 'ball_tree', metric='l1', n_neighbors=61))\n",
        "\n",
        "# Create an instance of StratifiedKFold which can be used to get indices of different training and test folds\n",
        "strtfdKFold = StratifiedKFold(n_splits=30,)\n",
        "kfold = strtfdKFold.split(x_train, y_train)\n",
        "scores = []\n",
        "#\n",
        "for k, (train, test) in enumerate(kfold):\n",
        "    pipeline.fit(x_train.iloc[train, :], y_train.iloc[train])\n",
        "    score = pipeline.score(x_train.iloc[test, :], y_train.iloc[test])\n",
        "    scores.append(score)\n",
        "    print('Fold: %2d, Accuracy: %.3f' % (k+1, score))\n",
        " \n",
        "print('\\n\\nCross-Validation accuracy: %.3f +/- %.3f' %(np.mean(scores), np.std(scores)))"
      ],
      "metadata": {
        "colab": {
          "base_uri": "https://localhost:8080/"
        },
        "id": "kZYPcqArPKLU",
        "outputId": "06e1d93a-472b-4044-c06a-f21079111646"
      },
      "execution_count": null,
      "outputs": [
        {
          "output_type": "stream",
          "name": "stdout",
          "text": [
            "Fold:  1, Accuracy: 0.805\n",
            "Fold:  2, Accuracy: 0.820\n",
            "Fold:  3, Accuracy: 0.816\n",
            "Fold:  4, Accuracy: 0.815\n",
            "Fold:  5, Accuracy: 0.800\n",
            "Fold:  6, Accuracy: 0.816\n",
            "Fold:  7, Accuracy: 0.808\n",
            "Fold:  8, Accuracy: 0.808\n",
            "Fold:  9, Accuracy: 0.816\n",
            "Fold: 10, Accuracy: 0.811\n",
            "Fold: 11, Accuracy: 0.818\n",
            "Fold: 12, Accuracy: 0.802\n",
            "Fold: 13, Accuracy: 0.802\n",
            "Fold: 14, Accuracy: 0.801\n",
            "Fold: 15, Accuracy: 0.804\n",
            "Fold: 16, Accuracy: 0.800\n",
            "Fold: 17, Accuracy: 0.804\n",
            "Fold: 18, Accuracy: 0.810\n",
            "Fold: 19, Accuracy: 0.801\n",
            "Fold: 20, Accuracy: 0.817\n",
            "Fold: 21, Accuracy: 0.816\n",
            "Fold: 22, Accuracy: 0.793\n",
            "Fold: 23, Accuracy: 0.808\n",
            "Fold: 24, Accuracy: 0.811\n",
            "Fold: 25, Accuracy: 0.797\n",
            "Fold: 26, Accuracy: 0.811\n",
            "Fold: 27, Accuracy: 0.807\n",
            "Fold: 28, Accuracy: 0.802\n",
            "Fold: 29, Accuracy: 0.801\n",
            "Fold: 30, Accuracy: 0.801\n",
            "\n",
            "\n",
            "Cross-Validation accuracy: 0.807 +/- 0.007\n"
          ]
        }
      ]
    }
  ]
}